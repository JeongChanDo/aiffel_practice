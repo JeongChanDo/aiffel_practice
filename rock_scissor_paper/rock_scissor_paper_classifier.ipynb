{
 "cells": [
  {
   "cell_type": "markdown",
   "metadata": {},
   "source": [
    "## import libraries"
   ]
  },
  {
   "cell_type": "code",
   "execution_count": 12,
   "metadata": {},
   "outputs": [],
   "source": [
    "import os, glob\n",
    "from PIL import Image\n",
    "import numpy as np\n",
    "import tensorflow as tf\n",
    "from tensorflow import keras"
   ]
  },
  {
   "cell_type": "markdown",
   "metadata": {},
   "source": [
    "## image resize"
   ]
  },
  {
   "cell_type": "code",
   "execution_count": 10,
   "metadata": {},
   "outputs": [],
   "source": [
    "def image_resize():\n",
    "    img_path = os.getenv(\"HOME\") + \"/aiffel_practice/rock_scissor_paper/\"\n",
    "    img_lst = [\"scissor\", \"rock\", \"paper\"]\n",
    "    target_size = (28, 28)\n",
    "\n",
    "    for i, val in enumerate(img_lst):\n",
    "        imgs = glob.glob(img_path+ val +\"/*.jpg\")\n",
    "        for img in imgs:\n",
    "            old_img = Image.open(img)\n",
    "            new_img = old_img.resize(target_size, Image.ANTIALIAS)\n",
    "            new_img.save(img, \"JPEG\")\n",
    "\n",
    "image_resize()"
   ]
  },
  {
   "cell_type": "markdown",
   "metadata": {},
   "source": [
    "## load resized images"
   ]
  },
  {
   "cell_type": "code",
   "execution_count": 24,
   "metadata": {},
   "outputs": [],
   "source": [
    "def load_data(img_path):\n",
    "    num_data = 300\n",
    "    img_size = 28\n",
    "    channel = 3\n",
    "    imgs = np.zeros(num_data * img_size * img_size * channel, dtype=np.int32)\n",
    "    imgs = imgs.reshape(num_data, img_size, img_size, channel)\n",
    "    labels = np.zeros(num_data, dtype=np.int32)\n",
    "    \n",
    "    img_lst = [\"scissor\", \"rock\", \"paper\"]\n",
    "    target_size = (28, 28)\n",
    "    label_idx = 0\n",
    "    \n",
    "    for i, val in enumerate(img_lst):\n",
    "        imgs_path = glob.glob(img_path+ val +\"/*.jpg\")\n",
    "        for img in imgs_path:\n",
    "            img = np.array(Image.open(img), dtype=np.int32)\n",
    "            imgs[label_idx, :, :, :] = img\n",
    "            labels[label_idx] = i\n",
    "            label_idx = label_idx + 1\n",
    "    return imgs, labels\n",
    "\n",
    "def img_normalize(imgs):\n",
    "    return imgs/255.0\n",
    "\n",
    "img_path = os.getenv(\"HOME\") + \"/aiffel_practice/rock_scissor_paper/\"\n",
    "(x_train, y_train) = load_data(img_path)\n",
    "x_train_norm = img_normalize(x_train)"
   ]
  },
  {
   "cell_type": "markdown",
   "metadata": {},
   "source": [
    "## design deep learning model"
   ]
  },
  {
   "cell_type": "code",
   "execution_count": 17,
   "metadata": {},
   "outputs": [
    {
     "name": "stdout",
     "output_type": "stream",
     "text": [
      "Model: \"sequential_4\"\n",
      "_________________________________________________________________\n",
      "Layer (type)                 Output Shape              Param #   \n",
      "=================================================================\n",
      "conv2d_5 (Conv2D)            (None, 26, 26, 16)        448       \n",
      "_________________________________________________________________\n",
      "max_pooling2d_5 (MaxPooling2 (None, 13, 13, 16)        0         \n",
      "_________________________________________________________________\n",
      "conv2d_6 (Conv2D)            (None, 11, 11, 32)        4640      \n",
      "_________________________________________________________________\n",
      "max_pooling2d_6 (MaxPooling2 (None, 5, 5, 32)          0         \n",
      "_________________________________________________________________\n",
      "flatten_2 (Flatten)          (None, 800)               0         \n",
      "_________________________________________________________________\n",
      "dense (Dense)                (None, 32)                25632     \n",
      "_________________________________________________________________\n",
      "dense_1 (Dense)              (None, 3)                 99        \n",
      "=================================================================\n",
      "Total params: 30,819\n",
      "Trainable params: 30,819\n",
      "Non-trainable params: 0\n",
      "_________________________________________________________________\n"
     ]
    }
   ],
   "source": [
    "model = keras.models.Sequential()\n",
    "model.add(keras.layers.Conv2D(16, (3, 3), activation=\"relu\", input_shape=(28, 28, 3)))\n",
    "model.add(keras.layers.MaxPool2D(2, 2))\n",
    "model.add(keras.layers.Conv2D(32, (3, 3), activation=\"relu\"))\n",
    "model.add(keras.layers.MaxPool2D(2, 2))\n",
    "model.add(keras.layers.Flatten())\n",
    "model.add(keras.layers.Dense(32, activation=\"relu\"))\n",
    "model.add(keras.layers.Dense(3, activation=\"softmax\"))\n",
    "model.summary()"
   ]
  },
  {
   "cell_type": "markdown",
   "metadata": {},
   "source": [
    "### learning model"
   ]
  },
  {
   "cell_type": "code",
   "execution_count": 26,
   "metadata": {},
   "outputs": [
    {
     "name": "stdout",
     "output_type": "stream",
     "text": [
      "Epoch 1/20\n",
      "10/10 [==============================] - 3s 346ms/step - loss: 1.0837 - accuracy: 0.3667\n",
      "Epoch 2/20\n",
      "10/10 [==============================] - 0s 2ms/step - loss: 1.0087 - accuracy: 0.5200\n",
      "Epoch 3/20\n",
      "10/10 [==============================] - 0s 2ms/step - loss: 0.8926 - accuracy: 0.7300\n",
      "Epoch 4/20\n",
      "10/10 [==============================] - 0s 2ms/step - loss: 0.7765 - accuracy: 0.7100\n",
      "Epoch 5/20\n",
      "10/10 [==============================] - 0s 2ms/step - loss: 0.5808 - accuracy: 0.8133\n",
      "Epoch 6/20\n",
      "10/10 [==============================] - 0s 2ms/step - loss: 0.4361 - accuracy: 0.8600\n",
      "Epoch 7/20\n",
      "10/10 [==============================] - 0s 2ms/step - loss: 0.3733 - accuracy: 0.8733\n",
      "Epoch 8/20\n",
      "10/10 [==============================] - 0s 2ms/step - loss: 0.2769 - accuracy: 0.9267\n",
      "Epoch 9/20\n",
      "10/10 [==============================] - 0s 2ms/step - loss: 0.2410 - accuracy: 0.9400\n",
      "Epoch 10/20\n",
      "10/10 [==============================] - 0s 2ms/step - loss: 0.2029 - accuracy: 0.9400\n",
      "Epoch 11/20\n",
      "10/10 [==============================] - 0s 2ms/step - loss: 0.1408 - accuracy: 0.9667\n",
      "Epoch 12/20\n",
      "10/10 [==============================] - 0s 3ms/step - loss: 0.1265 - accuracy: 0.9667\n",
      "Epoch 13/20\n",
      "10/10 [==============================] - 0s 2ms/step - loss: 0.1116 - accuracy: 0.9767\n",
      "Epoch 14/20\n",
      "10/10 [==============================] - 0s 2ms/step - loss: 0.0847 - accuracy: 0.9833\n",
      "Epoch 15/20\n",
      "10/10 [==============================] - 0s 2ms/step - loss: 0.0839 - accuracy: 0.9767\n",
      "Epoch 16/20\n",
      "10/10 [==============================] - 0s 2ms/step - loss: 0.0752 - accuracy: 0.9900\n",
      "Epoch 17/20\n",
      "10/10 [==============================] - 0s 2ms/step - loss: 0.0804 - accuracy: 0.9767\n",
      "Epoch 18/20\n",
      "10/10 [==============================] - 0s 2ms/step - loss: 0.0593 - accuracy: 0.9833\n",
      "Epoch 19/20\n",
      "10/10 [==============================] - 0s 2ms/step - loss: 0.0531 - accuracy: 0.9800\n",
      "Epoch 20/20\n",
      "10/10 [==============================] - 0s 2ms/step - loss: 0.0434 - accuracy: 0.9900\n"
     ]
    },
    {
     "data": {
      "text/plain": [
       "<tensorflow.python.keras.callbacks.History at 0x7fd4001f67d0>"
      ]
     },
     "execution_count": 26,
     "metadata": {},
     "output_type": "execute_result"
    }
   ],
   "source": [
    "model.compile(optimizer=\"adam\",\n",
    "               loss=\"sparse_categorical_crossentropy\",\n",
    "                metrics=[\"accuracy\"])\n",
    "model.fit(x_train_norm, y_train, epochs = 20)"
   ]
  },
  {
   "cell_type": "code",
   "execution_count": null,
   "metadata": {},
   "outputs": [],
   "source": []
  }
 ],
 "metadata": {
  "kernelspec": {
   "display_name": "aiffel",
   "language": "python",
   "name": "aiffel"
  },
  "language_info": {
   "codemirror_mode": {
    "name": "ipython",
    "version": 3
   },
   "file_extension": ".py",
   "mimetype": "text/x-python",
   "name": "python",
   "nbconvert_exporter": "python",
   "pygments_lexer": "ipython3",
   "version": "3.7.9"
  }
 },
 "nbformat": 4,
 "nbformat_minor": 4
}
