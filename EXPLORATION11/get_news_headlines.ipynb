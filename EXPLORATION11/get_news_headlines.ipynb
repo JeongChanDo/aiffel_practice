{
 "cells": [
  {
   "cell_type": "markdown",
   "metadata": {},
   "source": [
    "# 요약할 텍스트 로드"
   ]
  },
  {
   "cell_type": "code",
   "execution_count": 1,
   "metadata": {},
   "outputs": [
    {
     "data": {
      "text/html": [
       "<div>\n",
       "<style scoped>\n",
       "    .dataframe tbody tr th:only-of-type {\n",
       "        vertical-align: middle;\n",
       "    }\n",
       "\n",
       "    .dataframe tbody tr th {\n",
       "        vertical-align: top;\n",
       "    }\n",
       "\n",
       "    .dataframe thead th {\n",
       "        text-align: right;\n",
       "    }\n",
       "</style>\n",
       "<table border=\"1\" class=\"dataframe\">\n",
       "  <thead>\n",
       "    <tr style=\"text-align: right;\">\n",
       "      <th></th>\n",
       "      <th>headlines</th>\n",
       "      <th>text</th>\n",
       "    </tr>\n",
       "  </thead>\n",
       "  <tbody>\n",
       "    <tr>\n",
       "      <th>54441</th>\n",
       "      <td>Ã¢ÂÂ¹10k fee, no criminal case requirements f...</td>\n",
       "      <td>The Samajwadi Party opened the application pro...</td>\n",
       "    </tr>\n",
       "    <tr>\n",
       "      <th>58268</th>\n",
       "      <td>Thankfully I'm not wrestling in film with Ayus...</td>\n",
       "      <td>Actress Sanya Malhotra, who is set to star opp...</td>\n",
       "    </tr>\n",
       "    <tr>\n",
       "      <th>58242</th>\n",
       "      <td>Runner starts 15,000-km run from border to rai...</td>\n",
       "      <td>Ultra marathon runner Samir Singh started a 15...</td>\n",
       "    </tr>\n",
       "    <tr>\n",
       "      <th>73512</th>\n",
       "      <td>Hershey Trust to sell 45 lakh shares of Hershe...</td>\n",
       "      <td>Hershey Trust Company, the charitable trust wh...</td>\n",
       "    </tr>\n",
       "    <tr>\n",
       "      <th>36812</th>\n",
       "      <td>Ambala launches 'OYE! Ambala' campaign to make...</td>\n",
       "      <td>Ambala Municipal Commissioner Satyender Duhan ...</td>\n",
       "    </tr>\n",
       "    <tr>\n",
       "      <th>88190</th>\n",
       "      <td>Kerala CM praises girl who chopped off her rap...</td>\n",
       "      <td>Kerala Chief Minister Pinarayi Vijayan has pra...</td>\n",
       "    </tr>\n",
       "    <tr>\n",
       "      <th>34149</th>\n",
       "      <td>SoftBank may get $4 bn from $2.5 bn investment...</td>\n",
       "      <td>Japanese conglomerate SoftBank will sell a sub...</td>\n",
       "    </tr>\n",
       "    <tr>\n",
       "      <th>43682</th>\n",
       "      <td>I was not aware of my wife's 1st marriage, her...</td>\n",
       "      <td>Indian pacer Mohammad Shami has said he was no...</td>\n",
       "    </tr>\n",
       "    <tr>\n",
       "      <th>3243</th>\n",
       "      <td>Chhetri scores twice as India open Asian Cup c...</td>\n",
       "      <td>Indian football team captain Sunil Chhetri sco...</td>\n",
       "    </tr>\n",
       "    <tr>\n",
       "      <th>38292</th>\n",
       "      <td>MP asks Russians to have sex with foreign fans...</td>\n",
       "      <td>Russian lawmaker Mikhail Degtyaryov has encour...</td>\n",
       "    </tr>\n",
       "  </tbody>\n",
       "</table>\n",
       "</div>"
      ],
      "text/plain": [
       "                                               headlines  \\\n",
       "54441  Ã¢ÂÂ¹10k fee, no criminal case requirements f...   \n",
       "58268  Thankfully I'm not wrestling in film with Ayus...   \n",
       "58242  Runner starts 15,000-km run from border to rai...   \n",
       "73512  Hershey Trust to sell 45 lakh shares of Hershe...   \n",
       "36812  Ambala launches 'OYE! Ambala' campaign to make...   \n",
       "88190  Kerala CM praises girl who chopped off her rap...   \n",
       "34149  SoftBank may get $4 bn from $2.5 bn investment...   \n",
       "43682  I was not aware of my wife's 1st marriage, her...   \n",
       "3243   Chhetri scores twice as India open Asian Cup c...   \n",
       "38292  MP asks Russians to have sex with foreign fans...   \n",
       "\n",
       "                                                    text  \n",
       "54441  The Samajwadi Party opened the application pro...  \n",
       "58268  Actress Sanya Malhotra, who is set to star opp...  \n",
       "58242  Ultra marathon runner Samir Singh started a 15...  \n",
       "73512  Hershey Trust Company, the charitable trust wh...  \n",
       "36812  Ambala Municipal Commissioner Satyender Duhan ...  \n",
       "88190  Kerala Chief Minister Pinarayi Vijayan has pra...  \n",
       "34149  Japanese conglomerate SoftBank will sell a sub...  \n",
       "43682  Indian pacer Mohammad Shami has said he was no...  \n",
       "3243   Indian football team captain Sunil Chhetri sco...  \n",
       "38292  Russian lawmaker Mikhail Degtyaryov has encour...  "
      ]
     },
     "execution_count": 1,
     "metadata": {},
     "output_type": "execute_result"
    }
   ],
   "source": [
    "import urllib.request\n",
    "import pandas as pd\n",
    "import numpy as np\n",
    "#urllib.request.urlretrieve(\"https://raw.githubusercontent.com/sunnysai12345/News_Summary/master/news_summary_more.csv\", filename=\"news_summary_more.csv\")\n",
    "data = pd.read_csv('news_summary_more.csv', encoding='iso-8859-1')\n",
    "\n",
    "data.sample(10)"
   ]
  },
  {
   "cell_type": "markdown",
   "metadata": {},
   "source": [
    "# 추출적 요약 Extractive Summaization"
   ]
  },
  {
   "cell_type": "code",
   "execution_count": 2,
   "metadata": {},
   "outputs": [
    {
     "name": "stdout",
     "output_type": "stream",
     "text": [
      "headlines :  upGrad learner switches to career in ML & Al with 90% salary hike\n",
      "extractive summarization :  upGrad's Online Power Learning has powered 3 lakh+ careers.\n"
     ]
    }
   ],
   "source": [
    "from summa.summarizer import summarize\n",
    "\n",
    "print(\"headlines : \",data.iloc[0, 0])\n",
    "print(\"extractive summarization : \", summarize(data.iloc[0, 1], ratio=0.4))"
   ]
  },
  {
   "cell_type": "code",
   "execution_count": 3,
   "metadata": {},
   "outputs": [
    {
     "data": {
      "text/plain": [
       "0        upGrad's Online Power Learning has powered 3 l...\n",
       "1        Users get one CRED coin per rupee of bill paid...\n",
       "2        The match witnessed India getting all out for ...\n",
       "3        Also, customers have options to insure against...\n",
       "4        Speaking about the sexual harassment allegatio...\n",
       "                               ...                        \n",
       "98396    A CRPF jawan was on Tuesday axed to death with...\n",
       "98397    'Uff Yeh', the first song from the Sonakshi Si...\n",
       "98398    Michael B Jordan will reportedly play the lead...\n",
       "98399    The video also shows a TV airing a news confer...\n",
       "98400                                                     \n",
       "Name: extractive_summary, Length: 98401, dtype: object"
      ]
     },
     "execution_count": 3,
     "metadata": {},
     "output_type": "execute_result"
    }
   ],
   "source": [
    "res_ext = data[\"text\"].apply(lambda x : summarize(x, ratio=0.4))\n",
    "res_ext = res_ext.rename(\"extractive_summary\")\n",
    "res_ext"
   ]
  },
  {
   "cell_type": "code",
   "execution_count": 4,
   "metadata": {},
   "outputs": [
    {
     "data": {
      "text/html": [
       "<div>\n",
       "<style scoped>\n",
       "    .dataframe tbody tr th:only-of-type {\n",
       "        vertical-align: middle;\n",
       "    }\n",
       "\n",
       "    .dataframe tbody tr th {\n",
       "        vertical-align: top;\n",
       "    }\n",
       "\n",
       "    .dataframe thead th {\n",
       "        text-align: right;\n",
       "    }\n",
       "</style>\n",
       "<table border=\"1\" class=\"dataframe\">\n",
       "  <thead>\n",
       "    <tr style=\"text-align: right;\">\n",
       "      <th></th>\n",
       "      <th>headlines</th>\n",
       "      <th>text</th>\n",
       "      <th>extractive_summary</th>\n",
       "    </tr>\n",
       "  </thead>\n",
       "  <tbody>\n",
       "    <tr>\n",
       "      <th>0</th>\n",
       "      <td>upGrad learner switches to career in ML &amp; Al w...</td>\n",
       "      <td>Saurav Kant, an alumnus of upGrad and IIIT-B's...</td>\n",
       "      <td>upGrad's Online Power Learning has powered 3 l...</td>\n",
       "    </tr>\n",
       "    <tr>\n",
       "      <th>1</th>\n",
       "      <td>Delhi techie wins free food from Swiggy for on...</td>\n",
       "      <td>Kunal Shah's credit card bill payment platform...</td>\n",
       "      <td>Users get one CRED coin per rupee of bill paid...</td>\n",
       "    </tr>\n",
       "    <tr>\n",
       "      <th>2</th>\n",
       "      <td>New Zealand end Rohit Sharma-led India's 12-ma...</td>\n",
       "      <td>New Zealand defeated India by 8 wickets in the...</td>\n",
       "      <td>The match witnessed India getting all out for ...</td>\n",
       "    </tr>\n",
       "    <tr>\n",
       "      <th>3</th>\n",
       "      <td>Aegon life iTerm insurance plan helps customer...</td>\n",
       "      <td>With Aegon Life iTerm Insurance plan, customer...</td>\n",
       "      <td>Also, customers have options to insure against...</td>\n",
       "    </tr>\n",
       "    <tr>\n",
       "      <th>4</th>\n",
       "      <td>Have known Hirani for yrs, what if MeToo claim...</td>\n",
       "      <td>Speaking about the sexual harassment allegatio...</td>\n",
       "      <td>Speaking about the sexual harassment allegatio...</td>\n",
       "    </tr>\n",
       "    <tr>\n",
       "      <th>...</th>\n",
       "      <td>...</td>\n",
       "      <td>...</td>\n",
       "      <td>...</td>\n",
       "    </tr>\n",
       "    <tr>\n",
       "      <th>98396</th>\n",
       "      <td>CRPF jawan axed to death by Maoists in Chhatti...</td>\n",
       "      <td>A CRPF jawan was on Tuesday axed to death with...</td>\n",
       "      <td>A CRPF jawan was on Tuesday axed to death with...</td>\n",
       "    </tr>\n",
       "    <tr>\n",
       "      <th>98397</th>\n",
       "      <td>First song from Sonakshi Sinha's 'Noor' titled...</td>\n",
       "      <td>'Uff Yeh', the first song from the Sonakshi Si...</td>\n",
       "      <td>'Uff Yeh', the first song from the Sonakshi Si...</td>\n",
       "    </tr>\n",
       "    <tr>\n",
       "      <th>98398</th>\n",
       "      <td>'The Matrix' film to get a reboot: Reports</td>\n",
       "      <td>According to reports, a new version of the 199...</td>\n",
       "      <td>Michael B Jordan will reportedly play the lead...</td>\n",
       "    </tr>\n",
       "    <tr>\n",
       "      <th>98399</th>\n",
       "      <td>Snoop Dogg aims gun at clown dressed as Trump ...</td>\n",
       "      <td>A new music video shows rapper Snoop Dogg aimi...</td>\n",
       "      <td>The video also shows a TV airing a news confer...</td>\n",
       "    </tr>\n",
       "    <tr>\n",
       "      <th>98400</th>\n",
       "      <td>Madhesi Morcha withdraws support to Nepalese g...</td>\n",
       "      <td>Madhesi Morcha, an alliance of seven political...</td>\n",
       "      <td></td>\n",
       "    </tr>\n",
       "  </tbody>\n",
       "</table>\n",
       "<p>98401 rows × 3 columns</p>\n",
       "</div>"
      ],
      "text/plain": [
       "                                               headlines  \\\n",
       "0      upGrad learner switches to career in ML & Al w...   \n",
       "1      Delhi techie wins free food from Swiggy for on...   \n",
       "2      New Zealand end Rohit Sharma-led India's 12-ma...   \n",
       "3      Aegon life iTerm insurance plan helps customer...   \n",
       "4      Have known Hirani for yrs, what if MeToo claim...   \n",
       "...                                                  ...   \n",
       "98396  CRPF jawan axed to death by Maoists in Chhatti...   \n",
       "98397  First song from Sonakshi Sinha's 'Noor' titled...   \n",
       "98398         'The Matrix' film to get a reboot: Reports   \n",
       "98399  Snoop Dogg aims gun at clown dressed as Trump ...   \n",
       "98400  Madhesi Morcha withdraws support to Nepalese g...   \n",
       "\n",
       "                                                    text  \\\n",
       "0      Saurav Kant, an alumnus of upGrad and IIIT-B's...   \n",
       "1      Kunal Shah's credit card bill payment platform...   \n",
       "2      New Zealand defeated India by 8 wickets in the...   \n",
       "3      With Aegon Life iTerm Insurance plan, customer...   \n",
       "4      Speaking about the sexual harassment allegatio...   \n",
       "...                                                  ...   \n",
       "98396  A CRPF jawan was on Tuesday axed to death with...   \n",
       "98397  'Uff Yeh', the first song from the Sonakshi Si...   \n",
       "98398  According to reports, a new version of the 199...   \n",
       "98399  A new music video shows rapper Snoop Dogg aimi...   \n",
       "98400  Madhesi Morcha, an alliance of seven political...   \n",
       "\n",
       "                                      extractive_summary  \n",
       "0      upGrad's Online Power Learning has powered 3 l...  \n",
       "1      Users get one CRED coin per rupee of bill paid...  \n",
       "2      The match witnessed India getting all out for ...  \n",
       "3      Also, customers have options to insure against...  \n",
       "4      Speaking about the sexual harassment allegatio...  \n",
       "...                                                  ...  \n",
       "98396  A CRPF jawan was on Tuesday axed to death with...  \n",
       "98397  'Uff Yeh', the first song from the Sonakshi Si...  \n",
       "98398  Michael B Jordan will reportedly play the lead...  \n",
       "98399  The video also shows a TV airing a news confer...  \n",
       "98400                                                     \n",
       "\n",
       "[98401 rows x 3 columns]"
      ]
     },
     "execution_count": 4,
     "metadata": {},
     "output_type": "execute_result"
    }
   ],
   "source": [
    "summary_df = data.copy()\n",
    "summary_df = pd.concat([summary_df, res_ext], axis=1)\n",
    "summary_df"
   ]
  },
  {
   "cell_type": "markdown",
   "metadata": {},
   "source": [
    "# 추상적 요약 Abstractive Summarization\n",
    "## 1. 전처리\n",
    "### 1.1 전처리 준비"
   ]
  },
  {
   "cell_type": "code",
   "execution_count": 5,
   "metadata": {},
   "outputs": [
    {
     "name": "stdout",
     "output_type": "stream",
     "text": [
      "<class 'pandas.core.frame.DataFrame'>\n",
      "RangeIndex: 98401 entries, 0 to 98400\n",
      "Data columns (total 2 columns):\n",
      " #   Column     Non-Null Count  Dtype \n",
      "---  ------     --------------  ----- \n",
      " 0   headlines  98401 non-null  object\n",
      " 1   text       98401 non-null  object\n",
      "dtypes: object(2)\n",
      "memory usage: 1.5+ MB\n"
     ]
    }
   ],
   "source": [
    "# 데이터 개수 파악\n",
    "data.info()"
   ]
  },
  {
   "cell_type": "code",
   "execution_count": 6,
   "metadata": {},
   "outputs": [
    {
     "name": "stdout",
     "output_type": "stream",
     "text": [
      "헤드라인의 중복이 아닌 개수 :  98280\n",
      "중복이 아닌 텍스트 개수 :  98360\n"
     ]
    }
   ],
   "source": [
    "# 데이터 중복이 아닌 데이터 개수 확인\n",
    "print(\"헤드라인의 중복이 아닌 개수 : \", data[\"headlines\"].nunique())\n",
    "print(\"중복이 아닌 텍스트 개수 : \", data[\"text\"].nunique())"
   ]
  },
  {
   "cell_type": "code",
   "execution_count": 7,
   "metadata": {},
   "outputs": [
    {
     "name": "stdout",
     "output_type": "stream",
     "text": [
      "<class 'pandas.core.frame.DataFrame'>\n",
      "Int64Index: 98360 entries, 0 to 98400\n",
      "Data columns (total 2 columns):\n",
      " #   Column     Non-Null Count  Dtype \n",
      "---  ------     --------------  ----- \n",
      " 0   headlines  98360 non-null  object\n",
      " 1   text       98360 non-null  object\n",
      "dtypes: object(2)\n",
      "memory usage: 2.3+ MB\n",
      "None\n"
     ]
    }
   ],
   "source": [
    "# 텍스트는 98401개이나 중복이 아닌 텍스트가 98,360으로 중복 데이터가 41개 존재\n",
    "# 위 결과 중복된 텍스트가 존재하므로 중복을 제거하자\n",
    "\n",
    "data.drop_duplicates(subset=[\"text\"], inplace=True)\n",
    "print(data.info())"
   ]
  },
  {
   "cell_type": "code",
   "execution_count": 8,
   "metadata": {
    "scrolled": true
   },
   "outputs": [
    {
     "name": "stdout",
     "output_type": "stream",
     "text": [
      "headlines    0\n",
      "text         0\n",
      "dtype: int64\n"
     ]
    }
   ],
   "source": [
    "\"\"\"\n",
    "중복 텍스트를 제거한 결과 헤드라인과 텍스트가 98,360개가 되었다.\n",
    "이번에는 널 데이터를 확인하고 제거하자\n",
    "\"\"\"\n",
    "print(data.isnull().sum())"
   ]
  },
  {
   "cell_type": "code",
   "execution_count": 9,
   "metadata": {},
   "outputs": [],
   "source": [
    "# 널처리를 하려고했으나 널데이터가 존재하지 않는다\n",
    "# 다음으로 텍스트 정규화 사전을 준비하자.\n",
    "contractions = {\"ain't\": \"is not\", \"aren't\": \"are not\",\"can't\": \"cannot\", \"'cause\": \"because\", \"could've\": \"could have\", \"couldn't\": \"could not\",\n",
    "                           \"didn't\": \"did not\",  \"doesn't\": \"does not\", \"don't\": \"do not\", \"hadn't\": \"had not\", \"hasn't\": \"has not\", \"haven't\": \"have not\",\n",
    "                           \"he'd\": \"he would\",\"he'll\": \"he will\", \"he's\": \"he is\", \"how'd\": \"how did\", \"how'd'y\": \"how do you\", \"how'll\": \"how will\", \"how's\": \"how is\",\n",
    "                           \"I'd\": \"I would\", \"I'd've\": \"I would have\", \"I'll\": \"I will\", \"I'll've\": \"I will have\",\"I'm\": \"I am\", \"I've\": \"I have\", \"i'd\": \"i would\",\n",
    "                           \"i'd've\": \"i would have\", \"i'll\": \"i will\",  \"i'll've\": \"i will have\",\"i'm\": \"i am\", \"i've\": \"i have\", \"isn't\": \"is not\", \"it'd\": \"it would\",\n",
    "                           \"it'd've\": \"it would have\", \"it'll\": \"it will\", \"it'll've\": \"it will have\",\"it's\": \"it is\", \"let's\": \"let us\", \"ma'am\": \"madam\",\n",
    "                           \"mayn't\": \"may not\", \"might've\": \"might have\",\"mightn't\": \"might not\",\"mightn't've\": \"might not have\", \"must've\": \"must have\",\n",
    "                           \"mustn't\": \"must not\", \"mustn't've\": \"must not have\", \"needn't\": \"need not\", \"needn't've\": \"need not have\",\"o'clock\": \"of the clock\",\n",
    "                           \"oughtn't\": \"ought not\", \"oughtn't've\": \"ought not have\", \"shan't\": \"shall not\", \"sha'n't\": \"shall not\", \"shan't've\": \"shall not have\",\n",
    "                           \"she'd\": \"she would\", \"she'd've\": \"she would have\", \"she'll\": \"she will\", \"she'll've\": \"she will have\", \"she's\": \"she is\",\n",
    "                           \"should've\": \"should have\", \"shouldn't\": \"should not\", \"shouldn't've\": \"should not have\", \"so've\": \"so have\",\"so's\": \"so as\",\n",
    "                           \"this's\": \"this is\",\"that'd\": \"that would\", \"that'd've\": \"that would have\", \"that's\": \"that is\", \"there'd\": \"there would\",\n",
    "                           \"there'd've\": \"there would have\", \"there's\": \"there is\", \"here's\": \"here is\",\"they'd\": \"they would\", \"they'd've\": \"they would have\",\n",
    "                           \"they'll\": \"they will\", \"they'll've\": \"they will have\", \"they're\": \"they are\", \"they've\": \"they have\", \"to've\": \"to have\",\n",
    "                           \"wasn't\": \"was not\", \"we'd\": \"we would\", \"we'd've\": \"we would have\", \"we'll\": \"we will\", \"we'll've\": \"we will have\", \"we're\": \"we are\",\n",
    "                           \"we've\": \"we have\", \"weren't\": \"were not\", \"what'll\": \"what will\", \"what'll've\": \"what will have\", \"what're\": \"what are\",\n",
    "                           \"what's\": \"what is\", \"what've\": \"what have\", \"when's\": \"when is\", \"when've\": \"when have\", \"where'd\": \"where did\", \"where's\": \"where is\",\n",
    "                           \"where've\": \"where have\", \"who'll\": \"who will\", \"who'll've\": \"who will have\", \"who's\": \"who is\", \"who've\": \"who have\",\n",
    "                           \"why's\": \"why is\", \"why've\": \"why have\", \"will've\": \"will have\", \"won't\": \"will not\", \"won't've\": \"will not have\",\n",
    "                           \"would've\": \"would have\", \"wouldn't\": \"would not\", \"wouldn't've\": \"would not have\", \"y'all\": \"you all\",\n",
    "                           \"y'all'd\": \"you all would\",\"y'all'd've\": \"you all would have\",\"y'all're\": \"you all are\",\"y'all've\": \"you all have\",\n",
    "                           \"you'd\": \"you would\", \"you'd've\": \"you would have\", \"you'll\": \"you will\", \"you'll've\": \"you will have\",\n",
    "                           \"you're\": \"you are\", \"you've\": \"you have\"}\n",
    "\n",
    "len(contractions)\n",
    "\n",
    "import re\n",
    "from tensorflow.keras.preprocessing.text import Tokenizer \n",
    "from tensorflow.keras.preprocessing.sequence import pad_sequences\n"
   ]
  },
  {
   "cell_type": "code",
   "execution_count": 10,
   "metadata": {},
   "outputs": [
    {
     "data": {
      "text/plain": [
       "['i',\n",
       " 'me',\n",
       " 'my',\n",
       " 'myself',\n",
       " 'we',\n",
       " 'our',\n",
       " 'ours',\n",
       " 'ourselves',\n",
       " 'you',\n",
       " \"you're\",\n",
       " \"you've\",\n",
       " \"you'll\",\n",
       " \"you'd\",\n",
       " 'your',\n",
       " 'yours',\n",
       " 'yourself',\n",
       " 'yourselves',\n",
       " 'he',\n",
       " 'him',\n",
       " 'his',\n",
       " 'himself',\n",
       " 'she',\n",
       " \"she's\",\n",
       " 'her',\n",
       " 'hers',\n",
       " 'herself',\n",
       " 'it',\n",
       " \"it's\",\n",
       " 'its',\n",
       " 'itself',\n",
       " 'they',\n",
       " 'them',\n",
       " 'their',\n",
       " 'theirs',\n",
       " 'themselves',\n",
       " 'what',\n",
       " 'which',\n",
       " 'who',\n",
       " 'whom',\n",
       " 'this',\n",
       " 'that',\n",
       " \"that'll\",\n",
       " 'these',\n",
       " 'those',\n",
       " 'am',\n",
       " 'is',\n",
       " 'are',\n",
       " 'was',\n",
       " 'were',\n",
       " 'be',\n",
       " 'been',\n",
       " 'being',\n",
       " 'have',\n",
       " 'has',\n",
       " 'had',\n",
       " 'having',\n",
       " 'do',\n",
       " 'does',\n",
       " 'did',\n",
       " 'doing',\n",
       " 'a',\n",
       " 'an',\n",
       " 'the',\n",
       " 'and',\n",
       " 'but',\n",
       " 'if',\n",
       " 'or',\n",
       " 'because',\n",
       " 'as',\n",
       " 'until',\n",
       " 'while',\n",
       " 'of',\n",
       " 'at',\n",
       " 'by',\n",
       " 'for',\n",
       " 'with',\n",
       " 'about',\n",
       " 'against',\n",
       " 'between',\n",
       " 'into',\n",
       " 'through',\n",
       " 'during',\n",
       " 'before',\n",
       " 'after',\n",
       " 'above',\n",
       " 'below',\n",
       " 'to',\n",
       " 'from',\n",
       " 'up',\n",
       " 'down',\n",
       " 'in',\n",
       " 'out',\n",
       " 'on',\n",
       " 'off',\n",
       " 'over',\n",
       " 'under',\n",
       " 'again',\n",
       " 'further',\n",
       " 'then',\n",
       " 'once',\n",
       " 'here',\n",
       " 'there',\n",
       " 'when',\n",
       " 'where',\n",
       " 'why',\n",
       " 'how',\n",
       " 'all',\n",
       " 'any',\n",
       " 'both',\n",
       " 'each',\n",
       " 'few',\n",
       " 'more',\n",
       " 'most',\n",
       " 'other',\n",
       " 'some',\n",
       " 'such',\n",
       " 'no',\n",
       " 'nor',\n",
       " 'not',\n",
       " 'only',\n",
       " 'own',\n",
       " 'same',\n",
       " 'so',\n",
       " 'than',\n",
       " 'too',\n",
       " 'very',\n",
       " 's',\n",
       " 't',\n",
       " 'can',\n",
       " 'will',\n",
       " 'just',\n",
       " 'don',\n",
       " \"don't\",\n",
       " 'should',\n",
       " \"should've\",\n",
       " 'now',\n",
       " 'd',\n",
       " 'll',\n",
       " 'm',\n",
       " 'o',\n",
       " 're',\n",
       " 've',\n",
       " 'y',\n",
       " 'ain',\n",
       " 'aren',\n",
       " \"aren't\",\n",
       " 'couldn',\n",
       " \"couldn't\",\n",
       " 'didn',\n",
       " \"didn't\",\n",
       " 'doesn',\n",
       " \"doesn't\",\n",
       " 'hadn',\n",
       " \"hadn't\",\n",
       " 'hasn',\n",
       " \"hasn't\",\n",
       " 'haven',\n",
       " \"haven't\",\n",
       " 'isn',\n",
       " \"isn't\",\n",
       " 'ma',\n",
       " 'mightn',\n",
       " \"mightn't\",\n",
       " 'mustn',\n",
       " \"mustn't\",\n",
       " 'needn',\n",
       " \"needn't\",\n",
       " 'shan',\n",
       " \"shan't\",\n",
       " 'shouldn',\n",
       " \"shouldn't\",\n",
       " 'wasn',\n",
       " \"wasn't\",\n",
       " 'weren',\n",
       " \"weren't\",\n",
       " 'won',\n",
       " \"won't\",\n",
       " 'wouldn',\n",
       " \"wouldn't\"]"
      ]
     },
     "execution_count": 10,
     "metadata": {},
     "output_type": "execute_result"
    }
   ],
   "source": [
    "# 정규화 사전을 준비하였으니 이번에는 불용어를 확인해보자\n",
    "from nltk.corpus import stopwords\n",
    "stopwords.words(\"english\")"
   ]
  },
  {
   "cell_type": "markdown",
   "metadata": {},
   "source": [
    "### 1.2 데이터 전처리"
   ]
  },
  {
   "cell_type": "code",
   "execution_count": 11,
   "metadata": {},
   "outputs": [],
   "source": [
    "# 정규표현식과 정규화 사전을 이용하여 전처리를 하고, 토큰화를 시키자\n",
    "import re\n",
    "\n",
    "def preprocessing(sentence, remove_stopwords=True):\n",
    "    sentence = sentence.lower()\n",
    "    sentence = re.sub(r\"\\([^)]*\\)\",\"\",sentence)\n",
    "    sentence = re.sub('\"', '', sentence)\n",
    "    sentence = ' '.join([contractions[t] if t in contractions else t for t in sentence.split(\" \")])\n",
    "    sentence = re.sub(r\"'s\\b\",\"\", sentence)\n",
    "    sentence = re.sub(\"[^a-zA-Z]\", \" \", sentence)\n",
    "    sentence = re.sub(\"[m]{2,}\",\"mm\", sentence)\n",
    "    \n",
    "    if remove_stopwords:\n",
    "        tokens = ' '.join(word for word in sentence.split() if not word in stopwords.words('english') if len(word) > 1)\n",
    "    else:\n",
    "        tokens = ' '.join(word for word in sentence.split() if len(word) > 1)\n",
    "    return tokens"
   ]
  },
  {
   "cell_type": "code",
   "execution_count": 12,
   "metadata": {},
   "outputs": [
    {
     "name": "stdout",
     "output_type": "stream",
     "text": [
      "everything bought great infact ordered twice third ordered br mother father\n",
      "great way to start the day\n"
     ]
    }
   ],
   "source": [
    "temp_text = 'Everything I bought was great, infact I ordered twice and the third ordered was<br />for my mother and father.'\n",
    "temp_headline = 'Great way to start (or finish) the day!!!'\n",
    "\n",
    "print(preprocessing(temp_text))\n",
    "print(preprocessing(temp_headline, False))  # 불용어를 제거하지 않습니다."
   ]
  },
  {
   "cell_type": "code",
   "execution_count": 13,
   "metadata": {},
   "outputs": [],
   "source": [
    "preprocessed_text = []\n",
    "preprocessed_headlines = []\n",
    "\n",
    "for headline in data[\"headlines\"]:\n",
    "    preprocessed_headlines.append(preprocessing(headline, False))\n",
    "\n",
    "for text in data[\"text\"]:\n",
    "    preprocessed_text.append(preprocessing(text))"
   ]
  },
  {
   "cell_type": "code",
   "execution_count": 14,
   "metadata": {},
   "outputs": [],
   "source": [
    "data[\"preprocessed_text\"] = preprocessed_text\n",
    "data[\"headlines\"] = preprocessed_headlines"
   ]
  },
  {
   "cell_type": "code",
   "execution_count": 15,
   "metadata": {},
   "outputs": [
    {
     "data": {
      "text/plain": [
       "headlines            0\n",
       "text                 0\n",
       "preprocessed_text    0\n",
       "dtype: int64"
      ]
     },
     "execution_count": 15,
     "metadata": {},
     "output_type": "execute_result"
    }
   ],
   "source": [
    "data.isnull().sum()"
   ]
  },
  {
   "cell_type": "markdown",
   "metadata": {},
   "source": [
    "### 1.3 인코더, 디코더 데이터 준비"
   ]
  },
  {
   "cell_type": "code",
   "execution_count": 16,
   "metadata": {},
   "outputs": [
    {
     "name": "stdout",
     "output_type": "stream",
     "text": [
      "텍스트의 최소 길이 : 1\n",
      "텍스트의 최대 길이 : 60\n",
      "텍스트의 평균 길이 : 35.09968483123221\n",
      "요약의 최소 길이 : 1\n",
      "요약의 최대 길이 : 16\n",
      "요약의 평균 길이 : 9.299532330215534\n"
     ]
    },
    {
     "data": {
      "image/png": "[encoded data removed]",
      "text/plain": [
       "<Figure size 432x288 with 2 Axes>"
      ]
     },
     "metadata": {
      "needs_background": "light"
     },
     "output_type": "display_data"
    },
    {
     "data": {
      "image/png": "[encoded data removed]",
      "text/plain": [
       "<Figure size 432x288 with 1 Axes>"
      ]
     },
     "metadata": {
      "needs_background": "light"
     },
     "output_type": "display_data"
    },
    {
     "data": {
      "image/png": "[encoded data removed]",
      "text/plain": [
       "<Figure size 432x288 with 1 Axes>"
      ]
     },
     "metadata": {
      "needs_background": "light"
     },
     "output_type": "display_data"
    }
   ],
   "source": [
    "import matplotlib.pyplot as plt\n",
    "\n",
    "text_len = [len(s.split()) for s in data['preprocessed_text']]\n",
    "headlines_len = [len(s.split()) for s in data['headlines']]\n",
    "\n",
    "print('텍스트의 최소 길이 : {}'.format(np.min(text_len)))\n",
    "print('텍스트의 최대 길이 : {}'.format(np.max(text_len)))\n",
    "print('텍스트의 평균 길이 : {}'.format(np.mean(text_len)))\n",
    "print('요약의 최소 길이 : {}'.format(np.min(headlines_len)))\n",
    "print('요약의 최대 길이 : {}'.format(np.max(headlines_len)))\n",
    "print('요약의 평균 길이 : {}'.format(np.mean(headlines_len)))\n",
    "\n",
    "plt.subplot(1,2,1)\n",
    "plt.boxplot(headlines_len)\n",
    "plt.title('Summary')\n",
    "plt.subplot(1,2,2)\n",
    "plt.boxplot(text_len)\n",
    "plt.title('Text')\n",
    "plt.tight_layout()\n",
    "plt.show()\n",
    "\n",
    "plt.title('headlines')\n",
    "plt.hist(headlines_len, bins = 40)\n",
    "plt.xlabel('length of samples')\n",
    "plt.ylabel('number of samples')\n",
    "plt.show()\n",
    "\n",
    "plt.title('Text')\n",
    "plt.hist(text_len, bins = 40)\n",
    "plt.xlabel('length of samples')\n",
    "plt.ylabel('number of samples')\n",
    "plt.show()"
   ]
  },
  {
   "cell_type": "code",
   "execution_count": 17,
   "metadata": {},
   "outputs": [],
   "source": [
    "text_max_len = 45\n",
    "headlines_max_len = 13"
   ]
  },
  {
   "cell_type": "code",
   "execution_count": 18,
   "metadata": {},
   "outputs": [],
   "source": [
    "def below_threshold_len(max_len, nested_list):\n",
    "  cnt = 0\n",
    "  for s in nested_list:\n",
    "    if(len(s.split()) <= max_len):\n",
    "        cnt = cnt + 1\n",
    "  print('전체 샘플 중 길이가 %s 이하인 샘플의 비율: %s'%(max_len, (cnt / len(nested_list))))"
   ]
  },
  {
   "cell_type": "code",
   "execution_count": 19,
   "metadata": {
    "scrolled": true
   },
   "outputs": [
    {
     "name": "stdout",
     "output_type": "stream",
     "text": [
      "전체 샘플 중 길이가 45 이하인 샘플의 비율: 0.9967771451809678\n",
      "전체 샘플 중 길이가 13 이하인 샘플의 비율: 0.9981699877999186\n"
     ]
    }
   ],
   "source": [
    "below_threshold_len(text_max_len, data['preprocessed_text'])\n",
    "below_threshold_len(headlines_max_len,  data['headlines'])"
   ]
  },
  {
   "cell_type": "code",
   "execution_count": 20,
   "metadata": {},
   "outputs": [
    {
     "name": "stdout",
     "output_type": "stream",
     "text": [
      "전체 샘플수 : 97863\n"
     ]
    }
   ],
   "source": [
    "data = data[data['preprocessed_text'].apply(lambda x: len(x.split()) <= text_max_len)]\n",
    "data = data[data['headlines'].apply(lambda x: len(x.split()) <= headlines_max_len)]\n",
    "print('전체 샘플수 :',(len(data)))"
   ]
  },
  {
   "cell_type": "code",
   "execution_count": 21,
   "metadata": {},
   "outputs": [
    {
     "data": {
      "text/html": [
       "<div>\n",
       "<style scoped>\n",
       "    .dataframe tbody tr th:only-of-type {\n",
       "        vertical-align: middle;\n",
       "    }\n",
       "\n",
       "    .dataframe tbody tr th {\n",
       "        vertical-align: top;\n",
       "    }\n",
       "\n",
       "    .dataframe thead th {\n",
       "        text-align: right;\n",
       "    }\n",
       "</style>\n",
       "<table border=\"1\" class=\"dataframe\">\n",
       "  <thead>\n",
       "    <tr style=\"text-align: right;\">\n",
       "      <th></th>\n",
       "      <th>headlines</th>\n",
       "      <th>text</th>\n",
       "      <th>preprocessed_text</th>\n",
       "      <th>decoder_input</th>\n",
       "      <th>decoder_target</th>\n",
       "    </tr>\n",
       "  </thead>\n",
       "  <tbody>\n",
       "    <tr>\n",
       "      <th>0</th>\n",
       "      <td>upgrad learner switches to career in ml al wit...</td>\n",
       "      <td>Saurav Kant, an alumnus of upGrad and IIIT-B's...</td>\n",
       "      <td>saurav kant alumnus upgrad iiit pg program mac...</td>\n",
       "      <td>sostoken upgrad learner switches to career in ...</td>\n",
       "      <td>upgrad learner switches to career in ml al wit...</td>\n",
       "    </tr>\n",
       "    <tr>\n",
       "      <th>1</th>\n",
       "      <td>delhi techie wins free food from swiggy for on...</td>\n",
       "      <td>Kunal Shah's credit card bill payment platform...</td>\n",
       "      <td>kunal shah credit card bill payment platform c...</td>\n",
       "      <td>sostoken delhi techie wins free food from swig...</td>\n",
       "      <td>delhi techie wins free food from swiggy for on...</td>\n",
       "    </tr>\n",
       "    <tr>\n",
       "      <th>2</th>\n",
       "      <td>new zealand end rohit sharma led india match w...</td>\n",
       "      <td>New Zealand defeated India by 8 wickets in the...</td>\n",
       "      <td>new zealand defeated india wickets fourth odi ...</td>\n",
       "      <td>sostoken new zealand end rohit sharma led indi...</td>\n",
       "      <td>new zealand end rohit sharma led india match w...</td>\n",
       "    </tr>\n",
       "    <tr>\n",
       "      <th>3</th>\n",
       "      <td>aegon life iterm insurance plan helps customer...</td>\n",
       "      <td>With Aegon Life iTerm Insurance plan, customer...</td>\n",
       "      <td>aegon life iterm insurance plan customers enjo...</td>\n",
       "      <td>sostoken aegon life iterm insurance plan helps...</td>\n",
       "      <td>aegon life iterm insurance plan helps customer...</td>\n",
       "    </tr>\n",
       "    <tr>\n",
       "      <th>4</th>\n",
       "      <td>have known hirani for yrs what if metoo claims...</td>\n",
       "      <td>Speaking about the sexual harassment allegatio...</td>\n",
       "      <td>speaking sexual harassment allegations rajkuma...</td>\n",
       "      <td>sostoken have known hirani for yrs what if met...</td>\n",
       "      <td>have known hirani for yrs what if metoo claims...</td>\n",
       "    </tr>\n",
       "  </tbody>\n",
       "</table>\n",
       "</div>"
      ],
      "text/plain": [
       "                                           headlines  \\\n",
       "0  upgrad learner switches to career in ml al wit...   \n",
       "1  delhi techie wins free food from swiggy for on...   \n",
       "2  new zealand end rohit sharma led india match w...   \n",
       "3  aegon life iterm insurance plan helps customer...   \n",
       "4  have known hirani for yrs what if metoo claims...   \n",
       "\n",
       "                                                text  \\\n",
       "0  Saurav Kant, an alumnus of upGrad and IIIT-B's...   \n",
       "1  Kunal Shah's credit card bill payment platform...   \n",
       "2  New Zealand defeated India by 8 wickets in the...   \n",
       "3  With Aegon Life iTerm Insurance plan, customer...   \n",
       "4  Speaking about the sexual harassment allegatio...   \n",
       "\n",
       "                                   preprocessed_text  \\\n",
       "0  saurav kant alumnus upgrad iiit pg program mac...   \n",
       "1  kunal shah credit card bill payment platform c...   \n",
       "2  new zealand defeated india wickets fourth odi ...   \n",
       "3  aegon life iterm insurance plan customers enjo...   \n",
       "4  speaking sexual harassment allegations rajkuma...   \n",
       "\n",
       "                                       decoder_input  \\\n",
       "0  sostoken upgrad learner switches to career in ...   \n",
       "1  sostoken delhi techie wins free food from swig...   \n",
       "2  sostoken new zealand end rohit sharma led indi...   \n",
       "3  sostoken aegon life iterm insurance plan helps...   \n",
       "4  sostoken have known hirani for yrs what if met...   \n",
       "\n",
       "                                      decoder_target  \n",
       "0  upgrad learner switches to career in ml al wit...  \n",
       "1  delhi techie wins free food from swiggy for on...  \n",
       "2  new zealand end rohit sharma led india match w...  \n",
       "3  aegon life iterm insurance plan helps customer...  \n",
       "4  have known hirani for yrs what if metoo claims...  "
      ]
     },
     "execution_count": 21,
     "metadata": {},
     "output_type": "execute_result"
    }
   ],
   "source": [
    "data['decoder_input'] = data['headlines'].apply(lambda x : 'sostoken '+ x)\n",
    "data['decoder_target'] = data['headlines'].apply(lambda x : x + ' eostoken')\n",
    "data.head()"
   ]
  },
  {
   "cell_type": "code",
   "execution_count": 22,
   "metadata": {},
   "outputs": [],
   "source": [
    "encoder_input = np.array(data['preprocessed_text']) # 인코더의 입력\n",
    "decoder_input = np.array(data['decoder_input']) # 디코더의 입력\n",
    "decoder_target = np.array(data['decoder_target']) # 디코더의 레이블"
   ]
  },
  {
   "cell_type": "markdown",
   "metadata": {},
   "source": [
    "### 1.4 훈련/테스트 데이터 분할"
   ]
  },
  {
   "cell_type": "code",
   "execution_count": 23,
   "metadata": {},
   "outputs": [
    {
     "name": "stdout",
     "output_type": "stream",
     "text": [
      "[ 7943 93519 92833 ...  3398 15607 52018]\n"
     ]
    }
   ],
   "source": [
    "indices = np.arange(encoder_input.shape[0])\n",
    "np.random.shuffle(indices)\n",
    "print(indices)"
   ]
  },
  {
   "cell_type": "code",
   "execution_count": 24,
   "metadata": {},
   "outputs": [],
   "source": [
    "encoder_input = encoder_input[indices]\n",
    "decoder_input = decoder_input[indices]\n",
    "decoder_target = decoder_target[indices]"
   ]
  },
  {
   "cell_type": "code",
   "execution_count": 25,
   "metadata": {},
   "outputs": [
    {
     "name": "stdout",
     "output_type": "stream",
     "text": [
      "테스트 데이터의 수 : 19572\n"
     ]
    }
   ],
   "source": [
    "n_of_val = int(len(encoder_input)*0.2)\n",
    "print('테스트 데이터의 수 :',n_of_val)"
   ]
  },
  {
   "cell_type": "code",
   "execution_count": 26,
   "metadata": {},
   "outputs": [
    {
     "name": "stdout",
     "output_type": "stream",
     "text": [
      "훈련 데이터의 개수 : 78291\n",
      "훈련 레이블의 개수 : 78291\n",
      "테스트 데이터의 개수 : 19572\n",
      "테스트 레이블의 개수 : 19572\n"
     ]
    }
   ],
   "source": [
    "encoder_input_train = encoder_input[:-n_of_val]\n",
    "decoder_input_train = decoder_input[:-n_of_val]\n",
    "decoder_target_train = decoder_target[:-n_of_val]\n",
    "\n",
    "encoder_input_test = encoder_input[-n_of_val:]\n",
    "decoder_input_test = decoder_input[-n_of_val:]\n",
    "decoder_target_test = decoder_target[-n_of_val:]\n",
    "\n",
    "print('훈련 데이터의 개수 :', len(encoder_input_train))\n",
    "print('훈련 레이블의 개수 :',len(decoder_input_train))\n",
    "print('테스트 데이터의 개수 :',len(encoder_input_test))\n",
    "print('테스트 레이블의 개수 :',len(decoder_input_test))"
   ]
  },
  {
   "cell_type": "markdown",
   "metadata": {},
   "source": [
    "### 1.5 단어들을 정수로 인코딩 하기"
   ]
  },
  {
   "cell_type": "code",
   "execution_count": 27,
   "metadata": {},
   "outputs": [],
   "source": [
    "src_tokenizer = Tokenizer()\n",
    "src_tokenizer.fit_on_texts(encoder_input_train)"
   ]
  },
  {
   "cell_type": "code",
   "execution_count": 28,
   "metadata": {},
   "outputs": [
    {
     "name": "stdout",
     "output_type": "stream",
     "text": [
      "단어 집합(vocabulary)의 크기 : 69392\n",
      "등장 빈도가 6번 이하인 희귀 단어의 수: 47285\n",
      "단어 집합에서 희귀 단어를 제외시킬 경우의 단어 집합의 크기 22107\n",
      "단어 집합에서 희귀 단어의 비율: 68.14186073322574\n",
      "전체 등장 빈도에서 희귀 단어 등장 빈도 비율: 3.4989175845251195\n"
     ]
    }
   ],
   "source": [
    "threshold = 7\n",
    "total_cnt = len(src_tokenizer.word_index)\n",
    "rare_cnt = 0\n",
    "total_freq = 0\n",
    "rare_freq = 0\n",
    "\n",
    "# 단어와 빈도수의 쌍(pair)을 key와 value로 받는다.\n",
    "for key, value in src_tokenizer.word_counts.items():\n",
    "    total_freq = total_freq + value\n",
    "\n",
    "    # 단어의 등장 빈도수가 threshold보다 작으면\n",
    "    if(value < threshold):\n",
    "        rare_cnt = rare_cnt + 1\n",
    "        rare_freq = rare_freq + value\n",
    "\n",
    "print('단어 집합(vocabulary)의 크기 :',total_cnt)\n",
    "print('등장 빈도가 %s번 이하인 희귀 단어의 수: %s'%(threshold - 1, rare_cnt))\n",
    "print('단어 집합에서 희귀 단어를 제외시킬 경우의 단어 집합의 크기 %s'%(total_cnt - rare_cnt))\n",
    "print(\"단어 집합에서 희귀 단어의 비율:\", (rare_cnt / total_cnt)*100)\n",
    "print(\"전체 등장 빈도에서 희귀 단어 등장 빈도 비율:\", (rare_freq / total_freq)*100)"
   ]
  },
  {
   "cell_type": "code",
   "execution_count": 29,
   "metadata": {},
   "outputs": [],
   "source": [
    "\"\"\"\n",
    "등장 빈도가 6이하인 단어는 47,276으로 전체 단어들 중 70%가까이 차지함.\n",
    "하지만 이 희귀단어의 등장 빈도는 전체에서 3.5% 정도.\n",
    "이 희귀단어들을 전체 단어집합에서 제외한 경우 크기 22,066\n",
    "-> 사용할 단어 집합의 크기를 22,000으로 하자\n",
    "\n",
    "\"\"\"\n",
    "src_vocab = 22000\n",
    "src_tokenizer = Tokenizer(num_words = src_vocab)\n",
    "src_tokenizer.fit_on_texts(encoder_input_train)"
   ]
  },
  {
   "cell_type": "code",
   "execution_count": 30,
   "metadata": {},
   "outputs": [
    {
     "name": "stdout",
     "output_type": "stream",
     "text": [
      "[[768, 1033, 551, 38, 16, 916, 234, 523, 428, 1829, 1073, 1221, 616, 35, 120, 8, 1111, 247, 4988, 3360, 35, 8, 641, 234, 1, 4, 17474, 1269, 46, 869, 1414, 209, 220, 35, 2176, 2221, 8], [2, 395, 691, 167, 8219, 893, 821, 7744, 122, 496, 40, 2, 1038, 167, 5683, 821, 3, 4, 98, 2, 3640, 201, 579, 5452, 29, 3, 1998, 3165, 167, 1913], [50, 2127, 1, 605, 293, 1978, 335, 50, 4, 3424, 13, 7423, 970, 68, 3617, 50, 22, 672, 335, 297, 105, 2127, 2979, 2326, 577, 15, 1206]]\n"
     ]
    }
   ],
   "source": [
    "encoder_input_train = src_tokenizer.texts_to_sequences(encoder_input_train) \n",
    "encoder_input_test = src_tokenizer.texts_to_sequences(encoder_input_test)\n",
    "\n",
    "print(encoder_input_train[:3])"
   ]
  },
  {
   "cell_type": "code",
   "execution_count": 31,
   "metadata": {},
   "outputs": [],
   "source": [
    "tar_tokenizer = Tokenizer()\n",
    "tar_tokenizer.fit_on_texts(decoder_input_train)"
   ]
  },
  {
   "cell_type": "code",
   "execution_count": 32,
   "metadata": {},
   "outputs": [
    {
     "name": "stdout",
     "output_type": "stream",
     "text": [
      "단어 집합(vocabulary)의 크기 : 30022\n",
      "등장 빈도가 5번 이하인 희귀 단어의 수: 19608\n",
      "단어 집합에서 희귀 단어를 제외시킬 경우의 단어 집합의 크기 10414\n",
      "단어 집합에서 희귀 단어의 비율: 65.31210445673173\n",
      "전체 등장 빈도에서 희귀 단어 등장 빈도 비율: 4.646655766076818\n"
     ]
    }
   ],
   "source": [
    "threshold = 6\n",
    "total_cnt = len(tar_tokenizer.word_index) \n",
    "rare_cnt = 0\n",
    "total_freq = 0\n",
    "rare_freq = 0\n",
    "\n",
    "for key, value in tar_tokenizer.word_counts.items():\n",
    "    total_freq = total_freq + value\n",
    "\n",
    "    if(value < threshold):\n",
    "        rare_cnt = rare_cnt + 1\n",
    "        rare_freq = rare_freq + value\n",
    "\n",
    "print('단어 집합(vocabulary)의 크기 :',total_cnt)\n",
    "print('등장 빈도가 %s번 이하인 희귀 단어의 수: %s'%(threshold - 1, rare_cnt))\n",
    "print('단어 집합에서 희귀 단어를 제외시킬 경우의 단어 집합의 크기 %s'%(total_cnt - rare_cnt))\n",
    "print(\"단어 집합에서 희귀 단어의 비율:\", (rare_cnt / total_cnt)*100)\n",
    "print(\"전체 등장 빈도에서 희귀 단어 등장 빈도 비율:\", (rare_freq / total_freq)*100)"
   ]
  },
  {
   "cell_type": "code",
   "execution_count": 33,
   "metadata": {},
   "outputs": [
    {
     "name": "stdout",
     "output_type": "stream",
     "text": [
      "input\n",
      "input  [[1, 81, 2975, 6, 5582, 137, 496, 23, 255], [1, 92, 7652, 4, 8, 3169, 17, 4, 124], [1, 322, 3886, 71, 16, 482, 194, 1099], [1, 3887, 2308, 19, 130, 844, 460, 392, 397], [1, 199, 63, 1200, 2627, 5, 591, 8137]]\n",
      "target\n",
      "decoder  [[81, 2975, 6, 5582, 137, 496, 23, 255, 2], [92, 7652, 4, 8, 3169, 17, 4, 124, 2], [322, 3886, 71, 16, 482, 194, 1099, 2], [3887, 2308, 19, 130, 844, 460, 392, 397, 2], [199, 63, 1200, 2627, 5, 591, 8137, 2]]\n"
     ]
    }
   ],
   "source": [
    "\"\"\"\n",
    "디코더 훈련 데이터에서\n",
    "길이가 5이하인 희귀 단어의 수는 19,576개\n",
    "이들을 제외한 단어 집합의 크기 10,398\n",
    "단어 집합에서 차지하는 희귀단어의 비율 65.3%\n",
    "전체에서 희귀단어 등장 빈도 4.6%\n",
    "-> 디코더의 단어 크기를 10,000개로 하자\n",
    "\n",
    "\"\"\"\n",
    "\n",
    "tar_vocab = 10000\n",
    "tar_tokenizer = Tokenizer(num_words = tar_vocab) \n",
    "tar_tokenizer.fit_on_texts(decoder_input_train)\n",
    "tar_tokenizer.fit_on_texts(decoder_target_train)\n",
    "\n",
    "decoder_input_train = tar_tokenizer.texts_to_sequences(decoder_input_train) \n",
    "decoder_target_train = tar_tokenizer.texts_to_sequences(decoder_target_train)\n",
    "decoder_input_test = tar_tokenizer.texts_to_sequences(decoder_input_test)\n",
    "decoder_target_test = tar_tokenizer.texts_to_sequences(decoder_target_test)\n",
    "\n",
    "print('input')\n",
    "print('input ',decoder_input_train[:5])\n",
    "print('target')\n",
    "print('decoder ',decoder_target_train[:5])"
   ]
  },
  {
   "cell_type": "code",
   "execution_count": 34,
   "metadata": {},
   "outputs": [
    {
     "name": "stdout",
     "output_type": "stream",
     "text": [
      "삭제할 훈련 데이터 개수 :  0\n",
      "삭제할 테스트 데이터 개수 :  0\n",
      "훈련 데이터의 개수 : 78291\n",
      "훈련 레이블의 개수 : 78291\n",
      "테스트 데이터의 개수 : 19572\n",
      "테스트 레이블의 개수 : 19572\n"
     ]
    }
   ],
   "source": [
    "drop_train = [index for index, sentence in enumerate(decoder_input_train) if len(sentence) == 1]\n",
    "drop_test = [index for index, sentence in enumerate(decoder_input_test) if len(sentence) == 1]\n",
    "\n",
    "print(\"삭제할 훈련 데이터 개수 : \",len(drop_train))\n",
    "print(\"삭제할 테스트 데이터 개수 : \", len(drop_test))\n",
    "\n",
    "encoder_input_train = np.delete(encoder_input_train, drop_train, axis=0)\n",
    "decoder_input_train = np.delete(decoder_input_train, drop_train, axis=0)\n",
    "decoder_target_train = np.delete(decoder_target_train, drop_train, axis=0)\n",
    "\n",
    "encoder_input_test = np.delete(encoder_input_test, drop_test, axis=0)\n",
    "decoder_input_test = np.delete(decoder_input_test, drop_test, axis=0)\n",
    "decoder_target_test = np.delete(decoder_target_test, drop_test, axis=0)\n",
    "\n",
    "print('훈련 데이터의 개수 :', len(encoder_input_train))\n",
    "print('훈련 레이블의 개수 :',len(decoder_input_train))\n",
    "print('테스트 데이터의 개수 :',len(encoder_input_test))\n",
    "print('테스트 레이블의 개수 :',len(decoder_input_test))"
   ]
  },
  {
   "cell_type": "code",
   "execution_count": 35,
   "metadata": {},
   "outputs": [],
   "source": [
    "encoder_input_train = pad_sequences(encoder_input_train, maxlen = text_max_len, padding='post')\n",
    "encoder_input_test = pad_sequences(encoder_input_test, maxlen = text_max_len, padding='post')\n",
    "decoder_input_train = pad_sequences(decoder_input_train, maxlen = headlines_max_len, padding='post')\n",
    "decoder_target_train = pad_sequences(decoder_target_train, maxlen = headlines_max_len, padding='post')\n",
    "decoder_input_test = pad_sequences(decoder_input_test, maxlen = headlines_max_len, padding='post')\n",
    "decoder_target_test = pad_sequences(decoder_target_test, maxlen = headlines_max_len, padding='post')"
   ]
  },
  {
   "cell_type": "markdown",
   "metadata": {},
   "source": [
    "## 2. 모델 설계하기\n",
    "### 2.1 인코더 모델 설계하기"
   ]
  },
  {
   "cell_type": "code",
   "execution_count": 36,
   "metadata": {},
   "outputs": [
    {
     "name": "stdout",
     "output_type": "stream",
     "text": [
      "WARNING:tensorflow:Layer lstm will not use cuDNN kernel since it doesn't meet the cuDNN kernel criteria. It will use generic GPU kernel as fallback when running on GPU\n",
      "WARNING:tensorflow:Layer lstm_1 will not use cuDNN kernel since it doesn't meet the cuDNN kernel criteria. It will use generic GPU kernel as fallback when running on GPU\n",
      "WARNING:tensorflow:Layer lstm_2 will not use cuDNN kernel since it doesn't meet the cuDNN kernel criteria. It will use generic GPU kernel as fallback when running on GPU\n"
     ]
    }
   ],
   "source": [
    "from tensorflow.keras.layers import Input, LSTM, Embedding, Dense, Concatenate\n",
    "from tensorflow.keras.models import Model\n",
    "from tensorflow.keras.callbacks import EarlyStopping, ModelCheckpoint\n",
    "\n",
    "\n",
    "embedding_dim = 128\n",
    "hidden_size = 256\n",
    "\n",
    "encoder_inputs = Input(shape=(text_max_len,))\n",
    "enc_emb = Embedding(src_vocab, embedding_dim)(encoder_inputs)\n",
    "\n",
    "encoder_lstm1 = LSTM(hidden_size, return_sequences=True, return_state=True ,dropout = 0.4, recurrent_dropout = 0.4)\n",
    "encoder_output1, state_h1, state_c1 = encoder_lstm1(enc_emb)\n",
    "\n",
    "encoder_lstm2 = LSTM(hidden_size, return_sequences=True, return_state=True, dropout=0.4, recurrent_dropout=0.4)\n",
    "encoder_output2, state_h2, state_c2 = encoder_lstm2(encoder_output1)\n",
    "\n",
    "encoder_lstm3 = LSTM(hidden_size, return_state=True, return_sequences=True, dropout=0.4, recurrent_dropout=0.4)\n",
    "encoder_outputs, state_h, state_c= encoder_lstm3(encoder_output2)"
   ]
  },
  {
   "cell_type": "markdown",
   "metadata": {},
   "source": [
    "### 2.2 디코더 모델 설계하기"
   ]
  },
  {
   "cell_type": "code",
   "execution_count": 37,
   "metadata": {},
   "outputs": [
    {
     "name": "stdout",
     "output_type": "stream",
     "text": [
      "WARNING:tensorflow:Layer lstm_3 will not use cuDNN kernel since it doesn't meet the cuDNN kernel criteria. It will use generic GPU kernel as fallback when running on GPU\n"
     ]
    }
   ],
   "source": [
    "decoder_inputs = Input(shape=(None,))\n",
    "\n",
    "dec_emb_layer = Embedding(tar_vocab, embedding_dim)\n",
    "dec_emb = dec_emb_layer(decoder_inputs)\n",
    "\n",
    "decoder_lstm = LSTM(hidden_size, return_sequences = True, return_state = True, dropout = 0.4, recurrent_dropout=0.2)\n",
    "decoder_outputs, _, _ = decoder_lstm(dec_emb, initial_state = [state_h, state_c])"
   ]
  },
  {
   "cell_type": "code",
   "execution_count": 38,
   "metadata": {
    "scrolled": false
   },
   "outputs": [
    {
     "name": "stdout",
     "output_type": "stream",
     "text": [
      "Model: \"model\"\n",
      "__________________________________________________________________________________________________\n",
      "Layer (type)                    Output Shape         Param #     Connected to                     \n",
      "==================================================================================================\n",
      "input_1 (InputLayer)            [(None, 45)]         0                                            \n",
      "__________________________________________________________________________________________________\n",
      "embedding (Embedding)           (None, 45, 128)      2816000     input_1[0][0]                    \n",
      "__________________________________________________________________________________________________\n",
      "lstm (LSTM)                     [(None, 45, 256), (N 394240      embedding[0][0]                  \n",
      "__________________________________________________________________________________________________\n",
      "input_2 (InputLayer)            [(None, None)]       0                                            \n",
      "__________________________________________________________________________________________________\n",
      "lstm_1 (LSTM)                   [(None, 45, 256), (N 525312      lstm[0][0]                       \n",
      "__________________________________________________________________________________________________\n",
      "embedding_1 (Embedding)         (None, None, 128)    1280000     input_2[0][0]                    \n",
      "__________________________________________________________________________________________________\n",
      "lstm_2 (LSTM)                   [(None, 45, 256), (N 525312      lstm_1[0][0]                     \n",
      "__________________________________________________________________________________________________\n",
      "lstm_3 (LSTM)                   [(None, None, 256),  394240      embedding_1[0][0]                \n",
      "                                                                 lstm_2[0][1]                     \n",
      "                                                                 lstm_2[0][2]                     \n",
      "__________________________________________________________________________________________________\n",
      "dense (Dense)                   (None, None, 10000)  2570000     lstm_3[0][0]                     \n",
      "==================================================================================================\n",
      "Total params: 8,505,104\n",
      "Trainable params: 8,505,104\n",
      "Non-trainable params: 0\n",
      "__________________________________________________________________________________________________\n"
     ]
    }
   ],
   "source": [
    "decoder_softmax_layer = Dense(tar_vocab, activation = 'softmax')\n",
    "decoder_softmax_outputs = decoder_softmax_layer(decoder_outputs) \n",
    "\n",
    "model = Model([encoder_inputs, decoder_inputs], decoder_softmax_outputs)\n",
    "model.summary()"
   ]
  },
  {
   "cell_type": "markdown",
   "metadata": {},
   "source": [
    "### 2.3 어텐션 모델로 만들기"
   ]
  },
  {
   "cell_type": "code",
   "execution_count": 39,
   "metadata": {},
   "outputs": [],
   "source": [
    "urllib.request.urlretrieve(\"https://raw.githubusercontent.com/thushv89/attention_keras/master/src/layers/attention.py\", filename=\"attention.py\")\n",
    "from attention import AttentionLayer"
   ]
  },
  {
   "cell_type": "code",
   "execution_count": 40,
   "metadata": {},
   "outputs": [
    {
     "name": "stdout",
     "output_type": "stream",
     "text": [
      "Model: \"model_1\"\n",
      "__________________________________________________________________________________________________\n",
      "Layer (type)                    Output Shape         Param #     Connected to                     \n",
      "==================================================================================================\n",
      "input_1 (InputLayer)            [(None, 45)]         0                                            \n",
      "__________________________________________________________________________________________________\n",
      "embedding (Embedding)           (None, 45, 128)      2816000     input_1[0][0]                    \n",
      "__________________________________________________________________________________________________\n",
      "lstm (LSTM)                     [(None, 45, 256), (N 394240      embedding[0][0]                  \n",
      "__________________________________________________________________________________________________\n",
      "input_2 (InputLayer)            [(None, None)]       0                                            \n",
      "__________________________________________________________________________________________________\n",
      "lstm_1 (LSTM)                   [(None, 45, 256), (N 525312      lstm[0][0]                       \n",
      "__________________________________________________________________________________________________\n",
      "embedding_1 (Embedding)         (None, None, 128)    1280000     input_2[0][0]                    \n",
      "__________________________________________________________________________________________________\n",
      "lstm_2 (LSTM)                   [(None, 45, 256), (N 525312      lstm_1[0][0]                     \n",
      "__________________________________________________________________________________________________\n",
      "lstm_3 (LSTM)                   [(None, None, 256),  394240      embedding_1[0][0]                \n",
      "                                                                 lstm_2[0][1]                     \n",
      "                                                                 lstm_2[0][2]                     \n",
      "__________________________________________________________________________________________________\n",
      "attention_layer (AttentionLayer ((None, None, 256),  131328      lstm_2[0][0]                     \n",
      "                                                                 lstm_3[0][0]                     \n",
      "__________________________________________________________________________________________________\n",
      "concat_layer (Concatenate)      (None, None, 512)    0           lstm_3[0][0]                     \n",
      "                                                                 attention_layer[0][0]            \n",
      "__________________________________________________________________________________________________\n",
      "dense_1 (Dense)                 (None, None, 10000)  5130000     concat_layer[0][0]               \n",
      "==================================================================================================\n",
      "Total params: 11,196,432\n",
      "Trainable params: 11,196,432\n",
      "Non-trainable params: 0\n",
      "__________________________________________________________________________________________________\n"
     ]
    }
   ],
   "source": [
    "attn_layer = AttentionLayer(name='attention_layer')\n",
    "attn_out, attn_states = attn_layer([encoder_outputs, decoder_outputs])\n",
    "decoder_concat_input = Concatenate(axis = -1, name='concat_layer')([decoder_outputs, attn_out])\n",
    "\n",
    "decoder_softmax_layer = Dense(tar_vocab, activation='softmax')\n",
    "decoder_softmax_outputs = decoder_softmax_layer(decoder_concat_input)\n",
    "\n",
    "model = Model([encoder_inputs, decoder_inputs], decoder_softmax_outputs)\n",
    "model.summary()"
   ]
  },
  {
   "cell_type": "markdown",
   "metadata": {},
   "source": [
    "## 3. 모델 학습하기"
   ]
  },
  {
   "cell_type": "code",
   "execution_count": 41,
   "metadata": {
    "scrolled": true
   },
   "outputs": [
    {
     "name": "stdout",
     "output_type": "stream",
     "text": [
      "Epoch 1/50\n",
      "306/306 [==============================] - 118s 385ms/step - loss: 5.2211 - val_loss: 4.8073\n",
      "Epoch 2/50\n",
      "306/306 [==============================] - 121s 394ms/step - loss: 4.6735 - val_loss: 4.4605\n",
      "Epoch 3/50\n",
      "306/306 [==============================] - 119s 390ms/step - loss: 4.3420 - val_loss: 4.2085\n",
      "Epoch 4/50\n",
      "306/306 [==============================] - 118s 385ms/step - loss: 4.0962 - val_loss: 4.0304\n",
      "Epoch 5/50\n",
      "306/306 [==============================] - 117s 383ms/step - loss: 3.9078 - val_loss: 3.8982\n",
      "Epoch 6/50\n",
      "306/306 [==============================] - 118s 384ms/step - loss: 3.7525 - val_loss: 3.8025\n",
      "Epoch 7/50\n",
      "306/306 [==============================] - 113s 371ms/step - loss: 3.6161 - val_loss: 3.7098\n",
      "Epoch 8/50\n",
      "306/306 [==============================] - 117s 382ms/step - loss: 3.4968 - val_loss: 3.6424\n",
      "Epoch 9/50\n",
      "306/306 [==============================] - 118s 384ms/step - loss: 3.3955 - val_loss: 3.5903\n",
      "Epoch 10/50\n",
      "306/306 [==============================] - 118s 385ms/step - loss: 3.3065 - val_loss: 3.5371\n",
      "Epoch 11/50\n",
      "306/306 [==============================] - 121s 394ms/step - loss: 3.2258 - val_loss: 3.4995\n",
      "Epoch 12/50\n",
      "306/306 [==============================] - 120s 393ms/step - loss: 3.1529 - val_loss: 3.4668\n",
      "Epoch 13/50\n",
      "306/306 [==============================] - 119s 390ms/step - loss: 3.0876 - val_loss: 3.4368\n",
      "Epoch 14/50\n",
      "306/306 [==============================] - 117s 381ms/step - loss: 3.0240 - val_loss: 3.4095\n",
      "Epoch 15/50\n",
      "306/306 [==============================] - 119s 387ms/step - loss: 2.9670 - val_loss: 3.3861\n",
      "Epoch 16/50\n",
      "306/306 [==============================] - 118s 385ms/step - loss: 2.9151 - val_loss: 3.3698\n",
      "Epoch 17/50\n",
      "306/306 [==============================] - 119s 389ms/step - loss: 2.8676 - val_loss: 3.3559\n",
      "Epoch 18/50\n",
      "306/306 [==============================] - 119s 390ms/step - loss: 2.8210 - val_loss: 3.3389\n",
      "Epoch 19/50\n",
      "306/306 [==============================] - 120s 393ms/step - loss: 2.7782 - val_loss: 3.3242\n",
      "Epoch 20/50\n",
      "306/306 [==============================] - 117s 384ms/step - loss: 2.7393 - val_loss: 3.3198\n",
      "Epoch 21/50\n",
      "306/306 [==============================] - 115s 377ms/step - loss: 2.7004 - val_loss: 3.3080\n",
      "Epoch 22/50\n",
      "306/306 [==============================] - 116s 379ms/step - loss: 2.6625 - val_loss: 3.3002\n",
      "Epoch 23/50\n",
      "306/306 [==============================] - 117s 382ms/step - loss: 2.6304 - val_loss: 3.2928\n",
      "Epoch 24/50\n",
      "306/306 [==============================] - 117s 381ms/step - loss: 2.5985 - val_loss: 3.2903\n",
      "Epoch 25/50\n",
      "306/306 [==============================] - 117s 382ms/step - loss: 2.5659 - val_loss: 3.2792\n",
      "Epoch 26/50\n",
      "306/306 [==============================] - 118s 384ms/step - loss: 2.5373 - val_loss: 3.2748\n",
      "Epoch 27/50\n",
      "306/306 [==============================] - 118s 387ms/step - loss: 2.5120 - val_loss: 3.2726\n",
      "Epoch 28/50\n",
      "306/306 [==============================] - 114s 373ms/step - loss: 2.4857 - val_loss: 3.2761\n",
      "Epoch 29/50\n",
      "306/306 [==============================] - 113s 370ms/step - loss: 2.4586 - val_loss: 3.2701\n",
      "Epoch 30/50\n",
      "306/306 [==============================] - 113s 369ms/step - loss: 2.4330 - val_loss: 3.2768\n",
      "Epoch 31/50\n",
      "306/306 [==============================] - 113s 368ms/step - loss: 2.4119 - val_loss: 3.2716\n",
      "Epoch 00031: early stopping\n"
     ]
    }
   ],
   "source": [
    "model.compile(optimizer='rmsprop', loss='sparse_categorical_crossentropy')\n",
    "es = EarlyStopping(monitor='val_loss', mode='min', verbose=1, patience = 2)\n",
    "history = model.fit(x = [encoder_input_train, decoder_input_train], y = decoder_target_train, \\\n",
    "          validation_data = ([encoder_input_test, decoder_input_test], decoder_target_test),\n",
    "          batch_size = 256, callbacks=[es], epochs = 50)"
   ]
  },
  {
   "cell_type": "code",
   "execution_count": 42,
   "metadata": {},
   "outputs": [
    {
     "data": {
      "image/png": "[encoded data removed]",
      "text/plain": [
       "<Figure size 432x288 with 1 Axes>"
      ]
     },
     "metadata": {
      "needs_background": "light"
     },
     "output_type": "display_data"
    }
   ],
   "source": [
    "plt.plot(history.history['loss'], label='train')\n",
    "plt.plot(history.history['val_loss'], label='test')\n",
    "plt.legend()\n",
    "plt.show()"
   ]
  },
  {
   "cell_type": "markdown",
   "metadata": {},
   "source": [
    "## 4. 추론 모델 설계하기"
   ]
  },
  {
   "cell_type": "code",
   "execution_count": 43,
   "metadata": {},
   "outputs": [],
   "source": [
    "# 인덱스로 단어, 단어로 인덱스 딕셔너리 구하기\n",
    "src_index_to_word = src_tokenizer.index_word\n",
    "tar_word_to_index = tar_tokenizer.word_index\n",
    "tar_index_to_word = tar_tokenizer.index_word"
   ]
  },
  {
   "cell_type": "code",
   "execution_count": 44,
   "metadata": {},
   "outputs": [],
   "source": [
    "encoder_model = Model(inputs=encoder_inputs, outputs=[encoder_outputs, state_h, state_c])\n",
    "\n",
    "decoder_state_input_h = Input(shape=(hidden_size,))\n",
    "decoder_state_input_c = Input(shape=(hidden_size,))\n",
    "\n",
    "dec_emb2 = dec_emb_layer(decoder_inputs)\n",
    "decoder_outputs2, state_h2, state_c2 = decoder_lstm(dec_emb2, initial_state=[decoder_state_input_h, decoder_state_input_c])"
   ]
  },
  {
   "cell_type": "code",
   "execution_count": 45,
   "metadata": {},
   "outputs": [],
   "source": [
    "decoder_hidden_state_input = Input(shape=(text_max_len, hidden_size))\n",
    "attn_out_inf, attn_states_inf = attn_layer([decoder_hidden_state_input, decoder_outputs2])\n",
    "decoder_inf_concat = Concatenate(axis=-1, name='concat')([decoder_outputs2, attn_out_inf])\n",
    "\n",
    "decoder_outputs2 = decoder_softmax_layer(decoder_inf_concat) \n",
    "\n",
    "decoder_model = Model(\n",
    "    [decoder_inputs] + [decoder_hidden_state_input,decoder_state_input_h, decoder_state_input_c],\n",
    "    [decoder_outputs2] + [state_h2, state_c2])"
   ]
  },
  {
   "cell_type": "code",
   "execution_count": 46,
   "metadata": {},
   "outputs": [],
   "source": [
    "# 입력 시퀀스로부터 요약한 시퀀스를 반환하는 함수\n",
    "def decode_sequence(input_seq):\n",
    "    e_out, e_h, e_c = encoder_model.predict(input_seq)\n",
    "\n",
    "    target_seq = np.zeros((1,1))\n",
    "    target_seq[0, 0] = tar_word_to_index['sostoken']\n",
    "\n",
    "    stop_condition = False\n",
    "    decoded_sentence = ''\n",
    "    while not stop_condition:\n",
    "        output_tokens, h, c = decoder_model.predict([target_seq] + [e_out, e_h, e_c])\n",
    "        sampled_token_index = np.argmax(output_tokens[0, -1, :])\n",
    "        sampled_token = tar_index_to_word[sampled_token_index]\n",
    "\n",
    "        if(sampled_token!='eostoken'):\n",
    "            decoded_sentence += ' '+sampled_token\n",
    "\n",
    "        if (sampled_token == 'eostoken'  or len(decoded_sentence.split()) >= (headlines_max_len-1)):\n",
    "            stop_condition = True\n",
    "\n",
    "        target_seq = np.zeros((1,1))\n",
    "        target_seq[0, 0] = sampled_token_index\n",
    "\n",
    "        e_h, e_c = h, c\n",
    "\n",
    "    return decoded_sentence"
   ]
  },
  {
   "cell_type": "markdown",
   "metadata": {},
   "source": [
    "## 5. 추론 모델 테스트"
   ]
  },
  {
   "cell_type": "code",
   "execution_count": 47,
   "metadata": {},
   "outputs": [],
   "source": [
    "def seq2text(input_seq):\n",
    "    temp=''\n",
    "    for i in input_seq:\n",
    "        if(i!=0):\n",
    "            temp = temp + src_index_to_word[i]+' '\n",
    "    return temp\n",
    "\n",
    "def seq2summary(input_seq):\n",
    "    temp=''\n",
    "    for i in input_seq:\n",
    "        if((i!=0 and i!=tar_word_to_index['sostoken']) and i!=tar_word_to_index['eostoken']):\n",
    "            temp = temp + tar_index_to_word[i] + ' '\n",
    "    return temp"
   ]
  },
  {
   "cell_type": "code",
   "execution_count": 48,
   "metadata": {
    "scrolled": true
   },
   "outputs": [
    {
     "name": "stdout",
     "output_type": "stream",
     "text": [
      "원문 : comedian krushna abhishek became father twin boys revealed salman khan among counselled babies salman one first stars told twins added krushna said first saw twins know react scared pick \n",
      "실제 요약 : salman me about having babies krushna abhishek \n",
      "예측 요약 :  my father was born in my career today says kajol\n",
      "\n",
      "\n",
      "원문 : year old girl bihar gaya found beheaded state community protesting murder sought cbi investigation case protestors alleged gaya police trying shield culprits victim parents confession parents alleged raped neighbours police suspect honour killing \n",
      "실제 요약 : protestors seek cbi probe in gaya murder say police saving \n",
      "예측 요약 :  yr old girl raped by police in meghalaya\n",
      "\n",
      "\n",
      "원문 : supreme court friday said states fear matter pending court man eating tiger came lawyer claimed petition aimed pressurising andhra pradesh government state government helpless one two persons court added \n",
      "실제 요약 : we are not man eating tigers states should not fear us sc \n",
      "예측 요약 :  sc slams shashi tharoor over dowry plea\n",
      "\n",
      "\n",
      "원문 : talking us sanctions iranian oil imports ministry external affairs thursday said engaged iran stakeholders adding proper go deal issue us sanctions oil imports iran india third largest oil supplier come force november \n",
      "실제 요약 : india engaged with all on iran oil import mea \n",
      "예측 요약 :  us sanctions on iran sanctions over sanctions\n",
      "\n",
      "\n",
      "원문 : four friends aged died allegedly jumped moving train suspected suicide pact rajasthan alwar police said primary probe revealed depressed due unemployment exact reason committing suicide yet ascertained two deceased graduates preparing competitive exams \n",
      "실제 요약 : friends jump before moving train police suspect suicide pact \n",
      "예측 요약 :  die after being crushed to death by train in up\n",
      "\n",
      "\n",
      "원문 : indian firm karnataka started producing world expensive coffee made poop cats cat fed coffee faeces processed sold coffee per kg abroad consolidated commodities selling coffee per kg india \n",
      "실제 요약 : india starts producing world most expensive coffee \n",
      "예측 요약 :  indian cities sold for sale of lakh in\n",
      "\n",
      "\n",
      "원문 : video showing bjp mlas bhimrao sanjay eating sandwiches barfi party day long protest fast parliament disruptions thursday surfaced online duo seen eating pune council hall meeting called state minister earlier bjp shared photographs congress leaders eating protest fast \n",
      "실제 요약 : video bjp mlas eat barfi during protest fast \n",
      "예측 요약 :  bjp mla booked for raveena tandon in tamil nadu\n",
      "\n",
      "\n",
      "원문 : chhattisgarh police arrested former bbc journalist vinod verma uttar pradesh allegedly trying blackmail chhattisgarh bjp minister sex tape verma reportedly copies sex tape trying extort money leader police confiscated large number cds laptop verma residence \n",
      "실제 요약 : ex bbc journo held for blackmailing bjp leader with sex tape \n",
      "예측 요약 :  journo arrested for morphed pic of ex cm wife\n",
      "\n",
      "\n",
      "원문 : enforcement directorate moving confiscate assets worth crore belonging economic offenders fled india new fugitive economic offenders ordinance provides confiscation properties fugitive economic offenders without conviction ed reportedly decided approach special court vijay mallya nirav modi mehul choksi declared fugitives \n",
      "실제 요약 : ed to cr assets under new ordinance \n",
      "예측 요약 :  ed attaches assets worth cr in foreign assets in india\n",
      "\n",
      "\n",
      "원문 : services sector india suffered second consecutive month contraction august business activity new work orders affected gst nikkei india services purchasing managers index improved slightly registered july august reading indicates expansion score mark means contraction \n",
      "실제 요약 : services sector contracts for nd month in august after gst \n",
      "예측 요약 :  india second largest note to hit year low in july\n",
      "\n",
      "\n",
      "원문 : german astronaut alexander gerst reportedly put finger hole space station soyuz capsule crew members used tape close nasa earlier confirmed two millimetre wide tear leaking oxygen space created minor pressure drop space agency said six member crew featuring three americans two russians gerst safe \n",
      "실제 요약 : astronaut space station leak with finger before using tape \n",
      "예측 요약 :  astronaut shares video of iss hole in space\n",
      "\n",
      "\n",
      "원문 : sanya malhotra revealed dangal co star aamir khan advised fatima sana shaikh two films year added three films year got know signed said many movies sanya said going slow career makes happy \n",
      "실제 요약 : aamir told me and fatima not to do more than films year sanya \n",
      "예측 요약 :  aamir is not part of dangal director\n",
      "\n",
      "\n",
      "원문 : former indian cricketer virender sehwag revealed applied post india coach ravi shastri told would apply sehwag added intended apply convinced bcci officials discussions virat kohli shastri told sehwag would repeat mistake made earlier \n",
      "실제 요약 : applied for coach post after shastri said he won sehwag \n",
      "예측 요약 :  shastri has no right to harbhajan on shastri\n",
      "\n",
      "\n",
      "원문 : self styled radhe maa play upcoming acting debut feature web series reportedly titled casting couch according report shoot already begun series attempt producer handa let people meet real radhe maa \n",
      "실제 요약 : radhe maa to play herself in acting debut \n",
      "예측 요약 :  ryan releases st film to make web series on tv show\n",
      "\n",
      "\n",
      "원문 : delhi cm arvind kejriwal friday said fulfilling promises made farmers pm narendra modi stabbed backs kejriwal claimed centre filed affidavit supreme court stating cannot implement swaminathan commission report demand centre implement report else farmers elections added \n",
      "실제 요약 : pm modi has stabbed farmers in their backs kejriwal \n",
      "예측 요약 :  kejriwal moves pm modi to let aap pm modi kejriwal\n",
      "\n",
      "\n",
      "원문 : private sector lender yes bank wednesday said non executive chairman ashok chawla resigned immediate effect chawla also chairman nse named cbi chargesheet related aircel maxis case former finance secretary also worked chairman competition commission india \n",
      "실제 요약 : yes bank chairman who was named in aircel maxis chargesheet quits \n",
      "예측 요약 :  yes bank ceo quits as chairman of icici md\n",
      "\n",
      "\n",
      "원문 : former russian spy sergei skripal daughter yulia said fact father attacked using nerve agent turned world upside physically emotionally added lucky survived attempted assassination longer term hope return home country yulia said \n",
      "실제 요약 : attempted murder turned world upside down ex spy daughter \n",
      "예측 요약 :  russian spy was used to poison in spy ex spy spy\n",
      "\n",
      "\n",
      "원문 : least people died injured bus fell gorge uttarakhand garhwal district sunday police confirmed seater bus overloaded carrying persons police added incident took place near village bus driver lost control road \n",
      "실제 요약 : dead in uttarakhand bus accident confirms police \n",
      "예측 요약 :  killed injured as bus falls into gorge in odisha\n",
      "\n",
      "\n",
      "원문 : around people took part red scarves march france sunday chanting slogans like yes democracy revolution condemn violence yellow vest protests red scarves protestors said demands yellow vest movement oppose violence ensued since began november last year \n",
      "실제 요약 : red march held against yellow vest violence in france \n",
      "예측 요약 :  german sena calls for clashes on hunger strike\n",
      "\n",
      "\n",
      "원문 : chhattisgarh chief minister raman singh said kill cows hanged comes amid crackdown illegal slaughterhouses uttar pradesh gujarat government new stringent law curb cow slaughter notably raman singh enacted law ban cow slaughter first year assuming office december \n",
      "실제 요약 : will hang those who kill cows chhattisgarh cm \n",
      "예측 요약 :  no cows in our cows in noida chhattisgarh cm\n",
      "\n",
      "\n",
      "원문 : jagannath gurjar year old sarpanch madhya pradesh district removed position forging documents marry year old girl incident came light gurjar submitted application build temporary helipad booking helicopter ride wedding barred contesting local body polls next six years \n",
      "실제 요약 : mp sarpanch fired for planning wedding with yr old \n",
      "예측 요약 :  mp man held for raping yr old girl in mp\n",
      "\n",
      "\n",
      "원문 : man suspected carried five explosions across us city austin month killed wednesday team approached police said year old white man killed explosive device inside vehicle serial bombings claimed lives two people \n",
      "실제 요약 : suspect himself up confirm police \n",
      "예측 요약 :  man killed in shooting during robbery in us\n",
      "\n",
      "\n",
      "원문 : maldives police arrested country chief justice abdulla saeed along supreme court judge ali president abdulla yameen abdul gayoom declared day state emergency monday political crisis began maldives government refused obey court order release political prisoners accused court attempting impeach president \n",
      "실제 요약 : maldives chief justice arrested after emergency declaration \n",
      "예측 요약 :  maldives arrests maldives prez over maldives visit\n",
      "\n",
      "\n",
      "원문 : british woman police officer sacked hurling racist slurs staff indian restaurant newcastle year old made remarks drunk place type language police officers must compromise damage strong relationships communities serve authorities said \n",
      "실제 요약 : british woman cop sacked over racist slur at indian eatery \n"
     ]
    },
    {
     "name": "stdout",
     "output_type": "stream",
     "text": [
      "예측 요약 :  uk police officer fined for wearing drunk\n",
      "\n",
      "\n",
      "원문 : darren lehmann earlier said would resign head coach amid ball tampering scandal announced resignation position today prior knowledge ball tampering family lot criticism time right step said fourth australia south africa test lehmann last head coach \n",
      "실제 요약 : takes turn steps down as australia coach \n",
      "예측 요약 :  coach takes dig at australian coach resign\n",
      "\n",
      "\n",
      "원문 : finance minister arun jaitley tuesday said enjoying functional autonomy regulator cannot consult stakeholders fair chance regulator going wrong attitude added government used every instrument available force discussion rbi issues liquidity credit said \n",
      "실제 요약 : enjoy autonomy but consult fm to \n",
      "예측 요약 :  cannot be allowed to change jaitley on new finance rules\n",
      "\n",
      "\n",
      "원문 : travel booking firm founder ashish kashyap raised million launch fintech startup expected start operations january seed funding raised hong kong based hedge fund capital startup said founded earlier year use artificial intelligence help users manage investments liabilities \n",
      "실제 요약 : founder ashish kashyap raises mn for new startup \n",
      "예측 요약 :  venture co founder raises million in series funding\n",
      "\n",
      "\n",
      "원문 : minister earth sciences science technology harsh vardhan given additional charge ministry environment forest climate change demise union minister anil madhav dave dave given charge july passed away official residence thursday \n",
      "실제 요약 : harsh given charge of environment ministry \n",
      "예측 요약 :  iit kanpur to be made on finance minister\n",
      "\n",
      "\n",
      "원문 : nasa cassini spacecraft first man made object go saturn rings found region less expected nasa called km wide planet ring gap big empty cassini detected almost particle hitting first dive nasa converted data cassini instruments audio hear particles hitting spacecraft \n",
      "실제 요약 : nasa probe finds the big empty in saturn planet ring gap \n",
      "예측 요약 :  nasa spacecraft to saturn moon saturn moon mission\n",
      "\n",
      "\n",
      "원문 : punjab national bank plans take part bankruptcy proceedings jeweller nirav modi us company firestar diamond inc according reports pnb reportedly listed unsecured firestar examining options make case recovery nirav modi uncle mehul choksi accused defrauding pnb crore \n",
      "실제 요약 : pnb plans to take part in nirav modi us firm bankruptcy \n",
      "예측 요약 :  pnb to shut down nirav modi fraud in pnb fraud\n",
      "\n",
      "\n",
      "원문 : kilometre long bridge assam inaugurated friday longest bridge india followed kilometre bandra worli sea link mumbai built years mahatma gandhi setu bihar kilometres length third longest notably five india longest bridges bihar \n",
      "실제 요약 : which are some of the longest bridges in india \n",
      "예측 요약 :  longest bridge was built in india longest bridge\n",
      "\n",
      "\n",
      "원문 : us wednesday flew supersonic bomber near korean peninsula part largest ever joint air drill south korea involving drill south korean us air forces displayed allies strong intent ability punish north korea threatened nuclear weapons missiles south korea said nn \n",
      "실제 요약 : us flies supersonic bomber in show of force against korea \n",
      "예측 요약 :  us bombers conduct drill with korean peninsula\n",
      "\n",
      "\n",
      "원문 : days whatsapp announced local system store data india national payments corporation india officials reportedly said fully compliant payments data regulations according officials facebook owned company copying data india april rbi mandated payments data must stored india \n",
      "실제 요약 : whatsapp india not with payment data rules report \n",
      "예측 요약 :  whatsapp to launch its own data store in india report\n",
      "\n",
      "\n",
      "원문 : nasa solar dynamics observatory saw total solar eclipse space earlier week earth crossed view sun transit lasted minutes covering entire face sun images taken ultraviolet wavelength purple launched study influence sun earth \n",
      "실제 요약 : nasa spacecraft witnesses solar eclipse from space \n",
      "예측 요약 :  nasa solar eclipse to moon for saturn moon mission\n",
      "\n",
      "\n",
      "원문 : tanushree dutta alleged received threats violent attack raj thackeray led maharashtra navnirman sena row sexual harassment allegations nana patekar amidst mumbai police reached promised hours police protection said tanushree added would like thank mumbai police help \n",
      "실제 요약 : tanushree dutta accuses mns of threatening her with violence \n",
      "예측 요약 :  karni sena chief threatens to tanushree nana on tanushree row\n",
      "\n",
      "\n",
      "원문 : mohammad shami became fastest indian reach odi wickets dedicated feat daughter thank support wishes prayers enduring trust thick thin times player person dedicate feat angel daughter tweeted shami took three wickets first new zealand odi \n",
      "실제 요약 : shami dedicates fastest indian to odi wkts record to daughter \n",
      "예측 요약 :  shami becomes fastest to daughter keeper in cricket\n",
      "\n",
      "\n",
      "원문 : karnataka government announced children studying government aided schools lessons road safety academic year syllabus cover topics violation traffic rules punishment pedestrian safety emergency contacts road mishaps among others teachers also undergo capacity building training road safety \n",
      "실제 요약 : karnataka schools to have lessons on road safety in syllabus \n",
      "예측 요약 :  karnataka to send students to check schools\n",
      "\n",
      "\n",
      "원문 : mumbai police monday said year old cab driver sarfaraz shaikh allegedly killed year old hdfc bank vice president siddharth sanghvi around accused driver working bank almost three years police added found role hatching conspiracy murder destroying sanghvi body senior police officer tushar doshi said \n",
      "실제 요약 : hdfc vp was killed by driver for around police \n",
      "예측 요약 :  mumbai mumbai ola driver who killed yr old man\n",
      "\n",
      "\n",
      "원문 : former spacex technician jason claimed fired complaining falsified rocket safety tests startup ceo elon musk alleges managers pressured technicians test procedures sign tests rocket parts conducted according protocols however spacex claims fired disruptive \n",
      "실제 요약 : man says spacex fired him for telling musk about false tests \n",
      "예측 요약 :  ex employee uses ai to elon musk elon musk\n",
      "\n",
      "\n",
      "원문 : maharashtra government told bombay high court police stations directed protect identity people lodge complaints noise pollution comes hc bench took notice city police earlier disclosed mobile number complainant filed rti query \n",
      "실제 요약 : maha to protect identity of noise pollution \n",
      "예측 요약 :  maha govt to use action against hookah in maharashtra\n",
      "\n",
      "\n",
      "원문 : man lg smartphone reportedly caught fire trousers shopping seattle us store manager said fire put using fire extinguisher phone reduced ashes left burn mark floor man also provided new pair pants added manager \n",
      "실제 요약 : lg smartphone catches fire in man pants \n",
      "예측 요약 :  man sets fire at factory in fire sets to fire\n",
      "\n",
      "\n",
      "원문 : five transgender members us military sued president donald trump decision ban transgender people country military us military cannot tremendous medical costs disruption transgender entails trump said announcing ban however pentagon found allowing transgender people impact military readiness \n",
      "실제 요약 : us transgender troops sue trump over military ban \n",
      "예측 요약 :  us slams trump for transgender travel ban on us\n",
      "\n",
      "\n",
      "원문 : fifa world cup witnessed goals scored penalties awarded single edition tournament france year old forward kylian mbapp became first teenager score wc final since pel egypt el became oldest feature wc match \n",
      "실제 요약 : what records were broken at the fifa world cup in russia \n",
      "예측 요약 :  world cup history st goal to score goals in wc\n",
      "\n",
      "\n",
      "원문 : doctors patna recently removed around kg polythene waste stomach cow operation took three hours adding animal discharged dr gd singh led team performing surgery said first case years practice \n",
      "실제 요약 : doctors remove kg of plastic from cow stomach \n",
      "예측 요약 :  doctors lock up plastic found in stomach in rajasthan\n",
      "\n",
      "\n",
      "원문 : delhi police filed page chargesheet jnu sedition case student union president kanhaiya kumar umar khalid rashid cpi leader raja daughter raja among others case relates raising alleged anti national slogans jnu campus event protest hanging parliament attack convict afzal guru \n",
      "실제 요약 : kanhaiya umar named in chargesheet in jnu sedition case \n",
      "예측 요약 :  fir against journalist in anti anti muslim riots\n",
      "\n",
      "\n",
      "원문 : nine jharkhand ministers taking leadership lessons indian institute management ahmedabad deliver pre poll promises ministers three day study tour started monday taken lessons leadership ethics healthcare education public private partnership bjp government came power jharkhand two half years ago \n",
      "실제 요약 : jharkhand ministers take management lessons at iim \n",
      "예측 요약 :  odisha govt launches free for students\n",
      "\n",
      "\n",
      "원문 : pakistan organised peace talks us afghan taliban aim end afghan war representatives saudi arabia pakistan uae also attending three day talks abu dhabi pakistan facilitated talks come us president donald trump called upon pakistan pm imran khan help end war afghanistan \n",
      "실제 요약 : pakistan organises us taliban peace talks \n"
     ]
    },
    {
     "name": "stdout",
     "output_type": "stream",
     "text": [
      "예측 요약 :  pakistan taliban invites pakistan to win pakistan\n",
      "\n",
      "\n",
      "원문 : indian men hockey team reigning silver medalists face pakistan first match commonwealth games april australia india placed group alongside malaysia wales last edition bronze medalists england indian women team play tournament opener wales april \n",
      "실제 요약 : india men hockey team to play pak in st match of cwg \n",
      "예측 요약 :  india beat pakistan to win men hockey team medal\n",
      "\n",
      "\n",
      "원문 : taliban militants taken around people hostage following attack convoy buses according reports far news fate passengers afghan authorities said comes despite president ashraf ghani announcement conditional ceasefire taliban muslim holiday eid al adha week \n",
      "실제 요약 : taliban attacks bus convoy in afghanistan takes hostage \n",
      "예측 요약 :  taliban soldier arrested for attack on afghan ceasefire\n",
      "\n",
      "\n",
      "원문 : county match surrey middlesex oval abandoned thursday arrow landed pitch match underway bolt around inches long understood fired outside ground stadium evacuated incident injuries reported \n",
      "실제 요약 : match abandoned as metal lands on pitch \n",
      "예측 요약 :  football match match after match collapses in match\n",
      "\n",
      "\n"
     ]
    }
   ],
   "source": [
    "for i in range(50, 100):\n",
    "    print(\"원문 :\", seq2text(encoder_input_test[i]))\n",
    "    print(\"실제 요약 :\", seq2summary(decoder_input_test[i]))\n",
    "    print(\"예측 요약 :\", decode_sequence(encoder_input_test[i].reshape(1, text_max_len)))\n",
    "    print(\"\\n\")"
   ]
  },
  {
   "cell_type": "markdown",
   "metadata": {},
   "source": [
    "## 6. 추출적 요약과 추상적 요약 비교"
   ]
  },
  {
   "cell_type": "code",
   "execution_count": 49,
   "metadata": {},
   "outputs": [
    {
     "name": "stdout",
     "output_type": "stream",
     "text": [
      "원문 : US President Donald Trump's naked statue will be auctioned later this year in New Jersey. The statue is estimated to fetch $20,000 to $30,000. The auctioneer said that the sculpture is the only statue remaining after the others were vandalised or destroyed when they were put up for display weeks before Trump was elected. \n",
      "전처리된 텍스트 :  us president donald trump naked statue auctioned later year new jersey statue estimated fetch auctioneer said sculpture statue remaining others vandalised destroyed put display weeks trump elected \n",
      "실제 요약 : naked donald trump statue to be auctioned for \n",
      "추상 요약 :  trump statue of statue of statue of unity in us\n",
      "추출 요약 :  US President Donald Trump's naked statue will be auctioned later this year in New Jersey.\n",
      "\n",
      "\n",
      "원문 : The ICC has shared a video of a two-year-old Bangladeshi kid playing off-side shots while practising with his father. The video was captioned, \"He's only two, but his off-side technique is absolutely gorgeous\". ICC later posted a 'Remixed' form of the video with footage of Bangladeshi fans celebrating and commentators appreciating the two-year-old's shots.\n",
      "전처리된 텍스트 :  icc shared video two year old bangladeshi kid playing side shots practising father video captioned two side technique absolutely gorgeous icc later posted form video footage bangladeshi fans celebrating commentators appreciating two year old shots \n",
      "실제 요약 : icc shares video of yr old kid playing shots \n",
      "추상 요약 :  video shows india bat on his birthday\n",
      "추출 요약 :  The ICC has shared a video of a two-year-old Bangladeshi kid playing off-side shots while practising with his father.\n",
      "\n",
      "\n",
      "원문 : The convoy of Bihar Deputy CM Sushil Modi was attacked by unidentified stone-pelters in the state's Vaishali district on Independence Day. Modi's convoy was passing through the area, known to be an RJD stronghold, minutes after RJD chief's son and Leader of Opposition in Assembly Tejashwi Yadav's convoy passed. RJD chief Lalu Yadav has denied his party workers' involvement.\n",
      "전처리된 텍스트 :  convoy bihar deputy cm sushil modi attacked unidentified stone pelters state vaishali district independence day modi convoy passing area known rjd stronghold minutes rjd chief son leader opposition assembly tejashwi yadav convoy passed rjd chief lalu yadav denied party workers involvement \n",
      "실제 요약 : bihar deputy cm convoy attacked rjd denies involvement \n",
      "추상 요약 :  bihar cm nitish kumar convoy attacked with landslide\n",
      "추출 요약 :  \n",
      "\n",
      "\n",
      "원문 : US President Donald Trump's administration has said that it is reviewing India's development of the Chabahar port in Iran after imposing several sanctions on the country. The port opens a trade route between India and central Asia by bypassing Pakistan. The US has asked India to cut oil imports from Iran to zero by November or face sanctions.\n",
      "전처리된 텍스트 :  us president donald trump administration said reviewing india development chabahar port iran imposing several sanctions country port opens trade route india central asia bypassing pakistan us asked india cut oil imports iran zero november face sanctions \n",
      "실제 요약 : us india chabahar port development in iran \n",
      "추상 요약 :  india may have no plans to reach the trade with iran\n",
      "추출 요약 :  US President Donald Trump's administration has said that it is reviewing India's development of the Chabahar port in Iran after imposing several sanctions on the country.\n",
      "\n",
      "\n",
      "원문 : An FIR has been filed against actress Vaani Kapoor and her parents for fraudulently selling a property in Noida. The complainant allegedly learnt that the property was mortgaged to the bank since 2000. However, a source said that the complainant is allegedly involved in land mafia dealing and wants to intimidate Vaani's family into paying money.\n",
      "전처리된 텍스트 :  fir filed actress vaani kapoor parents fraudulently selling property noida complainant allegedly learnt property mortgaged bank since however source said complainant allegedly involved land mafia dealing wants intimidate vaani family paying money \n",
      "실제 요약 : fir filed against vaani and her parents in cheating case \n",
      "추상 요약 :  fir filed against dawood ibrahim for refusing to buy loan\n",
      "추출 요약 :  The complainant allegedly learnt that the property was mortgaged to the bank since 2000.\n",
      "\n",
      "\n"
     ]
    }
   ],
   "source": [
    "for i in range(0, 5):\n",
    "    origin_text = data[\"text\"].iloc[indices[-n_of_val:]].iloc[i]\n",
    "    preprocessed_text = seq2text(encoder_input_test[i])\n",
    "    print(\"원문 :\", origin_text)\n",
    "    print(\"전처리된 텍스트 : \", preprocessed_text)\n",
    "    print(\"실제 요약 :\", seq2summary(decoder_input_test[i]))\n",
    "    print(\"추상 요약 :\", decode_sequence(encoder_input_test[i].reshape(1, text_max_len)))\n",
    "    print(\"추출 요약 : \", summarize( origin_text, ratio=0.4))\n",
    "    print(\"\\n\")"
   ]
  },
  {
   "cell_type": "code",
   "execution_count": null,
   "metadata": {},
   "outputs": [],
   "source": []
  }
 ],
 "metadata": {
  "kernelspec": {
   "display_name": "aiffel",
   "language": "python",
   "name": "aiffel"
  },
  "language_info": {
   "codemirror_mode": {
    "name": "ipython",
    "version": 3
   },
   "file_extension": ".py",
   "mimetype": "text/x-python",
   "name": "python",
   "nbconvert_exporter": "python",
   "pygments_lexer": "ipython3",
   "version": "3.7.9"
  }
 },
 "nbformat": 4,
 "nbformat_minor": 4
}
