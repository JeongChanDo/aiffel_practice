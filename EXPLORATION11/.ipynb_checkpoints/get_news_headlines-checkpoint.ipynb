{
 "cells": [
  {
   "cell_type": "markdown",
   "metadata": {},
   "source": [
    "# 요약할 텍스트 로드"
   ]
  },
  {
   "cell_type": "code",
   "execution_count": 1,
   "metadata": {},
   "outputs": [
    {
     "data": {
      "text/html": [
       "<div>\n",
       "<style scoped>\n",
       "    .dataframe tbody tr th:only-of-type {\n",
       "        vertical-align: middle;\n",
       "    }\n",
       "\n",
       "    .dataframe tbody tr th {\n",
       "        vertical-align: top;\n",
       "    }\n",
       "\n",
       "    .dataframe thead th {\n",
       "        text-align: right;\n",
       "    }\n",
       "</style>\n",
       "<table border=\"1\" class=\"dataframe\">\n",
       "  <thead>\n",
       "    <tr style=\"text-align: right;\">\n",
       "      <th></th>\n",
       "      <th>headlines</th>\n",
       "      <th>text</th>\n",
       "    </tr>\n",
       "  </thead>\n",
       "  <tbody>\n",
       "    <tr>\n",
       "      <th>34165</th>\n",
       "      <td>Apple's Watch Series 3 with LTE to launch in I...</td>\n",
       "      <td>After launching the Apple Watch Series 3 late ...</td>\n",
       "    </tr>\n",
       "    <tr>\n",
       "      <th>63686</th>\n",
       "      <td>India breaks attendance record for the FIFA U-...</td>\n",
       "      <td>Debutant FIFA hosts India broke the record for...</td>\n",
       "    </tr>\n",
       "    <tr>\n",
       "      <th>58153</th>\n",
       "      <td>US pulls out of UN's migrant and refugee pact</td>\n",
       "      <td>The United States on Saturday announced its wi...</td>\n",
       "    </tr>\n",
       "    <tr>\n",
       "      <th>94418</th>\n",
       "      <td>No liquor shop in 94% of Chhattisgarh villages...</td>\n",
       "      <td>Chhattisgarh Chief Minister Raman Singh has cl...</td>\n",
       "    </tr>\n",
       "    <tr>\n",
       "      <th>89061</th>\n",
       "      <td>Flipkart's Big 10 Sale begins today</td>\n",
       "      <td>Flipkart's Big 10 Sale starts with a bang toda...</td>\n",
       "    </tr>\n",
       "    <tr>\n",
       "      <th>60263</th>\n",
       "      <td>Bengaluru man attacks traffic cop who stopped ...</td>\n",
       "      <td>A video showing a businessman abusing and assa...</td>\n",
       "    </tr>\n",
       "    <tr>\n",
       "      <th>39142</th>\n",
       "      <td>Ranveer shares first still from Rohit Shetty's...</td>\n",
       "      <td>Ranveer Singh took to Instagram to share the f...</td>\n",
       "    </tr>\n",
       "    <tr>\n",
       "      <th>38508</th>\n",
       "      <td>Work can't be bartered for favours: Aditi on c...</td>\n",
       "      <td>Actress Aditi Rao Hydari, while speaking about...</td>\n",
       "    </tr>\n",
       "    <tr>\n",
       "      <th>15437</th>\n",
       "      <td>Melting Arctic ice opens new Europe-east Asia ...</td>\n",
       "      <td>An AP Moller-Maersk cargo ship has successfull...</td>\n",
       "    </tr>\n",
       "    <tr>\n",
       "      <th>68802</th>\n",
       "      <td>Facebook tests WhatsApp button in its app on A...</td>\n",
       "      <td>Social media major Facebook is testing a dedic...</td>\n",
       "    </tr>\n",
       "  </tbody>\n",
       "</table>\n",
       "</div>"
      ],
      "text/plain": [
       "                                               headlines  \\\n",
       "34165  Apple's Watch Series 3 with LTE to launch in I...   \n",
       "63686  India breaks attendance record for the FIFA U-...   \n",
       "58153      US pulls out of UN's migrant and refugee pact   \n",
       "94418  No liquor shop in 94% of Chhattisgarh villages...   \n",
       "89061                Flipkart's Big 10 Sale begins today   \n",
       "60263  Bengaluru man attacks traffic cop who stopped ...   \n",
       "39142  Ranveer shares first still from Rohit Shetty's...   \n",
       "38508  Work can't be bartered for favours: Aditi on c...   \n",
       "15437  Melting Arctic ice opens new Europe-east Asia ...   \n",
       "68802  Facebook tests WhatsApp button in its app on A...   \n",
       "\n",
       "                                                    text  \n",
       "34165  After launching the Apple Watch Series 3 late ...  \n",
       "63686  Debutant FIFA hosts India broke the record for...  \n",
       "58153  The United States on Saturday announced its wi...  \n",
       "94418  Chhattisgarh Chief Minister Raman Singh has cl...  \n",
       "89061  Flipkart's Big 10 Sale starts with a bang toda...  \n",
       "60263  A video showing a businessman abusing and assa...  \n",
       "39142  Ranveer Singh took to Instagram to share the f...  \n",
       "38508  Actress Aditi Rao Hydari, while speaking about...  \n",
       "15437  An AP Moller-Maersk cargo ship has successfull...  \n",
       "68802  Social media major Facebook is testing a dedic...  "
      ]
     },
     "execution_count": 1,
     "metadata": {},
     "output_type": "execute_result"
    }
   ],
   "source": [
    "import urllib.request\n",
    "import pandas as pd\n",
    "import numpy as np\n",
    "#urllib.request.urlretrieve(\"https://raw.githubusercontent.com/sunnysai12345/News_Summary/master/news_summary_more.csv\", filename=\"news_summary_more.csv\")\n",
    "data = pd.read_csv('news_summary_more.csv', encoding='iso-8859-1')\n",
    "\n",
    "data.sample(10)"
   ]
  },
  {
   "cell_type": "markdown",
   "metadata": {},
   "source": [
    "# 추출적 요약 Extractive Summaization"
   ]
  },
  {
   "cell_type": "code",
   "execution_count": 2,
   "metadata": {},
   "outputs": [
    {
     "name": "stdout",
     "output_type": "stream",
     "text": [
      "headlines :  upGrad learner switches to career in ML & Al with 90% salary hike\n",
      "extractive summarization :  upGrad's Online Power Learning has powered 3 lakh+ careers.\n"
     ]
    }
   ],
   "source": [
    "from summa.summarizer import summarize\n",
    "\n",
    "print(\"headlines : \",data.iloc[0, 0])\n",
    "print(\"extractive summarization : \", summarize(data.iloc[0, 1], ratio=0.4))"
   ]
  },
  {
   "cell_type": "code",
   "execution_count": 3,
   "metadata": {},
   "outputs": [
    {
     "data": {
      "text/plain": [
       "0        upGrad's Online Power Learning has powered 3 l...\n",
       "1        Users get one CRED coin per rupee of bill paid...\n",
       "2        The match witnessed India getting all out for ...\n",
       "3        Also, customers have options to insure against...\n",
       "4        Speaking about the sexual harassment allegatio...\n",
       "                               ...                        \n",
       "98396    A CRPF jawan was on Tuesday axed to death with...\n",
       "98397    'Uff Yeh', the first song from the Sonakshi Si...\n",
       "98398    Michael B Jordan will reportedly play the lead...\n",
       "98399    The video also shows a TV airing a news confer...\n",
       "98400                                                     \n",
       "Name: extractive_summary, Length: 98401, dtype: object"
      ]
     },
     "execution_count": 3,
     "metadata": {},
     "output_type": "execute_result"
    }
   ],
   "source": [
    "res_ext = data[\"text\"].apply(lambda x : summarize(x, ratio=0.4))\n",
    "res_ext = res_ext.rename(\"extractive_summary\")\n",
    "res_ext"
   ]
  },
  {
   "cell_type": "code",
   "execution_count": 4,
   "metadata": {},
   "outputs": [
    {
     "data": {
      "text/html": [
       "<div>\n",
       "<style scoped>\n",
       "    .dataframe tbody tr th:only-of-type {\n",
       "        vertical-align: middle;\n",
       "    }\n",
       "\n",
       "    .dataframe tbody tr th {\n",
       "        vertical-align: top;\n",
       "    }\n",
       "\n",
       "    .dataframe thead th {\n",
       "        text-align: right;\n",
       "    }\n",
       "</style>\n",
       "<table border=\"1\" class=\"dataframe\">\n",
       "  <thead>\n",
       "    <tr style=\"text-align: right;\">\n",
       "      <th></th>\n",
       "      <th>headlines</th>\n",
       "      <th>extractive_summary</th>\n",
       "    </tr>\n",
       "  </thead>\n",
       "  <tbody>\n",
       "    <tr>\n",
       "      <th>0</th>\n",
       "      <td>upGrad learner switches to career in ML &amp; Al w...</td>\n",
       "      <td>upGrad's Online Power Learning has powered 3 l...</td>\n",
       "    </tr>\n",
       "    <tr>\n",
       "      <th>1</th>\n",
       "      <td>Delhi techie wins free food from Swiggy for on...</td>\n",
       "      <td>Users get one CRED coin per rupee of bill paid...</td>\n",
       "    </tr>\n",
       "    <tr>\n",
       "      <th>2</th>\n",
       "      <td>New Zealand end Rohit Sharma-led India's 12-ma...</td>\n",
       "      <td>The match witnessed India getting all out for ...</td>\n",
       "    </tr>\n",
       "    <tr>\n",
       "      <th>3</th>\n",
       "      <td>Aegon life iTerm insurance plan helps customer...</td>\n",
       "      <td>Also, customers have options to insure against...</td>\n",
       "    </tr>\n",
       "    <tr>\n",
       "      <th>4</th>\n",
       "      <td>Have known Hirani for yrs, what if MeToo claim...</td>\n",
       "      <td>Speaking about the sexual harassment allegatio...</td>\n",
       "    </tr>\n",
       "    <tr>\n",
       "      <th>...</th>\n",
       "      <td>...</td>\n",
       "      <td>...</td>\n",
       "    </tr>\n",
       "    <tr>\n",
       "      <th>98396</th>\n",
       "      <td>CRPF jawan axed to death by Maoists in Chhatti...</td>\n",
       "      <td>A CRPF jawan was on Tuesday axed to death with...</td>\n",
       "    </tr>\n",
       "    <tr>\n",
       "      <th>98397</th>\n",
       "      <td>First song from Sonakshi Sinha's 'Noor' titled...</td>\n",
       "      <td>'Uff Yeh', the first song from the Sonakshi Si...</td>\n",
       "    </tr>\n",
       "    <tr>\n",
       "      <th>98398</th>\n",
       "      <td>'The Matrix' film to get a reboot: Reports</td>\n",
       "      <td>Michael B Jordan will reportedly play the lead...</td>\n",
       "    </tr>\n",
       "    <tr>\n",
       "      <th>98399</th>\n",
       "      <td>Snoop Dogg aims gun at clown dressed as Trump ...</td>\n",
       "      <td>The video also shows a TV airing a news confer...</td>\n",
       "    </tr>\n",
       "    <tr>\n",
       "      <th>98400</th>\n",
       "      <td>Madhesi Morcha withdraws support to Nepalese g...</td>\n",
       "      <td></td>\n",
       "    </tr>\n",
       "  </tbody>\n",
       "</table>\n",
       "<p>98401 rows × 2 columns</p>\n",
       "</div>"
      ],
      "text/plain": [
       "                                               headlines  \\\n",
       "0      upGrad learner switches to career in ML & Al w...   \n",
       "1      Delhi techie wins free food from Swiggy for on...   \n",
       "2      New Zealand end Rohit Sharma-led India's 12-ma...   \n",
       "3      Aegon life iTerm insurance plan helps customer...   \n",
       "4      Have known Hirani for yrs, what if MeToo claim...   \n",
       "...                                                  ...   \n",
       "98396  CRPF jawan axed to death by Maoists in Chhatti...   \n",
       "98397  First song from Sonakshi Sinha's 'Noor' titled...   \n",
       "98398         'The Matrix' film to get a reboot: Reports   \n",
       "98399  Snoop Dogg aims gun at clown dressed as Trump ...   \n",
       "98400  Madhesi Morcha withdraws support to Nepalese g...   \n",
       "\n",
       "                                      extractive_summary  \n",
       "0      upGrad's Online Power Learning has powered 3 l...  \n",
       "1      Users get one CRED coin per rupee of bill paid...  \n",
       "2      The match witnessed India getting all out for ...  \n",
       "3      Also, customers have options to insure against...  \n",
       "4      Speaking about the sexual harassment allegatio...  \n",
       "...                                                  ...  \n",
       "98396  A CRPF jawan was on Tuesday axed to death with...  \n",
       "98397  'Uff Yeh', the first song from the Sonakshi Si...  \n",
       "98398  Michael B Jordan will reportedly play the lead...  \n",
       "98399  The video also shows a TV airing a news confer...  \n",
       "98400                                                     \n",
       "\n",
       "[98401 rows x 2 columns]"
      ]
     },
     "execution_count": 4,
     "metadata": {},
     "output_type": "execute_result"
    }
   ],
   "source": [
    "summary_df = data.copy()\n",
    "summary_df = summary_df.drop(columns=[\"text\"])\n",
    "summary_df = pd.concat([summary_df, res_ext], axis=1)\n",
    "summary_df"
   ]
  },
  {
   "cell_type": "markdown",
   "metadata": {},
   "source": [
    "# 추상적 요약 Abstractive Summarization\n",
    "## 1. 전처리\n",
    "### 1.1 전처리 준비"
   ]
  },
  {
   "cell_type": "code",
   "execution_count": 5,
   "metadata": {},
   "outputs": [
    {
     "name": "stdout",
     "output_type": "stream",
     "text": [
      "<class 'pandas.core.frame.DataFrame'>\n",
      "RangeIndex: 98401 entries, 0 to 98400\n",
      "Data columns (total 2 columns):\n",
      " #   Column     Non-Null Count  Dtype \n",
      "---  ------     --------------  ----- \n",
      " 0   headlines  98401 non-null  object\n",
      " 1   text       98401 non-null  object\n",
      "dtypes: object(2)\n",
      "memory usage: 1.5+ MB\n"
     ]
    }
   ],
   "source": [
    "# 데이터 개수 파악\n",
    "data.info()"
   ]
  },
  {
   "cell_type": "code",
   "execution_count": 6,
   "metadata": {},
   "outputs": [
    {
     "name": "stdout",
     "output_type": "stream",
     "text": [
      "헤드라인의 중복이 아닌 개수 :  98280\n",
      "중복이 아닌 텍스트 개수 :  98360\n"
     ]
    }
   ],
   "source": [
    "# 데이터 중복이 아닌 데이터 개수 확인\n",
    "print(\"헤드라인의 중복이 아닌 개수 : \", data[\"headlines\"].nunique())\n",
    "print(\"중복이 아닌 텍스트 개수 : \", data[\"text\"].nunique())"
   ]
  },
  {
   "cell_type": "code",
   "execution_count": 7,
   "metadata": {},
   "outputs": [
    {
     "name": "stdout",
     "output_type": "stream",
     "text": [
      "<class 'pandas.core.frame.DataFrame'>\n",
      "Int64Index: 98360 entries, 0 to 98400\n",
      "Data columns (total 2 columns):\n",
      " #   Column     Non-Null Count  Dtype \n",
      "---  ------     --------------  ----- \n",
      " 0   headlines  98360 non-null  object\n",
      " 1   text       98360 non-null  object\n",
      "dtypes: object(2)\n",
      "memory usage: 2.3+ MB\n",
      "None\n"
     ]
    }
   ],
   "source": [
    "# 텍스트는 98401개이나 중복이 아닌 텍스트가 98,360으로 중복 데이터가 41개 존재\n",
    "# 위 결과 중복된 텍스트가 존재하므로 중복을 제거하자\n",
    "\n",
    "data.drop_duplicates(subset=[\"text\"], inplace=True)\n",
    "print(data.info())"
   ]
  },
  {
   "cell_type": "code",
   "execution_count": 8,
   "metadata": {
    "scrolled": true
   },
   "outputs": [
    {
     "name": "stdout",
     "output_type": "stream",
     "text": [
      "headlines    0\n",
      "text         0\n",
      "dtype: int64\n"
     ]
    }
   ],
   "source": [
    "\"\"\"\n",
    "중복 텍스트를 제거한 결과 헤드라인과 텍스트가 98,360개가 되었다.\n",
    "이번에는 널 데이터를 확인하고 제거하자\n",
    "\"\"\"\n",
    "print(data.isnull().sum())"
   ]
  },
  {
   "cell_type": "code",
   "execution_count": 9,
   "metadata": {},
   "outputs": [],
   "source": [
    "# 널처리를 하려고했으나 널데이터가 존재하지 않는다\n",
    "# 다음으로 텍스트 정규화 사전을 준비하자.\n",
    "contractions = {\"ain't\": \"is not\", \"aren't\": \"are not\",\"can't\": \"cannot\", \"'cause\": \"because\", \"could've\": \"could have\", \"couldn't\": \"could not\",\n",
    "                           \"didn't\": \"did not\",  \"doesn't\": \"does not\", \"don't\": \"do not\", \"hadn't\": \"had not\", \"hasn't\": \"has not\", \"haven't\": \"have not\",\n",
    "                           \"he'd\": \"he would\",\"he'll\": \"he will\", \"he's\": \"he is\", \"how'd\": \"how did\", \"how'd'y\": \"how do you\", \"how'll\": \"how will\", \"how's\": \"how is\",\n",
    "                           \"I'd\": \"I would\", \"I'd've\": \"I would have\", \"I'll\": \"I will\", \"I'll've\": \"I will have\",\"I'm\": \"I am\", \"I've\": \"I have\", \"i'd\": \"i would\",\n",
    "                           \"i'd've\": \"i would have\", \"i'll\": \"i will\",  \"i'll've\": \"i will have\",\"i'm\": \"i am\", \"i've\": \"i have\", \"isn't\": \"is not\", \"it'd\": \"it would\",\n",
    "                           \"it'd've\": \"it would have\", \"it'll\": \"it will\", \"it'll've\": \"it will have\",\"it's\": \"it is\", \"let's\": \"let us\", \"ma'am\": \"madam\",\n",
    "                           \"mayn't\": \"may not\", \"might've\": \"might have\",\"mightn't\": \"might not\",\"mightn't've\": \"might not have\", \"must've\": \"must have\",\n",
    "                           \"mustn't\": \"must not\", \"mustn't've\": \"must not have\", \"needn't\": \"need not\", \"needn't've\": \"need not have\",\"o'clock\": \"of the clock\",\n",
    "                           \"oughtn't\": \"ought not\", \"oughtn't've\": \"ought not have\", \"shan't\": \"shall not\", \"sha'n't\": \"shall not\", \"shan't've\": \"shall not have\",\n",
    "                           \"she'd\": \"she would\", \"she'd've\": \"she would have\", \"she'll\": \"she will\", \"she'll've\": \"she will have\", \"she's\": \"she is\",\n",
    "                           \"should've\": \"should have\", \"shouldn't\": \"should not\", \"shouldn't've\": \"should not have\", \"so've\": \"so have\",\"so's\": \"so as\",\n",
    "                           \"this's\": \"this is\",\"that'd\": \"that would\", \"that'd've\": \"that would have\", \"that's\": \"that is\", \"there'd\": \"there would\",\n",
    "                           \"there'd've\": \"there would have\", \"there's\": \"there is\", \"here's\": \"here is\",\"they'd\": \"they would\", \"they'd've\": \"they would have\",\n",
    "                           \"they'll\": \"they will\", \"they'll've\": \"they will have\", \"they're\": \"they are\", \"they've\": \"they have\", \"to've\": \"to have\",\n",
    "                           \"wasn't\": \"was not\", \"we'd\": \"we would\", \"we'd've\": \"we would have\", \"we'll\": \"we will\", \"we'll've\": \"we will have\", \"we're\": \"we are\",\n",
    "                           \"we've\": \"we have\", \"weren't\": \"were not\", \"what'll\": \"what will\", \"what'll've\": \"what will have\", \"what're\": \"what are\",\n",
    "                           \"what's\": \"what is\", \"what've\": \"what have\", \"when's\": \"when is\", \"when've\": \"when have\", \"where'd\": \"where did\", \"where's\": \"where is\",\n",
    "                           \"where've\": \"where have\", \"who'll\": \"who will\", \"who'll've\": \"who will have\", \"who's\": \"who is\", \"who've\": \"who have\",\n",
    "                           \"why's\": \"why is\", \"why've\": \"why have\", \"will've\": \"will have\", \"won't\": \"will not\", \"won't've\": \"will not have\",\n",
    "                           \"would've\": \"would have\", \"wouldn't\": \"would not\", \"wouldn't've\": \"would not have\", \"y'all\": \"you all\",\n",
    "                           \"y'all'd\": \"you all would\",\"y'all'd've\": \"you all would have\",\"y'all're\": \"you all are\",\"y'all've\": \"you all have\",\n",
    "                           \"you'd\": \"you would\", \"you'd've\": \"you would have\", \"you'll\": \"you will\", \"you'll've\": \"you will have\",\n",
    "                           \"you're\": \"you are\", \"you've\": \"you have\"}\n",
    "\n",
    "len(contractions)\n",
    "\n",
    "import re\n",
    "from tensorflow.keras.preprocessing.text import Tokenizer \n",
    "from tensorflow.keras.preprocessing.sequence import pad_sequences\n"
   ]
  },
  {
   "cell_type": "code",
   "execution_count": 10,
   "metadata": {},
   "outputs": [
    {
     "data": {
      "text/plain": [
       "['i',\n",
       " 'me',\n",
       " 'my',\n",
       " 'myself',\n",
       " 'we',\n",
       " 'our',\n",
       " 'ours',\n",
       " 'ourselves',\n",
       " 'you',\n",
       " \"you're\",\n",
       " \"you've\",\n",
       " \"you'll\",\n",
       " \"you'd\",\n",
       " 'your',\n",
       " 'yours',\n",
       " 'yourself',\n",
       " 'yourselves',\n",
       " 'he',\n",
       " 'him',\n",
       " 'his',\n",
       " 'himself',\n",
       " 'she',\n",
       " \"she's\",\n",
       " 'her',\n",
       " 'hers',\n",
       " 'herself',\n",
       " 'it',\n",
       " \"it's\",\n",
       " 'its',\n",
       " 'itself',\n",
       " 'they',\n",
       " 'them',\n",
       " 'their',\n",
       " 'theirs',\n",
       " 'themselves',\n",
       " 'what',\n",
       " 'which',\n",
       " 'who',\n",
       " 'whom',\n",
       " 'this',\n",
       " 'that',\n",
       " \"that'll\",\n",
       " 'these',\n",
       " 'those',\n",
       " 'am',\n",
       " 'is',\n",
       " 'are',\n",
       " 'was',\n",
       " 'were',\n",
       " 'be',\n",
       " 'been',\n",
       " 'being',\n",
       " 'have',\n",
       " 'has',\n",
       " 'had',\n",
       " 'having',\n",
       " 'do',\n",
       " 'does',\n",
       " 'did',\n",
       " 'doing',\n",
       " 'a',\n",
       " 'an',\n",
       " 'the',\n",
       " 'and',\n",
       " 'but',\n",
       " 'if',\n",
       " 'or',\n",
       " 'because',\n",
       " 'as',\n",
       " 'until',\n",
       " 'while',\n",
       " 'of',\n",
       " 'at',\n",
       " 'by',\n",
       " 'for',\n",
       " 'with',\n",
       " 'about',\n",
       " 'against',\n",
       " 'between',\n",
       " 'into',\n",
       " 'through',\n",
       " 'during',\n",
       " 'before',\n",
       " 'after',\n",
       " 'above',\n",
       " 'below',\n",
       " 'to',\n",
       " 'from',\n",
       " 'up',\n",
       " 'down',\n",
       " 'in',\n",
       " 'out',\n",
       " 'on',\n",
       " 'off',\n",
       " 'over',\n",
       " 'under',\n",
       " 'again',\n",
       " 'further',\n",
       " 'then',\n",
       " 'once',\n",
       " 'here',\n",
       " 'there',\n",
       " 'when',\n",
       " 'where',\n",
       " 'why',\n",
       " 'how',\n",
       " 'all',\n",
       " 'any',\n",
       " 'both',\n",
       " 'each',\n",
       " 'few',\n",
       " 'more',\n",
       " 'most',\n",
       " 'other',\n",
       " 'some',\n",
       " 'such',\n",
       " 'no',\n",
       " 'nor',\n",
       " 'not',\n",
       " 'only',\n",
       " 'own',\n",
       " 'same',\n",
       " 'so',\n",
       " 'than',\n",
       " 'too',\n",
       " 'very',\n",
       " 's',\n",
       " 't',\n",
       " 'can',\n",
       " 'will',\n",
       " 'just',\n",
       " 'don',\n",
       " \"don't\",\n",
       " 'should',\n",
       " \"should've\",\n",
       " 'now',\n",
       " 'd',\n",
       " 'll',\n",
       " 'm',\n",
       " 'o',\n",
       " 're',\n",
       " 've',\n",
       " 'y',\n",
       " 'ain',\n",
       " 'aren',\n",
       " \"aren't\",\n",
       " 'couldn',\n",
       " \"couldn't\",\n",
       " 'didn',\n",
       " \"didn't\",\n",
       " 'doesn',\n",
       " \"doesn't\",\n",
       " 'hadn',\n",
       " \"hadn't\",\n",
       " 'hasn',\n",
       " \"hasn't\",\n",
       " 'haven',\n",
       " \"haven't\",\n",
       " 'isn',\n",
       " \"isn't\",\n",
       " 'ma',\n",
       " 'mightn',\n",
       " \"mightn't\",\n",
       " 'mustn',\n",
       " \"mustn't\",\n",
       " 'needn',\n",
       " \"needn't\",\n",
       " 'shan',\n",
       " \"shan't\",\n",
       " 'shouldn',\n",
       " \"shouldn't\",\n",
       " 'wasn',\n",
       " \"wasn't\",\n",
       " 'weren',\n",
       " \"weren't\",\n",
       " 'won',\n",
       " \"won't\",\n",
       " 'wouldn',\n",
       " \"wouldn't\"]"
      ]
     },
     "execution_count": 10,
     "metadata": {},
     "output_type": "execute_result"
    }
   ],
   "source": [
    "# 정규화 사전을 준비하였으니 이번에는 불용어를 확인해보자\n",
    "from nltk.corpus import stopwords\n",
    "stopwords.words(\"english\")"
   ]
  },
  {
   "cell_type": "markdown",
   "metadata": {},
   "source": [
    "### 1.2 데이터 전처리"
   ]
  },
  {
   "cell_type": "code",
   "execution_count": 11,
   "metadata": {},
   "outputs": [],
   "source": [
    "# 정규표현식과 정규화 사전을 이용하여 전처리를 하고, 토큰화를 시키자\n",
    "import re\n",
    "\n",
    "def preprocessing(sentence, remove_stopwords=True):\n",
    "    sentence = sentence.lower()\n",
    "    sentence = re.sub(r\"\\([^)]*\\)\",\"\",sentence)\n",
    "    sentence = re.sub('\"', '', sentence)\n",
    "    sentence = ' '.join([contractions[t] if t in contractions else t for t in sentence.split(\" \")])\n",
    "    sentence = re.sub(r\"'s\\b\",\"\", sentence)\n",
    "    sentence = re.sub(\"[^a-zA-Z]\", \" \", sentence)\n",
    "    sentence = re.sub(\"[m]{2,}\",\"mm\", sentence)\n",
    "    \n",
    "    if remove_stopwords:\n",
    "        tokens = ' '.join(word for word in sentence.split() if not word in stopwords.words('english') if len(word) > 1)\n",
    "    else:\n",
    "        tokens = ' '.join(word for word in sentence.split() if len(word) > 1)\n",
    "    return tokens"
   ]
  },
  {
   "cell_type": "code",
   "execution_count": 12,
   "metadata": {},
   "outputs": [
    {
     "name": "stdout",
     "output_type": "stream",
     "text": [
      "everything bought great infact ordered twice third ordered br mother father\n",
      "great way to start the day\n"
     ]
    }
   ],
   "source": [
    "temp_text = 'Everything I bought was great, infact I ordered twice and the third ordered was<br />for my mother and father.'\n",
    "temp_headline = 'Great way to start (or finish) the day!!!'\n",
    "\n",
    "print(preprocessing(temp_text))\n",
    "print(preprocessing(temp_headline, False))  # 불용어를 제거하지 않습니다."
   ]
  },
  {
   "cell_type": "code",
   "execution_count": 13,
   "metadata": {},
   "outputs": [],
   "source": [
    "preprocessed_text = []\n",
    "preprocessed_headlines = []\n",
    "\n",
    "for headline in data[\"headlines\"]:\n",
    "    preprocessed_headlines.append(preprocessing(headline, False))\n",
    "\n",
    "for text in data[\"text\"]:\n",
    "    preprocessed_text.append(preprocessing(text))"
   ]
  },
  {
   "cell_type": "code",
   "execution_count": 14,
   "metadata": {},
   "outputs": [],
   "source": [
    "data[\"text\"] = preprocessed_text\n",
    "data[\"headlines\"] = preprocessed_headlines"
   ]
  },
  {
   "cell_type": "code",
   "execution_count": 15,
   "metadata": {},
   "outputs": [
    {
     "data": {
      "text/plain": [
       "headlines    0\n",
       "text         0\n",
       "dtype: int64"
      ]
     },
     "execution_count": 15,
     "metadata": {},
     "output_type": "execute_result"
    }
   ],
   "source": [
    "data.isnull().sum()"
   ]
  },
  {
   "cell_type": "markdown",
   "metadata": {},
   "source": [
    "### 1.3 인코더, 디코더 데이터 준비"
   ]
  },
  {
   "cell_type": "code",
   "execution_count": 16,
   "metadata": {},
   "outputs": [
    {
     "name": "stdout",
     "output_type": "stream",
     "text": [
      "텍스트의 최소 길이 : 1\n",
      "텍스트의 최대 길이 : 60\n",
      "텍스트의 평균 길이 : 35.09968483123221\n",
      "요약의 최소 길이 : 1\n",
      "요약의 최대 길이 : 16\n",
      "요약의 평균 길이 : 9.299532330215534\n"
     ]
    },
    {
     "data": {
      "image/png": "[encoded data removed]",
      "text/plain": [
       "<Figure size 432x288 with 2 Axes>"
      ]
     },
     "metadata": {
      "needs_background": "light"
     },
     "output_type": "display_data"
    },
    {
     "data": {
      "image/png": "[encoded data removed]",
      "text/plain": [
       "<Figure size 432x288 with 1 Axes>"
      ]
     },
     "metadata": {
      "needs_background": "light"
     },
     "output_type": "display_data"
    },
    {
     "data": {
      "image/png": "[encoded data removed]",
      "text/plain": [
       "<Figure size 432x288 with 1 Axes>"
      ]
     },
     "metadata": {
      "needs_background": "light"
     },
     "output_type": "display_data"
    }
   ],
   "source": [
    "import matplotlib.pyplot as plt\n",
    "\n",
    "text_len = [len(s.split()) for s in data['text']]\n",
    "headlines_len = [len(s.split()) for s in data['headlines']]\n",
    "\n",
    "print('텍스트의 최소 길이 : {}'.format(np.min(text_len)))\n",
    "print('텍스트의 최대 길이 : {}'.format(np.max(text_len)))\n",
    "print('텍스트의 평균 길이 : {}'.format(np.mean(text_len)))\n",
    "print('요약의 최소 길이 : {}'.format(np.min(headlines_len)))\n",
    "print('요약의 최대 길이 : {}'.format(np.max(headlines_len)))\n",
    "print('요약의 평균 길이 : {}'.format(np.mean(headlines_len)))\n",
    "\n",
    "plt.subplot(1,2,1)\n",
    "plt.boxplot(headlines_len)\n",
    "plt.title('Summary')\n",
    "plt.subplot(1,2,2)\n",
    "plt.boxplot(text_len)\n",
    "plt.title('Text')\n",
    "plt.tight_layout()\n",
    "plt.show()\n",
    "\n",
    "plt.title('headlines')\n",
    "plt.hist(headlines_len, bins = 40)\n",
    "plt.xlabel('length of samples')\n",
    "plt.ylabel('number of samples')\n",
    "plt.show()\n",
    "\n",
    "plt.title('Text')\n",
    "plt.hist(text_len, bins = 40)\n",
    "plt.xlabel('length of samples')\n",
    "plt.ylabel('number of samples')\n",
    "plt.show()"
   ]
  },
  {
   "cell_type": "code",
   "execution_count": 17,
   "metadata": {},
   "outputs": [],
   "source": [
    "text_max_len = 45\n",
    "headlines_max_len = 13"
   ]
  },
  {
   "cell_type": "code",
   "execution_count": 18,
   "metadata": {},
   "outputs": [],
   "source": [
    "def below_threshold_len(max_len, nested_list):\n",
    "  cnt = 0\n",
    "  for s in nested_list:\n",
    "    if(len(s.split()) <= max_len):\n",
    "        cnt = cnt + 1\n",
    "  print('전체 샘플 중 길이가 %s 이하인 샘플의 비율: %s'%(max_len, (cnt / len(nested_list))))"
   ]
  },
  {
   "cell_type": "code",
   "execution_count": 19,
   "metadata": {
    "scrolled": true
   },
   "outputs": [
    {
     "name": "stdout",
     "output_type": "stream",
     "text": [
      "전체 샘플 중 길이가 45 이하인 샘플의 비율: 0.9967771451809678\n",
      "전체 샘플 중 길이가 13 이하인 샘플의 비율: 0.9981699877999186\n"
     ]
    }
   ],
   "source": [
    "below_threshold_len(text_max_len, data['text'])\n",
    "below_threshold_len(headlines_max_len,  data['headlines'])"
   ]
  },
  {
   "cell_type": "code",
   "execution_count": 20,
   "metadata": {},
   "outputs": [
    {
     "name": "stdout",
     "output_type": "stream",
     "text": [
      "전체 샘플수 : 97863\n"
     ]
    }
   ],
   "source": [
    "data = data[data['text'].apply(lambda x: len(x.split()) <= text_max_len)]\n",
    "data = data[data['headlines'].apply(lambda x: len(x.split()) <= headlines_max_len)]\n",
    "print('전체 샘플수 :',(len(data)))"
   ]
  },
  {
   "cell_type": "code",
   "execution_count": 21,
   "metadata": {},
   "outputs": [
    {
     "data": {
      "text/html": [
       "<div>\n",
       "<style scoped>\n",
       "    .dataframe tbody tr th:only-of-type {\n",
       "        vertical-align: middle;\n",
       "    }\n",
       "\n",
       "    .dataframe tbody tr th {\n",
       "        vertical-align: top;\n",
       "    }\n",
       "\n",
       "    .dataframe thead th {\n",
       "        text-align: right;\n",
       "    }\n",
       "</style>\n",
       "<table border=\"1\" class=\"dataframe\">\n",
       "  <thead>\n",
       "    <tr style=\"text-align: right;\">\n",
       "      <th></th>\n",
       "      <th>headlines</th>\n",
       "      <th>text</th>\n",
       "      <th>decoder_input</th>\n",
       "      <th>decoder_target</th>\n",
       "    </tr>\n",
       "  </thead>\n",
       "  <tbody>\n",
       "    <tr>\n",
       "      <th>0</th>\n",
       "      <td>upgrad learner switches to career in ml al wit...</td>\n",
       "      <td>saurav kant alumnus upgrad iiit pg program mac...</td>\n",
       "      <td>sostoken upgrad learner switches to career in ...</td>\n",
       "      <td>upgrad learner switches to career in ml al wit...</td>\n",
       "    </tr>\n",
       "    <tr>\n",
       "      <th>1</th>\n",
       "      <td>delhi techie wins free food from swiggy for on...</td>\n",
       "      <td>kunal shah credit card bill payment platform c...</td>\n",
       "      <td>sostoken delhi techie wins free food from swig...</td>\n",
       "      <td>delhi techie wins free food from swiggy for on...</td>\n",
       "    </tr>\n",
       "    <tr>\n",
       "      <th>2</th>\n",
       "      <td>new zealand end rohit sharma led india match w...</td>\n",
       "      <td>new zealand defeated india wickets fourth odi ...</td>\n",
       "      <td>sostoken new zealand end rohit sharma led indi...</td>\n",
       "      <td>new zealand end rohit sharma led india match w...</td>\n",
       "    </tr>\n",
       "    <tr>\n",
       "      <th>3</th>\n",
       "      <td>aegon life iterm insurance plan helps customer...</td>\n",
       "      <td>aegon life iterm insurance plan customers enjo...</td>\n",
       "      <td>sostoken aegon life iterm insurance plan helps...</td>\n",
       "      <td>aegon life iterm insurance plan helps customer...</td>\n",
       "    </tr>\n",
       "    <tr>\n",
       "      <th>4</th>\n",
       "      <td>have known hirani for yrs what if metoo claims...</td>\n",
       "      <td>speaking sexual harassment allegations rajkuma...</td>\n",
       "      <td>sostoken have known hirani for yrs what if met...</td>\n",
       "      <td>have known hirani for yrs what if metoo claims...</td>\n",
       "    </tr>\n",
       "  </tbody>\n",
       "</table>\n",
       "</div>"
      ],
      "text/plain": [
       "                                           headlines  \\\n",
       "0  upgrad learner switches to career in ml al wit...   \n",
       "1  delhi techie wins free food from swiggy for on...   \n",
       "2  new zealand end rohit sharma led india match w...   \n",
       "3  aegon life iterm insurance plan helps customer...   \n",
       "4  have known hirani for yrs what if metoo claims...   \n",
       "\n",
       "                                                text  \\\n",
       "0  saurav kant alumnus upgrad iiit pg program mac...   \n",
       "1  kunal shah credit card bill payment platform c...   \n",
       "2  new zealand defeated india wickets fourth odi ...   \n",
       "3  aegon life iterm insurance plan customers enjo...   \n",
       "4  speaking sexual harassment allegations rajkuma...   \n",
       "\n",
       "                                       decoder_input  \\\n",
       "0  sostoken upgrad learner switches to career in ...   \n",
       "1  sostoken delhi techie wins free food from swig...   \n",
       "2  sostoken new zealand end rohit sharma led indi...   \n",
       "3  sostoken aegon life iterm insurance plan helps...   \n",
       "4  sostoken have known hirani for yrs what if met...   \n",
       "\n",
       "                                      decoder_target  \n",
       "0  upgrad learner switches to career in ml al wit...  \n",
       "1  delhi techie wins free food from swiggy for on...  \n",
       "2  new zealand end rohit sharma led india match w...  \n",
       "3  aegon life iterm insurance plan helps customer...  \n",
       "4  have known hirani for yrs what if metoo claims...  "
      ]
     },
     "execution_count": 21,
     "metadata": {},
     "output_type": "execute_result"
    }
   ],
   "source": [
    "data['decoder_input'] = data['headlines'].apply(lambda x : 'sostoken '+ x)\n",
    "data['decoder_target'] = data['headlines'].apply(lambda x : x + ' eostoken')\n",
    "data.head()"
   ]
  },
  {
   "cell_type": "code",
   "execution_count": 22,
   "metadata": {},
   "outputs": [],
   "source": [
    "encoder_input = np.array(data['text']) # 인코더의 입력\n",
    "decoder_input = np.array(data['decoder_input']) # 디코더의 입력\n",
    "decoder_target = np.array(data['decoder_target']) # 디코더의 레이블"
   ]
  },
  {
   "cell_type": "markdown",
   "metadata": {},
   "source": [
    "### 1.4 훈련/테스트 데이터 분할"
   ]
  },
  {
   "cell_type": "code",
   "execution_count": 23,
   "metadata": {},
   "outputs": [
    {
     "name": "stdout",
     "output_type": "stream",
     "text": [
      "[56068  4005 24100 ... 31279 56072 60642]\n"
     ]
    }
   ],
   "source": [
    "indices = np.arange(encoder_input.shape[0])\n",
    "np.random.shuffle(indices)\n",
    "print(indices)"
   ]
  },
  {
   "cell_type": "code",
   "execution_count": 24,
   "metadata": {},
   "outputs": [],
   "source": [
    "encoder_input = encoder_input[indices]\n",
    "decoder_input = decoder_input[indices]\n",
    "decoder_target = decoder_target[indices]"
   ]
  },
  {
   "cell_type": "code",
   "execution_count": 25,
   "metadata": {},
   "outputs": [
    {
     "name": "stdout",
     "output_type": "stream",
     "text": [
      "테스트 데이터의 수 : 19572\n"
     ]
    }
   ],
   "source": [
    "n_of_val = int(len(encoder_input)*0.2)\n",
    "print('테스트 데이터의 수 :',n_of_val)"
   ]
  },
  {
   "cell_type": "code",
   "execution_count": 26,
   "metadata": {},
   "outputs": [
    {
     "name": "stdout",
     "output_type": "stream",
     "text": [
      "훈련 데이터의 개수 : 78291\n",
      "훈련 레이블의 개수 : 78291\n",
      "테스트 데이터의 개수 : 19572\n",
      "테스트 레이블의 개수 : 19572\n"
     ]
    }
   ],
   "source": [
    "encoder_input_train = encoder_input[:-n_of_val]\n",
    "decoder_input_train = decoder_input[:-n_of_val]\n",
    "decoder_target_train = decoder_target[:-n_of_val]\n",
    "\n",
    "encoder_input_test = encoder_input[-n_of_val:]\n",
    "decoder_input_test = decoder_input[-n_of_val:]\n",
    "decoder_target_test = decoder_target[-n_of_val:]\n",
    "\n",
    "print('훈련 데이터의 개수 :', len(encoder_input_train))\n",
    "print('훈련 레이블의 개수 :',len(decoder_input_train))\n",
    "print('테스트 데이터의 개수 :',len(encoder_input_test))\n",
    "print('테스트 레이블의 개수 :',len(decoder_input_test))"
   ]
  },
  {
   "cell_type": "markdown",
   "metadata": {},
   "source": [
    "### 1.5 단어들을 정수로 인코딩 하기"
   ]
  },
  {
   "cell_type": "code",
   "execution_count": 27,
   "metadata": {},
   "outputs": [],
   "source": [
    "src_tokenizer = Tokenizer()\n",
    "src_tokenizer.fit_on_texts(encoder_input_train)"
   ]
  },
  {
   "cell_type": "code",
   "execution_count": 28,
   "metadata": {},
   "outputs": [
    {
     "name": "stdout",
     "output_type": "stream",
     "text": [
      "단어 집합(vocabulary)의 크기 : 69300\n",
      "등장 빈도가 6번 이하인 희귀 단어의 수: 47164\n",
      "단어 집합에서 희귀 단어를 제외시킬 경우의 단어 집합의 크기 22136\n",
      "단어 집합에서 희귀 단어의 비율: 68.05772005772006\n",
      "전체 등장 빈도에서 희귀 단어 등장 빈도 비율: 3.483574012743308\n"
     ]
    }
   ],
   "source": [
    "threshold = 7\n",
    "total_cnt = len(src_tokenizer.word_index)\n",
    "rare_cnt = 0\n",
    "total_freq = 0\n",
    "rare_freq = 0\n",
    "\n",
    "# 단어와 빈도수의 쌍(pair)을 key와 value로 받는다.\n",
    "for key, value in src_tokenizer.word_counts.items():\n",
    "    total_freq = total_freq + value\n",
    "\n",
    "    # 단어의 등장 빈도수가 threshold보다 작으면\n",
    "    if(value < threshold):\n",
    "        rare_cnt = rare_cnt + 1\n",
    "        rare_freq = rare_freq + value\n",
    "\n",
    "print('단어 집합(vocabulary)의 크기 :',total_cnt)\n",
    "print('등장 빈도가 %s번 이하인 희귀 단어의 수: %s'%(threshold - 1, rare_cnt))\n",
    "print('단어 집합에서 희귀 단어를 제외시킬 경우의 단어 집합의 크기 %s'%(total_cnt - rare_cnt))\n",
    "print(\"단어 집합에서 희귀 단어의 비율:\", (rare_cnt / total_cnt)*100)\n",
    "print(\"전체 등장 빈도에서 희귀 단어 등장 빈도 비율:\", (rare_freq / total_freq)*100)"
   ]
  },
  {
   "cell_type": "code",
   "execution_count": 29,
   "metadata": {},
   "outputs": [],
   "source": [
    "\"\"\"\n",
    "등장 빈도가 6이하인 단어는 47,276으로 전체 단어들 중 70%가까이 차지함.\n",
    "하지만 이 희귀단어의 등장 빈도는 전체에서 3.5% 정도.\n",
    "이 희귀단어들을 전체 단어집합에서 제외한 경우 크기 22,066\n",
    "-> 사용할 단어 집합의 크기를 22,000으로 하자\n",
    "\n",
    "\"\"\"\n",
    "src_vocab = 22000\n",
    "src_tokenizer = Tokenizer(num_words = src_vocab)\n",
    "src_tokenizer.fit_on_texts(encoder_input_train)"
   ]
  },
  {
   "cell_type": "code",
   "execution_count": 30,
   "metadata": {},
   "outputs": [
    {
     "name": "stdout",
     "output_type": "stream",
     "text": [
      "[[36, 16, 180, 130, 59, 1, 58, 22, 608, 206, 2197, 1648, 51, 2151, 474, 1837, 2151, 51, 600, 21, 10030, 792, 252, 1305, 2, 9842, 36, 4, 58, 22, 7765, 62, 16, 3681], [136, 230, 626, 4847, 6860, 451, 128, 197, 561, 381, 311, 1522, 518, 455, 21, 2548, 1338, 227, 1522, 480, 1782, 4026, 322, 2421, 3682, 1, 15311, 12876, 127, 518, 1458, 705, 4592, 888, 890, 186, 2849, 825], [3, 13, 37, 215, 3709, 86, 275, 17403, 226, 382, 401, 41, 1037, 3318, 4392, 604, 77, 6622, 888, 2232, 54, 1037, 77, 415, 955, 3318, 4392, 437, 466, 334, 29, 3]]\n"
     ]
    }
   ],
   "source": [
    "encoder_input_train = src_tokenizer.texts_to_sequences(encoder_input_train) \n",
    "encoder_input_test = src_tokenizer.texts_to_sequences(encoder_input_test)\n",
    "\n",
    "print(encoder_input_train[:3])"
   ]
  },
  {
   "cell_type": "code",
   "execution_count": 31,
   "metadata": {},
   "outputs": [],
   "source": [
    "tar_tokenizer = Tokenizer()\n",
    "tar_tokenizer.fit_on_texts(decoder_input_train)"
   ]
  },
  {
   "cell_type": "code",
   "execution_count": 32,
   "metadata": {},
   "outputs": [
    {
     "name": "stdout",
     "output_type": "stream",
     "text": [
      "단어 집합(vocabulary)의 크기 : 29974\n",
      "등장 빈도가 5번 이하인 희귀 단어의 수: 19569\n",
      "단어 집합에서 희귀 단어를 제외시킬 경우의 단어 집합의 크기 10405\n",
      "단어 집합에서 희귀 단어의 비율: 65.28658170414359\n",
      "전체 등장 빈도에서 희귀 단어 등장 빈도 비율: 4.644771435735619\n"
     ]
    }
   ],
   "source": [
    "threshold = 6\n",
    "total_cnt = len(tar_tokenizer.word_index) \n",
    "rare_cnt = 0\n",
    "total_freq = 0\n",
    "rare_freq = 0\n",
    "\n",
    "for key, value in tar_tokenizer.word_counts.items():\n",
    "    total_freq = total_freq + value\n",
    "\n",
    "    if(value < threshold):\n",
    "        rare_cnt = rare_cnt + 1\n",
    "        rare_freq = rare_freq + value\n",
    "\n",
    "print('단어 집합(vocabulary)의 크기 :',total_cnt)\n",
    "print('등장 빈도가 %s번 이하인 희귀 단어의 수: %s'%(threshold - 1, rare_cnt))\n",
    "print('단어 집합에서 희귀 단어를 제외시킬 경우의 단어 집합의 크기 %s'%(total_cnt - rare_cnt))\n",
    "print(\"단어 집합에서 희귀 단어의 비율:\", (rare_cnt / total_cnt)*100)\n",
    "print(\"전체 등장 빈도에서 희귀 단어 등장 빈도 비율:\", (rare_freq / total_freq)*100)"
   ]
  },
  {
   "cell_type": "code",
   "execution_count": 33,
   "metadata": {},
   "outputs": [
    {
     "name": "stdout",
     "output_type": "stream",
     "text": [
      "input\n",
      "input  [[1, 24, 118, 240, 1793, 67, 2307, 341, 75, 201], [1, 2723, 1429, 8165, 5, 137, 253, 208, 5186], [1, 1870, 83, 4, 1975, 2447, 340, 66], [1, 2668, 59, 1327, 20, 9, 3023], [1, 603, 2724, 83, 112, 1064, 2725, 4, 4378]]\n",
      "target\n",
      "decoder  [[24, 118, 240, 1793, 67, 2307, 341, 75, 201, 2], [2723, 1429, 8165, 5, 137, 253, 208, 5186, 2], [1870, 83, 4, 1975, 2447, 340, 66, 2], [2668, 59, 1327, 20, 9, 3023, 2], [603, 2724, 83, 112, 1064, 2725, 4, 4378, 2]]\n"
     ]
    }
   ],
   "source": [
    "\"\"\"\n",
    "디코더 훈련 데이터에서\n",
    "길이가 5이하인 희귀 단어의 수는 19,576개\n",
    "이들을 제외한 단어 집합의 크기 10,398\n",
    "단어 집합에서 차지하는 희귀단어의 비율 65.3%\n",
    "전체에서 희귀단어 등장 빈도 4.6%\n",
    "-> 디코더의 단어 크기를 10,000개로 하자\n",
    "\n",
    "\"\"\"\n",
    "\n",
    "tar_vocab = 10000\n",
    "tar_tokenizer = Tokenizer(num_words = tar_vocab) \n",
    "tar_tokenizer.fit_on_texts(decoder_input_train)\n",
    "tar_tokenizer.fit_on_texts(decoder_target_train)\n",
    "\n",
    "decoder_input_train = tar_tokenizer.texts_to_sequences(decoder_input_train) \n",
    "decoder_target_train = tar_tokenizer.texts_to_sequences(decoder_target_train)\n",
    "decoder_input_test = tar_tokenizer.texts_to_sequences(decoder_input_test)\n",
    "decoder_target_test = tar_tokenizer.texts_to_sequences(decoder_target_test)\n",
    "\n",
    "print('input')\n",
    "print('input ',decoder_input_train[:5])\n",
    "print('target')\n",
    "print('decoder ',decoder_target_train[:5])"
   ]
  },
  {
   "cell_type": "code",
   "execution_count": 34,
   "metadata": {},
   "outputs": [
    {
     "name": "stdout",
     "output_type": "stream",
     "text": [
      "삭제할 훈련 데이터 개수 :  0\n",
      "삭제할 테스트 데이터 개수 :  0\n",
      "훈련 데이터의 개수 : 78291\n",
      "훈련 레이블의 개수 : 78291\n",
      "테스트 데이터의 개수 : 19572\n",
      "테스트 레이블의 개수 : 19572\n"
     ]
    }
   ],
   "source": [
    "drop_train = [index for index, sentence in enumerate(decoder_input_train) if len(sentence) == 1]\n",
    "drop_test = [index for index, sentence in enumerate(decoder_input_test) if len(sentence) == 1]\n",
    "\n",
    "print(\"삭제할 훈련 데이터 개수 : \",len(drop_train))\n",
    "print(\"삭제할 테스트 데이터 개수 : \", len(drop_test))\n",
    "\n",
    "encoder_input_train = np.delete(encoder_input_train, drop_train, axis=0)\n",
    "decoder_input_train = np.delete(decoder_input_train, drop_train, axis=0)\n",
    "decoder_target_train = np.delete(decoder_target_train, drop_train, axis=0)\n",
    "\n",
    "encoder_input_test = np.delete(encoder_input_test, drop_test, axis=0)\n",
    "decoder_input_test = np.delete(decoder_input_test, drop_test, axis=0)\n",
    "decoder_target_test = np.delete(decoder_target_test, drop_test, axis=0)\n",
    "\n",
    "print('훈련 데이터의 개수 :', len(encoder_input_train))\n",
    "print('훈련 레이블의 개수 :',len(decoder_input_train))\n",
    "print('테스트 데이터의 개수 :',len(encoder_input_test))\n",
    "print('테스트 레이블의 개수 :',len(decoder_input_test))"
   ]
  },
  {
   "cell_type": "code",
   "execution_count": 35,
   "metadata": {},
   "outputs": [],
   "source": [
    "encoder_input_train = pad_sequences(encoder_input_train, maxlen = text_max_len, padding='post')\n",
    "encoder_input_test = pad_sequences(encoder_input_test, maxlen = text_max_len, padding='post')\n",
    "decoder_input_train = pad_sequences(decoder_input_train, maxlen = headlines_max_len, padding='post')\n",
    "decoder_target_train = pad_sequences(decoder_target_train, maxlen = headlines_max_len, padding='post')\n",
    "decoder_input_test = pad_sequences(decoder_input_test, maxlen = headlines_max_len, padding='post')\n",
    "decoder_target_test = pad_sequences(decoder_target_test, maxlen = headlines_max_len, padding='post')"
   ]
  },
  {
   "cell_type": "markdown",
   "metadata": {},
   "source": [
    "## 2. 모델 설계하기\n",
    "### 2.1 인코더 모델 설계하기"
   ]
  },
  {
   "cell_type": "code",
   "execution_count": 36,
   "metadata": {},
   "outputs": [
    {
     "name": "stdout",
     "output_type": "stream",
     "text": [
      "WARNING:tensorflow:Layer lstm will not use cuDNN kernel since it doesn't meet the cuDNN kernel criteria. It will use generic GPU kernel as fallback when running on GPU\n",
      "WARNING:tensorflow:Layer lstm_1 will not use cuDNN kernel since it doesn't meet the cuDNN kernel criteria. It will use generic GPU kernel as fallback when running on GPU\n",
      "WARNING:tensorflow:Layer lstm_2 will not use cuDNN kernel since it doesn't meet the cuDNN kernel criteria. It will use generic GPU kernel as fallback when running on GPU\n"
     ]
    }
   ],
   "source": [
    "from tensorflow.keras.layers import Input, LSTM, Embedding, Dense, Concatenate\n",
    "from tensorflow.keras.models import Model\n",
    "from tensorflow.keras.callbacks import EarlyStopping, ModelCheckpoint\n",
    "\n",
    "\n",
    "embedding_dim = 128\n",
    "hidden_size = 256\n",
    "\n",
    "encoder_inputs = Input(shape=(text_max_len,))\n",
    "enc_emb = Embedding(src_vocab, embedding_dim)(encoder_inputs)\n",
    "\n",
    "encoder_lstm1 = LSTM(hidden_size, return_sequences=True, return_state=True ,dropout = 0.4, recurrent_dropout = 0.4)\n",
    "encoder_output1, state_h1, state_c1 = encoder_lstm1(enc_emb)\n",
    "\n",
    "encoder_lstm2 = LSTM(hidden_size, return_sequences=True, return_state=True, dropout=0.4, recurrent_dropout=0.4)\n",
    "encoder_output2, state_h2, state_c2 = encoder_lstm2(encoder_output1)\n",
    "\n",
    "encoder_lstm3 = LSTM(hidden_size, return_state=True, return_sequences=True, dropout=0.4, recurrent_dropout=0.4)\n",
    "encoder_outputs, state_h, state_c= encoder_lstm3(encoder_output2)"
   ]
  },
  {
   "cell_type": "markdown",
   "metadata": {},
   "source": [
    "### 2.2 디코더 모델 설계하기"
   ]
  },
  {
   "cell_type": "code",
   "execution_count": 37,
   "metadata": {},
   "outputs": [
    {
     "name": "stdout",
     "output_type": "stream",
     "text": [
      "WARNING:tensorflow:Layer lstm_3 will not use cuDNN kernel since it doesn't meet the cuDNN kernel criteria. It will use generic GPU kernel as fallback when running on GPU\n"
     ]
    }
   ],
   "source": [
    "decoder_inputs = Input(shape=(None,))\n",
    "\n",
    "dec_emb_layer = Embedding(tar_vocab, embedding_dim)\n",
    "dec_emb = dec_emb_layer(decoder_inputs)\n",
    "\n",
    "decoder_lstm = LSTM(hidden_size, return_sequences = True, return_state = True, dropout = 0.4, recurrent_dropout=0.2)\n",
    "decoder_outputs, _, _ = decoder_lstm(dec_emb, initial_state = [state_h, state_c])"
   ]
  },
  {
   "cell_type": "code",
   "execution_count": 38,
   "metadata": {
    "scrolled": false
   },
   "outputs": [
    {
     "name": "stdout",
     "output_type": "stream",
     "text": [
      "Model: \"model\"\n",
      "__________________________________________________________________________________________________\n",
      "Layer (type)                    Output Shape         Param #     Connected to                     \n",
      "==================================================================================================\n",
      "input_1 (InputLayer)            [(None, 45)]         0                                            \n",
      "__________________________________________________________________________________________________\n",
      "embedding (Embedding)           (None, 45, 128)      2816000     input_1[0][0]                    \n",
      "__________________________________________________________________________________________________\n",
      "lstm (LSTM)                     [(None, 45, 256), (N 394240      embedding[0][0]                  \n",
      "__________________________________________________________________________________________________\n",
      "input_2 (InputLayer)            [(None, None)]       0                                            \n",
      "__________________________________________________________________________________________________\n",
      "lstm_1 (LSTM)                   [(None, 45, 256), (N 525312      lstm[0][0]                       \n",
      "__________________________________________________________________________________________________\n",
      "embedding_1 (Embedding)         (None, None, 128)    1280000     input_2[0][0]                    \n",
      "__________________________________________________________________________________________________\n",
      "lstm_2 (LSTM)                   [(None, 45, 256), (N 525312      lstm_1[0][0]                     \n",
      "__________________________________________________________________________________________________\n",
      "lstm_3 (LSTM)                   [(None, None, 256),  394240      embedding_1[0][0]                \n",
      "                                                                 lstm_2[0][1]                     \n",
      "                                                                 lstm_2[0][2]                     \n",
      "__________________________________________________________________________________________________\n",
      "dense (Dense)                   (None, None, 10000)  2570000     lstm_3[0][0]                     \n",
      "==================================================================================================\n",
      "Total params: 8,505,104\n",
      "Trainable params: 8,505,104\n",
      "Non-trainable params: 0\n",
      "__________________________________________________________________________________________________\n"
     ]
    }
   ],
   "source": [
    "decoder_softmax_layer = Dense(tar_vocab, activation = 'softmax')\n",
    "decoder_softmax_outputs = decoder_softmax_layer(decoder_outputs) \n",
    "\n",
    "model = Model([encoder_inputs, decoder_inputs], decoder_softmax_outputs)\n",
    "model.summary()"
   ]
  },
  {
   "cell_type": "markdown",
   "metadata": {},
   "source": [
    "### 2.3 어텐션 모델로 만들기"
   ]
  },
  {
   "cell_type": "code",
   "execution_count": 39,
   "metadata": {},
   "outputs": [],
   "source": [
    "urllib.request.urlretrieve(\"https://raw.githubusercontent.com/thushv89/attention_keras/master/src/layers/attention.py\", filename=\"attention.py\")\n",
    "from attention import AttentionLayer"
   ]
  },
  {
   "cell_type": "code",
   "execution_count": 40,
   "metadata": {},
   "outputs": [
    {
     "name": "stdout",
     "output_type": "stream",
     "text": [
      "Model: \"model_1\"\n",
      "__________________________________________________________________________________________________\n",
      "Layer (type)                    Output Shape         Param #     Connected to                     \n",
      "==================================================================================================\n",
      "input_1 (InputLayer)            [(None, 45)]         0                                            \n",
      "__________________________________________________________________________________________________\n",
      "embedding (Embedding)           (None, 45, 128)      2816000     input_1[0][0]                    \n",
      "__________________________________________________________________________________________________\n",
      "lstm (LSTM)                     [(None, 45, 256), (N 394240      embedding[0][0]                  \n",
      "__________________________________________________________________________________________________\n",
      "input_2 (InputLayer)            [(None, None)]       0                                            \n",
      "__________________________________________________________________________________________________\n",
      "lstm_1 (LSTM)                   [(None, 45, 256), (N 525312      lstm[0][0]                       \n",
      "__________________________________________________________________________________________________\n",
      "embedding_1 (Embedding)         (None, None, 128)    1280000     input_2[0][0]                    \n",
      "__________________________________________________________________________________________________\n",
      "lstm_2 (LSTM)                   [(None, 45, 256), (N 525312      lstm_1[0][0]                     \n",
      "__________________________________________________________________________________________________\n",
      "lstm_3 (LSTM)                   [(None, None, 256),  394240      embedding_1[0][0]                \n",
      "                                                                 lstm_2[0][1]                     \n",
      "                                                                 lstm_2[0][2]                     \n",
      "__________________________________________________________________________________________________\n",
      "attention_layer (AttentionLayer ((None, None, 256),  131328      lstm_2[0][0]                     \n",
      "                                                                 lstm_3[0][0]                     \n",
      "__________________________________________________________________________________________________\n",
      "concat_layer (Concatenate)      (None, None, 512)    0           lstm_3[0][0]                     \n",
      "                                                                 attention_layer[0][0]            \n",
      "__________________________________________________________________________________________________\n",
      "dense_1 (Dense)                 (None, None, 10000)  5130000     concat_layer[0][0]               \n",
      "==================================================================================================\n",
      "Total params: 11,196,432\n",
      "Trainable params: 11,196,432\n",
      "Non-trainable params: 0\n",
      "__________________________________________________________________________________________________\n"
     ]
    }
   ],
   "source": [
    "attn_layer = AttentionLayer(name='attention_layer')\n",
    "attn_out, attn_states = attn_layer([encoder_outputs, decoder_outputs])\n",
    "decoder_concat_input = Concatenate(axis = -1, name='concat_layer')([decoder_outputs, attn_out])\n",
    "\n",
    "decoder_softmax_layer = Dense(tar_vocab, activation='softmax')\n",
    "decoder_softmax_outputs = decoder_softmax_layer(decoder_concat_input)\n",
    "\n",
    "model = Model([encoder_inputs, decoder_inputs], decoder_softmax_outputs)\n",
    "model.summary()"
   ]
  },
  {
   "cell_type": "markdown",
   "metadata": {},
   "source": [
    "## 3. 모델 학습하기"
   ]
  },
  {
   "cell_type": "code",
   "execution_count": 41,
   "metadata": {
    "scrolled": true
   },
   "outputs": [
    {
     "name": "stdout",
     "output_type": "stream",
     "text": [
      "Epoch 1/50\n",
      "306/306 [==============================] - 114s 374ms/step - loss: 5.2316 - val_loss: 4.8250\n",
      "Epoch 2/50\n",
      "306/306 [==============================] - 114s 372ms/step - loss: 4.6784 - val_loss: 4.4451\n",
      "Epoch 3/50\n",
      "306/306 [==============================] - 115s 377ms/step - loss: 4.3503 - val_loss: 4.1996\n",
      "Epoch 4/50\n",
      "306/306 [==============================] - 115s 377ms/step - loss: 4.1000 - val_loss: 4.0147\n",
      "Epoch 5/50\n",
      "306/306 [==============================] - 121s 395ms/step - loss: 3.9070 - val_loss: 3.8775\n",
      "Epoch 6/50\n",
      "306/306 [==============================] - 127s 414ms/step - loss: 3.7485 - val_loss: 3.7721\n",
      "Epoch 7/50\n",
      "306/306 [==============================] - 115s 377ms/step - loss: 3.6109 - val_loss: 3.6867\n",
      "Epoch 8/50\n",
      "306/306 [==============================] - 116s 378ms/step - loss: 3.4938 - val_loss: 3.6162\n",
      "Epoch 9/50\n",
      "306/306 [==============================] - 117s 383ms/step - loss: 3.3876 - val_loss: 3.5598\n",
      "Epoch 10/50\n",
      "306/306 [==============================] - 116s 381ms/step - loss: 3.2980 - val_loss: 3.5140\n",
      "Epoch 11/50\n",
      "306/306 [==============================] - 119s 388ms/step - loss: 3.2176 - val_loss: 3.4725\n",
      "Epoch 12/50\n",
      "306/306 [==============================] - 117s 381ms/step - loss: 3.1445 - val_loss: 3.4398\n",
      "Epoch 13/50\n",
      "306/306 [==============================] - 122s 398ms/step - loss: 3.0795 - val_loss: 3.4160\n",
      "Epoch 14/50\n",
      "306/306 [==============================] - 124s 406ms/step - loss: 3.0193 - val_loss: 3.3880\n",
      "Epoch 15/50\n",
      "306/306 [==============================] - 117s 381ms/step - loss: 2.9613 - val_loss: 3.3692\n",
      "Epoch 16/50\n",
      "306/306 [==============================] - 117s 382ms/step - loss: 2.9085 - val_loss: 3.3548\n",
      "Epoch 17/50\n",
      "306/306 [==============================] - 117s 382ms/step - loss: 2.8592 - val_loss: 3.3314\n",
      "Epoch 18/50\n",
      "306/306 [==============================] - 117s 383ms/step - loss: 2.8136 - val_loss: 3.3179\n",
      "Epoch 19/50\n",
      "306/306 [==============================] - 116s 380ms/step - loss: 2.7722 - val_loss: 3.3068\n",
      "Epoch 20/50\n",
      "306/306 [==============================] - 118s 385ms/step - loss: 2.7335 - val_loss: 3.2953\n",
      "Epoch 21/50\n",
      "306/306 [==============================] - 117s 382ms/step - loss: 2.6963 - val_loss: 3.2873\n",
      "Epoch 22/50\n",
      "306/306 [==============================] - 119s 388ms/step - loss: 2.6586 - val_loss: 3.2825\n",
      "Epoch 23/50\n",
      "306/306 [==============================] - 119s 387ms/step - loss: 2.6244 - val_loss: 3.2785\n",
      "Epoch 24/50\n",
      "306/306 [==============================] - 117s 381ms/step - loss: 2.5941 - val_loss: 3.2678\n",
      "Epoch 25/50\n",
      "306/306 [==============================] - 116s 380ms/step - loss: 2.5628 - val_loss: 3.2653\n",
      "Epoch 26/50\n",
      "306/306 [==============================] - 116s 381ms/step - loss: 2.5354 - val_loss: 3.2583\n",
      "Epoch 27/50\n",
      "306/306 [==============================] - 127s 415ms/step - loss: 2.5105 - val_loss: 3.2551\n",
      "Epoch 28/50\n",
      "306/306 [==============================] - 120s 393ms/step - loss: 2.4855 - val_loss: 3.2575\n",
      "Epoch 29/50\n",
      "306/306 [==============================] - 115s 376ms/step - loss: 2.4598 - val_loss: 3.2585\n",
      "Epoch 00029: early stopping\n"
     ]
    }
   ],
   "source": [
    "model.compile(optimizer='rmsprop', loss='sparse_categorical_crossentropy')\n",
    "es = EarlyStopping(monitor='val_loss', mode='min', verbose=1, patience = 2)\n",
    "history = model.fit(x = [encoder_input_train, decoder_input_train], y = decoder_target_train, \\\n",
    "          validation_data = ([encoder_input_test, decoder_input_test], decoder_target_test),\n",
    "          batch_size = 256, callbacks=[es], epochs = 50)"
   ]
  },
  {
   "cell_type": "code",
   "execution_count": 42,
   "metadata": {},
   "outputs": [
    {
     "data": {
      "image/png": "[encoded data removed]",
      "text/plain": [
       "<Figure size 432x288 with 1 Axes>"
      ]
     },
     "metadata": {
      "needs_background": "light"
     },
     "output_type": "display_data"
    }
   ],
   "source": [
    "plt.plot(history.history['loss'], label='train')\n",
    "plt.plot(history.history['val_loss'], label='test')\n",
    "plt.legend()\n",
    "plt.show()"
   ]
  },
  {
   "cell_type": "markdown",
   "metadata": {},
   "source": [
    "## 4. 추론 모델 설계하기"
   ]
  },
  {
   "cell_type": "code",
   "execution_count": 43,
   "metadata": {},
   "outputs": [],
   "source": [
    "# 인덱스로 단어, 단어로 인덱스 딕셔너리 구하기\n",
    "src_index_to_word = src_tokenizer.index_word\n",
    "tar_word_to_index = tar_tokenizer.word_index\n",
    "tar_index_to_word = tar_tokenizer.index_word"
   ]
  },
  {
   "cell_type": "code",
   "execution_count": 44,
   "metadata": {},
   "outputs": [],
   "source": [
    "encoder_model = Model(inputs=encoder_inputs, outputs=[encoder_outputs, state_h, state_c])\n",
    "\n",
    "decoder_state_input_h = Input(shape=(hidden_size,))\n",
    "decoder_state_input_c = Input(shape=(hidden_size,))\n",
    "\n",
    "dec_emb2 = dec_emb_layer(decoder_inputs)\n",
    "decoder_outputs2, state_h2, state_c2 = decoder_lstm(dec_emb2, initial_state=[decoder_state_input_h, decoder_state_input_c])"
   ]
  },
  {
   "cell_type": "code",
   "execution_count": 45,
   "metadata": {},
   "outputs": [],
   "source": [
    "decoder_hidden_state_input = Input(shape=(text_max_len, hidden_size))\n",
    "attn_out_inf, attn_states_inf = attn_layer([decoder_hidden_state_input, decoder_outputs2])\n",
    "decoder_inf_concat = Concatenate(axis=-1, name='concat')([decoder_outputs2, attn_out_inf])\n",
    "\n",
    "decoder_outputs2 = decoder_softmax_layer(decoder_inf_concat) \n",
    "\n",
    "decoder_model = Model(\n",
    "    [decoder_inputs] + [decoder_hidden_state_input,decoder_state_input_h, decoder_state_input_c],\n",
    "    [decoder_outputs2] + [state_h2, state_c2])"
   ]
  },
  {
   "cell_type": "code",
   "execution_count": 49,
   "metadata": {},
   "outputs": [],
   "source": [
    "# 입력 시퀀스로부터 요약한 시퀀스를 반환하는 함수\n",
    "def decode_sequence(input_seq):\n",
    "    e_out, e_h, e_c = encoder_model.predict(input_seq)\n",
    "\n",
    "    target_seq = np.zeros((1,1))\n",
    "    target_seq[0, 0] = tar_word_to_index['sostoken']\n",
    "\n",
    "    stop_condition = False\n",
    "    decoded_sentence = ''\n",
    "    while not stop_condition:\n",
    "        output_tokens, h, c = decoder_model.predict([target_seq] + [e_out, e_h, e_c])\n",
    "        sampled_token_index = np.argmax(output_tokens[0, -1, :])\n",
    "        sampled_token = tar_index_to_word[sampled_token_index]\n",
    "\n",
    "        if(sampled_token!='eostoken'):\n",
    "            decoded_sentence += ' '+sampled_token\n",
    "\n",
    "        if (sampled_token == 'eostoken'  or len(decoded_sentence.split()) >= (headlines_max_len-1)):\n",
    "            stop_condition = True\n",
    "\n",
    "        target_seq = np.zeros((1,1))\n",
    "        target_seq[0, 0] = sampled_token_index\n",
    "\n",
    "        e_h, e_c = h, c\n",
    "\n",
    "    return decoded_sentence"
   ]
  },
  {
   "cell_type": "markdown",
   "metadata": {},
   "source": [
    "## 5. 추론 모델 테스트"
   ]
  },
  {
   "cell_type": "code",
   "execution_count": 47,
   "metadata": {},
   "outputs": [],
   "source": [
    "def seq2text(input_seq):\n",
    "    temp=''\n",
    "    for i in input_seq:\n",
    "        if(i!=0):\n",
    "            temp = temp + src_index_to_word[i]+' '\n",
    "    return temp\n",
    "\n",
    "def seq2summary(input_seq):\n",
    "    temp=''\n",
    "    for i in input_seq:\n",
    "        if((i!=0 and i!=tar_word_to_index['sostoken']) and i!=tar_word_to_index['eostoken']):\n",
    "            temp = temp + tar_index_to_word[i] + ' '\n",
    "    return temp"
   ]
  },
  {
   "cell_type": "code",
   "execution_count": 50,
   "metadata": {
    "scrolled": false
   },
   "outputs": [
    {
     "name": "stdout",
     "output_type": "stream",
     "text": [
      "원문 : centre saturday dismissed reports suggested agreed larger nagaland state reports erroneous clarified agreement decision government home ministry spokesperson said comes im said centre accepted territorial integration naga inhabited areas \n",
      "실제 요약 : govt dismisses reports of out larger nagaland state \n",
      "예측 요약 :  govt denies reports of government bailout plan\n",
      "\n",
      "\n",
      "원문 : least people killed others injured friday car bomb exploded afghanistan province officials said bomb exploded outside sports stadium city comes days people killed others wounded isis attack capital kabul \n",
      "실제 요약 : killed injured in car bomb explosion in afghanistan \n",
      "예측 요약 :  killed injured in car bomb blast in afghanistan\n",
      "\n",
      "\n",
      "원문 : slamming opposition bjp leader union minister giriraj singh sunday tweeted maoists casteist supporters attacks mastermind osama bin laden united nda added opposition efforts towards united front impact since nda successfully win elections development agenda \n",
      "실제 요약 : bjp minister calls opposition leaders \n",
      "예측 요약 :  maoists troll for terrorist threat to isis bjp mp\n",
      "\n",
      "\n",
      "원문 : facing criticism hugging pakistan army chief punjab minister navjot singh sidhu said hug rafale deal added firing bullets commenting defence minister nirmala sitharaman statement gesture impacted indian soldiers said sidhu become important person defence minister makes statement \n",
      "실제 요약 : just hug not rafale deal sidhu on hugging pak army chief \n",
      "예측 요약 :  sidhu must be in defence defence sidhu sidhu\n",
      "\n",
      "\n",
      "원문 : union home minister rajnath singh sunday said talks pakistan meaningless stops exporting terrorists india alleging pakistan continuing attempts destabilise india sending terrorists violating singh claimed india emerged powerful country power threaten sovereignty \n",
      "실제 요약 : talks with pak till it stops terror aid rajnath \n",
      "예측 요약 :  pakistan should be ready for peace rajnath singh\n",
      "\n",
      "\n",
      "원문 : delhi metro secured platinum rating indian green building council adherence green building norms residential colonies making completely green metro system world notably delhi metro rail corporation earlier received green certificates phase stations depots sub stations \n",
      "실제 요약 : delhi metro the only green metro system in the world \n",
      "예측 요약 :  delhi metro line to be held for delhi metro\n",
      "\n",
      "\n",
      "원문 : bhatia family found dead delhi burari last week performed worship tree free house five spirits family performing seven day ritual relieve spirits deceased patriarch besides four others believed dead father would save water turned blue \n",
      "실제 요약 : burari family performed ritual to free house from spirits \n",
      "예측 요약 :  gorakhpur hospital hospitalised after days\n",
      "\n",
      "\n",
      "원문 : mount everest named sir george everest former general india british passed away december led great survey india mapped subcontinent kilometres despite protests world highest peak known peak renamed mount everest honour \n",
      "실제 요약 : everest was named after india former general \n",
      "예측 요약 :  india first everest was yrs ago\n",
      "\n",
      "\n",
      "원문 : facebook coo sheryl sandberg admitted company could addressed cambridge analytica data leak two half years ago thought data deleted checked sandberg said adding cambridge analytica assured facebook deleted facebook inform users leak thought deleted added \n",
      "실제 요약 : could have user data leak yrs ago facebook coo \n",
      "예측 요약 :  fb scandal firm admits to testify in data scandal\n",
      "\n",
      "\n",
      "원문 : actress zareen khan television actor gautam rode feature aksar sequel film aksar first look video film recently released film starred actors emraan hashmi goswami lead roles directed anant mahadevan \n",
      "실제 요약 : zareen khan to feature in sequel of aksar \n",
      "예측 요약 :  zareen khan to feature in upcoming film reports\n",
      "\n",
      "\n",
      "원문 : facebook owned messaging service whatsapp wednesday announced billion people around world use app every day whatsapp founded jan koum brian acton acquired social media giant facebook billion facebook reached billion monthly active users worldwide last month \n",
      "실제 요약 : whatsapp reaches billion daily users worldwide \n",
      "예측 요약 :  whatsapp to shut down in billion users\n",
      "\n",
      "\n",
      "원문 : self driving car startup drive ai raised million funding round led uber biggest southeast asia rival grab startup use funding open singapore office provide base operations self driving cars founded silicon valley based startup working creating artificial intelligence software autonomous vehicles \n",
      "실제 요약 : uber rival grab leads mn funding in self driving startup \n",
      "예측 요약 :  self driving car startup raises million\n",
      "\n",
      "\n",
      "원문 : american mixed martial artist johnson defended title th consecutive time ufc saturday surpassing defence record shared longtime middleweight champion anderson silva johnson stopped opponent ray submission fifth round achieve feat landed total strikes compared \n",
      "실제 요약 : ufc champion defends title for record breaking th time \n",
      "예측 요약 :  boxer wins world title after losing his title\n",
      "\n",
      "\n",
      "원문 : china india aim growth friendly fiscal consolidation promote sustainable inclusive growth together contribute global growth international monetary fund said asia world fastest growing region main engine world economy added imf projected india growth fy estimated fy \n",
      "실제 요약 : india china contribute to global growth imf \n",
      "예측 요약 :  china gdp growth to india gdp growth in fy\n",
      "\n",
      "\n",
      "원문 : two missing indian clerics delhi hazrat nizamuddin dargah traced reached karachi according pakistan media reports clerics interior sindh communication network could tell relatives whereabouts reports added leave india march \n",
      "실제 요약 : missing clerics in pakistan to return on monday \n",
      "예측 요약 :  clerics who went to pak in pak court\n",
      "\n",
      "\n",
      "원문 : one presidential nomination indian national congress elected without contest multiple candidates voting takes place winner needs votes otherwise members pradesh congress committees vote listing preferences clear majority candidates least votes eliminated second preferences counted \n",
      "실제 요약 : how does the indian national congress elect its president \n",
      "예측 요약 :  prez candidate wins election votes in presidential polls\n",
      "\n",
      "\n",
      "원문 : talking sequel film aur opposite rani mukerji abhishek bachchan said finds story worthy wants us let us know cannot say anything added recently reports plot sequel finalised \n",
      "실제 요약 : aditya will tell if there is aur sequel abhishek \n",
      "예측 요약 :  it is not to make my life ayushmann on film\n",
      "\n",
      "\n",
      "원문 : mns chief raj thackeray thursday said underworld dawood ibrahim brought back india wish breathe last government use polls say many years congress could catch hold got thackeray added \n",
      "실제 요약 : dawood may return and bjp will use that in polls mns \n",
      "예측 요약 :  am not india in india not in india raj thackeray\n",
      "\n",
      "\n",
      "원문 : supreme court granted interim relief delhi university law student allowed write fourth semester exams missed classes due pregnancy apex court issued notice du allowing attend classes next semester notably delhi high court refused grant attendance relaxation may \n",
      "실제 요약 : sc allows student who missed exam over pregnancy to attend classes \n",
      "예측 요약 :  sc approves plea for taking women from andhra board exam\n",
      "\n",
      "\n",
      "원문 : india council technical education friday announced shut engineering colleges registered less admissions last five years notably engineering institutions india total intake capacity lakh students lakh seats vacant last three years \n",
      "실제 요약 : to close colleges with less than \n",
      "예측 요약 :  universities colleges to be shut for free students\n",
      "\n",
      "\n",
      "원문 : india first passenger train travelled station bombay thane april carried passengers train pulled three locomotives sindh sultan sahib railway carriages journey completed hour minutes flagged gun salute \n",
      "실제 요약 : india first passenger train carried people \n",
      "예측 요약 :  india st train to open train station in india\n",
      "\n",
      "\n",
      "원문 : death toll portugal forest fires risen another injured possibly deadliest ever forest blaze atlantic coastal country nearly firefighters vehicles dispatched tackle blaze broke saturday portugal declared days national mourning victims fire \n",
      "실제 요약 : death toll from portugal forest fires rises to \n",
      "예측 요약 :  death toll in indonesia rises to\n",
      "\n",
      "\n",
      "원문 : korean shaving company acquired stake chandigarh based grooming startup undisclosed amount use funds strengthen online business startup founder sidharth oberoi said statement founded startup offers grooming products men women aims expand portfolio \n",
      "실제 요약 : korea shaving firm buys stake in india \n"
     ]
    },
    {
     "name": "stdout",
     "output_type": "stream",
     "text": [
      "예측 요약 :  paytm acquires stake in startup\n",
      "\n",
      "\n",
      "원문 : international atomic energy agency confirmed iran fully implementing obligations nuclear deal adding middle east nation subject world robust nuclear verification comes us president donald trump announced decision decertify deal threatened pull \n",
      "실제 요약 : iran facing world most verification nuke watchdog \n",
      "예측 요약 :  iran to nuclear deal with nuclear deal in us\n",
      "\n",
      "\n",
      "원문 : jsw steel joint md rao said indian steel industry jio moment despite entry world largest steelmaker arcelormittal lakshmi mittal led company recently emerged winning bidder acquire essar steel jsw said entry arcelormittal would good competition india steel market room growth \n",
      "실제 요약 : arcelormittal cannot do jio in indian steel industry steel \n",
      "예측 요약 :  tata steel steel nifty surges to acquire tata steel\n",
      "\n",
      "\n",
      "원문 : senior spokesperson karni sena unit chittorgarh claimed women signed jauhar comes supreme court rejected pleas rajasthan madhya pradesh seeking modification order lifted ban padmaavat four states people verdict court spokesperson added \n",
      "실제 요약 : our women have for jauhar karni sena on sc order \n",
      "예측 요약 :  karni sena denies padmaavat ban on padmaavat\n",
      "\n",
      "\n",
      "원문 : makemytrip chairman deep kalra said federation hotel restaurant associations india right dictate online travel portal commercial deals comes sent notice accusing encouraging predatory pricing adding deal entity separate said hopes see reason \n",
      "실제 요약 : cannot our commercial deals makemytrip \n",
      "예측 요약 :  mumbai airport to be allowed to recover legal rules\n",
      "\n",
      "\n",
      "원문 : india cartosat series satellite launched aboard pslv rocket june sent back first images earth observing satellite imaged several places rajasthan telangana using cameras took pictures egypt qatar isro launched satellite km polar sun orbit \n",
      "실제 요약 : indian satellite among launched at once sends st images \n",
      "예측 요약 :  isro launches satellite to launch its first ever satellite\n",
      "\n",
      "\n",
      "원문 : itc agreed remove references rival pepsico advertisement campaign hashtag juice brand natural delhi high court directed itc discontinue campaign complaint pepsico however itc allowed hold promotional event mumbai without pepsico brands \n",
      "실제 요약 : itc juice ad drops reference to \n",
      "예측 요약 :  ad slammed for ad featuring ads on tv show\n",
      "\n",
      "\n",
      "원문 : implementation goods service tax july fares ac first class train travel see marginal increase service tax levied ac first class travel fare railways increase gst rolled \n",
      "실제 요약 : ac first class train fares to go up after gst \n",
      "예측 요약 :  gst rates for the gst rate in july\n",
      "\n",
      "\n",
      "원문 : srinivasan suggested chennai super kings banned ipl two years due jealousy player made mistake team deserve punishment got added anger among players treated like brought victory determined prove best said \n",
      "실제 요약 : anger among csk players led to ipl win \n",
      "예측 요약 :  ipl is not to be in ipl than ipl\n",
      "\n",
      "\n",
      "원문 : india scored runs innings five occasions last months teams combined crossed landmark india scored ongoing test sri lanka registered tests december india made single total five years \n",
      "실제 요약 : ind has scores in last months other teams have \n",
      "예측 요약 :  india lose to register th straight series in\n",
      "\n",
      "\n",
      "원문 : addressing gathering chartered accountants friday niti aayog vice chairman rajiv kumar said goods services tax regime would get next months cas extend cooperation erase organised unorganised sectors added unfortunately trying scare investors away gst said \n",
      "실제 요약 : gst regime to stabilise in next months niti aayog vc \n",
      "예측 요약 :  will not allow to make the next fiscal niti aayog\n",
      "\n",
      "\n",
      "원문 : central government planning increase speed limit highways kilometres per hour across india currently national highways country speed limit kilometres per hour except yamuna expressway kilometres per hour speed limit \n",
      "실제 요약 : govt plans to increase speed limit on highways \n",
      "예측 요약 :  govt to launch km speed of km in km km to km\n",
      "\n",
      "\n",
      "원문 : us president donald trump blamed alt right left wing supporters violence virginia left one protester dead several others injured slammed left wing supporters charging alt right group one side bad group side also violent trump said \n",
      "실제 요약 : trump blames both sides for virginia violence \n",
      "예측 요약 :  trump charged with florida shooting by florida\n",
      "\n",
      "\n",
      "원문 : us district judge blocked president donald trump administration ending dreamers programme aims shield deportation immigrants brought illegally us children however judge added nothing order prohibits agency proceeding remove individual determines poses risk national security public safety \n",
      "실제 요약 : us judge blocks trump move to end dreamers programme \n",
      "예측 요약 :  us judge trump calls for migrant dreamers\n",
      "\n",
      "\n",
      "원문 : fatima sana shaikh film dangal completing two years release shared pictures film sets wrote dangal beautiful journey everybody met process extremely special precious every moment still love guys much wrote dangal released december \n",
      "실제 요약 : dangal has been beautiful journey fatima on yrs of film \n",
      "예측 요약 :  fatima to star in film with villain in film report\n",
      "\n",
      "\n",
      "원문 : death toll landslide flooding sierra leone town risen rescue officials said sunday many people evacuated remain missing side mount sugar collapsed last week heavy rains leading one worst flood related disasters africa recent years \n",
      "실제 요약 : death toll from leone landslide rises to \n",
      "예측 요약 :  death toll in maharashtra floods rises to\n",
      "\n",
      "\n",
      "원문 : railways suffered loss around lakh mumbai road overbridge collapsed earlier month minister state railways rajen gohain informed lok sabha today added commissioner railway safety western circle nominated conduct inquiry july road overbridge collapsed rail tracks andheri injuring five \n",
      "실제 요약 : railways suffered loss in mumbai bridge collapse govt \n",
      "예측 요약 :  mumbai train accident after days of local train\n",
      "\n",
      "\n",
      "원문 : swara bhaskar said frank much stake like actors shah rukh khan aamir khan added crores endorsements lose kind visibility swara revealed sometimes film producers told swara say much \n",
      "실제 요약 : as do not have much at stake like srk aamir swara \n",
      "예측 요약 :  srk is not scared of my own film on srk\n",
      "\n",
      "\n",
      "원문 : alaska airlines wednesday announced drop virgin america brand months buying billion merger following virgin group founder richard branson said many tears shed today time alaska airlines decision buy retire virgin america interestingly virgin america known flight entertainment colourful lighting \n",
      "실제 요약 : alaska airlines to drop virgin america brand \n",
      "예측 요약 :  airline to sell billion to make billion dollar\n",
      "\n",
      "\n",
      "원문 : salil mehta indian origin statistics professor columbia university friday claimed search giant google blocked gmail account took blog without reason warning mehta took twitter complain block also tweeted google ceo sundar pichai accounts restored later reason behind block disclosed \n",
      "실제 요약 : indian origin professor claims google blocked his mail blog \n",
      "예측 요약 :  google claims google co founder\n",
      "\n",
      "\n",
      "원문 : china reportedly planning launch satellite eight times brighter moon satellite like glow would able light area diameter km enabling replace per private space contractor however clear whether plan backed chinese government \n",
      "실제 요약 : chinese city plans artificial moon to replace by \n",
      "예측 요약 :  china to launch its first ever satellite mission\n",
      "\n",
      "\n",
      "원문 : godrej group chairman adi godrej said indian economy much better generally perceived said growth rate reasonable april may slipped june due ahead gst rollout also said people wait see gst add significant value gdp \n",
      "실제 요약 : economy doing much better than it feels adi godrej \n",
      "예측 요약 :  infosys has not lost any idea in years adi godrej\n",
      "\n",
      "\n",
      "원문 : olympics seniors multi sport event held king stadium brussels belgium event gave people aged chance compete range adapted sports activities including metres relay javelin throw ball throw wheelchair racing music quiz among others \n",
      "실제 요약 : in pictures olympics for seniors held in belgium \n",
      "예측 요약 :  olympic champion pulls out of his career at\n",
      "\n",
      "\n",
      "원문 : enforcement directorate tuesday said seized properties worth crore fugitive jeweller nirav modi dubai connection crore pnb loan fraud properties named modi group company firestar diamond ed said properties seized ed prevention money laundering act \n",
      "실제 요약 : properties of nirav modi worth cr in dubai seized by ed \n"
     ]
    },
    {
     "name": "stdout",
     "output_type": "stream",
     "text": [
      "예측 요약 :  ed attaches assets worth crore in nirav modi\n",
      "\n",
      "\n",
      "원문 : former indian pacer chetan sharma bowled three new zealand batsmen three successive deliveries october nagpur becoming first bowler take hat trick cricket world cup match also first hat trick taken indian first bowled hat trick international cricket \n",
      "실제 요약 : first ever hat trick in world cup was taken by an indian \n",
      "예측 요약 :  indian pacer once took hat trick in odi cricket\n",
      "\n",
      "\n",
      "원문 : supplier booked providing fake jewellery mass marriage programme organised uttar pradesh government eight women returned ornaments saying made silver district social welfare department role also assessed official said wedding took place vivah yojana wherein state spends bride \n",
      "실제 요약 : up brides get fake jewellery in state organised mass wedding \n",
      "예측 요약 :  fake jewellery jewellery in assam couple held for marry\n",
      "\n",
      "\n",
      "원문 : mother ag one convicts rajiv gandhi assassination case met tamil nadu governor banwarilal purohit seeking son release following cabinet recommendation matter along petition presented judge kt thomas reported remarks serious flaws cbi investigation details son behaviour earlier parole nnnn \n",
      "실제 요약 : mother of convict in rajiv gandhi murder meets tn governor \n",
      "예측 요약 :  mother moves sc against nirbhaya mother mother in law\n",
      "\n",
      "\n",
      "원문 : gangrape survivor attacked acid fourth time outside hostel lucknow saturday woman sustained several injuries face attacked despite round clock police protection armed guard gangraped previously attacked acid march year \n",
      "실제 요약 : rape survivor attacked with acid for fourth time in lucknow \n",
      "예측 요약 :  girl injured as acid attack on her acid in mumbai\n",
      "\n",
      "\n"
     ]
    }
   ],
   "source": [
    "for i in range(50, 100):\n",
    "    print(\"원문 :\", seq2text(encoder_input_test[i]))\n",
    "    print(\"실제 요약 :\", seq2summary(decoder_input_test[i]))\n",
    "    print(\"예측 요약 :\", decode_sequence(encoder_input_test[i].reshape(1, text_max_len)))\n",
    "    print(\"\\n\")"
   ]
  },
  {
   "cell_type": "code",
   "execution_count": null,
   "metadata": {},
   "outputs": [],
   "source": []
  }
 ],
 "metadata": {
  "kernelspec": {
   "display_name": "aiffel",
   "language": "python",
   "name": "aiffel"
  },
  "language_info": {
   "codemirror_mode": {
    "name": "ipython",
    "version": 3
   },
   "file_extension": ".py",
   "mimetype": "text/x-python",
   "name": "python",
   "nbconvert_exporter": "python",
   "pygments_lexer": "ipython3",
   "version": "3.7.9"
  }
 },
 "nbformat": 4,
 "nbformat_minor": 4
}
