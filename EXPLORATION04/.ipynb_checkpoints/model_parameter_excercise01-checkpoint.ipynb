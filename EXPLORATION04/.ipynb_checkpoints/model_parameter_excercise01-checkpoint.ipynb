{
 "cells": [
  {
   "cell_type": "markdown",
   "metadata": {},
   "source": [
    "# import Libs"
   ]
  },
  {
   "cell_type": "code",
   "execution_count": 2,
   "metadata": {},
   "outputs": [],
   "source": [
    "import pandas as pd\n",
    "import urllib.request\n",
    "import matplotlib.pyplot as plt\n",
    "import re\n",
    "from konlpy.tag import Mecab\n",
    "import tensorflow as tf\n",
    "from tensorflow import keras\n",
    "from tensorflow.keras.preprocessing.text import Tokenizer\n",
    "import numpy as np\n",
    "from tensorflow.keras.preprocessing.sequence import pad_sequences\n",
    "from collections import Counter\n",
    "from tensorflow.keras.initializers import Constant\n"
   ]
  },
  {
   "cell_type": "markdown",
   "metadata": {},
   "source": [
    "# read data"
   ]
  },
  {
   "cell_type": "code",
   "execution_count": 3,
   "metadata": {},
   "outputs": [
    {
     "data": {
      "text/html": [
       "<div>\n",
       "<style scoped>\n",
       "    .dataframe tbody tr th:only-of-type {\n",
       "        vertical-align: middle;\n",
       "    }\n",
       "\n",
       "    .dataframe tbody tr th {\n",
       "        vertical-align: top;\n",
       "    }\n",
       "\n",
       "    .dataframe thead th {\n",
       "        text-align: right;\n",
       "    }\n",
       "</style>\n",
       "<table border=\"1\" class=\"dataframe\">\n",
       "  <thead>\n",
       "    <tr style=\"text-align: right;\">\n",
       "      <th></th>\n",
       "      <th>id</th>\n",
       "      <th>document</th>\n",
       "      <th>label</th>\n",
       "    </tr>\n",
       "  </thead>\n",
       "  <tbody>\n",
       "    <tr>\n",
       "      <th>0</th>\n",
       "      <td>9976970</td>\n",
       "      <td>아 더빙.. 진짜 짜증나네요 목소리</td>\n",
       "      <td>0</td>\n",
       "    </tr>\n",
       "    <tr>\n",
       "      <th>1</th>\n",
       "      <td>3819312</td>\n",
       "      <td>흠...포스터보고 초딩영화줄....오버연기조차 가볍지 않구나</td>\n",
       "      <td>1</td>\n",
       "    </tr>\n",
       "    <tr>\n",
       "      <th>2</th>\n",
       "      <td>10265843</td>\n",
       "      <td>너무재밓었다그래서보는것을추천한다</td>\n",
       "      <td>0</td>\n",
       "    </tr>\n",
       "    <tr>\n",
       "      <th>3</th>\n",
       "      <td>9045019</td>\n",
       "      <td>교도소 이야기구먼 ..솔직히 재미는 없다..평점 조정</td>\n",
       "      <td>0</td>\n",
       "    </tr>\n",
       "    <tr>\n",
       "      <th>4</th>\n",
       "      <td>6483659</td>\n",
       "      <td>사이몬페그의 익살스런 연기가 돋보였던 영화!스파이더맨에서 늙어보이기만 했던 커스틴 ...</td>\n",
       "      <td>1</td>\n",
       "    </tr>\n",
       "  </tbody>\n",
       "</table>\n",
       "</div>"
      ],
      "text/plain": [
       "         id                                           document  label\n",
       "0   9976970                                아 더빙.. 진짜 짜증나네요 목소리      0\n",
       "1   3819312                  흠...포스터보고 초딩영화줄....오버연기조차 가볍지 않구나      1\n",
       "2  10265843                                  너무재밓었다그래서보는것을추천한다      0\n",
       "3   9045019                      교도소 이야기구먼 ..솔직히 재미는 없다..평점 조정      0\n",
       "4   6483659  사이몬페그의 익살스런 연기가 돋보였던 영화!스파이더맨에서 늙어보이기만 했던 커스틴 ...      1"
      ]
     },
     "execution_count": 3,
     "metadata": {},
     "output_type": "execute_result"
    }
   ],
   "source": [
    "train = pd.read_table(\"ratings_train.txt\")\n",
    "test = pd.read_table(\"ratings_test.txt\")\n",
    "train.head()"
   ]
  },
  {
   "cell_type": "code",
   "execution_count": 4,
   "metadata": {},
   "outputs": [
    {
     "name": "stdout",
     "output_type": "stream",
     "text": [
      "<class 'pandas.core.frame.DataFrame'>\n",
      "RangeIndex: 150000 entries, 0 to 149999\n",
      "Data columns (total 3 columns):\n",
      " #   Column    Non-Null Count   Dtype \n",
      "---  ------    --------------   ----- \n",
      " 0   id        150000 non-null  int64 \n",
      " 1   document  149995 non-null  object\n",
      " 2   label     150000 non-null  int64 \n",
      "dtypes: int64(2), object(1)\n",
      "memory usage: 3.4+ MB\n"
     ]
    }
   ],
   "source": [
    "train.info()"
   ]
  },
  {
   "cell_type": "markdown",
   "metadata": {},
   "source": [
    "# prepare data loader\n",
    "- delete duplicated data\n",
    "- delete Na\n",
    "- tokenization\n",
    "- delete stopwords\n",
    "- make word_to_index\n",
    "- convert text string to index string\n",
    "- return X_train, y_train, y_test, word_to_index"
   ]
  },
  {
   "cell_type": "markdown",
   "metadata": {},
   "source": [
    "## method implementation test for preprocessing"
   ]
  },
  {
   "cell_type": "code",
   "execution_count": 5,
   "metadata": {},
   "outputs": [
    {
     "name": "stdout",
     "output_type": "stream",
     "text": [
      "######drop na######\n",
      "- na count -\n",
      "id          0\n",
      "document    5\n",
      "label       0\n",
      "dtype: int64\n",
      "\n",
      "- drop na result -\n",
      "<class 'pandas.core.frame.DataFrame'>\n",
      "Int64Index: 149995 entries, 0 to 149999\n",
      "Data columns (total 3 columns):\n",
      " #   Column    Non-Null Count   Dtype \n",
      "---  ------    --------------   ----- \n",
      " 0   id        149995 non-null  int64 \n",
      " 1   document  149995 non-null  object\n",
      " 2   label     149995 non-null  int64 \n",
      "dtypes: int64(2), object(1)\n",
      "memory usage: 4.6+ MB\n"
     ]
    }
   ],
   "source": [
    "def drop_na(df):\n",
    "    print(\"######drop na######\")\n",
    "    print(\"- na count -\")\n",
    "    print(df.isna().sum())\n",
    "    print()\n",
    "    na_df = df.dropna(axis=0)\n",
    "    print(\"- drop na result -\")\n",
    "    na_df.info()\n",
    "    return na_df\n",
    "\n",
    "train_copy = train.copy()\n",
    "train_na = drop_na(train_copy)"
   ]
  },
  {
   "cell_type": "code",
   "execution_count": 6,
   "metadata": {},
   "outputs": [
    {
     "name": "stdout",
     "output_type": "stream",
     "text": [
      "number of duplicated id :  0\n"
     ]
    },
    {
     "name": "stderr",
     "output_type": "stream",
     "text": [
      "/home/aiffel/anaconda3/envs/aiffel/lib/python3.7/site-packages/ipykernel_launcher.py:3: SettingWithCopyWarning: \n",
      "A value is trying to be set on a copy of a slice from a DataFrame\n",
      "\n",
      "See the caveats in the documentation: https://pandas.pydata.org/pandas-docs/stable/user_guide/indexing.html#returning-a-view-versus-a-copy\n",
      "  This is separate from the ipykernel package so we can avoid doing imports until\n"
     ]
    },
    {
     "data": {
      "text/html": [
       "<div>\n",
       "<style scoped>\n",
       "    .dataframe tbody tr th:only-of-type {\n",
       "        vertical-align: middle;\n",
       "    }\n",
       "\n",
       "    .dataframe tbody tr th {\n",
       "        vertical-align: top;\n",
       "    }\n",
       "\n",
       "    .dataframe thead th {\n",
       "        text-align: right;\n",
       "    }\n",
       "</style>\n",
       "<table border=\"1\" class=\"dataframe\">\n",
       "  <thead>\n",
       "    <tr style=\"text-align: right;\">\n",
       "      <th></th>\n",
       "      <th>id</th>\n",
       "      <th>document</th>\n",
       "      <th>label</th>\n",
       "    </tr>\n",
       "  </thead>\n",
       "  <tbody>\n",
       "    <tr>\n",
       "      <th>0</th>\n",
       "      <td>9976970</td>\n",
       "      <td>아 더빙.. 진짜 짜증나네요 목소리</td>\n",
       "      <td>0</td>\n",
       "    </tr>\n",
       "    <tr>\n",
       "      <th>1</th>\n",
       "      <td>3819312</td>\n",
       "      <td>흠...포스터보고 초딩영화줄....오버연기조차 가볍지 않구나</td>\n",
       "      <td>1</td>\n",
       "    </tr>\n",
       "    <tr>\n",
       "      <th>2</th>\n",
       "      <td>10265843</td>\n",
       "      <td>너무재밓었다그래서보는것을추천한다</td>\n",
       "      <td>0</td>\n",
       "    </tr>\n",
       "    <tr>\n",
       "      <th>3</th>\n",
       "      <td>9045019</td>\n",
       "      <td>교도소 이야기구먼 ..솔직히 재미는 없다..평점 조정</td>\n",
       "      <td>0</td>\n",
       "    </tr>\n",
       "    <tr>\n",
       "      <th>4</th>\n",
       "      <td>6483659</td>\n",
       "      <td>사이몬페그의 익살스런 연기가 돋보였던 영화!스파이더맨에서 늙어보이기만 했던 커스틴 ...</td>\n",
       "      <td>1</td>\n",
       "    </tr>\n",
       "  </tbody>\n",
       "</table>\n",
       "</div>"
      ],
      "text/plain": [
       "         id                                           document  label\n",
       "0   9976970                                아 더빙.. 진짜 짜증나네요 목소리      0\n",
       "1   3819312                  흠...포스터보고 초딩영화줄....오버연기조차 가볍지 않구나      1\n",
       "2  10265843                                  너무재밓었다그래서보는것을추천한다      0\n",
       "3   9045019                      교도소 이야기구먼 ..솔직히 재미는 없다..평점 조정      0\n",
       "4   6483659  사이몬페그의 익살스런 연기가 돋보였던 영화!스파이더맨에서 늙어보이기만 했던 커스틴 ...      1"
      ]
     },
     "execution_count": 6,
     "metadata": {},
     "output_type": "execute_result"
    }
   ],
   "source": [
    "def drop_duplicates(na_df):\n",
    "    print(\"number of duplicated id : \", train_na.duplicated([\"id\"]).sum())\n",
    "    na_df.drop_duplicates(\"id\", inplace=True)\n",
    "    return na_df\n",
    "\n",
    "train_duplicate = drop_duplicates(train_na)\n",
    "train_duplicate.head()"
   ]
  },
  {
   "cell_type": "code",
   "execution_count": 7,
   "metadata": {},
   "outputs": [
    {
     "data": {
      "text/html": [
       "<div>\n",
       "<style scoped>\n",
       "    .dataframe tbody tr th:only-of-type {\n",
       "        vertical-align: middle;\n",
       "    }\n",
       "\n",
       "    .dataframe tbody tr th {\n",
       "        vertical-align: top;\n",
       "    }\n",
       "\n",
       "    .dataframe thead th {\n",
       "        text-align: right;\n",
       "    }\n",
       "</style>\n",
       "<table border=\"1\" class=\"dataframe\">\n",
       "  <thead>\n",
       "    <tr style=\"text-align: right;\">\n",
       "      <th></th>\n",
       "      <th>id</th>\n",
       "      <th>document</th>\n",
       "      <th>label</th>\n",
       "    </tr>\n",
       "  </thead>\n",
       "  <tbody>\n",
       "    <tr>\n",
       "      <th>0</th>\n",
       "      <td>9976970</td>\n",
       "      <td>[아, 더, 빙, ., ., 진짜, 짜증, 나, 네요, 목소리]</td>\n",
       "      <td>0</td>\n",
       "    </tr>\n",
       "    <tr>\n",
       "      <th>1</th>\n",
       "      <td>3819312</td>\n",
       "      <td>[흠, ., .., 포스터, 보고, 초딩, 영화, 줄, ., ..., 오버, 연기,...</td>\n",
       "      <td>1</td>\n",
       "    </tr>\n",
       "    <tr>\n",
       "      <th>2</th>\n",
       "      <td>10265843</td>\n",
       "      <td>[너무, 재, 밓었다그래서보는것을추천한다]</td>\n",
       "      <td>0</td>\n",
       "    </tr>\n",
       "    <tr>\n",
       "      <th>3</th>\n",
       "      <td>9045019</td>\n",
       "      <td>[교도소, 이야기, 구먼, ., ., 솔직히, 재미, 는, 없, 다, ., ., 평...</td>\n",
       "      <td>0</td>\n",
       "    </tr>\n",
       "    <tr>\n",
       "      <th>4</th>\n",
       "      <td>6483659</td>\n",
       "      <td>[사이몬페그, 의, 익살, 스런, 연기, 가, 돋보였, 던, 영화, !, 스파이더맨...</td>\n",
       "      <td>1</td>\n",
       "    </tr>\n",
       "    <tr>\n",
       "      <th>5</th>\n",
       "      <td>5403919</td>\n",
       "      <td>[막, 걸음마, 뗀, 3, 세, 부터, 초등, 학교, 1, 학년, 생, 인, 8, ...</td>\n",
       "      <td>0</td>\n",
       "    </tr>\n",
       "    <tr>\n",
       "      <th>6</th>\n",
       "      <td>7797314</td>\n",
       "      <td>[원작, 의, 긴장감, 을, 제대로, 살려, 내, 지, 못했, 다, .]</td>\n",
       "      <td>0</td>\n",
       "    </tr>\n",
       "    <tr>\n",
       "      <th>7</th>\n",
       "      <td>9443947</td>\n",
       "      <td>[별, 반개, 도, 아깝, 다, 욕, 나온다, 이응경, 길용우, 연기, 생활, 이,...</td>\n",
       "      <td>0</td>\n",
       "    </tr>\n",
       "    <tr>\n",
       "      <th>8</th>\n",
       "      <td>7156791</td>\n",
       "      <td>[액션, 이, 없, 는데, 도, 재미, 있, 는, 몇, 안, 되, 는, 영화]</td>\n",
       "      <td>1</td>\n",
       "    </tr>\n",
       "    <tr>\n",
       "      <th>9</th>\n",
       "      <td>5912145</td>\n",
       "      <td>[왜, 케, 평점, 이, 낮, 은, 건데, ?, 꽤, 볼, 만한데, ., ., 헐리...</td>\n",
       "      <td>1</td>\n",
       "    </tr>\n",
       "  </tbody>\n",
       "</table>\n",
       "</div>"
      ],
      "text/plain": [
       "         id                                           document  label\n",
       "0   9976970                [아, 더, 빙, ., ., 진짜, 짜증, 나, 네요, 목소리]      0\n",
       "1   3819312  [흠, ., .., 포스터, 보고, 초딩, 영화, 줄, ., ..., 오버, 연기,...      1\n",
       "2  10265843                            [너무, 재, 밓었다그래서보는것을추천한다]      0\n",
       "3   9045019  [교도소, 이야기, 구먼, ., ., 솔직히, 재미, 는, 없, 다, ., ., 평...      0\n",
       "4   6483659  [사이몬페그, 의, 익살, 스런, 연기, 가, 돋보였, 던, 영화, !, 스파이더맨...      1\n",
       "5   5403919  [막, 걸음마, 뗀, 3, 세, 부터, 초등, 학교, 1, 학년, 생, 인, 8, ...      0\n",
       "6   7797314           [원작, 의, 긴장감, 을, 제대로, 살려, 내, 지, 못했, 다, .]      0\n",
       "7   9443947  [별, 반개, 도, 아깝, 다, 욕, 나온다, 이응경, 길용우, 연기, 생활, 이,...      0\n",
       "8   7156791        [액션, 이, 없, 는데, 도, 재미, 있, 는, 몇, 안, 되, 는, 영화]      1\n",
       "9   5912145  [왜, 케, 평점, 이, 낮, 은, 건데, ?, 꽤, 볼, 만한데, ., ., 헐리...      1"
      ]
     },
     "execution_count": 7,
     "metadata": {},
     "output_type": "execute_result"
    }
   ],
   "source": [
    "def tokenization(df):\n",
    "    train_token = df.copy()\n",
    "    mecab = Mecab()\n",
    "    train_token[\"document\"] = train_duplicate[\"document\"].map(lambda x: mecab.morphs(x))\n",
    "    return train_token\n",
    "train_token = tokenization(train_duplicate)\n",
    "train_token.head(10)"
   ]
  },
  {
   "cell_type": "code",
   "execution_count": 8,
   "metadata": {
    "scrolled": false
   },
   "outputs": [
    {
     "data": {
      "text/html": [
       "<div>\n",
       "<style scoped>\n",
       "    .dataframe tbody tr th:only-of-type {\n",
       "        vertical-align: middle;\n",
       "    }\n",
       "\n",
       "    .dataframe tbody tr th {\n",
       "        vertical-align: top;\n",
       "    }\n",
       "\n",
       "    .dataframe thead th {\n",
       "        text-align: right;\n",
       "    }\n",
       "</style>\n",
       "<table border=\"1\" class=\"dataframe\">\n",
       "  <thead>\n",
       "    <tr style=\"text-align: right;\">\n",
       "      <th></th>\n",
       "      <th>id</th>\n",
       "      <th>document</th>\n",
       "      <th>label</th>\n",
       "    </tr>\n",
       "  </thead>\n",
       "  <tbody>\n",
       "    <tr>\n",
       "      <th>0</th>\n",
       "      <td>9976970</td>\n",
       "      <td>[아, 더, 빙, ., ., 진짜, 짜증, 나, 네요, 목소리]</td>\n",
       "      <td>0</td>\n",
       "    </tr>\n",
       "    <tr>\n",
       "      <th>1</th>\n",
       "      <td>3819312</td>\n",
       "      <td>[흠, ., .., 포스터, 보고, 초딩, 영화, 줄, ., ..., 오버, 연기,...</td>\n",
       "      <td>1</td>\n",
       "    </tr>\n",
       "    <tr>\n",
       "      <th>2</th>\n",
       "      <td>10265843</td>\n",
       "      <td>[너무, 재, 밓었다그래서보는것을추천한다]</td>\n",
       "      <td>0</td>\n",
       "    </tr>\n",
       "    <tr>\n",
       "      <th>3</th>\n",
       "      <td>9045019</td>\n",
       "      <td>[교도소, 이야기, 구먼, ., ., 솔직히, 재미, 없, 다, ., ., 평점, 조정]</td>\n",
       "      <td>0</td>\n",
       "    </tr>\n",
       "    <tr>\n",
       "      <th>4</th>\n",
       "      <td>6483659</td>\n",
       "      <td>[사이몬페그, 익살, 스런, 연기, 돋보였, 던, 영화, !, 스파이더맨, 에서, ...</td>\n",
       "      <td>1</td>\n",
       "    </tr>\n",
       "    <tr>\n",
       "      <th>5</th>\n",
       "      <td>5403919</td>\n",
       "      <td>[막, 걸음마, 뗀, 3, 세, 부터, 초등, 학교, 1, 학년, 생, 인, 8, ...</td>\n",
       "      <td>0</td>\n",
       "    </tr>\n",
       "    <tr>\n",
       "      <th>6</th>\n",
       "      <td>7797314</td>\n",
       "      <td>[원작, 긴장감, 을, 제대로, 살려, 내, 지, 못했, 다, .]</td>\n",
       "      <td>0</td>\n",
       "    </tr>\n",
       "    <tr>\n",
       "      <th>7</th>\n",
       "      <td>9443947</td>\n",
       "      <td>[별, 반개, 아깝, 다, 욕, 나온다, 이응경, 길용우, 연기, 생활, 이, 몇,...</td>\n",
       "      <td>0</td>\n",
       "    </tr>\n",
       "    <tr>\n",
       "      <th>8</th>\n",
       "      <td>7156791</td>\n",
       "      <td>[액션, 이, 없, 는데, 재미, 있, 몇, 안, 되, 영화]</td>\n",
       "      <td>1</td>\n",
       "    </tr>\n",
       "    <tr>\n",
       "      <th>9</th>\n",
       "      <td>5912145</td>\n",
       "      <td>[왜, 케, 평점, 이, 낮, 건데, ?, 꽤, 볼, 만한데, ., ., 헐리우드,...</td>\n",
       "      <td>1</td>\n",
       "    </tr>\n",
       "  </tbody>\n",
       "</table>\n",
       "</div>"
      ],
      "text/plain": [
       "         id                                           document  label\n",
       "0   9976970                [아, 더, 빙, ., ., 진짜, 짜증, 나, 네요, 목소리]      0\n",
       "1   3819312  [흠, ., .., 포스터, 보고, 초딩, 영화, 줄, ., ..., 오버, 연기,...      1\n",
       "2  10265843                            [너무, 재, 밓었다그래서보는것을추천한다]      0\n",
       "3   9045019  [교도소, 이야기, 구먼, ., ., 솔직히, 재미, 없, 다, ., ., 평점, 조정]      0\n",
       "4   6483659  [사이몬페그, 익살, 스런, 연기, 돋보였, 던, 영화, !, 스파이더맨, 에서, ...      1\n",
       "5   5403919  [막, 걸음마, 뗀, 3, 세, 부터, 초등, 학교, 1, 학년, 생, 인, 8, ...      0\n",
       "6   7797314              [원작, 긴장감, 을, 제대로, 살려, 내, 지, 못했, 다, .]      0\n",
       "7   9443947  [별, 반개, 아깝, 다, 욕, 나온다, 이응경, 길용우, 연기, 생활, 이, 몇,...      0\n",
       "8   7156791                 [액션, 이, 없, 는데, 재미, 있, 몇, 안, 되, 영화]      1\n",
       "9   5912145  [왜, 케, 평점, 이, 낮, 건데, ?, 꽤, 볼, 만한데, ., ., 헐리우드,...      1"
      ]
     },
     "execution_count": 8,
     "metadata": {},
     "output_type": "execute_result"
    }
   ],
   "source": [
    "def delete_stop_words(df):\n",
    "    stopwords = ['의', '가', '은', '들', '는', '좀', '잘',\n",
    "                 '강', '과', '도', '를', '으로', '자', '에',\n",
    "                 '와', '한', '하다']\n",
    "    stop_df = df.copy()\n",
    "    stop_df[\"document\"] = stop_df[\"document\"].apply(lambda x: [item for item in x if item not in stopwords])\n",
    "    return stop_df\n",
    "\n",
    "train_stopwords = delete_stop_words(train_token)\n",
    "train_stopwords.head(10)"
   ]
  },
  {
   "cell_type": "code",
   "execution_count": 9,
   "metadata": {},
   "outputs": [],
   "source": [
    "def make_words(df):\n",
    "    total_set = set()\n",
    "    df[\"document\"].apply(lambda x: [total_set.add(item) for item in x])\n",
    "    word_lst = list(total_set)\n",
    "    return word_lst\n",
    "\n",
    "def make_index_to_word(del_stopwords):\n",
    "    word_lst = make_words(del_stopwords)\n",
    "    index_to_word = {}\n",
    "    index_to_word[0] = '<PAD>'\n",
    "    index_to_word[1] = '<BOS>'\n",
    "    index_to_word[2] = '<UNK>'\n",
    "    for i in range(3, len(word_lst) + 2):\n",
    "        index_to_word[i] = word_lst[i - 3]\n",
    "    return index_to_word\n",
    "\n",
    "index_to_word = make_index_to_word(train_stopwords)"
   ]
  },
  {
   "cell_type": "code",
   "execution_count": 10,
   "metadata": {},
   "outputs": [
    {
     "name": "stdout",
     "output_type": "stream",
     "text": [
      "0 <PAD>\n",
      "1 <BOS>\n",
      "2 <UNK>\n",
      "3 도사리\n",
      "4 졌으니\n",
      "5 ㅠㅠ특히\n",
      "6 벤치\n",
      "7 클론\n",
      "8 인형극\n",
      "9 손범수\n"
     ]
    }
   ],
   "source": [
    "for i in range(10):\n",
    "    print(i, index_to_word[i])"
   ]
  },
  {
   "cell_type": "markdown",
   "metadata": {},
   "source": [
    "# data loader implementation with preprocessing"
   ]
  },
  {
   "cell_type": "code",
   "execution_count": 11,
   "metadata": {},
   "outputs": [
    {
     "name": "stdout",
     "output_type": "stream",
     "text": [
      "######drop na######\n",
      "- na count -\n",
      "id          0\n",
      "document    5\n",
      "label       0\n",
      "dtype: int64\n",
      "\n",
      "- drop na result -\n",
      "<class 'pandas.core.frame.DataFrame'>\n",
      "Int64Index: 149995 entries, 0 to 149999\n",
      "Data columns (total 3 columns):\n",
      " #   Column    Non-Null Count   Dtype \n",
      "---  ------    --------------   ----- \n",
      " 0   id        149995 non-null  int64 \n",
      " 1   document  149995 non-null  object\n",
      " 2   label     149995 non-null  int64 \n",
      "dtypes: int64(2), object(1)\n",
      "memory usage: 4.6+ MB\n",
      "number of duplicated id :  0\n"
     ]
    },
    {
     "name": "stderr",
     "output_type": "stream",
     "text": [
      "/home/aiffel/anaconda3/envs/aiffel/lib/python3.7/site-packages/ipykernel_launcher.py:3: SettingWithCopyWarning: \n",
      "A value is trying to be set on a copy of a slice from a DataFrame\n",
      "\n",
      "See the caveats in the documentation: https://pandas.pydata.org/pandas-docs/stable/user_guide/indexing.html#returning-a-view-versus-a-copy\n",
      "  This is separate from the ipykernel package so we can avoid doing imports until\n"
     ]
    },
    {
     "name": "stdout",
     "output_type": "stream",
     "text": [
      "######drop na######\n",
      "- na count -\n",
      "id          0\n",
      "document    3\n",
      "label       0\n",
      "dtype: int64\n",
      "\n",
      "- drop na result -\n",
      "<class 'pandas.core.frame.DataFrame'>\n",
      "Int64Index: 49997 entries, 0 to 49999\n",
      "Data columns (total 3 columns):\n",
      " #   Column    Non-Null Count  Dtype \n",
      "---  ------    --------------  ----- \n",
      " 0   id        49997 non-null  int64 \n",
      " 1   document  49997 non-null  object\n",
      " 2   label     49997 non-null  int64 \n",
      "dtypes: int64(2), object(1)\n",
      "memory usage: 1.5+ MB\n",
      "number of duplicated id :  0\n"
     ]
    },
    {
     "name": "stderr",
     "output_type": "stream",
     "text": [
      "/home/aiffel/anaconda3/envs/aiffel/lib/python3.7/site-packages/ipykernel_launcher.py:3: SettingWithCopyWarning: \n",
      "A value is trying to be set on a copy of a slice from a DataFrame\n",
      "\n",
      "See the caveats in the documentation: https://pandas.pydata.org/pandas-docs/stable/user_guide/indexing.html#returning-a-view-versus-a-copy\n",
      "  This is separate from the ipykernel package so we can avoid doing imports until\n"
     ]
    },
    {
     "name": "stdout",
     "output_type": "stream",
     "text": [
      "the number of total number :  53964\n"
     ]
    }
   ],
   "source": [
    "def load_data(train_data, test_data, num_words=None):\n",
    "    train_copy = train_data.copy()\n",
    "    train_na = drop_na(train_copy)\n",
    "    train_duplicate = drop_duplicates(train_na)\n",
    "    train_token = tokenization(train_duplicate).dropna()\n",
    "    train_stopwords = delete_stop_words(train_token)\n",
    "    X_train = train_stopwords[\"document\"]\n",
    "    y_train = train_stopwords[\"label\"]\n",
    "    \n",
    "    test_copy = test_data.copy()\n",
    "    test_na = drop_na(test_copy)\n",
    "    test_duplicate = drop_duplicates(test_na)\n",
    "    test_token = tokenization(test_duplicate).dropna()\n",
    "    test_stopwords = delete_stop_words(test_token)\n",
    "    X_test = test_stopwords[\"document\"]\n",
    "    y_test = test_stopwords[\"label\"]\n",
    "    \n",
    "    index_to_word = make_index_to_word(train_stopwords)\n",
    "    print(\"the number of total number : \", len(index_to_word))\n",
    "    word_to_index = {word:index for index, word in index_to_word.items() if index < num_words}\n",
    "    return X_train, y_train, X_test, y_test, word_to_index\n",
    "\n",
    "X_train, y_train, X_test, y_test, word_to_index = load_data(train, test, 50000)"
   ]
  },
  {
   "cell_type": "markdown",
   "metadata": {},
   "source": [
    "## print X_train and word_to_index"
   ]
  },
  {
   "cell_type": "code",
   "execution_count": 12,
   "metadata": {},
   "outputs": [
    {
     "name": "stdout",
     "output_type": "stream",
     "text": [
      "(149995,)\n",
      "0                       [아, 더, 빙, ., ., 진짜, 짜증, 나, 네요, 목소리]\n",
      "1         [흠, ., .., 포스터, 보고, 초딩, 영화, 줄, ., ..., 오버, 연기,...\n",
      "2                                   [너무, 재, 밓었다그래서보는것을추천한다]\n",
      "3         [교도소, 이야기, 구먼, ., ., 솔직히, 재미, 없, 다, ., ., 평점, 조정]\n",
      "4         [사이몬페그, 익살, 스런, 연기, 돋보였, 던, 영화, !, 스파이더맨, 에서, ...\n",
      "                                ...                        \n",
      "149995              [인간, 이, 문제, 지, ., ., 소, 뭔, 죄, 인가, ., .]\n",
      "149996                            [평점, 이, 너무, 낮, 아서, ., ..]\n",
      "149997        [이게, 뭐요, ?, 한국인, 거들먹거리, 고, 필리핀, 혼혈, 착하, 다, ?]\n",
      "149998               [청춘, 영화, 최고봉, ., 방황, 우울, 했, 던, 날, 자화상]\n",
      "149999                [한국, 영화, 최초, 로, 수간, 하, 내용, 이, 담긴, 영화]\n",
      "Name: document, Length: 149995, dtype: object\n"
     ]
    }
   ],
   "source": [
    "print(X_train.shape)\n",
    "print(X_train)"
   ]
  },
  {
   "cell_type": "code",
   "execution_count": 13,
   "metadata": {},
   "outputs": [
    {
     "name": "stdout",
     "output_type": "stream",
     "text": [
      "('<PAD>', 0)\n",
      "('<BOS>', 1)\n",
      "('<UNK>', 2)\n",
      "('도사리', 3)\n",
      "('졌으니', 4)\n",
      "('ㅠㅠ특히', 5)\n"
     ]
    }
   ],
   "source": [
    "for i, item in enumerate(word_to_index.items()):\n",
    "    print(item)\n",
    "    if i == 5:\n",
    "        break"
   ]
  },
  {
   "cell_type": "markdown",
   "metadata": {},
   "source": [
    "## encode sentence and decode"
   ]
  },
  {
   "cell_type": "code",
   "execution_count": 14,
   "metadata": {},
   "outputs": [
    {
     "name": "stdout",
     "output_type": "stream",
     "text": [
      "### encode sentence and decode\n",
      "['아', '더', '빙', '.', '.', '진짜', '짜증', '나', '네요', '목소리']\n",
      "[1, 2, 46026, 46781, 17047, 17047, 28508, 30169, 46330, 13323, 21108]\n",
      "<UNK> 더 빙 . . 진짜 짜증 나 네요 목소리\n"
     ]
    }
   ],
   "source": [
    "def get_encoded_sentence(sentence, word_to_index):\n",
    "    return [word_to_index['<BOS>']]+[word_to_index[word] if word in word_to_index else word_to_index['<UNK>'] for word in sentence]\n",
    "\n",
    "def get_encoded_sentences(sentences, word_to_index):\n",
    "    return [get_encoded_sentence(sentence, word_to_index) for sentence in sentences]\n",
    "\n",
    "def get_decoded_sentence(encoded_sentence, index_to_word):\n",
    "    return ' '.join(index_to_word[index] if index in index_to_word else '<UNK>' for index in encoded_sentence[1:])  #[1:]를 통해 <BOS>를 제외\n",
    "\n",
    "def get_decoded_sentences(encoded_sentences, index_to_word):\n",
    "    return [get_decoded_sentence(encoded_sentence, index_to_word) for encoded_sentence in encoded_sentences]\n",
    "\n",
    "index_to_word = {index:word for word, index in word_to_index.items()}\n",
    "\n",
    "print(\"### encode sentence and decode\")\n",
    "sentence = X_train[0]\n",
    "print(sentence)\n",
    "encoded = get_encoded_sentence(sentence, word_to_index)\n",
    "print(encoded)\n",
    "decoded = get_decoded_sentence(encoded,index_to_word)\n",
    "print(decoded)"
   ]
  },
  {
   "cell_type": "markdown",
   "metadata": {},
   "source": [
    "## encode all sentences and decode"
   ]
  },
  {
   "cell_type": "code",
   "execution_count": 15,
   "metadata": {},
   "outputs": [
    {
     "name": "stdout",
     "output_type": "stream",
     "text": [
      "[1, 2, 46026, 46781, 17047]\n",
      "['<UNK> 더 빙 . . 진짜 짜증 나 네요 목소리', '흠 . .. 포스터 보고 초딩 <UNK> 줄 . ... 오버 <UNK> 조차 가볍 지 않 구나', '너무 재 밓었다그래서보는것을추천한다', '교도소 <UNK> <UNK> . . 솔직히 재미 없 다 . . 평점 조정', '사이몬페그 익살 스런 <UNK> 돋보였 던 <UNK> ! 스파이더맨 에서 늙 어 보이 기 만 <UNK> 던 커스틴 던스트 너무나 이뻐 보였 다']\n"
     ]
    }
   ],
   "source": [
    "encoded_sentences = get_encoded_sentences(X_train, word_to_index)\n",
    "print(encoded[:5])\n",
    "decoded = get_decoded_sentences(encoded_sentences, index_to_word)\n",
    "print(decoded[:5])"
   ]
  },
  {
   "cell_type": "markdown",
   "metadata": {},
   "source": [
    "## get efficient maxlen for model performance"
   ]
  },
  {
   "cell_type": "code",
   "execution_count": 16,
   "metadata": {},
   "outputs": [
    {
     "name": "stdout",
     "output_type": "stream",
     "text": [
      "### get maxlen ###\n",
      "len of total data text :  199991\n",
      "mean of sentence len :  16.167692546164577\n",
      "max of sentence len :  116\n",
      "std of sentence len :  13.312306722103358\n",
      "pad sequences maxlen :  42\n",
      "0.9342570415668705% of total text in maxlen value\n",
      "\n",
      "\n",
      "\n"
     ]
    },
    {
     "data": {
      "text/plain": [
       "42"
      ]
     },
     "execution_count": 16,
     "metadata": {},
     "output_type": "execute_result"
    }
   ],
   "source": [
    "def get_maxlen(X_train, X_test):\n",
    "    print(\"### get maxlen ###\")\n",
    "    total_data_text = list(X_train) + list(X_test)\n",
    "    print(\"len of total data text : \", len(total_data_text))\n",
    "    num_tokens = [len(tokens) for tokens in total_data_text]\n",
    "    num_tokens = np.array(num_tokens)\n",
    "\n",
    "    print(\"mean of sentence len : \", np.mean(num_tokens))\n",
    "    print(\"max of sentence len : \", np.max(num_tokens))\n",
    "    print(\"std of sentence len : \", np.std(num_tokens))\n",
    "\n",
    "    max_token = np.mean(num_tokens) + 2 * np.std(num_tokens)\n",
    "    maxlen = int(max_token)\n",
    "    print(\"pad sequences maxlen : \", maxlen)\n",
    "    print(\"{}% of total text in maxlen value\".format(np.sum(num_tokens < max_token)/len(num_tokens)))\n",
    "    print(\"\\n\\n\")\n",
    "    return maxlen\n",
    "get_maxlen(X_train,X_test)"
   ]
  },
  {
   "cell_type": "markdown",
   "metadata": {},
   "source": [
    "# load_data redefinition with pad sequence preprocessing"
   ]
  },
  {
   "cell_type": "code",
   "execution_count": 17,
   "metadata": {},
   "outputs": [],
   "source": [
    "# to prevent \"Could not create cudnn handle: CUDNN_STATUS_INTERNAL_ERROR\"\n",
    "physical_devices = tf.config.list_physical_devices('GPU')\n",
    "tf.config.experimental.set_memory_growth(physical_devices[0], enable=True)"
   ]
  },
  {
   "cell_type": "code",
   "execution_count": 18,
   "metadata": {
    "scrolled": true
   },
   "outputs": [
    {
     "name": "stdout",
     "output_type": "stream",
     "text": [
      "######drop na######\n",
      "- na count -\n",
      "id          0\n",
      "document    5\n",
      "label       0\n",
      "dtype: int64\n",
      "\n",
      "- drop na result -\n",
      "<class 'pandas.core.frame.DataFrame'>\n",
      "Int64Index: 149995 entries, 0 to 149999\n",
      "Data columns (total 3 columns):\n",
      " #   Column    Non-Null Count   Dtype \n",
      "---  ------    --------------   ----- \n",
      " 0   id        149995 non-null  int64 \n",
      " 1   document  149995 non-null  object\n",
      " 2   label     149995 non-null  int64 \n",
      "dtypes: int64(2), object(1)\n",
      "memory usage: 4.6+ MB\n",
      "number of duplicated id :  0\n"
     ]
    },
    {
     "name": "stderr",
     "output_type": "stream",
     "text": [
      "/home/aiffel/anaconda3/envs/aiffel/lib/python3.7/site-packages/ipykernel_launcher.py:3: SettingWithCopyWarning: \n",
      "A value is trying to be set on a copy of a slice from a DataFrame\n",
      "\n",
      "See the caveats in the documentation: https://pandas.pydata.org/pandas-docs/stable/user_guide/indexing.html#returning-a-view-versus-a-copy\n",
      "  This is separate from the ipykernel package so we can avoid doing imports until\n"
     ]
    },
    {
     "name": "stdout",
     "output_type": "stream",
     "text": [
      "######drop na######\n",
      "- na count -\n",
      "id          0\n",
      "document    3\n",
      "label       0\n",
      "dtype: int64\n",
      "\n",
      "- drop na result -\n",
      "<class 'pandas.core.frame.DataFrame'>\n",
      "Int64Index: 49997 entries, 0 to 49999\n",
      "Data columns (total 3 columns):\n",
      " #   Column    Non-Null Count  Dtype \n",
      "---  ------    --------------  ----- \n",
      " 0   id        49997 non-null  int64 \n",
      " 1   document  49997 non-null  object\n",
      " 2   label     49997 non-null  int64 \n",
      "dtypes: int64(2), object(1)\n",
      "memory usage: 1.5+ MB\n",
      "number of duplicated id :  0\n"
     ]
    },
    {
     "name": "stderr",
     "output_type": "stream",
     "text": [
      "/home/aiffel/anaconda3/envs/aiffel/lib/python3.7/site-packages/ipykernel_launcher.py:3: SettingWithCopyWarning: \n",
      "A value is trying to be set on a copy of a slice from a DataFrame\n",
      "\n",
      "See the caveats in the documentation: https://pandas.pydata.org/pandas-docs/stable/user_guide/indexing.html#returning-a-view-versus-a-copy\n",
      "  This is separate from the ipykernel package so we can avoid doing imports until\n"
     ]
    },
    {
     "name": "stdout",
     "output_type": "stream",
     "text": [
      "the number of word :  53964\n",
      "### get maxlen ###\n",
      "len of total data text :  199991\n",
      "mean of sentence len :  17.167692546164577\n",
      "max of sentence len :  117\n",
      "std of sentence len :  13.312306722103358\n",
      "pad sequences maxlen :  43\n",
      "0.9342570415668705% of total text in maxlen value\n",
      "\n",
      "\n",
      "\n"
     ]
    }
   ],
   "source": [
    "def load_data(train_data, test_data, num_words=None):\n",
    "    train_copy = train_data.copy()\n",
    "    train_na = drop_na(train_copy)\n",
    "    train_duplicate = drop_duplicates(train_na)\n",
    "    train_token = tokenization(train_duplicate).dropna()\n",
    "    train_stopwords = delete_stop_words(train_token)    \n",
    "    \n",
    "    test_copy = test_data.copy()\n",
    "    test_na = drop_na(test_copy)\n",
    "    test_duplicate = drop_duplicates(test_na)\n",
    "    test_token = tokenization(test_duplicate).dropna()\n",
    "    test_stopwords = delete_stop_words(test_token)\n",
    "\n",
    "\n",
    "    index_to_word = make_index_to_word(train_stopwords)\n",
    "    print(\"the number of word : \", len(index_to_word))\n",
    "    word_to_index = {word:index for index, word in index_to_word.items() if index < num_words}\n",
    "\n",
    "    X_train = get_encoded_sentences(train_stopwords[\"document\"], word_to_index)\n",
    "    y_train = train_stopwords[\"label\"].values\n",
    "    X_test = get_encoded_sentences(test_stopwords[\"document\"], word_to_index)\n",
    "    y_test = test_stopwords[\"label\"].values  \n",
    "    \n",
    "    \n",
    "    maxlen = get_maxlen(X_train,X_test)\n",
    "    X_train = keras.preprocessing.sequence.pad_sequences(X_train,\n",
    "                                                        value=word_to_index[\"<PAD>\"],\n",
    "                                                        padding='pre',\n",
    "                                                        maxlen=maxlen)\n",
    "\n",
    "    X_test = keras.preprocessing.sequence.pad_sequences(X_test,\n",
    "                                                       value=word_to_index[\"<PAD>\"],\n",
    "                                                       padding='pre',\n",
    "                                                       maxlen=maxlen)\n",
    "    return X_train, y_train, X_test, y_test, word_to_index\n",
    "\n",
    "X_train, y_train, X_test, y_test, word_to_index = load_data(train, test, 50000)"
   ]
  },
  {
   "cell_type": "code",
   "execution_count": 19,
   "metadata": {},
   "outputs": [
    {
     "name": "stdout",
     "output_type": "stream",
     "text": [
      "(149995, 43)\n",
      "[[    0     0     0     0     0     0     0     0     0     0     0     0\n",
      "      0     0     0     0     0     0     0     0     0     0     0     0\n",
      "      0     0     0     0     0     0     0     0     1     2 46026 46781\n",
      "  17047 17047 28508 30169 46330 13323 21108]\n",
      " [    0     0     0     0     0     0     0     0     0     0     0     0\n",
      "      0     0     0     0     0     0     0     0     0     0     0     0\n",
      "      0     1 49871 17047 21429 32302  9378  6713     2 11300 17047 23190\n",
      "   5148     2 47001 34443 27518 23378 24981]]\n",
      "(149995,)\n",
      "[0 1 0 0 1]\n"
     ]
    }
   ],
   "source": [
    "print(X_train.shape)\n",
    "print(X_train[:2])\n",
    "print(y_train.shape)\n",
    "print(y_train[:5])"
   ]
  },
  {
   "cell_type": "markdown",
   "metadata": {},
   "source": [
    "# model implementation"
   ]
  },
  {
   "cell_type": "code",
   "execution_count": 24,
   "metadata": {},
   "outputs": [
    {
     "name": "stdout",
     "output_type": "stream",
     "text": [
      "Model: \"sequential\"\n",
      "_________________________________________________________________\n",
      "Layer (type)                 Output Shape              Param #   \n",
      "=================================================================\n",
      "embedding (Embedding)        (None, None, 100)         5000000   \n",
      "_________________________________________________________________\n",
      "conv1d (Conv1D)              (None, None, 512)         6554112   \n",
      "_________________________________________________________________\n",
      "global_max_pooling1d (Global (None, 512)               0         \n",
      "_________________________________________________________________\n",
      "dense (Dense)                (None, 8)                 4104      \n",
      "_________________________________________________________________\n",
      "dense_1 (Dense)              (None, 1)                 9         \n",
      "=================================================================\n",
      "Total params: 11,558,225\n",
      "Trainable params: 11,558,225\n",
      "Non-trainable params: 0\n",
      "_________________________________________________________________\n"
     ]
    }
   ],
   "source": [
    "tf.keras.backend.clear_session()\n",
    "\n",
    "vocab_size = len(word_to_index)\n",
    "word_vector_dim = 100  # 워드 벡터의 차원수 (변경가능한 하이퍼파라미터)\n",
    "\n",
    "model = keras.Sequential()\n",
    "model.add(keras.layers.Embedding(vocab_size, word_vector_dim, input_shape=(None,)))\n",
    "model.add(keras.layers.Conv1D(512, 128, activation='relu'))\n",
    "model.add(keras.layers.MaxPooling1D())\n",
    "model.add(keras.layers.Conv1D(512, 128, activation='relu'))\n",
    "model.add(keras.layers.GlobalMaxPooling1D())\n",
    "model.add(keras.layers.Dense(8, activation='relu'))\n",
    "model.add(keras.layers.Dense(1, activation='sigmoid'))  # 최종 출력은 긍정/부정을 나타내는 1dim 입니다.\n",
    "\n",
    "model.summary()"
   ]
  },
  {
   "cell_type": "code",
   "execution_count": 27,
   "metadata": {},
   "outputs": [
    {
     "name": "stdout",
     "output_type": "stream",
     "text": [
      "Model: \"sequential\"\n",
      "_________________________________________________________________\n",
      "Layer (type)                 Output Shape              Param #   \n",
      "=================================================================\n",
      "embedding (Embedding)        (None, None, 100)         5000000   \n",
      "_________________________________________________________________\n",
      "conv1d (Conv1D)              (None, None, 512)         2048512   \n",
      "_________________________________________________________________\n",
      "global_max_pooling1d (Global (None, 512)               0         \n",
      "_________________________________________________________________\n",
      "dense (Dense)                (None, 8)                 4104      \n",
      "_________________________________________________________________\n",
      "dense_1 (Dense)              (None, 1)                 9         \n",
      "=================================================================\n",
      "Total params: 7,052,625\n",
      "Trainable params: 7,052,625\n",
      "Non-trainable params: 0\n",
      "_________________________________________________________________\n"
     ]
    }
   ],
   "source": [
    "tf.keras.backend.clear_session()\n",
    "\n",
    "vocab_size = len(word_to_index)\n",
    "word_vector_dim = 100  # 워드 벡터의 차원수 (변경가능한 하이퍼파라미터)\n",
    "\n",
    "model = keras.Sequential()\n",
    "model.add(keras.layers.Embedding(vocab_size, word_vector_dim, input_shape=(None,)))\n",
    "model.add(keras.layers.Conv1D(512, 40, activation='relu'))\n",
    "model.add(keras.layers.GlobalMaxPooling1D())\n",
    "model.add(keras.layers.Dense(8, activation='relu'))\n",
    "model.add(keras.layers.Dense(1, activation='sigmoid'))  # 최종 출력은 긍정/부정을 나타내는 1dim 입니다.\n",
    "\n",
    "model.summary()"
   ]
  },
  {
   "cell_type": "markdown",
   "metadata": {},
   "source": [
    "# dataset split"
   ]
  },
  {
   "cell_type": "code",
   "execution_count": 21,
   "metadata": {},
   "outputs": [
    {
     "name": "stdout",
     "output_type": "stream",
     "text": [
      "(149995, 43)\n",
      "(49995, 43)\n",
      "(100000, 43)\n",
      "[[    0     0     0     0     0     0     0     0     0     0     0     0\n",
      "      0     0     0     0     0     0     0     0     0     0     0     0\n",
      "      0     0     0     0     0     0     0     0     1 20044   446 39039\n",
      "   1310  1310  8630  7533 21437 16646 36061]\n",
      " [    0     0     0     0     0     0     0     0     0     0     0     0\n",
      "      0     0     0     0     0     0     0     0     0     0     0     0\n",
      "      0     1 34079  1310 45543 42574 31806 15949   427 42589  1310  9728\n",
      "  29703 34655  5933     2  5693 45902 44943]]\n"
     ]
    }
   ],
   "source": [
    "print(X_train.shape)\n",
    "X_valid = X_train[100000:]\n",
    "y_valid = y_train[100000:]\n",
    "X_train_part = X_train[:100000]\n",
    "y_train_part = y_train[:100000]\n",
    "print(X_valid.shape)\n",
    "print(X_train_part.shape)\n",
    "print(X_train_part[:2])"
   ]
  },
  {
   "cell_type": "markdown",
   "metadata": {},
   "source": [
    "# model training"
   ]
  },
  {
   "cell_type": "code",
   "execution_count": 22,
   "metadata": {},
   "outputs": [],
   "source": [
    "def compile_fit(model, X_train, y_train, epochs=10):\n",
    "    X_valid = X_train[100000:]\n",
    "    y_valid = y_train[100000:]\n",
    "    X_train_part = X_train[:100000]\n",
    "    y_train_part = y_train[:100000]\n",
    "    model.compile(optimizer=\"adam\",\n",
    "                 loss=\"binary_crossentropy\",\n",
    "                 metrics=[\"accuracy\"])\n",
    "    history = model.fit(X_train_part,\n",
    "                       y_train_part,\n",
    "                       epochs=epochs,\n",
    "                       batch_size=512,\n",
    "                       validation_data=(X_valid, y_valid),\n",
    "                       verbose=1)\n",
    "    return history"
   ]
  },
  {
   "cell_type": "code",
   "execution_count": null,
   "metadata": {},
   "outputs": [
    {
     "name": "stdout",
     "output_type": "stream",
     "text": [
      "  4/196 [..............................] - ETA: 2:06 - loss: 0.7011 - accuracy: 0.5034"
     ]
    }
   ],
   "source": [
    "compile_fit(model, X_train, y_train, epochs=1)"
   ]
  },
  {
   "cell_type": "markdown",
   "metadata": {},
   "source": [
    "# model evaluation and plot loss, accuracy"
   ]
  },
  {
   "cell_type": "code",
   "execution_count": 23,
   "metadata": {},
   "outputs": [],
   "source": [
    "def visualization_acc_loss(history_dict):\n",
    "\n",
    "    acc = history_dict['accuracy']\n",
    "    val_acc = history_dict['val_accuracy']\n",
    "    loss = history_dict['loss']\n",
    "    val_loss = history_dict['val_loss']\n",
    "\n",
    "    epochs = range(1, len(acc) + 1)\n",
    "\n",
    "    plt.figure(figsize=(12, 6))\n",
    "    plt.subplot(1,2,1)\n",
    "    plt.plot(epochs, loss, 'bo', label='Training loss')\n",
    "    plt.plot(epochs, val_loss, 'b', label='Validation loss')\n",
    "    plt.title('Training and validation loss')\n",
    "    plt.xlabel('Epochs')\n",
    "    plt.ylabel('Loss')\n",
    "    plt.legend()\n",
    "    \n",
    "    plt.subplot(1,2,2)\n",
    "    plt.plot(epochs, acc, 'bo', label='Training acc')\n",
    "    plt.plot(epochs, val_acc, 'b', label='Validation acc')\n",
    "    plt.title('Training and validation accuracy')\n",
    "    plt.xlabel('Epochs')\n",
    "    plt.ylabel('Accuracy')\n",
    "    plt.legend()\n",
    "    plt.show()\n",
    "\n",
    "\n",
    "def evaluation_and_visualization(model, X_test, y_test, verbose=2):\n",
    "    results = model.evaluate(X_test,  y_test, verbose=2)\n",
    "    print(results)\n",
    "    history_dict = history.history\n",
    "    print(history_dict.keys()) # epoch에 따른 그래프를 그려볼 수 있는 항목들\n",
    "    visualization_acc_loss(history_dict)"
   ]
  },
  {
   "cell_type": "markdown",
   "metadata": {},
   "source": [
    "# another models fit and eval"
   ]
  },
  {
   "cell_type": "code",
   "execution_count": 39,
   "metadata": {},
   "outputs": [],
   "source": [
    "#to release occupied gpu memory\n",
    "tf.keras.backend.clear_session()"
   ]
  },
  {
   "cell_type": "code",
   "execution_count": 40,
   "metadata": {},
   "outputs": [
    {
     "name": "stdout",
     "output_type": "stream",
     "text": [
      "Model: \"sequential\"\n",
      "_________________________________________________________________\n",
      "Layer (type)                 Output Shape              Param #   \n",
      "=================================================================\n",
      "embedding (Embedding)        (None, None, 100)         5000000   \n",
      "_________________________________________________________________\n",
      "lstm (LSTM)                  (None, 32)                17024     \n",
      "_________________________________________________________________\n",
      "dense (Dense)                (None, 16)                528       \n",
      "_________________________________________________________________\n",
      "dense_1 (Dense)              (None, 1)                 17        \n",
      "=================================================================\n",
      "Total params: 5,017,569\n",
      "Trainable params: 5,017,569\n",
      "Non-trainable params: 0\n",
      "_________________________________________________________________\n",
      "\n",
      "\n",
      "\n",
      "Model: \"sequential_1\"\n",
      "_________________________________________________________________\n",
      "Layer (type)                 Output Shape              Param #   \n",
      "=================================================================\n",
      "embedding_1 (Embedding)      (None, None, 100)         5000000   \n",
      "_________________________________________________________________\n",
      "conv1d (Conv1D)              (None, None, 16)          11216     \n",
      "_________________________________________________________________\n",
      "max_pooling1d (MaxPooling1D) (None, None, 16)          0         \n",
      "_________________________________________________________________\n",
      "conv1d_1 (Conv1D)            (None, None, 16)          1808      \n",
      "_________________________________________________________________\n",
      "global_max_pooling1d (Global (None, 16)                0         \n",
      "_________________________________________________________________\n",
      "dense_2 (Dense)              (None, 8)                 136       \n",
      "_________________________________________________________________\n",
      "dense_3 (Dense)              (None, 1)                 9         \n",
      "=================================================================\n",
      "Total params: 5,013,169\n",
      "Trainable params: 5,013,169\n",
      "Non-trainable params: 0\n",
      "_________________________________________________________________\n",
      "\n",
      "\n",
      "\n",
      "Model: \"sequential_2\"\n",
      "_________________________________________________________________\n",
      "Layer (type)                 Output Shape              Param #   \n",
      "=================================================================\n",
      "embedding_2 (Embedding)      (None, None, 100)         5000000   \n",
      "_________________________________________________________________\n",
      "global_max_pooling1d_1 (Glob (None, 100)               0         \n",
      "_________________________________________________________________\n",
      "dense_4 (Dense)              (None, 8)                 808       \n",
      "_________________________________________________________________\n",
      "dense_5 (Dense)              (None, 1)                 9         \n",
      "=================================================================\n",
      "Total params: 5,000,817\n",
      "Trainable params: 5,000,817\n",
      "Non-trainable params: 0\n",
      "_________________________________________________________________\n",
      "\n",
      "\n",
      "\n"
     ]
    }
   ],
   "source": [
    "vocab_size = len(word_to_index)\n",
    "word_vector_dim = 100  # 워드 벡터의 차원수 (변경가능한 하이퍼파라미터)\n",
    "\n",
    "lstm = keras.Sequential()\n",
    "lstm.add(keras.layers.Embedding(vocab_size, word_vector_dim, input_shape=(None,)))\n",
    "lstm.add(keras.layers.LSTM(32))\n",
    "lstm.add(keras.layers.Dense(16, activation='relu'))\n",
    "lstm.add(keras.layers.Dense(1, activation='sigmoid')) \n",
    "\n",
    "cnn = keras.Sequential()\n",
    "cnn.add(keras.layers.Embedding(vocab_size, word_vector_dim, input_shape=(None,)))\n",
    "cnn.add(keras.layers.Conv1D(16, 7, activation='relu'))\n",
    "cnn.add(keras.layers.MaxPooling1D(5))\n",
    "cnn.add(keras.layers.Conv1D(16, 7, activation='relu'))\n",
    "cnn.add(keras.layers.GlobalMaxPooling1D())\n",
    "cnn.add(keras.layers.Dense(8, activation='relu'))\n",
    "cnn.add(keras.layers.Dense(1, activation='sigmoid'))  # 최종 출력은 긍정/부정을 나타내는 1dim 입니다.\n",
    "\n",
    "max_pooling = keras.Sequential()\n",
    "max_pooling.add(keras.layers.Embedding(vocab_size, word_vector_dim, input_shape=(None,)))\n",
    "max_pooling.add(keras.layers.GlobalMaxPooling1D())\n",
    "max_pooling.add(keras.layers.Dense(8, activation='relu'))\n",
    "max_pooling.add(keras.layers.Dense(1, activation='sigmoid'))  # 최종 출력은 긍정/부정을 나타내는 1dim 입니다.\n",
    "\n",
    "models = [lstm, cnn, max_pooling]\n",
    "for model in models:\n",
    "    model.summary()\n",
    "    print(\"\\n\\n\")"
   ]
  },
  {
   "cell_type": "markdown",
   "metadata": {},
   "source": [
    "# LSTM Model fit and evaluation"
   ]
  },
  {
   "cell_type": "code",
   "execution_count": 47,
   "metadata": {},
   "outputs": [
    {
     "name": "stdout",
     "output_type": "stream",
     "text": [
      "Epoch 1/10\n",
      "196/196 [==============================] - 11s 57ms/step - loss: 0.4556 - accuracy: 0.7818 - val_loss: 0.3658 - val_accuracy: 0.8399\n",
      "Epoch 2/10\n",
      "196/196 [==============================] - 11s 59ms/step - loss: 0.3132 - accuracy: 0.8688 - val_loss: 0.3584 - val_accuracy: 0.8424\n",
      "Epoch 3/10\n",
      "196/196 [==============================] - 11s 58ms/step - loss: 0.2656 - accuracy: 0.8921 - val_loss: 0.3746 - val_accuracy: 0.8378\n",
      "Epoch 4/10\n",
      "196/196 [==============================] - 12s 59ms/step - loss: 0.2300 - accuracy: 0.9078 - val_loss: 0.3922 - val_accuracy: 0.8363\n",
      "Epoch 5/10\n",
      "196/196 [==============================] - 12s 59ms/step - loss: 0.1995 - accuracy: 0.9201 - val_loss: 0.4063 - val_accuracy: 0.8351\n",
      "Epoch 6/10\n",
      "196/196 [==============================] - 11s 57ms/step - loss: 0.1768 - accuracy: 0.9303 - val_loss: 0.4711 - val_accuracy: 0.8340\n",
      "Epoch 7/10\n",
      "196/196 [==============================] - 11s 55ms/step - loss: 0.1559 - accuracy: 0.9388 - val_loss: 0.4994 - val_accuracy: 0.8311\n",
      "Epoch 8/10\n",
      "196/196 [==============================] - 12s 59ms/step - loss: 0.1423 - accuracy: 0.9439 - val_loss: 0.5454 - val_accuracy: 0.8294\n",
      "Epoch 9/10\n",
      "196/196 [==============================] - 12s 60ms/step - loss: 0.1272 - accuracy: 0.9489 - val_loss: 0.5988 - val_accuracy: 0.8286\n",
      "Epoch 10/10\n",
      "196/196 [==============================] - 12s 60ms/step - loss: 0.1134 - accuracy: 0.9548 - val_loss: 0.6477 - val_accuracy: 0.8264\n",
      "1563/1563 - 6s - loss: 3.0295 - accuracy: 0.5009\n",
      "[3.029494524002075, 0.5009000897407532]\n",
      "dict_keys(['loss', 'accuracy', 'val_loss', 'val_accuracy'])\n"
     ]
    },
    {
     "data": {
      "image/png": "[encoded data removed]",
      "text/plain": [
       "<Figure size 864x432 with 2 Axes>"
      ]
     },
     "metadata": {
      "needs_background": "light"
     },
     "output_type": "display_data"
    }
   ],
   "source": [
    "history = compile_fit(models[0],epochs=10)\n",
    "evaluation_and_visualization(models[0], X_test, y_test, verbose=2)"
   ]
  },
  {
   "cell_type": "markdown",
   "metadata": {},
   "source": [
    "# CNN Model fit and evaluation"
   ]
  },
  {
   "cell_type": "code",
   "execution_count": 49,
   "metadata": {},
   "outputs": [
    {
     "name": "stdout",
     "output_type": "stream",
     "text": [
      "Epoch 1/10\n",
      "196/196 [==============================] - 21s 105ms/step - loss: 0.5463 - accuracy: 0.6997 - val_loss: 0.4199 - val_accuracy: 0.8023\n",
      "Epoch 2/10\n",
      "196/196 [==============================] - 12s 59ms/step - loss: 0.3681 - accuracy: 0.8343 - val_loss: 0.4047 - val_accuracy: 0.8112\n",
      "Epoch 3/10\n",
      "196/196 [==============================] - 11s 58ms/step - loss: 0.3043 - accuracy: 0.8673 - val_loss: 0.4216 - val_accuracy: 0.8090\n",
      "Epoch 4/10\n",
      "196/196 [==============================] - 12s 60ms/step - loss: 0.2453 - accuracy: 0.8966 - val_loss: 0.4454 - val_accuracy: 0.8060\n",
      "Epoch 5/10\n",
      "196/196 [==============================] - 11s 58ms/step - loss: 0.1914 - accuracy: 0.9205 - val_loss: 0.4998 - val_accuracy: 0.8034\n",
      "Epoch 6/10\n",
      "196/196 [==============================] - 12s 61ms/step - loss: 0.1488 - accuracy: 0.9385 - val_loss: 0.5525 - val_accuracy: 0.7983\n",
      "Epoch 7/10\n",
      "196/196 [==============================] - 12s 62ms/step - loss: 0.1168 - accuracy: 0.9500 - val_loss: 0.6372 - val_accuracy: 0.7951\n",
      "Epoch 8/10\n",
      "196/196 [==============================] - 12s 59ms/step - loss: 0.0945 - accuracy: 0.9590 - val_loss: 0.6991 - val_accuracy: 0.7877\n",
      "Epoch 9/10\n",
      "196/196 [==============================] - 11s 58ms/step - loss: 0.0803 - accuracy: 0.9641 - val_loss: 0.7755 - val_accuracy: 0.7881\n",
      "Epoch 10/10\n",
      "196/196 [==============================] - 11s 57ms/step - loss: 0.0707 - accuracy: 0.9666 - val_loss: 0.8419 - val_accuracy: 0.7837\n",
      "1563/1563 - 6s - loss: 3.6236 - accuracy: 0.5003\n",
      "[3.623586654663086, 0.5003400444984436]\n",
      "dict_keys(['loss', 'accuracy', 'val_loss', 'val_accuracy'])\n"
     ]
    },
    {
     "data": {
      "image/png": "[encoded data removed]",
      "text/plain": [
       "<Figure size 864x432 with 2 Axes>"
      ]
     },
     "metadata": {
      "needs_background": "light"
     },
     "output_type": "display_data"
    }
   ],
   "source": [
    "history = compile_fit(models[1],epochs=10)\n",
    "evaluation_and_visualization(models[1], X_test, y_test, verbose=2)"
   ]
  },
  {
   "cell_type": "markdown",
   "metadata": {},
   "source": [
    "# maxpool model fit and evaluation"
   ]
  },
  {
   "cell_type": "code",
   "execution_count": 50,
   "metadata": {},
   "outputs": [
    {
     "name": "stdout",
     "output_type": "stream",
     "text": [
      "Epoch 1/10\n",
      "196/196 [==============================] - 12s 62ms/step - loss: 0.5252 - accuracy: 0.7713 - val_loss: 0.3833 - val_accuracy: 0.8283\n",
      "Epoch 2/10\n",
      "196/196 [==============================] - 11s 58ms/step - loss: 0.3264 - accuracy: 0.8625 - val_loss: 0.3553 - val_accuracy: 0.8439\n",
      "Epoch 3/10\n",
      "196/196 [==============================] - 11s 57ms/step - loss: 0.2598 - accuracy: 0.8954 - val_loss: 0.3575 - val_accuracy: 0.8446\n",
      "Epoch 4/10\n",
      "196/196 [==============================] - 12s 59ms/step - loss: 0.2090 - accuracy: 0.9202 - val_loss: 0.3724 - val_accuracy: 0.8429\n",
      "Epoch 5/10\n",
      "196/196 [==============================] - 12s 61ms/step - loss: 0.1663 - accuracy: 0.9400 - val_loss: 0.3976 - val_accuracy: 0.8401\n",
      "Epoch 6/10\n",
      "196/196 [==============================] - 11s 58ms/step - loss: 0.1313 - accuracy: 0.9557 - val_loss: 0.4264 - val_accuracy: 0.8373\n",
      "Epoch 7/10\n",
      "196/196 [==============================] - 11s 56ms/step - loss: 0.1030 - accuracy: 0.9675 - val_loss: 0.4618 - val_accuracy: 0.8347\n",
      "Epoch 8/10\n",
      "196/196 [==============================] - 11s 57ms/step - loss: 0.0814 - accuracy: 0.9756 - val_loss: 0.4954 - val_accuracy: 0.8322\n",
      "Epoch 9/10\n",
      "196/196 [==============================] - 11s 56ms/step - loss: 0.0647 - accuracy: 0.9819 - val_loss: 0.5285 - val_accuracy: 0.8311\n",
      "Epoch 10/10\n",
      "196/196 [==============================] - 11s 55ms/step - loss: 0.0518 - accuracy: 0.9861 - val_loss: 0.5630 - val_accuracy: 0.8277\n",
      "1563/1563 - 2s - loss: 3.2213 - accuracy: 0.5001\n",
      "[3.221313238143921, 0.5000799894332886]\n",
      "dict_keys(['loss', 'accuracy', 'val_loss', 'val_accuracy'])\n"
     ]
    },
    {
     "data": {
      "image/png": "[encoded data removed]",
      "text/plain": [
       "<Figure size 864x432 with 2 Axes>"
      ]
     },
     "metadata": {
      "needs_background": "light"
     },
     "output_type": "display_data"
    }
   ],
   "source": [
    "history = compile_fit(models[2],epochs=10)\n",
    "evaluation_and_visualization(models[2], X_test, y_test, verbose=2)"
   ]
  },
  {
   "cell_type": "markdown",
   "metadata": {},
   "source": [
    "# embedding layer anlaysis with gensim"
   ]
  },
  {
   "cell_type": "code",
   "execution_count": 53,
   "metadata": {},
   "outputs": [
    {
     "name": "stdout",
     "output_type": "stream",
     "text": [
      "(50000, 100)\n"
     ]
    }
   ],
   "source": [
    "lstm = models[0]\n",
    "embedding_layer = model.layers[0]\n",
    "weights = embedding_layer.get_weights()[0]\n",
    "print(weights.shape)\n",
    "\n",
    "index_to_word = {index:word for word, index in word_to_index.items()}"
   ]
  },
  {
   "cell_type": "code",
   "execution_count": 58,
   "metadata": {},
   "outputs": [],
   "source": [
    "import os\n",
    "word2vec_file_path = os.getenv(\"HOME\")+ \\\n",
    "    \"/github/aiffel_practice/EXPLORATION04/my_word2vec.txt\"\n",
    "f = open(word2vec_file_path, 'w')\n",
    "f.write(\"{} {}\\n\".format(vocab_size-4, word_vector_dim))\n",
    "\n",
    "vectors = model.get_weights()[0]\n",
    "for i in range(4, vocab_size):\n",
    "    f.write(\"{} {}\\n\".format(index_to_word[i], ' '.join(map(str,list(vectors[i, :])))))\n",
    "f.close()"
   ]
  },
  {
   "cell_type": "markdown",
   "metadata": {},
   "source": [
    "## get word vector using gensim"
   ]
  },
  {
   "cell_type": "code",
   "execution_count": 59,
   "metadata": {},
   "outputs": [
    {
     "name": "stdout",
     "output_type": "stream",
     "text": [
      "[-0.00335092 -0.04237631 -0.04310498  0.09656227 -0.05740549  0.05571122\n",
      " -0.0078023  -0.02732967  0.06577773 -0.01493638  0.0872949  -0.06244017\n",
      " -0.05326485  0.06643352  0.10100286 -0.07541339 -0.02434105 -0.0318602\n",
      "  0.09957865 -0.05114696 -0.0392036   0.09360376 -0.05113138  0.02956809\n",
      " -0.01805418  0.07431935 -0.0303521  -0.0515118  -0.04395136  0.03384561\n",
      " -0.08822194  0.13430673  0.02383261  0.02860897  0.08471263 -0.07428234\n",
      "  0.01306525 -0.037835   -0.0514649   0.03986528 -0.03085459  0.11062398\n",
      " -0.03798291 -0.02755725  0.01080213 -0.00119055 -0.02186848 -0.05144284\n",
      " -0.02761761  0.01147913 -0.02496931 -0.04779893 -0.04248665 -0.04877668\n",
      " -0.04258377 -0.06343702 -0.02676177 -0.01220374 -0.03161709 -0.05010353\n",
      " -0.02230513 -0.0475327   0.10432255  0.04340516  0.00413428 -0.03894586\n",
      " -0.03165752 -0.03422576  0.06942528  0.08114043 -0.06471097 -0.01687412\n",
      "  0.13392074  0.05427861 -0.05641122 -0.05502649 -0.04310583  0.08955504\n",
      " -0.0370651  -0.02506948  0.10383201  0.14524956 -0.03652484 -0.04717596\n",
      "  0.01603601 -0.04414791 -0.0061571   0.00130752 -0.021092    0.01670808\n",
      "  0.03169899 -0.03144027 -0.0660648  -0.0340541  -0.05593116 -0.06537704\n",
      "  0.00705393 -0.02861142 -0.05637673 -0.0038783 ]\n"
     ]
    }
   ],
   "source": [
    "from gensim.models.keyedvectors import Word2VecKeyedVectors\n",
    "\n",
    "word_vectors = Word2VecKeyedVectors.load_word2vec_format(word2vec_file_path, binary=False)\n",
    "vector = word_vectors[\"우리나라\"]\n",
    "print(vector)"
   ]
  },
  {
   "cell_type": "markdown",
   "metadata": {},
   "source": [
    "## get similar words using word's vec"
   ]
  },
  {
   "cell_type": "code",
   "execution_count": 61,
   "metadata": {},
   "outputs": [
    {
     "data": {
      "text/plain": [
       "[('다', 0.6647559404373169),\n",
       " ('진짜', 0.6451146602630615),\n",
       " ('영화', 0.6310951709747314),\n",
       " ('고', 0.6289056539535522),\n",
       " ('은데', 0.626409649848938),\n",
       " ('남', 0.6209390163421631),\n",
       " ('여름', 0.6145620346069336),\n",
       " ('자체', 0.6096851825714111),\n",
       " ('성동일', 0.6068244576454163),\n",
       " ('된', 0.6066035032272339)]"
      ]
     },
     "execution_count": 61,
     "metadata": {},
     "output_type": "execute_result"
    }
   ],
   "source": [
    "word_vectors.similar_by_vector(\"역사\")"
   ]
  },
  {
   "cell_type": "markdown",
   "metadata": {},
   "source": [
    "# get pretrained wordvector and find similar words"
   ]
  },
  {
   "cell_type": "markdown",
   "metadata": {},
   "source": [
    "####  word vec 파일 로드 중 문제 발생\n",
    "- load_word2vec_format으로 ko.bin로드시 유니코드 에러\n",
    "- c환경에서 워드 벡트를 훈련한 경우 load_word2vec_format으로 로드\n",
    "- 파이썬에서 훈련한 워드벡터의 경우 gensim.models.Word2Vec.load()로 읽기\n",
    "- https://github.com/Kyubyong/wordvectors/issues/12"
   ]
  },
  {
   "cell_type": "code",
   "execution_count": 72,
   "metadata": {},
   "outputs": [
    {
     "name": "stdout",
     "output_type": "stream",
     "text": [
      "(200,)\n",
      "[-0.09339095 -0.7362846   0.6843001   0.19938686  0.13256727  0.5394764\n",
      "  0.095595    0.20011543  0.29313058 -0.30099916  0.11507071 -0.29675895\n",
      " -0.86113775 -0.33906364 -0.00141752  0.0649136  -0.5233409   0.6302779\n",
      "  0.9596975  -0.0546535 ]\n"
     ]
    },
    {
     "name": "stderr",
     "output_type": "stream",
     "text": [
      "/home/aiffel/anaconda3/envs/aiffel/lib/python3.7/site-packages/ipykernel_launcher.py:6: DeprecationWarning: Call to deprecated `__getitem__` (Method will be removed in 4.0.0, use self.wv.__getitem__() instead).\n",
      "  \n"
     ]
    }
   ],
   "source": [
    "from gensim.models import Word2Vec\n",
    "\n",
    "word2vec_path = os.getenv(\"HOME\")+ \"/github/aiffel_practice/EXPLORATION04/ko/ko.bin\"\n",
    "\n",
    "word_vectors = Word2Vec.load(word2vec_path)\n",
    "vector = word_vectors[\"우리나라\"]\n",
    "print(vector.shape)\n",
    "print(vector[:20])"
   ]
  },
  {
   "cell_type": "markdown",
   "metadata": {},
   "source": [
    "- 구현한 모델로 얻은 워드 벡터를 사용한 경우보다 훨씬 관련성 있는 단어들을 찾고 있다."
   ]
  },
  {
   "cell_type": "code",
   "execution_count": 79,
   "metadata": {},
   "outputs": [
    {
     "name": "stdout",
     "output_type": "stream",
     "text": [
      "number of words :  30185\n"
     ]
    },
    {
     "name": "stderr",
     "output_type": "stream",
     "text": [
      "/home/aiffel/anaconda3/envs/aiffel/lib/python3.7/site-packages/ipykernel_launcher.py:2: DeprecationWarning: Call to deprecated `similar_by_word` (Method will be removed in 4.0.0, use self.wv.similar_by_word() instead).\n",
      "  \n"
     ]
    },
    {
     "data": {
      "text/plain": [
       "[('한국', 0.6312342882156372),\n",
       " ('동아시아', 0.5565902590751648),\n",
       " ('국내', 0.5452646017074585),\n",
       " ('한반도', 0.5354500412940979),\n",
       " ('동양', 0.5189040899276733),\n",
       " ('대한민국', 0.5102909207344055),\n",
       " ('학계', 0.5000238418579102),\n",
       " ('중국', 0.48603561520576477),\n",
       " ('국내외', 0.47242972254753113),\n",
       " ('개발도상국', 0.4673702120780945)]"
      ]
     },
     "execution_count": 79,
     "metadata": {},
     "output_type": "execute_result"
    }
   ],
   "source": [
    "print(\"number of words : \", len(word_vectors.wv.vectors))\n",
    "word_vectors.similar_by_word(\"우리나라\")\n"
   ]
  },
  {
   "cell_type": "markdown",
   "metadata": {},
   "source": [
    "# make embedding matrix"
   ]
  },
  {
   "cell_type": "code",
   "execution_count": 163,
   "metadata": {},
   "outputs": [],
   "source": [
    "def get_conversion_pt(index_to_word):\n",
    "    vocab_size = len(word_vectors.wv.vectors)\n",
    "    word_vector_dim = 200\n",
    "\n",
    "    #pretrained\n",
    "    word_to_index_pt = dict()\n",
    "    vocab_size_pt = 0\n",
    "    word_to_index_pt[\"<PAD>\"] = 0\n",
    "    word_to_index_pt[\"<BOS>\"] = 1\n",
    "    word_to_index_pt[\"<UNK>\"] = 2\n",
    "    for i in range(3, vocab_size):\n",
    "        if index_to_word[i] in word_vectors:\n",
    "            word_to_index_pt[index_to_word[i]] = 3 + vocab_size_pt\n",
    "            vocab_size_pt = vocab_size_pt + 1\n",
    "\n",
    "    print(\"pt vocab size : \", vocab_size)\n",
    "    print(\"num of words : \", len(word_to_index_pt))\n",
    "    new_vocab_size = len(word_to_index_pt)\n",
    "    index_to_word_pt = {index:word for word, index in word_to_index_pt.items()}\n",
    "\n",
    "    embedding_matrix = np.random.rand(new_vocab_size, word_vector_dim)\n",
    "\n",
    "    for i in range(3, vocab_size_pt):\n",
    "        if index_to_word[i] in word_vectors:\n",
    "            embedding_matrix[i] = word_vectors[index_to_word[i]]\n",
    "    return word_to_index_pt, index_to_word_pt, new_vocab_size, embedding_matrix"
   ]
  },
  {
   "cell_type": "markdown",
   "metadata": {},
   "source": [
    "# data conversion for pretrained data"
   ]
  },
  {
   "cell_type": "code",
   "execution_count": 164,
   "metadata": {},
   "outputs": [
    {
     "name": "stdout",
     "output_type": "stream",
     "text": [
      "######drop na######\n",
      "- na count -\n",
      "id          0\n",
      "document    5\n",
      "label       0\n",
      "dtype: int64\n",
      "\n",
      "- drop na result -\n",
      "<class 'pandas.core.frame.DataFrame'>\n",
      "Int64Index: 149995 entries, 0 to 149999\n",
      "Data columns (total 3 columns):\n",
      " #   Column    Non-Null Count   Dtype \n",
      "---  ------    --------------   ----- \n",
      " 0   id        149995 non-null  int64 \n",
      " 1   document  149995 non-null  object\n",
      " 2   label     149995 non-null  int64 \n",
      "dtypes: int64(2), object(1)\n",
      "memory usage: 4.6+ MB\n",
      "number of duplicated id :  0\n"
     ]
    },
    {
     "name": "stderr",
     "output_type": "stream",
     "text": [
      "/home/aiffel/anaconda3/envs/aiffel/lib/python3.7/site-packages/ipykernel_launcher.py:3: SettingWithCopyWarning: \n",
      "A value is trying to be set on a copy of a slice from a DataFrame\n",
      "\n",
      "See the caveats in the documentation: https://pandas.pydata.org/pandas-docs/stable/user_guide/indexing.html#returning-a-view-versus-a-copy\n",
      "  This is separate from the ipykernel package so we can avoid doing imports until\n"
     ]
    },
    {
     "name": "stdout",
     "output_type": "stream",
     "text": [
      "######drop na######\n",
      "- na count -\n",
      "id          0\n",
      "document    3\n",
      "label       0\n",
      "dtype: int64\n",
      "\n",
      "- drop na result -\n",
      "<class 'pandas.core.frame.DataFrame'>\n",
      "Int64Index: 49997 entries, 0 to 49999\n",
      "Data columns (total 3 columns):\n",
      " #   Column    Non-Null Count  Dtype \n",
      "---  ------    --------------  ----- \n",
      " 0   id        49997 non-null  int64 \n",
      " 1   document  49997 non-null  object\n",
      " 2   label     49997 non-null  int64 \n",
      "dtypes: int64(2), object(1)\n",
      "memory usage: 1.5+ MB\n",
      "number of duplicated id :  0\n"
     ]
    },
    {
     "name": "stderr",
     "output_type": "stream",
     "text": [
      "/home/aiffel/anaconda3/envs/aiffel/lib/python3.7/site-packages/ipykernel_launcher.py:3: SettingWithCopyWarning: \n",
      "A value is trying to be set on a copy of a slice from a DataFrame\n",
      "\n",
      "See the caveats in the documentation: https://pandas.pydata.org/pandas-docs/stable/user_guide/indexing.html#returning-a-view-versus-a-copy\n",
      "  This is separate from the ipykernel package so we can avoid doing imports until\n"
     ]
    },
    {
     "name": "stdout",
     "output_type": "stream",
     "text": [
      "the number of word :  53964\n",
      "pt vocab size :  30185\n",
      "num of words :  8752\n"
     ]
    },
    {
     "name": "stderr",
     "output_type": "stream",
     "text": [
      "/home/aiffel/anaconda3/envs/aiffel/lib/python3.7/site-packages/ipykernel_launcher.py:12: DeprecationWarning: Call to deprecated `__contains__` (Method will be removed in 4.0.0, use self.wv.__contains__() instead).\n",
      "  if sys.path[0] == '':\n",
      "/home/aiffel/anaconda3/envs/aiffel/lib/python3.7/site-packages/ipykernel_launcher.py:24: DeprecationWarning: Call to deprecated `__contains__` (Method will be removed in 4.0.0, use self.wv.__contains__() instead).\n",
      "/home/aiffel/anaconda3/envs/aiffel/lib/python3.7/site-packages/ipykernel_launcher.py:25: DeprecationWarning: Call to deprecated `__getitem__` (Method will be removed in 4.0.0, use self.wv.__getitem__() instead).\n"
     ]
    },
    {
     "name": "stdout",
     "output_type": "stream",
     "text": [
      "### get maxlen ###\n",
      "len of total data text :  199991\n",
      "mean of sentence len :  17.167692546164577\n",
      "max of sentence len :  117\n",
      "std of sentence len :  13.312306722103358\n",
      "pad sequences maxlen :  43\n",
      "0.9342570415668705% of total text in maxlen value\n",
      "\n",
      "\n",
      "\n"
     ]
    }
   ],
   "source": [
    "def load_data(train_data, test_data, num_words=None):\n",
    "    train_copy = train_data.copy()\n",
    "    train_na = drop_na(train_copy)\n",
    "    train_duplicate = drop_duplicates(train_na)\n",
    "    train_token = tokenization(train_duplicate).dropna()\n",
    "    train_stopwords = delete_stop_words(train_token)    \n",
    "    \n",
    "    test_copy = test_data.copy()\n",
    "    test_na = drop_na(test_copy)\n",
    "    test_duplicate = drop_duplicates(test_na)\n",
    "    test_token = tokenization(test_duplicate).dropna()\n",
    "    test_stopwords = delete_stop_words(test_token)\n",
    "\n",
    "\n",
    "    index_to_word = make_index_to_word(train_stopwords)\n",
    "    print(\"the number of word : \", len(index_to_word))\n",
    "    word_to_index = {word:index for index, word in index_to_word.items() if index < num_words}\n",
    "\n",
    "    word_to_index_pt, index_to_word_pt, new_vocab_size, embedding_matrix = get_conversion_pt(index_to_word)\n",
    "    X_train = get_encoded_sentences(train_stopwords[\"document\"], word_to_index_pt)\n",
    "    y_train = train_stopwords[\"label\"].values\n",
    "    X_test = get_encoded_sentences(test_stopwords[\"document\"], word_to_index_pt)\n",
    "    y_test = test_stopwords[\"label\"].values  \n",
    "    \n",
    "    \n",
    "    maxlen = get_maxlen(X_train,X_test)\n",
    "    X_train = keras.preprocessing.sequence.pad_sequences(X_train,\n",
    "                                                        value=word_to_index[\"<PAD>\"],\n",
    "                                                        padding='pre',\n",
    "                                                        maxlen=maxlen)\n",
    "\n",
    "    X_test = keras.preprocessing.sequence.pad_sequences(X_test,\n",
    "                                                       value=word_to_index[\"<PAD>\"],\n",
    "                                                       padding='pre',\n",
    "                                                       maxlen=maxlen)\n",
    "    return X_train, y_train, X_test, y_test, word_to_index, maxlen, new_vocab_size, embedding_matrix\n",
    "\n",
    "X_train, y_train, X_test, y_test, word_to_index, maxlen, new_vocab_size, embedding_matrix = load_data(train, test, 50000)"
   ]
  },
  {
   "cell_type": "code",
   "execution_count": 174,
   "metadata": {},
   "outputs": [
    {
     "name": "stdout",
     "output_type": "stream",
     "text": [
      "Model: \"sequential\"\n",
      "_________________________________________________________________\n",
      "Layer (type)                 Output Shape              Param #   \n",
      "=================================================================\n",
      "embedding (Embedding)        (None, None, 200)         1750400   \n",
      "_________________________________________________________________\n",
      "conv1d (Conv1D)              (None, None, 16)          22416     \n",
      "_________________________________________________________________\n",
      "max_pooling1d (MaxPooling1D) (None, None, 16)          0         \n",
      "_________________________________________________________________\n",
      "conv1d_1 (Conv1D)            (None, None, 16)          1808      \n",
      "_________________________________________________________________\n",
      "global_max_pooling1d (Global (None, 16)                0         \n",
      "_________________________________________________________________\n",
      "dense (Dense)                (None, 8)                 136       \n",
      "_________________________________________________________________\n",
      "dense_1 (Dense)              (None, 1)                 9         \n",
      "=================================================================\n",
      "Total params: 1,774,769\n",
      "Trainable params: 1,774,769\n",
      "Non-trainable params: 0\n",
      "_________________________________________________________________\n"
     ]
    }
   ],
   "source": [
    "#to release occupied gpu memory\n",
    "tf.keras.backend.clear_session()\n",
    "word_vector_dim = 200\n",
    "# 모델 구성\n",
    "model = keras.Sequential()\n",
    "model.add(keras.layers.Embedding(new_vocab_size, \n",
    "                                 word_vector_dim, \n",
    "                                 embeddings_initializer=Constant(embedding_matrix),\n",
    "                                 trainable=True))\n",
    "model.add(keras.layers.Conv1D(16, 7, activation='relu'))\n",
    "model.add(keras.layers.MaxPooling1D(5))\n",
    "model.add(keras.layers.Conv1D(16, 7, activation='relu'))\n",
    "model.add(keras.layers.GlobalMaxPooling1D())\n",
    "model.add(keras.layers.Dense(8, activation='relu'))\n",
    "model.add(keras.layers.Dense(1, activation='sigmoid')) \n",
    "\n",
    "model.summary()"
   ]
  },
  {
   "cell_type": "markdown",
   "metadata": {},
   "source": [
    "# pretrained wordvec model fit and eval"
   ]
  },
  {
   "cell_type": "code",
   "execution_count": 175,
   "metadata": {},
   "outputs": [
    {
     "name": "stdout",
     "output_type": "stream",
     "text": [
      "Epoch 1/10\n",
      "196/196 [==============================] - 14s 69ms/step - loss: 0.6831 - accuracy: 0.5384 - val_loss: 0.6559 - val_accuracy: 0.6060\n",
      "Epoch 2/10\n",
      "196/196 [==============================] - 8s 38ms/step - loss: 0.5924 - accuracy: 0.6712 - val_loss: 0.5860 - val_accuracy: 0.6773\n",
      "Epoch 3/10\n",
      "196/196 [==============================] - 7s 34ms/step - loss: 0.5380 - accuracy: 0.7159 - val_loss: 0.5496 - val_accuracy: 0.7071\n",
      "Epoch 4/10\n",
      "196/196 [==============================] - 8s 40ms/step - loss: 0.5161 - accuracy: 0.7313 - val_loss: 0.5401 - val_accuracy: 0.7155\n",
      "Epoch 5/10\n",
      "196/196 [==============================] - 8s 39ms/step - loss: 0.5003 - accuracy: 0.7417 - val_loss: 0.5409 - val_accuracy: 0.7158\n",
      "Epoch 6/10\n",
      "196/196 [==============================] - 6s 32ms/step - loss: 0.4898 - accuracy: 0.7496 - val_loss: 0.5437 - val_accuracy: 0.7148\n",
      "Epoch 7/10\n",
      "196/196 [==============================] - 7s 33ms/step - loss: 0.4752 - accuracy: 0.7599 - val_loss: 0.5419 - val_accuracy: 0.7125\n",
      "Epoch 8/10\n",
      "196/196 [==============================] - 7s 38ms/step - loss: 0.4625 - accuracy: 0.7660 - val_loss: 0.5490 - val_accuracy: 0.7148\n",
      "Epoch 9/10\n",
      "196/196 [==============================] - 7s 35ms/step - loss: 0.4476 - accuracy: 0.7758 - val_loss: 0.5699 - val_accuracy: 0.7021\n",
      "Epoch 10/10\n",
      "196/196 [==============================] - 7s 33ms/step - loss: 0.4321 - accuracy: 0.7847 - val_loss: 0.5903 - val_accuracy: 0.7009\n",
      "1563/1563 - 5s - loss: 1.1533 - accuracy: 0.5000\n",
      "[1.1533161401748657, 0.5000200271606445]\n",
      "dict_keys(['loss', 'accuracy', 'val_loss', 'val_accuracy'])\n"
     ]
    },
    {
     "data": {
      "image/png": "[encoded data removed]",
      "text/plain": [
       "<Figure size 864x432 with 2 Axes>"
      ]
     },
     "metadata": {
      "needs_background": "light"
     },
     "output_type": "display_data"
    }
   ],
   "source": [
    "history = compile_fit(model, X_train, y_train)\n",
    "evaluation_and_visualization(model, X_test, y_test, verbose=2)"
   ]
  }
 ],
 "metadata": {
  "kernelspec": {
   "display_name": "aiffel",
   "language": "python",
   "name": "aiffel"
  }
 },
 "nbformat": 4,
 "nbformat_minor": 4
}
