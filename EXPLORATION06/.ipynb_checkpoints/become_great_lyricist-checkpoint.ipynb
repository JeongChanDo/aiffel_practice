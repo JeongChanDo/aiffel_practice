{
 "cells": [
  {
   "cell_type": "markdown",
   "metadata": {},
   "source": [
    "# read data"
   ]
  },
  {
   "cell_type": "code",
   "execution_count": 1,
   "metadata": {},
   "outputs": [
    {
     "name": "stdout",
     "output_type": "stream",
     "text": [
      "49\n",
      "['song_lyrics/britney-spears.txt', 'song_lyrics/bieber.txt', 'song_lyrics/lin-manuel-miranda.txt', 'song_lyrics/bjork.txt', 'song_lyrics/jimi-hendrix.txt', 'song_lyrics/blink-182.txt', 'song_lyrics/amy-winehouse.txt', 'song_lyrics/radiohead.txt', 'song_lyrics/r-kelly.txt', 'song_lyrics/paul-simon.txt']\n"
     ]
    }
   ],
   "source": [
    "# glob can is used to load files easily\n",
    "import glob\n",
    "import os\n",
    "txt_file_path = \"song_lyrics/*\"\n",
    "txt_lst = glob.glob(txt_file_path)\n",
    "print(len(txt_lst))\n",
    "print(txt_lst[:10])"
   ]
  },
  {
   "cell_type": "code",
   "execution_count": 2,
   "metadata": {
    "scrolled": true
   },
   "outputs": [
    {
     "name": "stdout",
     "output_type": "stream",
     "text": [
      "length of raw_corpus :  187088\n",
      "examples : \n",
      " ['They say get ready for the revolution', \"I think it's time we find some sorta solution\"]\n"
     ]
    }
   ],
   "source": [
    "raw_corpus = []\n",
    "\n",
    "# read all txt_lst\n",
    "for txt_file in txt_lst:\n",
    "    #open text file, read, and then add into raw_corpus\n",
    "    with open(txt_file, \"r\") as f:\n",
    "        #read().splitlines() : read all lines and split it by \\n\n",
    "        try:\n",
    "            raw = f.read().splitlines()\n",
    "            #add all lines into list seperately\n",
    "            raw_corpus.extend(raw)\n",
    "        except UnicodeDecodeError as e:\n",
    "            print(\"current txt_file : \", txt_file)\n",
    "            print(e)\n",
    "            \n",
    "\n",
    "print(\"length of raw_corpus : \", len(raw_corpus))\n",
    "print(\"examples : \\n\",raw_corpus[:2])"
   ]
  },
  {
   "cell_type": "markdown",
   "metadata": {},
   "source": [
    "# data preprocessing\n",
    "- basic : delete duplicates and null\n",
    "- natural language processing : replacing special charater/blank, tokenization, word 2 index"
   ]
  },
  {
   "cell_type": "code",
   "execution_count": 3,
   "metadata": {},
   "outputs": [
    {
     "name": "stdout",
     "output_type": "stream",
     "text": [
      "### comparision raw sentence and preprocessed sentence ###\n",
      "selected sentence :  Anywhere you wanna\n",
      "after preprocessing :  <start> anywhere you wanna <end>\n"
     ]
    }
   ],
   "source": [
    "import re\n",
    "import random\n",
    "\n",
    "def preprocess_sentence(raw_sentence):\n",
    "    low_sentence = raw_sentence.lower().strip()\n",
    "    special_space_sentence = re.sub(r\"([?.!,¿])\",r\" \\1 \", low_sentence)\n",
    "    empty_space_sentence = re.sub(r'[\" \"]+', \" \", special_space_sentence)\n",
    "    all_space_sentence = re.sub(r\"[^a-zA-Z?.!,¿]+\",\" \", empty_space_sentence)\n",
    "    striped_sentence = all_space_sentence.strip()\n",
    "    if len(striped_sentence) == 0:\n",
    "        return None\n",
    "    sentence = \"<start> \" + striped_sentence + \" <end>\"\n",
    "    return sentence\n",
    "\n",
    "\n",
    "idx = int(random.random() * 100)\n",
    "selected_sentence = raw_corpus[idx]\n",
    "preprocessed_sentence = preprocess_sentence(selected_sentence)\n",
    "print(\"### comparision raw sentence and preprocessed sentence ###\")\n",
    "print(\"selected sentence : \", selected_sentence)\n",
    "print(\"after preprocessing : \", preprocessed_sentence)"
   ]
  },
  {
   "cell_type": "code",
   "execution_count": 4,
   "metadata": {},
   "outputs": [
    {
     "name": "stdout",
     "output_type": "stream",
     "text": [
      "### comparision raw sentence and preprocessed sentence ###\n",
      "after preprocessing :  <start> it s like a competition <end>\n",
      "after preprocessing :  <start> me against the beat <end>\n",
      "after preprocessing :  <start> i want to get in the zone <end>\n",
      "after preprocessing :  <start> i want to get in the zone if you really want to party <end>\n",
      "after preprocessing :  <start> settle up and get your rhythm <end>\n",
      "after preprocessing :  <start> try to hit , you could die <end>\n",
      "after preprocessing :  <start> in a minute , i ma take a ya on , i ma take a ya on <end>\n",
      "after preprocessing :  <start> hey , hey , hey here we go all my people on the floor let me see you dance <end>\n",
      "after preprocessing :  <start> all my people up for more let me see you dance <end>\n",
      "after preprocessing :  <start> all my people , round and round let me see you dance <end>\n",
      "after preprocessing :  <start> all my people in the crowd , let me see you dance <end>\n",
      "after preprocessing :  <start> i wanna see you get on the floor <end>\n",
      "after preprocessing :  <start> baby , lose control <end>\n",
      "after preprocessing :  <start> just work your body <end>\n",
      "after preprocessing :  <start> and let it go <end>\n",
      "after preprocessing :  <start> if you want to party <end>\n",
      "after preprocessing :  <start> just grab somebody <end>\n",
      "after preprocessing :  <start> and baby we can dance all night hey britney , you say you wanna lose control <end>\n",
      "after preprocessing :  <start> come over here i got something to show you <end>\n",
      "after preprocessing :  <start> sexy lady , i d rather see you bare your soul <end>\n"
     ]
    }
   ],
   "source": [
    "idx = int(random.random() * 100)\n",
    "length = 20\n",
    "print(\"### comparision raw sentence and preprocessed sentence ###\")\n",
    "for i in range(idx, idx + length):\n",
    "    selected_sentence = raw_corpus[i]\n",
    "    preprocessed_sentence = preprocess_sentence(selected_sentence)\n",
    "    #print(\"selected sentence : \", selected_sentence)\n",
    "    print(\"after preprocessing : \", preprocessed_sentence)"
   ]
  },
  {
   "cell_type": "code",
   "execution_count": 5,
   "metadata": {
    "scrolled": true
   },
   "outputs": [
    {
     "name": "stdout",
     "output_type": "stream",
     "text": [
      "175933\n",
      "### print 5 preprocessed sentences ##\n",
      "['<start> they say get ready for the revolution <end>', '<start> i think it s time we find some sorta solution <end>', '<start> somebody s caught up in the endless pollution <end>', '<start> they need to wake up , stop living illusions i know you need to hear this <end>', '<start> why won t somebody feel this <end>']\n"
     ]
    }
   ],
   "source": [
    "corpus = []\n",
    "for sentence in raw_corpus:\n",
    "    # if sentence is empty, pass\n",
    "    if len(sentence) == 0: continue\n",
    "    preprocessed = preprocess_sentence(sentence)\n",
    "    if preprocessed != None and len(preprocessed) != 0:\n",
    "        corpus.append(preprocessed)\n",
    "\n",
    "print(len(corpus))\n",
    "print(\"### print 5 preprocessed sentences ##\")\n",
    "print(corpus[:5])"
   ]
  },
  {
   "cell_type": "code",
   "execution_count": 6,
   "metadata": {},
   "outputs": [
    {
     "name": "stdout",
     "output_type": "stream",
     "text": [
      "tensor.shape :  (175933, 15)\n",
      "[[   2   45   68 ...    0    0    0]\n",
      " [   2    5  127 ...    0    0    0]\n",
      " [   2  265   16 ...    0    0    0]\n",
      " ...\n",
      " [   2    7  224 ...    0    0    0]\n",
      " [  19  144    4 ...   19  887    3]\n",
      " [   2    8 3435 ...    0    0    0]] <keras_preprocessing.text.Tokenizer object at 0x7f60c41bfa10>\n"
     ]
    }
   ],
   "source": [
    "import tensorflow as tf\n",
    "\n",
    "def tokenize(corpus):\n",
    "    tokenizer = tf.keras.preprocessing.text.Tokenizer(\n",
    "        num_words=12000,\n",
    "        filters='',\n",
    "        oov_token=\"<unk>\"\n",
    "    )\n",
    "    tokenizer.fit_on_texts(corpus)\n",
    "    \n",
    "    tensor = tokenizer.texts_to_sequences(corpus)\n",
    "    # token이 너무 크면 공백이 많아지므로 최대 길이를 15로 지정\n",
    "    # 마지막 단어가 출력에 가까운게 좋으므로 앞에 패딩을 뭍임\n",
    "    tensor = tf.keras.preprocessing.sequence.pad_sequences(tensor, maxlen=15,padding=\"post\")\n",
    "    print(\"tensor.shape : \", tensor.shape)\n",
    "    print(tensor, tokenizer)\n",
    "    return tensor, tokenizer\n",
    "\n",
    "tensor, tokenizer = tokenize(corpus)"
   ]
  },
  {
   "cell_type": "code",
   "execution_count": 7,
   "metadata": {},
   "outputs": [
    {
     "name": "stdout",
     "output_type": "stream",
     "text": [
      "[[   2   45   68   44  297   28    6 2111    3    0    0    0    0    0\n",
      "     0]\n",
      " [   2    5  127   11   16   73   23  204   99 3847 6490    3    0    0\n",
      "     0]\n",
      " [   2  265   16  636   29   14    6 2966    1    3    0    0    0    0\n",
      "     0]]\n",
      "<class 'dict'>\n",
      "4\n",
      "20\n",
      "43\n",
      "1  : <unk>\n",
      "2  : <start>\n",
      "3  : <end>\n",
      "4  : ,\n",
      "5  : i\n",
      "6  : the\n",
      "7  : you\n",
      "8  : and\n",
      "9  : a\n",
      "10  : to\n"
     ]
    }
   ],
   "source": [
    "# print tensor and tokenizer's values\n",
    "print(tensor[:3, :])\n",
    "print(type(tokenizer.index_word))\n",
    "print(tokenizer.word_index[','])\n",
    "print(tokenizer.word_index['.'])\n",
    "print(tokenizer.word_index['?'])\n",
    "\n",
    "for idx in tokenizer.index_word:\n",
    "    print(idx, \" :\", tokenizer.index_word[idx])\n",
    "    if idx >= 10: break"
   ]
  },
  {
   "cell_type": "markdown",
   "metadata": {},
   "source": [
    "# dataset split and preparation for learning"
   ]
  },
  {
   "cell_type": "code",
   "execution_count": 8,
   "metadata": {},
   "outputs": [
    {
     "name": "stdout",
     "output_type": "stream",
     "text": [
      "[   2   45   68   44  297   28    6 2111    3    0    0    0    0    0]\n",
      "[  45   68   44  297   28    6 2111    3    0    0    0    0    0    0]\n",
      "X_train.shape :  (140746, 14)\n",
      "X_val.shape :  (35187, 14)\n",
      "y_train.shape :  (140746, 14)\n",
      "y_val.shape :  (35187, 14)\n"
     ]
    }
   ],
   "source": [
    "from sklearn.model_selection import train_test_split\n",
    "\"\"\"\n",
    "preparing dataset\n",
    "- x : idx 0 ~ -2\n",
    "- y : idx 1 ~ -1\n",
    "\n",
    "\"\"\"\n",
    "X = tensor[:,:-1]\n",
    "y = tensor[:,1:]\n",
    "print(X[0])\n",
    "print(y[0])\n",
    "\n",
    "X_train, X_val, y_train, y_val = train_test_split(X, y, test_size=0.2, random_state=42)\n",
    "print(\"X_train.shape : \", X_train.shape)\n",
    "print(\"X_val.shape : \", X_val.shape)\n",
    "print(\"y_train.shape : \", y_train.shape)\n",
    "print(\"y_val.shape : \", y_val.shape)\n",
    "\n",
    "\n",
    "training_size = len(X_train)\n",
    "valiation_size = len(X_val)\n",
    "batch_size = 512\n",
    "steps_per_epochs = training_size//batch_size\n",
    "\n",
    "def get_dataset(source_input, target_input):\n",
    "    buffer_size = len(source_input)\n",
    "    # number of words + 1(<pad> is not included in tokenizer)\n",
    "    vocab_size = tokenizer.num_words + 1\n",
    "    dataset = tf.data.Dataset.from_tensor_slices((source_input, target_input)).shuffle(buffer_size)\n",
    "    dataset = dataset.batch(batch_size, drop_remainder=True)\n",
    "    return dataset\n",
    "\n",
    "\n",
    "train_dataset = get_dataset(X_train, y_train) \n",
    "val_dataset = get_dataset(X_val, y_val)\n",
    "\n",
    "del raw_corpus, corpus, tensor, X,\\\n",
    "        y, X_train, X_val, y_train, y_val"
   ]
  },
  {
   "cell_type": "code",
   "execution_count": 9,
   "metadata": {},
   "outputs": [
    {
     "name": "stdout",
     "output_type": "stream",
     "text": [
      "<TakeDataset shapes: ((512, 14), (512, 14)), types: (tf.int32, tf.int32)>\n",
      "<TakeDataset shapes: ((512, 14), (512, 14)), types: (tf.int32, tf.int32)>\n",
      "tf.Tensor(\n",
      "[[ 373   10 1955 ...  520    9  396]\n",
      " [   6   33  276 ...    9   33  276]\n",
      " [ 423 1465  202 ...    7  253  185]\n",
      " ...\n",
      " [   4   42 1728 ... 1571  122  300]\n",
      " [   2   39   39 ...  275    3    0]\n",
      " [   2 1110    6 ...    0    0    0]], shape=(512, 14), dtype=int32)\n",
      "tf.Tensor(\n",
      "[[  10 1955  120 ...    9  396    3]\n",
      " [  33  276   63 ...   33  276    3]\n",
      " [1465  202    5 ...  253  185    3]\n",
      " ...\n",
      " [  42 1728   26 ...  122  300    3]\n",
      " [  39   39   99 ...    3    0    0]\n",
      " [1110    6    1 ...    0    0    0]], shape=(512, 14), dtype=int32)\n",
      "tf.Tensor(\n",
      "[[   2  649   56 ...   60    3    0]\n",
      " [   2  129   21 ...   41   11    3]\n",
      " [   2   55  509 ...    0    0    0]\n",
      " ...\n",
      " [   2 7386    1 ...    0    0    0]\n",
      " [   2    5  373 ...    0    0    0]\n",
      " [   2   36    6 ...  621    3    0]], shape=(512, 14), dtype=int32)\n",
      "tf.Tensor(\n",
      "[[ 649   56   31 ...    3    0    0]\n",
      " [ 129   21 1111 ...   11    3    0]\n",
      " [  55  509   71 ...    0    0    0]\n",
      " ...\n",
      " [7386    1  112 ...    0    0    0]\n",
      " [   5  373  186 ...    0    0    0]\n",
      " [  36    6   85 ...    3    0    0]], shape=(512, 14), dtype=int32)\n",
      "tf.Tensor(\n",
      "[[   2  450   12 ...    0    0    0]\n",
      " [   2   35    5 ... 3010 6494    3]\n",
      " [   2  981   90 ...    0    0    0]\n",
      " ...\n",
      " [   2  198   91 ...    0    0    0]\n",
      " [   2  127   46 ...    0    0    0]\n",
      " [   2  746 1199 ...    0    0    0]], shape=(512, 14), dtype=int32)\n",
      "tf.Tensor(\n",
      "[[ 450   12   60 ...    0    0    0]\n",
      " [  35    5  121 ... 6494    3    0]\n",
      " [ 981   90 1117 ...    0    0    0]\n",
      " ...\n",
      " [ 198   91  460 ...    0    0    0]\n",
      " [ 127   46 1970 ...    0    0    0]\n",
      " [ 746 1199    6 ...    0    0    0]], shape=(512, 14), dtype=int32)\n",
      "tf.Tensor(\n",
      "[[   2   14   17 ...    0    0    0]\n",
      " [   2   39    4 ... 1271    3    0]\n",
      " [   2  272 9616 ...    0    0    0]\n",
      " ...\n",
      " [   2    8   39 ...    0    0    0]\n",
      " [   2   68   11 ...   30    3    0]\n",
      " [ 263  115   30 ...   22   25 8915]], shape=(512, 14), dtype=int32)\n",
      "tf.Tensor(\n",
      "[[  14   17  839 ...    0    0    0]\n",
      " [  39    4   52 ...    3    0    0]\n",
      " [ 272 9616    3 ...    0    0    0]\n",
      " ...\n",
      " [   8   39   49 ...    0    0    0]\n",
      " [  68   11   89 ...    3    0    0]\n",
      " [ 115   30 3443 ...   25 8915    3]], shape=(512, 14), dtype=int32)\n",
      "number of traindataset's mini batch :  274\n",
      "train step per epoch :  274\n"
     ]
    }
   ],
   "source": [
    "print(train_dataset.take(1))\n",
    "print(val_dataset.take(1))\n",
    "for sources, targets in train_dataset.take(2):\n",
    "    print(sources)\n",
    "    print(targets)\n",
    "\n",
    "    \n",
    "for sources, targets in val_dataset.take(2):\n",
    "    print(sources)\n",
    "    print(targets)\n",
    "\n",
    "cnt = 0\n",
    "for x in train_dataset:\n",
    "    cnt +=1\n",
    "print(\"number of traindataset's mini batch : \", cnt)\n",
    "print(\"train step per epoch : \", training_size//batch_size)"
   ]
  },
  {
   "cell_type": "markdown",
   "metadata": {},
   "source": [
    "# design dnn model and fit"
   ]
  },
  {
   "cell_type": "code",
   "execution_count": 10,
   "metadata": {},
   "outputs": [],
   "source": [
    "tf.keras.backend.clear_session()\n",
    "\n",
    "class LyricGenerator(tf.keras.Model):\n",
    "    def __init__(self, vocab_size, embedding_size, hidden_size):\n",
    "        super(LyricGenerator, self).__init__()\n",
    "        \n",
    "        self.embedding = tf.keras.layers.Embedding(vocab_size, embedding_size)\n",
    "        #return_sequences means return same length of seqences with input's length\n",
    "        self.rnn_1 = tf.keras.layers.LSTM(hidden_size, return_sequences=True)\n",
    "        self.rnn_2 = tf.keras.layers.LSTM(hidden_size, return_sequences=True)\n",
    "        self.linear = tf.keras.layers.Dense(vocab_size)\n",
    "    \n",
    "    def call(self, x):\n",
    "        out = self.embedding(x)\n",
    "        out = self.rnn_1(out)\n",
    "        out = self.rnn_2(out)\n",
    "        out = self.linear(out)\n",
    "        return out\n",
    "    \n",
    "embedding_size = 256\n",
    "hidden_size = 1024\n",
    "model = LyricGenerator(tokenizer.num_words+1, embedding_size, hidden_size)"
   ]
  },
  {
   "cell_type": "markdown",
   "metadata": {},
   "source": [
    "# learning dataset but validation loss did not reach to 2.2"
   ]
  },
  {
   "cell_type": "code",
   "execution_count": 11,
   "metadata": {
    "scrolled": true
   },
   "outputs": [
    {
     "name": "stdout",
     "output_type": "stream",
     "text": [
      "Epoch 1/10\n",
      "274/274 [==============================] - ETA: 0s - loss: 3.9485\n",
      "Epoch 00001: val_loss improved from inf to 3.49552, saving model to /home/aiffel/github/aiffel_practice/EXPLORATION06/checkpoint/lyric_model\n",
      "274/274 [==============================] - 92s 336ms/step - loss: 3.9485 - val_loss: 3.4955\n",
      "Epoch 2/10\n",
      "274/274 [==============================] - ETA: 0s - loss: 3.3641\n",
      "Epoch 00002: val_loss improved from 3.49552 to 3.27204, saving model to /home/aiffel/github/aiffel_practice/EXPLORATION06/checkpoint/lyric_model\n",
      "274/274 [==============================] - 93s 338ms/step - loss: 3.3641 - val_loss: 3.2720\n",
      "Epoch 3/10\n",
      "274/274 [==============================] - ETA: 0s - loss: 3.1874\n",
      "Epoch 00003: val_loss improved from 3.27204 to 3.14957, saving model to /home/aiffel/github/aiffel_practice/EXPLORATION06/checkpoint/lyric_model\n",
      "274/274 [==============================] - 93s 338ms/step - loss: 3.1874 - val_loss: 3.1496\n",
      "Epoch 4/10\n",
      "274/274 [==============================] - ETA: 0s - loss: 3.0572\n",
      "Epoch 00004: val_loss improved from 3.14957 to 3.05203, saving model to /home/aiffel/github/aiffel_practice/EXPLORATION06/checkpoint/lyric_model\n",
      "274/274 [==============================] - 92s 335ms/step - loss: 3.0572 - val_loss: 3.0520\n",
      "Epoch 5/10\n",
      "274/274 [==============================] - ETA: 0s - loss: 2.9512\n",
      "Epoch 00005: val_loss improved from 3.05203 to 2.98102, saving model to /home/aiffel/github/aiffel_practice/EXPLORATION06/checkpoint/lyric_model\n",
      "274/274 [==============================] - 87s 319ms/step - loss: 2.9512 - val_loss: 2.9810\n",
      "Epoch 6/10\n",
      "274/274 [==============================] - ETA: 0s - loss: 2.8593\n",
      "Epoch 00006: val_loss improved from 2.98102 to 2.92191, saving model to /home/aiffel/github/aiffel_practice/EXPLORATION06/checkpoint/lyric_model\n",
      "274/274 [==============================] - 88s 321ms/step - loss: 2.8593 - val_loss: 2.9219\n",
      "Epoch 7/10\n",
      "274/274 [==============================] - ETA: 0s - loss: 2.7741\n",
      "Epoch 00007: val_loss improved from 2.92191 to 2.86813, saving model to /home/aiffel/github/aiffel_practice/EXPLORATION06/checkpoint/lyric_model\n",
      "274/274 [==============================] - 88s 322ms/step - loss: 2.7741 - val_loss: 2.8681\n",
      "Epoch 8/10\n",
      "274/274 [==============================] - ETA: 0s - loss: 2.6942\n",
      "Epoch 00008: val_loss improved from 2.86813 to 2.82765, saving model to /home/aiffel/github/aiffel_practice/EXPLORATION06/checkpoint/lyric_model\n",
      "274/274 [==============================] - 88s 322ms/step - loss: 2.6942 - val_loss: 2.8276\n",
      "Epoch 9/10\n",
      "274/274 [==============================] - ETA: 0s - loss: 2.6215\n",
      "Epoch 00009: val_loss improved from 2.82765 to 2.78194, saving model to /home/aiffel/github/aiffel_practice/EXPLORATION06/checkpoint/lyric_model\n",
      "274/274 [==============================] - 90s 327ms/step - loss: 2.6215 - val_loss: 2.7819\n",
      "Epoch 10/10\n",
      "274/274 [==============================] - ETA: 0s - loss: 2.5502\n",
      "Epoch 00010: val_loss improved from 2.78194 to 2.75050, saving model to /home/aiffel/github/aiffel_practice/EXPLORATION06/checkpoint/lyric_model\n",
      "274/274 [==============================] - 92s 335ms/step - loss: 2.5502 - val_loss: 2.7505\n"
     ]
    }
   ],
   "source": [
    "# model.load_weights(checkpoint_dir)\n",
    "epochs = 10\n",
    "\n",
    "optimizer = tf.keras.optimizers.Adam()\n",
    "loss = tf.keras.losses.SparseCategoricalCrossentropy(\n",
    "        from_logits=True,\n",
    "        reduction=\"none\"\n",
    "    )\n",
    "\n",
    "model.compile(loss=loss,\n",
    "              optimizer=optimizer)\n",
    "\n",
    "\n",
    "checkpoint_dir = os.getenv(\"HOME\")+\"/github/aiffel_practice/EXPLORATION06/checkpoint/lyric_model\"\n",
    "cp_callback = tf.keras.callbacks.ModelCheckpoint(\n",
    "    checkpoint_dir,\n",
    "    save_weights_only=True,\n",
    "    monitor=\"val_loss\",\n",
    "    save_best_only=True,\n",
    "    mode=\"auto\",\n",
    "    verbose=1\n",
    ")\n",
    "\n",
    "history = model.fit(train_dataset, epochs=epochs,\n",
    "        steps_per_epoch= training_size//batch_size,\n",
    "        validation_data=val_dataset,\n",
    "        validation_steps=valiation_size//batch_size,\n",
    "        callbacks=[cp_callback])"
   ]
  },
  {
   "cell_type": "code",
   "execution_count": 10,
   "metadata": {},
   "outputs": [],
   "source": [
    "import matplotlib.pyplot as plt\n",
    "def visualize_loss(history):\n",
    "    loss = history.history[\"loss\"]\n",
    "    val_loss = history.history[\"val_loss\"]    \n",
    "    epochs_range = range(len(loss))\n",
    "    plt.figure(figsize=(6, 6))\n",
    "    plt.plot(epochs_range, loss, label='Training Loss')\n",
    "    plt.plot(epochs_range, val_loss, label='Validation Loss')\n",
    "    plt.legend(loc='upper right')\n",
    "    plt.title('Training and Validation Loss')\n",
    "    plt.show()"
   ]
  },
  {
   "cell_type": "markdown",
   "metadata": {},
   "source": [
    "# generate lyrics test"
   ]
  },
  {
   "cell_type": "code",
   "execution_count": 21,
   "metadata": {},
   "outputs": [],
   "source": [
    "def generate_lyrics(model, tokenizer, init_sentence=\"<start>\", max_len=14):\n",
    "    test_input = tokenizer.texts_to_sequences([init_sentence])\n",
    "    test_tensor = tf.convert_to_tensor(test_input, dtype=tf.int64)\n",
    "    end_token = tokenizer.word_index[\"<end>\"]\n",
    "    \n",
    "    while True:\n",
    "        predict = model(test_tensor)\n",
    "        predicted_word = tf.argmax(tf.nn.softmax(predict,axis = -1), axis=-1)[:, -1]\n",
    "        print(\"predicted : \", predicted_word)\n",
    "\n",
    "        test_tensor = tf.concat([test_tensor,\n",
    "                                tf.expand_dims(predicted_word, axis=0)], axis=-1)\n",
    "        if predicted_word.numpy()[0] == end_token:\n",
    "            print(\"reach to end token\", predicted_word.numpy())\n",
    "            break\n",
    "        if test_tensor.shape[1] >= max_len:\n",
    "            print(\"reach to max len\")\n",
    "            break\n",
    "        \n",
    "    generated = \"\"\n",
    "    print(test_tensor)\n",
    "    for word_index in test_tensor[0].numpy():\n",
    "        print(word_index, generated)\n",
    "        generated += tokenizer.index_word[word_index] +\" \"\n",
    "    return generated\n"
   ]
  },
  {
   "cell_type": "code",
   "execution_count": 14,
   "metadata": {},
   "outputs": [
    {
     "name": "stdout",
     "output_type": "stream",
     "text": [
      "predicted :  tf.Tensor([7], shape=(1,), dtype=int64)\n",
      "predicted :  tf.Tensor([62], shape=(1,), dtype=int64)\n",
      "predicted :  tf.Tensor([10], shape=(1,), dtype=int64)\n",
      "predicted :  tf.Tensor([47], shape=(1,), dtype=int64)\n",
      "predicted :  tf.Tensor([43], shape=(1,), dtype=int64)\n",
      "predicted :  tf.Tensor([3], shape=(1,), dtype=int64)\n",
      "reach to end token [3]\n",
      "tf.Tensor([[ 2 47  7 62 10 47 43  3]], shape=(1, 8), dtype=int64)\n",
      "2 \n",
      "47 <start> \n",
      "7 <start> do \n",
      "62 <start> do you \n",
      "10 <start> do you want \n",
      "47 <start> do you want to \n",
      "43 <start> do you want to do \n",
      "3 <start> do you want to do ? \n"
     ]
    },
    {
     "data": {
      "text/plain": [
       "'<start> do you want to do ? <end> '"
      ]
     },
     "execution_count": 14,
     "metadata": {},
     "output_type": "execute_result"
    }
   ],
   "source": [
    "generate_lyrics(model, tokenizer, init_sentence=\"<start> do\")"
   ]
  },
  {
   "cell_type": "code",
   "execution_count": 15,
   "metadata": {},
   "outputs": [
    {
     "name": "stdout",
     "output_type": "stream",
     "text": [
      "predicted :  tf.Tensor([10], shape=(1,), dtype=int64)\n",
      "predicted :  tf.Tensor([3700], shape=(1,), dtype=int64)\n",
      "predicted :  tf.Tensor([355], shape=(1,), dtype=int64)\n",
      "predicted :  tf.Tensor([3], shape=(1,), dtype=int64)\n",
      "reach to end token [3]\n",
      "tf.Tensor([[   2    5   62   10 3700  355    3]], shape=(1, 7), dtype=int64)\n",
      "2 \n",
      "5 <start> \n",
      "62 <start> i \n",
      "10 <start> i want \n",
      "3700 <start> i want to \n",
      "355 <start> i want to sunroof \n",
      "3 <start> i want to sunroof top \n"
     ]
    },
    {
     "data": {
      "text/plain": [
       "'<start> i want to sunroof top <end> '"
      ]
     },
     "execution_count": 15,
     "metadata": {},
     "output_type": "execute_result"
    }
   ],
   "source": [
    "generate_lyrics(model, tokenizer, init_sentence=\"<start> I want\")"
   ]
  },
  {
   "cell_type": "code",
   "execution_count": 24,
   "metadata": {},
   "outputs": [
    {
     "data": {
      "image/png": "[encoded data removed]",
      "text/plain": [
       "<Figure size 648x648 with 1 Axes>"
      ]
     },
     "metadata": {
      "needs_background": "light"
     },
     "output_type": "display_data"
    }
   ],
   "source": [
    "visualize_loss(history)"
   ]
  },
  {
   "cell_type": "markdown",
   "metadata": {},
   "source": [
    "# design model with hidden layer size 2048 and learning dataset"
   ]
  },
  {
   "cell_type": "code",
   "execution_count": 27,
   "metadata": {
    "scrolled": true
   },
   "outputs": [
    {
     "name": "stdout",
     "output_type": "stream",
     "text": [
      "Epoch 1/10\n",
      "274/274 [==============================] - ETA: 0s - loss: 3.8130\n",
      "Epoch 00001: val_loss improved from inf to 3.32134, saving model to /home/aiffel/github/aiffel_practice/EXPLORATION06/checkpoint/lyric_model_hidden_2048\n",
      "274/274 [==============================] - 240s 877ms/step - loss: 3.8130 - val_loss: 3.3213\n",
      "Epoch 2/10\n",
      "274/274 [==============================] - ETA: 0s - loss: 3.2010\n",
      "Epoch 00002: val_loss improved from 3.32134 to 3.07866, saving model to /home/aiffel/github/aiffel_practice/EXPLORATION06/checkpoint/lyric_model_hidden_2048\n",
      "274/274 [==============================] - 245s 893ms/step - loss: 3.2010 - val_loss: 3.0787\n",
      "Epoch 3/10\n",
      "274/274 [==============================] - ETA: 0s - loss: 2.9357\n",
      "Epoch 00003: val_loss improved from 3.07866 to 2.90900, saving model to /home/aiffel/github/aiffel_practice/EXPLORATION06/checkpoint/lyric_model_hidden_2048\n",
      "274/274 [==============================] - 247s 901ms/step - loss: 2.9357 - val_loss: 2.9090\n",
      "Epoch 4/10\n",
      "274/274 [==============================] - ETA: 0s - loss: 2.7175\n",
      "Epoch 00004: val_loss improved from 2.90900 to 2.77315, saving model to /home/aiffel/github/aiffel_practice/EXPLORATION06/checkpoint/lyric_model_hidden_2048\n",
      "274/274 [==============================] - 244s 891ms/step - loss: 2.7175 - val_loss: 2.7732\n",
      "Epoch 5/10\n",
      "274/274 [==============================] - ETA: 0s - loss: 2.5044\n",
      "Epoch 00005: val_loss improved from 2.77315 to 2.66215, saving model to /home/aiffel/github/aiffel_practice/EXPLORATION06/checkpoint/lyric_model_hidden_2048\n",
      "274/274 [==============================] - 245s 893ms/step - loss: 2.5044 - val_loss: 2.6622\n",
      "Epoch 6/10\n",
      "274/274 [==============================] - ETA: 0s - loss: 2.2949\n",
      "Epoch 00006: val_loss improved from 2.66215 to 2.56893, saving model to /home/aiffel/github/aiffel_practice/EXPLORATION06/checkpoint/lyric_model_hidden_2048\n",
      "274/274 [==============================] - 247s 900ms/step - loss: 2.2949 - val_loss: 2.5689\n",
      "Epoch 7/10\n",
      "274/274 [==============================] - ETA: 0s - loss: 2.0878\n",
      "Epoch 00007: val_loss improved from 2.56893 to 2.49677, saving model to /home/aiffel/github/aiffel_practice/EXPLORATION06/checkpoint/lyric_model_hidden_2048\n",
      "274/274 [==============================] - 255s 931ms/step - loss: 2.0878 - val_loss: 2.4968\n",
      "Epoch 8/10\n",
      "274/274 [==============================] - ETA: 0s - loss: 1.8906\n",
      "Epoch 00008: val_loss improved from 2.49677 to 2.44036, saving model to /home/aiffel/github/aiffel_practice/EXPLORATION06/checkpoint/lyric_model_hidden_2048\n",
      "274/274 [==============================] - 247s 903ms/step - loss: 1.8906 - val_loss: 2.4404\n",
      "Epoch 9/10\n",
      "274/274 [==============================] - ETA: 0s - loss: 1.7069\n",
      "Epoch 00009: val_loss improved from 2.44036 to 2.38888, saving model to /home/aiffel/github/aiffel_practice/EXPLORATION06/checkpoint/lyric_model_hidden_2048\n",
      "274/274 [==============================] - 248s 906ms/step - loss: 1.7069 - val_loss: 2.3889\n",
      "Epoch 10/10\n",
      "274/274 [==============================] - ETA: 0s - loss: 1.5379\n",
      "Epoch 00010: val_loss improved from 2.38888 to 2.35882, saving model to /home/aiffel/github/aiffel_practice/EXPLORATION06/checkpoint/lyric_model_hidden_2048\n",
      "274/274 [==============================] - 255s 931ms/step - loss: 1.5379 - val_loss: 2.3588\n"
     ]
    }
   ],
   "source": [
    "hidden_size = 2048\n",
    "name = \"lyric_model_hidden_\"+str(hidden_size)\n",
    "model_hidden_2048 = LyricGenerator(tokenizer.num_words+1, embedding_size, hidden_size)\n",
    "\n",
    "epochs = 10\n",
    "optimizer = tf.keras.optimizers.Adam()\n",
    "loss = tf.keras.losses.SparseCategoricalCrossentropy(\n",
    "        from_logits=True,\n",
    "        reduction=\"none\"\n",
    "    )\n",
    "\n",
    "model_hidden_2048.compile(loss=loss,\n",
    "              optimizer=optimizer)\n",
    "\n",
    "\n",
    "checkpoint_dir = os.getenv(\"HOME\")+\"/github/aiffel_practice/EXPLORATION06/checkpoint/\"+name\n",
    "cp_callback = tf.keras.callbacks.ModelCheckpoint(\n",
    "    checkpoint_dir,\n",
    "    save_weights_only=True,\n",
    "    monitor=\"val_loss\",\n",
    "    save_best_only=True,\n",
    "    mode=\"auto\",\n",
    "    verbose=1\n",
    ")\n",
    "\n",
    "history_hidden_2048 = model_hidden_2048.fit(train_dataset, epochs=epochs,\n",
    "        steps_per_epoch= training_size//batch_size,\n",
    "        validation_data=val_dataset,\n",
    "        validation_steps=valiation_size//batch_size,\n",
    "        callbacks=[cp_callback])"
   ]
  },
  {
   "cell_type": "code",
   "execution_count": 30,
   "metadata": {
    "scrolled": true
   },
   "outputs": [
    {
     "name": "stdout",
     "output_type": "stream",
     "text": [
      "predicted :  tf.Tensor([7], shape=(1,), dtype=int64)\n",
      "predicted :  tf.Tensor([86], shape=(1,), dtype=int64)\n",
      "predicted :  tf.Tensor([3512], shape=(1,), dtype=int64)\n",
      "predicted :  tf.Tensor([1300], shape=(1,), dtype=int64)\n",
      "predicted :  tf.Tensor([6], shape=(1,), dtype=int64)\n",
      "predicted :  tf.Tensor([1178], shape=(1,), dtype=int64)\n",
      "predicted :  tf.Tensor([43], shape=(1,), dtype=int64)\n",
      "predicted :  tf.Tensor([3], shape=(1,), dtype=int64)\n",
      "reach to end token [3]\n",
      "tf.Tensor([[   2   47    7   86 3512 1300    6 1178   43    3]], shape=(1, 10), dtype=int64)\n",
      "2 \n",
      "47 <start> \n",
      "7 <start> do \n",
      "86 <start> do you \n",
      "3512 <start> do you wanna \n",
      "1300 <start> do you wanna peek \n",
      "6 <start> do you wanna peek underneath \n",
      "1178 <start> do you wanna peek underneath the \n",
      "43 <start> do you wanna peek underneath the cover \n",
      "3 <start> do you wanna peek underneath the cover ? \n"
     ]
    },
    {
     "data": {
      "text/plain": [
       "'<start> do you wanna peek underneath the cover ? <end> '"
      ]
     },
     "execution_count": 30,
     "metadata": {},
     "output_type": "execute_result"
    }
   ],
   "source": [
    "generate_lyrics(model_hidden_2048, tokenizer, init_sentence=\"<start> do\")"
   ]
  },
  {
   "cell_type": "code",
   "execution_count": 31,
   "metadata": {
    "scrolled": true
   },
   "outputs": [
    {
     "name": "stdout",
     "output_type": "stream",
     "text": [
      "predicted :  tf.Tensor([10], shape=(1,), dtype=int64)\n",
      "predicted :  tf.Tensor([3085], shape=(1,), dtype=int64)\n",
      "predicted :  tf.Tensor([6], shape=(1,), dtype=int64)\n",
      "predicted :  tf.Tensor([1063], shape=(1,), dtype=int64)\n",
      "predicted :  tf.Tensor([31], shape=(1,), dtype=int64)\n",
      "predicted :  tf.Tensor([9], shape=(1,), dtype=int64)\n",
      "predicted :  tf.Tensor([1383], shape=(1,), dtype=int64)\n",
      "predicted :  tf.Tensor([1147], shape=(1,), dtype=int64)\n",
      "predicted :  tf.Tensor([3], shape=(1,), dtype=int64)\n",
      "reach to end token [3]\n",
      "tf.Tensor([[   2    5   62   10 3085    6 1063   31    9 1383 1147    3]], shape=(1, 12), dtype=int64)\n",
      "2 \n",
      "5 <start> \n",
      "62 <start> i \n",
      "10 <start> i want \n",
      "3085 <start> i want to \n",
      "6 <start> i want to diggin \n",
      "1063 <start> i want to diggin the \n",
      "31 <start> i want to diggin the scene \n",
      "9 <start> i want to diggin the scene with \n",
      "1383 <start> i want to diggin the scene with a \n",
      "1147 <start> i want to diggin the scene with a gangsta \n",
      "3 <start> i want to diggin the scene with a gangsta lean \n"
     ]
    },
    {
     "data": {
      "text/plain": [
       "'<start> i want to diggin the scene with a gangsta lean <end> '"
      ]
     },
     "execution_count": 31,
     "metadata": {},
     "output_type": "execute_result"
    }
   ],
   "source": [
    "generate_lyrics(model_hidden_2048, tokenizer, init_sentence=\"<start> I want\")"
   ]
  },
  {
   "cell_type": "code",
   "execution_count": 37,
   "metadata": {
    "scrolled": true
   },
   "outputs": [
    {
     "name": "stdout",
     "output_type": "stream",
     "text": [
      "predicted :  tf.Tensor([7], shape=(1,), dtype=int64)\n",
      "predicted :  tf.Tensor([4], shape=(1,), dtype=int64)\n",
      "predicted :  tf.Tensor([51], shape=(1,), dtype=int64)\n",
      "predicted :  tf.Tensor([4], shape=(1,), dtype=int64)\n",
      "predicted :  tf.Tensor([30], shape=(1,), dtype=int64)\n",
      "predicted :  tf.Tensor([179], shape=(1,), dtype=int64)\n",
      "predicted :  tf.Tensor([5], shape=(1,), dtype=int64)\n",
      "predicted :  tf.Tensor([33], shape=(1,), dtype=int64)\n",
      "predicted :  tf.Tensor([7], shape=(1,), dtype=int64)\n",
      "predicted :  tf.Tensor([30], shape=(1,), dtype=int64)\n",
      "predicted :  tf.Tensor([179], shape=(1,), dtype=int64)\n",
      "predicted :  tf.Tensor([3], shape=(1,), dtype=int64)\n",
      "reach to end token [3]\n",
      "tf.Tensor([[  2   5  33   7   4  51   4  30 179   5  33   7  30 179   3]], shape=(1, 15), dtype=int64)\n",
      "2 \n",
      "5 <start> \n",
      "33 <start> i \n",
      "7 <start> i love \n",
      "4 <start> i love you \n",
      "51 <start> i love you , \n",
      "4 <start> i love you , baby \n",
      "30 <start> i love you , baby , \n",
      "179 <start> i love you , baby , so \n",
      "5 <start> i love you , baby , so much \n",
      "33 <start> i love you , baby , so much i \n",
      "7 <start> i love you , baby , so much i love \n",
      "30 <start> i love you , baby , so much i love you \n",
      "179 <start> i love you , baby , so much i love you so \n",
      "3 <start> i love you , baby , so much i love you so much \n"
     ]
    },
    {
     "data": {
      "text/plain": [
       "'<start> i love you , baby , so much i love you so much <end> '"
      ]
     },
     "execution_count": 37,
     "metadata": {},
     "output_type": "execute_result"
    }
   ],
   "source": [
    "generate_lyrics(model_hidden_2048, tokenizer, init_sentence=\"<start> i love\")"
   ]
  },
  {
   "cell_type": "code",
   "execution_count": 38,
   "metadata": {},
   "outputs": [
    {
     "data": {
      "image/png": "[encoded data removed]",
      "text/plain": [
       "<Figure size 432x432 with 1 Axes>"
      ]
     },
     "metadata": {
      "needs_background": "light"
     },
     "output_type": "display_data"
    }
   ],
   "source": [
    "visualize_loss(history_hidden_2048)"
   ]
  },
  {
   "cell_type": "markdown",
   "metadata": {},
   "source": [
    "# design model with hidden layer size 2048, embedding size 512 and learning dataset"
   ]
  },
  {
   "cell_type": "code",
   "execution_count": 39,
   "metadata": {
    "scrolled": true
   },
   "outputs": [
    {
     "name": "stdout",
     "output_type": "stream",
     "text": [
      "Epoch 1/10\n",
      "274/274 [==============================] - ETA: 0s - loss: 3.9033\n",
      "Epoch 00001: val_loss improved from inf to 3.43949, saving model to /home/aiffel/github/aiffel_practice/EXPLORATION06/checkpoint/lyric_model_embeding_512_hidden_1024\n",
      "274/274 [==============================] - 101s 370ms/step - loss: 3.9033 - val_loss: 3.4395\n",
      "Epoch 2/10\n",
      "274/274 [==============================] - ETA: 0s - loss: 3.3165\n",
      "Epoch 00002: val_loss improved from 3.43949 to 3.21296, saving model to /home/aiffel/github/aiffel_practice/EXPLORATION06/checkpoint/lyric_model_embeding_512_hidden_1024\n",
      "274/274 [==============================] - 102s 374ms/step - loss: 3.3165 - val_loss: 3.2130\n",
      "Epoch 3/10\n",
      "274/274 [==============================] - ETA: 0s - loss: 3.1203\n",
      "Epoch 00003: val_loss improved from 3.21296 to 3.08376, saving model to /home/aiffel/github/aiffel_practice/EXPLORATION06/checkpoint/lyric_model_embeding_512_hidden_1024\n",
      "274/274 [==============================] - 103s 376ms/step - loss: 3.1203 - val_loss: 3.0838\n",
      "Epoch 4/10\n",
      "274/274 [==============================] - ETA: 0s - loss: 2.9844\n",
      "Epoch 00004: val_loss improved from 3.08376 to 2.98889, saving model to /home/aiffel/github/aiffel_practice/EXPLORATION06/checkpoint/lyric_model_embeding_512_hidden_1024\n",
      "274/274 [==============================] - 103s 374ms/step - loss: 2.9844 - val_loss: 2.9889\n",
      "Epoch 5/10\n",
      "274/274 [==============================] - ETA: 0s - loss: 2.8752\n",
      "Epoch 00005: val_loss improved from 2.98889 to 2.91614, saving model to /home/aiffel/github/aiffel_practice/EXPLORATION06/checkpoint/lyric_model_embeding_512_hidden_1024\n",
      "274/274 [==============================] - 97s 355ms/step - loss: 2.8752 - val_loss: 2.9161\n",
      "Epoch 6/10\n",
      "274/274 [==============================] - ETA: 0s - loss: 2.7775\n",
      "Epoch 00006: val_loss improved from 2.91614 to 2.85477, saving model to /home/aiffel/github/aiffel_practice/EXPLORATION06/checkpoint/lyric_model_embeding_512_hidden_1024\n",
      "274/274 [==============================] - 101s 368ms/step - loss: 2.7775 - val_loss: 2.8548\n",
      "Epoch 7/10\n",
      "274/274 [==============================] - ETA: 0s - loss: 2.6881\n",
      "Epoch 00007: val_loss improved from 2.85477 to 2.80580, saving model to /home/aiffel/github/aiffel_practice/EXPLORATION06/checkpoint/lyric_model_embeding_512_hidden_1024\n",
      "274/274 [==============================] - 98s 358ms/step - loss: 2.6881 - val_loss: 2.8058\n",
      "Epoch 8/10\n",
      "274/274 [==============================] - ETA: 0s - loss: 2.6039\n",
      "Epoch 00008: val_loss improved from 2.80580 to 2.76076, saving model to /home/aiffel/github/aiffel_practice/EXPLORATION06/checkpoint/lyric_model_embeding_512_hidden_1024\n",
      "274/274 [==============================] - 98s 356ms/step - loss: 2.6039 - val_loss: 2.7608\n",
      "Epoch 9/10\n",
      "274/274 [==============================] - ETA: 0s - loss: 2.5215\n",
      "Epoch 00009: val_loss improved from 2.76076 to 2.71939, saving model to /home/aiffel/github/aiffel_practice/EXPLORATION06/checkpoint/lyric_model_embeding_512_hidden_1024\n",
      "274/274 [==============================] - 97s 355ms/step - loss: 2.5215 - val_loss: 2.7194\n",
      "Epoch 10/10\n",
      "274/274 [==============================] - ETA: 0s - loss: 2.4437\n",
      "Epoch 00010: val_loss improved from 2.71939 to 2.68764, saving model to /home/aiffel/github/aiffel_practice/EXPLORATION06/checkpoint/lyric_model_embeding_512_hidden_1024\n",
      "274/274 [==============================] - 97s 355ms/step - loss: 2.4437 - val_loss: 2.6876\n"
     ]
    }
   ],
   "source": [
    "tf.keras.backend.clear_session()\n",
    "\n",
    "embedding_size = 512\n",
    "hidden_size = 1024\n",
    "\n",
    "weight_name = \"lyric_model_embeding_\"+str(embedding_size)+\"_hidden_\"+str(hidden_size)\n",
    "model_embed_512_hidden_1024 = LyricGenerator(tokenizer.num_words+1, embedding_size, hidden_size)\n",
    "\n",
    "epochs = 10\n",
    "optimizer = tf.keras.optimizers.Adam()\n",
    "loss = tf.keras.losses.SparseCategoricalCrossentropy(\n",
    "        from_logits=True,\n",
    "        reduction=\"none\"\n",
    "    )\n",
    "\n",
    "model_embed_512_hidden_1024.compile(loss=loss,\n",
    "              optimizer=optimizer)\n",
    "\n",
    "\n",
    "checkpoint_dir = os.getenv(\"HOME\")+\"/github/aiffel_practice/EXPLORATION06/checkpoint/\"+weight_name\n",
    "cp_callback = tf.keras.callbacks.ModelCheckpoint(\n",
    "    checkpoint_dir,\n",
    "    save_weights_only=True,\n",
    "    monitor=\"val_loss\",\n",
    "    save_best_only=True,\n",
    "    mode=\"auto\",\n",
    "    verbose=1\n",
    ")\n",
    "\n",
    "history_embed_512_hidden_1024 = model_embed_512_hidden_1024.fit(train_dataset, epochs=epochs,\n",
    "        steps_per_epoch= training_size//batch_size,\n",
    "        validation_data=val_dataset,\n",
    "        validation_steps=valiation_size//batch_size,\n",
    "        callbacks=[cp_callback])"
   ]
  },
  {
   "cell_type": "code",
   "execution_count": 45,
   "metadata": {
    "scrolled": true
   },
   "outputs": [
    {
     "name": "stdout",
     "output_type": "stream",
     "text": [
      "predicted :  tf.Tensor([10], shape=(1,), dtype=int64)\n",
      "predicted :  tf.Tensor([27], shape=(1,), dtype=int64)\n",
      "predicted :  tf.Tensor([224], shape=(1,), dtype=int64)\n",
      "predicted :  tf.Tensor([3], shape=(1,), dtype=int64)\n",
      "reach to end token [3]\n",
      "tf.Tensor([[  2   5  62  10  27 224   3]], shape=(1, 7), dtype=int64)\n",
      "2 \n",
      "5 <start> \n",
      "62 <start> i \n",
      "10 <start> i want \n",
      "27 <start> i want to \n",
      "224 <start> i want to be \n",
      "3 <start> i want to be alone \n"
     ]
    },
    {
     "data": {
      "text/plain": [
       "'<start> i want to be alone <end> '"
      ]
     },
     "execution_count": 45,
     "metadata": {},
     "output_type": "execute_result"
    }
   ],
   "source": [
    "generate_lyrics(model_embed_512_hidden_1024, tokenizer, init_sentence=\"<start> I want\")"
   ]
  },
  {
   "cell_type": "code",
   "execution_count": 46,
   "metadata": {
    "scrolled": true
   },
   "outputs": [
    {
     "name": "stdout",
     "output_type": "stream",
     "text": [
      "predicted :  tf.Tensor([7], shape=(1,), dtype=int64)\n",
      "predicted :  tf.Tensor([4], shape=(1,), dtype=int64)\n",
      "predicted :  tf.Tensor([5], shape=(1,), dtype=int64)\n",
      "predicted :  tf.Tensor([33], shape=(1,), dtype=int64)\n",
      "predicted :  tf.Tensor([7], shape=(1,), dtype=int64)\n",
      "predicted :  tf.Tensor([3], shape=(1,), dtype=int64)\n",
      "reach to end token [3]\n",
      "tf.Tensor([[ 2  5 33  7  4  5 33  7  3]], shape=(1, 9), dtype=int64)\n",
      "2 \n",
      "5 <start> \n",
      "33 <start> i \n",
      "7 <start> i love \n",
      "4 <start> i love you \n",
      "5 <start> i love you , \n",
      "33 <start> i love you , i \n",
      "7 <start> i love you , i love \n",
      "3 <start> i love you , i love you \n"
     ]
    },
    {
     "data": {
      "text/plain": [
       "'<start> i love you , i love you <end> '"
      ]
     },
     "execution_count": 46,
     "metadata": {},
     "output_type": "execute_result"
    }
   ],
   "source": [
    "generate_lyrics(model_embed_512_hidden_1024, tokenizer, init_sentence=\"<start> I love\")"
   ]
  },
  {
   "cell_type": "code",
   "execution_count": 43,
   "metadata": {},
   "outputs": [
    {
     "data": {
      "image/png": "[encoded data removed]",
      "text/plain": [
       "<Figure size 432x432 with 1 Axes>"
      ]
     },
     "metadata": {
      "needs_background": "light"
     },
     "output_type": "display_data"
    }
   ],
   "source": [
    "visualize_loss(history_embed_512_hidden_1024)"
   ]
  },
  {
   "cell_type": "code",
   "execution_count": 51,
   "metadata": {},
   "outputs": [],
   "source": [
    "histories = [history, history_hidden_2048,history_embed_512_hidden_1024]\n",
    "del model, model_hidden_2048, model_embed_512_hidden_1024"
   ]
  },
  {
   "cell_type": "code",
   "execution_count": 52,
   "metadata": {
    "scrolled": true
   },
   "outputs": [
    {
     "name": "stdout",
     "output_type": "stream",
     "text": [
      "Epoch 1/10\n",
      "274/274 [==============================] - ETA: 0s - loss: 3.9467\n",
      "Epoch 00001: val_loss improved from inf to 3.48986, saving model to /home/aiffel/github/aiffel_practice/EXPLORATION06/checkpoint/lyric_model_embeding_512_hidden_2048\n",
      "274/274 [==============================] - 248s 905ms/step - loss: 3.9467 - val_loss: 3.4899\n",
      "Epoch 2/10\n",
      "274/274 [==============================] - ETA: 0s - loss: 3.3235\n",
      "Epoch 00002: val_loss improved from 3.48986 to 3.20762, saving model to /home/aiffel/github/aiffel_practice/EXPLORATION06/checkpoint/lyric_model_embeding_512_hidden_2048\n",
      "274/274 [==============================] - 253s 924ms/step - loss: 3.3235 - val_loss: 3.2076\n",
      "Epoch 3/10\n",
      "274/274 [==============================] - ETA: 0s - loss: 3.0945\n",
      "Epoch 00003: val_loss improved from 3.20762 to 3.04612, saving model to /home/aiffel/github/aiffel_practice/EXPLORATION06/checkpoint/lyric_model_embeding_512_hidden_2048\n",
      "274/274 [==============================] - 255s 930ms/step - loss: 3.0945 - val_loss: 3.0461\n",
      "Epoch 4/10\n",
      "274/274 [==============================] - ETA: 0s - loss: 2.9165\n",
      "Epoch 00004: val_loss improved from 3.04612 to 2.92004, saving model to /home/aiffel/github/aiffel_practice/EXPLORATION06/checkpoint/lyric_model_embeding_512_hidden_2048\n",
      "274/274 [==============================] - 257s 937ms/step - loss: 2.9165 - val_loss: 2.9200\n",
      "Epoch 5/10\n",
      "274/274 [==============================] - ETA: 0s - loss: 2.7572\n",
      "Epoch 00005: val_loss improved from 2.92004 to 2.82204, saving model to /home/aiffel/github/aiffel_practice/EXPLORATION06/checkpoint/lyric_model_embeding_512_hidden_2048\n",
      "274/274 [==============================] - 255s 931ms/step - loss: 2.7572 - val_loss: 2.8220\n",
      "Epoch 6/10\n",
      "274/274 [==============================] - ETA: 0s - loss: 2.6090\n",
      "Epoch 00006: val_loss improved from 2.82204 to 2.73959, saving model to /home/aiffel/github/aiffel_practice/EXPLORATION06/checkpoint/lyric_model_embeding_512_hidden_2048\n",
      "274/274 [==============================] - 256s 935ms/step - loss: 2.6090 - val_loss: 2.7396\n",
      "Epoch 7/10\n",
      "274/274 [==============================] - ETA: 0s - loss: 2.4682\n",
      "Epoch 00007: val_loss improved from 2.73959 to 2.67091, saving model to /home/aiffel/github/aiffel_practice/EXPLORATION06/checkpoint/lyric_model_embeding_512_hidden_2048\n",
      "274/274 [==============================] - 257s 937ms/step - loss: 2.4682 - val_loss: 2.6709\n",
      "Epoch 8/10\n",
      "274/274 [==============================] - ETA: 0s - loss: 2.3344\n",
      "Epoch 00008: val_loss improved from 2.67091 to 2.61013, saving model to /home/aiffel/github/aiffel_practice/EXPLORATION06/checkpoint/lyric_model_embeding_512_hidden_2048\n",
      "274/274 [==============================] - 263s 960ms/step - loss: 2.3344 - val_loss: 2.6101\n",
      "Epoch 9/10\n",
      "274/274 [==============================] - ETA: 0s - loss: 2.2045\n",
      "Epoch 00009: val_loss improved from 2.61013 to 2.56152, saving model to /home/aiffel/github/aiffel_practice/EXPLORATION06/checkpoint/lyric_model_embeding_512_hidden_2048\n",
      "274/274 [==============================] - 257s 938ms/step - loss: 2.2045 - val_loss: 2.5615\n",
      "Epoch 10/10\n",
      "274/274 [==============================] - ETA: 0s - loss: 2.0782\n",
      "Epoch 00010: val_loss improved from 2.56152 to 2.51946, saving model to /home/aiffel/github/aiffel_practice/EXPLORATION06/checkpoint/lyric_model_embeding_512_hidden_2048\n",
      "274/274 [==============================] - 256s 933ms/step - loss: 2.0782 - val_loss: 2.5195\n"
     ]
    }
   ],
   "source": [
    "tf.keras.backend.clear_session()\n",
    "\n",
    "embedding_size = 512\n",
    "hidden_size = 2048\n",
    "\n",
    "weight_name = \"lyric_model_embeding_\"+str(embedding_size)+\"_hidden_\"+str(hidden_size)\n",
    "model_embed_512_hidden_2048 = LyricGenerator(tokenizer.num_words+1, embedding_size, hidden_size)\n",
    "\n",
    "epochs = 10\n",
    "optimizer = tf.keras.optimizers.Adam()\n",
    "loss = tf.keras.losses.SparseCategoricalCrossentropy(\n",
    "        from_logits=True,\n",
    "        reduction=\"none\"\n",
    "    )\n",
    "\n",
    "model_embed_512_hidden_2048.compile(loss=loss,\n",
    "              optimizer=optimizer)\n",
    "\n",
    "\n",
    "checkpoint_dir = os.getenv(\"HOME\")+\"/github/aiffel_practice/EXPLORATION06/checkpoint/\"+weight_name\n",
    "cp_callback = tf.keras.callbacks.ModelCheckpoint(\n",
    "    checkpoint_dir,\n",
    "    save_weights_only=True,\n",
    "    monitor=\"val_loss\",\n",
    "    save_best_only=True,\n",
    "    mode=\"auto\",\n",
    "    verbose=1\n",
    ")\n",
    "\n",
    "history_embed_512_hidden_2048 = model_embed_512_hidden_2048.fit(train_dataset, epochs=epochs,\n",
    "        steps_per_epoch= training_size//batch_size,\n",
    "        validation_data=val_dataset,\n",
    "        validation_steps=valiation_size//batch_size,\n",
    "        callbacks=[cp_callback])"
   ]
  },
  {
   "cell_type": "code",
   "execution_count": 53,
   "metadata": {},
   "outputs": [
    {
     "name": "stdout",
     "output_type": "stream",
     "text": [
      "predicted :  tf.Tensor([7], shape=(1,), dtype=int64)\n",
      "predicted :  tf.Tensor([4], shape=(1,), dtype=int64)\n",
      "predicted :  tf.Tensor([5], shape=(1,), dtype=int64)\n",
      "predicted :  tf.Tensor([33], shape=(1,), dtype=int64)\n",
      "predicted :  tf.Tensor([7], shape=(1,), dtype=int64)\n",
      "predicted :  tf.Tensor([3], shape=(1,), dtype=int64)\n",
      "reach to end token [3]\n",
      "tf.Tensor([[ 2  5 33  7  4  5 33  7  3]], shape=(1, 9), dtype=int64)\n",
      "2 \n",
      "5 <start> \n",
      "33 <start> i \n",
      "7 <start> i love \n",
      "4 <start> i love you \n",
      "5 <start> i love you , \n",
      "33 <start> i love you , i \n",
      "7 <start> i love you , i love \n",
      "3 <start> i love you , i love you \n"
     ]
    },
    {
     "data": {
      "text/plain": [
       "'<start> i love you , i love you <end> '"
      ]
     },
     "execution_count": 53,
     "metadata": {},
     "output_type": "execute_result"
    }
   ],
   "source": [
    "generate_lyrics(model_embed_512_hidden_2048, tokenizer, init_sentence=\"<start> I love\")"
   ]
  },
  {
   "cell_type": "code",
   "execution_count": 54,
   "metadata": {},
   "outputs": [
    {
     "name": "stdout",
     "output_type": "stream",
     "text": [
      "predicted :  tf.Tensor([10], shape=(1,), dtype=int64)\n",
      "predicted :  tf.Tensor([27], shape=(1,), dtype=int64)\n",
      "predicted :  tf.Tensor([224], shape=(1,), dtype=int64)\n",
      "predicted :  tf.Tensor([3], shape=(1,), dtype=int64)\n",
      "reach to end token [3]\n",
      "tf.Tensor([[  2   5  62  10  27 224   3]], shape=(1, 7), dtype=int64)\n",
      "2 \n",
      "5 <start> \n",
      "62 <start> i \n",
      "10 <start> i want \n",
      "27 <start> i want to \n",
      "224 <start> i want to be \n",
      "3 <start> i want to be alone \n"
     ]
    },
    {
     "data": {
      "text/plain": [
       "'<start> i want to be alone <end> '"
      ]
     },
     "execution_count": 54,
     "metadata": {},
     "output_type": "execute_result"
    }
   ],
   "source": [
    "generate_lyrics(model_embed_512_hidden_2048, tokenizer, init_sentence=\"<start> I want\")"
   ]
  },
  {
   "cell_type": "code",
   "execution_count": 55,
   "metadata": {},
   "outputs": [
    {
     "name": "stdout",
     "output_type": "stream",
     "text": [
      "predicted :  tf.Tensor([7], shape=(1,), dtype=int64)\n",
      "predicted :  tf.Tensor([86], shape=(1,), dtype=int64)\n",
      "predicted :  tf.Tensor([65], shape=(1,), dtype=int64)\n",
      "predicted :  tf.Tensor([12], shape=(1,), dtype=int64)\n",
      "predicted :  tf.Tensor([11068], shape=(1,), dtype=int64)\n",
      "predicted :  tf.Tensor([4], shape=(1,), dtype=int64)\n",
      "predicted :  tf.Tensor([11068], shape=(1,), dtype=int64)\n",
      "predicted :  tf.Tensor([4], shape=(1,), dtype=int64)\n",
      "predicted :  tf.Tensor([11068], shape=(1,), dtype=int64)\n",
      "predicted :  tf.Tensor([3], shape=(1,), dtype=int64)\n",
      "reach to end token [3]\n",
      "tf.Tensor([[    2    47     7    86    65    12 11068     4 11068     4 11068     3]], shape=(1, 12), dtype=int64)\n",
      "2 \n",
      "47 <start> \n",
      "7 <start> do \n",
      "86 <start> do you \n",
      "65 <start> do you wanna \n",
      "12 <start> do you wanna see \n",
      "11068 <start> do you wanna see me \n",
      "4 <start> do you wanna see me nakey \n",
      "11068 <start> do you wanna see me nakey , \n",
      "4 <start> do you wanna see me nakey , nakey \n",
      "11068 <start> do you wanna see me nakey , nakey , \n",
      "3 <start> do you wanna see me nakey , nakey , nakey \n"
     ]
    },
    {
     "data": {
      "text/plain": [
       "'<start> do you wanna see me nakey , nakey , nakey <end> '"
      ]
     },
     "execution_count": 55,
     "metadata": {},
     "output_type": "execute_result"
    }
   ],
   "source": [
    "generate_lyrics(model_embed_512_hidden_2048, tokenizer, init_sentence=\"<start> do\")"
   ]
  },
  {
   "cell_type": "code",
   "execution_count": 56,
   "metadata": {},
   "outputs": [
    {
     "name": "stdout",
     "output_type": "stream",
     "text": [
      "[<tensorflow.python.keras.callbacks.History object at 0x7f48262d9e90>, <tensorflow.python.keras.callbacks.History object at 0x7f4826d1c7d0>, <tensorflow.python.keras.callbacks.History object at 0x7f47a01875d0>, <tensorflow.python.keras.callbacks.History object at 0x7f4748799110>]\n"
     ]
    }
   ],
   "source": [
    "histories.append(history_embed_512_hidden_2048)\n",
    "print(histories)"
   ]
  },
  {
   "cell_type": "markdown",
   "metadata": {},
   "source": [
    "# visualize all history and comparison\n",
    "- unfortunatly, validations loss of all models did not reach to lower bound 2.2"
   ]
  },
  {
   "cell_type": "code",
   "execution_count": 11,
   "metadata": {},
   "outputs": [],
   "source": [
    "def lower_bound(x):\n",
    "    return [2.2 for i in range(len(x))]\n",
    "\n",
    "def visualize_loss_idx(history, title, idx):\n",
    "    loss = history.history[\"loss\"]\n",
    "    val_loss = history.history[\"val_loss\"]    \n",
    "    epochs_range = range(len(loss))\n",
    "    plt.subplot(2, 2, idx)\n",
    "    plt.plot(epochs_range, loss, label='Training Loss')\n",
    "    plt.plot(epochs_range, val_loss, label='Validation Loss')\n",
    "    plt.plot(epochs_range, lower_bound(loss), \"r--\", label =\"lower bound\")\n",
    "    plt.legend(loc='upper right')\n",
    "    plt.title(title)"
   ]
  },
  {
   "cell_type": "code",
   "execution_count": 74,
   "metadata": {},
   "outputs": [
    {
     "data": {
      "image/png": "[encoded data removed]",
      "text/plain": [
       "<Figure size 864x648 with 4 Axes>"
      ]
     },
     "metadata": {
      "needs_background": "light"
     },
     "output_type": "display_data"
    }
   ],
   "source": [
    "titles = [\"embed : 128, hidden : 1024\",\n",
    "         \"embed : 128, hidden : 2048\",\n",
    "         \"embed : 512, hidden : 1024\",\n",
    "         \"embed : 512, hidden : 2048\"]\n",
    "\n",
    "idx = 1\n",
    "plt.figure(figsize=(12,9))\n",
    "for history, title in zip(histories, titles):\n",
    "    visualize_loss_idx(history, title, idx)\n",
    "    idx += 1"
   ]
  },
  {
   "cell_type": "code",
   "execution_count": 77,
   "metadata": {},
   "outputs": [],
   "source": [
    "class LyricGenerator2(tf.keras.Model):\n",
    "    def __init__(self, vocab_size, embedding_size, hidden_size):\n",
    "        super(LyricGenerator2, self).__init__()\n",
    "        \n",
    "        self.embedding = tf.keras.layers.Embedding(vocab_size, embedding_size)\n",
    "        #return_sequences means return same length of seqences with input's length\n",
    "        self.rnn_1 = tf.keras.layers.LSTM(hidden_size, return_sequences=True)\n",
    "        self.rnn_2 = tf.keras.layers.LSTM(hidden_size, return_sequences=True)\n",
    "        self.rnn_3 = tf.keras.layers.LSTM(hidden_size, return_sequences=True)\n",
    "        self.linear = tf.keras.layers.Dense(vocab_size)\n",
    "    \n",
    "    def call(self, x):\n",
    "        out = self.embedding(x)\n",
    "        out = self.rnn_1(out)\n",
    "        out = self.rnn_2(out)\n",
    "        out = self.rnn_3(out)\n",
    "        out = self.linear(out)\n",
    "        return out"
   ]
  },
  {
   "cell_type": "code",
   "execution_count": 78,
   "metadata": {
    "scrolled": true
   },
   "outputs": [
    {
     "name": "stdout",
     "output_type": "stream",
     "text": [
      "Epoch 1/10\n",
      "274/274 [==============================] - ETA: 0s - loss: 4.4680\n",
      "Epoch 00001: val_loss improved from inf to 4.10407, saving model to /home/aiffel/github/aiffel_practice/EXPLORATION06/checkpoint/lyric_model2_embeding_64_hidden_512\n",
      "274/274 [==============================] - 40s 144ms/step - loss: 4.4680 - val_loss: 4.1041\n",
      "Epoch 2/10\n",
      "274/274 [==============================] - ETA: 0s - loss: 4.0970\n",
      "Epoch 00002: val_loss improved from 4.10407 to 4.08596, saving model to /home/aiffel/github/aiffel_practice/EXPLORATION06/checkpoint/lyric_model2_embeding_64_hidden_512\n",
      "274/274 [==============================] - 40s 147ms/step - loss: 4.0970 - val_loss: 4.0860\n",
      "Epoch 3/10\n",
      "274/274 [==============================] - ETA: 0s - loss: 4.0463\n",
      "Epoch 00003: val_loss improved from 4.08596 to 3.77076, saving model to /home/aiffel/github/aiffel_practice/EXPLORATION06/checkpoint/lyric_model2_embeding_64_hidden_512\n",
      "274/274 [==============================] - 40s 146ms/step - loss: 4.0463 - val_loss: 3.7708\n",
      "Epoch 4/10\n",
      "274/274 [==============================] - ETA: 0s - loss: 3.6698\n",
      "Epoch 00004: val_loss improved from 3.77076 to 3.58432, saving model to /home/aiffel/github/aiffel_practice/EXPLORATION06/checkpoint/lyric_model2_embeding_64_hidden_512\n",
      "274/274 [==============================] - 40s 147ms/step - loss: 3.6698 - val_loss: 3.5843\n",
      "Epoch 5/10\n",
      "274/274 [==============================] - ETA: 0s - loss: 3.5006\n",
      "Epoch 00005: val_loss improved from 3.58432 to 3.43639, saving model to /home/aiffel/github/aiffel_practice/EXPLORATION06/checkpoint/lyric_model2_embeding_64_hidden_512\n",
      "274/274 [==============================] - 40s 147ms/step - loss: 3.5006 - val_loss: 3.4364\n",
      "Epoch 6/10\n",
      "274/274 [==============================] - ETA: 0s - loss: 3.3647\n",
      "Epoch 00006: val_loss improved from 3.43639 to 3.33565, saving model to /home/aiffel/github/aiffel_practice/EXPLORATION06/checkpoint/lyric_model2_embeding_64_hidden_512\n",
      "274/274 [==============================] - 41s 149ms/step - loss: 3.3647 - val_loss: 3.3357\n",
      "Epoch 7/10\n",
      "274/274 [==============================] - ETA: 0s - loss: 3.2834\n",
      "Epoch 00007: val_loss improved from 3.33565 to 3.26989, saving model to /home/aiffel/github/aiffel_practice/EXPLORATION06/checkpoint/lyric_model2_embeding_64_hidden_512\n",
      "274/274 [==============================] - 41s 148ms/step - loss: 3.2834 - val_loss: 3.2699\n",
      "Epoch 8/10\n",
      "274/274 [==============================] - ETA: 0s - loss: 3.2088\n",
      "Epoch 00008: val_loss improved from 3.26989 to 3.21690, saving model to /home/aiffel/github/aiffel_practice/EXPLORATION06/checkpoint/lyric_model2_embeding_64_hidden_512\n",
      "274/274 [==============================] - 41s 149ms/step - loss: 3.2088 - val_loss: 3.2169\n",
      "Epoch 9/10\n",
      "274/274 [==============================] - ETA: 0s - loss: 3.1498\n",
      "Epoch 00009: val_loss improved from 3.21690 to 3.16926, saving model to /home/aiffel/github/aiffel_practice/EXPLORATION06/checkpoint/lyric_model2_embeding_64_hidden_512\n",
      "274/274 [==============================] - 41s 148ms/step - loss: 3.1498 - val_loss: 3.1693\n",
      "Epoch 10/10\n",
      "274/274 [==============================] - ETA: 0s - loss: 3.0997\n",
      "Epoch 00010: val_loss improved from 3.16926 to 3.13460, saving model to /home/aiffel/github/aiffel_practice/EXPLORATION06/checkpoint/lyric_model2_embeding_64_hidden_512\n",
      "274/274 [==============================] - 41s 151ms/step - loss: 3.0997 - val_loss: 3.1346\n"
     ]
    }
   ],
   "source": [
    "tf.keras.backend.clear_session()\n",
    "\n",
    "embedding_size = 64\n",
    "hidden_size = 512\n",
    "model2_embed_64_hidden_512 = LyricGenerator2(tokenizer.num_words+1, embedding_size, hidden_size)\n",
    "\n",
    "weight_name = \"lyric_model2_embeding_\"+str(embedding_size)+\"_hidden_\"+str(hidden_size)\n",
    "\n",
    "epochs = 10\n",
    "optimizer = tf.keras.optimizers.Adam()\n",
    "loss = tf.keras.losses.SparseCategoricalCrossentropy(\n",
    "        from_logits=True,\n",
    "        reduction=\"none\"\n",
    "    )\n",
    "\n",
    "model2_embed_64_hidden_512.compile(loss=loss,\n",
    "              optimizer=optimizer)\n",
    "\n",
    "\n",
    "checkpoint_dir = os.getenv(\"HOME\")+\"/github/aiffel_practice/EXPLORATION06/checkpoint/\"+weight_name\n",
    "cp_callback = tf.keras.callbacks.ModelCheckpoint(\n",
    "    checkpoint_dir,\n",
    "    save_weights_only=True,\n",
    "    monitor=\"val_loss\",\n",
    "    save_best_only=True,\n",
    "    mode=\"auto\",\n",
    "    verbose=1\n",
    ")\n",
    "\n",
    "history2_embed_64_hidden_512 = model2_embed_64_hidden_512.fit(train_dataset, epochs=epochs,\n",
    "        steps_per_epoch= training_size//batch_size,\n",
    "        validation_data=val_dataset,\n",
    "        validation_steps=valiation_size//batch_size,\n",
    "        callbacks=[cp_callback])"
   ]
  },
  {
   "cell_type": "code",
   "execution_count": 79,
   "metadata": {},
   "outputs": [
    {
     "data": {
      "image/png": "[encoded data removed]",
      "text/plain": [
       "<Figure size 432x432 with 1 Axes>"
      ]
     },
     "metadata": {
      "needs_background": "light"
     },
     "output_type": "display_data"
    }
   ],
   "source": [
    "visualize_loss(history2_embed_64_hidden_512)"
   ]
  },
  {
   "cell_type": "code",
   "execution_count": 80,
   "metadata": {
    "scrolled": true
   },
   "outputs": [
    {
     "name": "stdout",
     "output_type": "stream",
     "text": [
      "Epoch 1/10\n",
      "274/274 [==============================] - ETA: 0s - loss: 4.4376\n",
      "Epoch 00001: val_loss improved from inf to 4.10830, saving model to /home/aiffel/github/aiffel_practice/EXPLORATION06/checkpoint/lyric_model2_embeding_128_hidden_512\n",
      "274/274 [==============================] - 44s 162ms/step - loss: 4.4376 - val_loss: 4.1083\n",
      "Epoch 2/10\n",
      "274/274 [==============================] - ETA: 0s - loss: 3.9797\n",
      "Epoch 00002: val_loss improved from 4.10830 to 3.79973, saving model to /home/aiffel/github/aiffel_practice/EXPLORATION06/checkpoint/lyric_model2_embeding_128_hidden_512\n",
      "274/274 [==============================] - 43s 157ms/step - loss: 3.9797 - val_loss: 3.7997\n",
      "Epoch 3/10\n",
      "274/274 [==============================] - ETA: 0s - loss: 3.7609\n",
      "Epoch 00003: val_loss improved from 3.79973 to 3.71722, saving model to /home/aiffel/github/aiffel_practice/EXPLORATION06/checkpoint/lyric_model2_embeding_128_hidden_512\n",
      "274/274 [==============================] - 43s 156ms/step - loss: 3.7609 - val_loss: 3.7172\n",
      "Epoch 4/10\n",
      "274/274 [==============================] - ETA: 0s - loss: 3.6215\n",
      "Epoch 00004: val_loss improved from 3.71722 to 3.53680, saving model to /home/aiffel/github/aiffel_practice/EXPLORATION06/checkpoint/lyric_model2_embeding_128_hidden_512\n",
      "274/274 [==============================] - 43s 158ms/step - loss: 3.6215 - val_loss: 3.5368\n",
      "Epoch 5/10\n",
      "274/274 [==============================] - ETA: 0s - loss: 3.4677\n",
      "Epoch 00005: val_loss improved from 3.53680 to 3.43688, saving model to /home/aiffel/github/aiffel_practice/EXPLORATION06/checkpoint/lyric_model2_embeding_128_hidden_512\n",
      "274/274 [==============================] - 43s 157ms/step - loss: 3.4677 - val_loss: 3.4369\n",
      "Epoch 6/10\n",
      "274/274 [==============================] - ETA: 0s - loss: 3.3861\n",
      "Epoch 00006: val_loss improved from 3.43688 to 3.36803, saving model to /home/aiffel/github/aiffel_practice/EXPLORATION06/checkpoint/lyric_model2_embeding_128_hidden_512\n",
      "274/274 [==============================] - 43s 157ms/step - loss: 3.3861 - val_loss: 3.3680\n",
      "Epoch 7/10\n",
      "274/274 [==============================] - ETA: 0s - loss: 3.3028\n",
      "Epoch 00007: val_loss improved from 3.36803 to 3.28898, saving model to /home/aiffel/github/aiffel_practice/EXPLORATION06/checkpoint/lyric_model2_embeding_128_hidden_512\n",
      "274/274 [==============================] - 42s 155ms/step - loss: 3.3028 - val_loss: 3.2890\n",
      "Epoch 8/10\n",
      "274/274 [==============================] - ETA: 0s - loss: 3.2348\n",
      "Epoch 00008: val_loss improved from 3.28898 to 3.24634, saving model to /home/aiffel/github/aiffel_practice/EXPLORATION06/checkpoint/lyric_model2_embeding_128_hidden_512\n",
      "274/274 [==============================] - 42s 153ms/step - loss: 3.2348 - val_loss: 3.2463\n",
      "Epoch 9/10\n",
      "274/274 [==============================] - ETA: 0s - loss: 3.1891\n",
      "Epoch 00009: val_loss improved from 3.24634 to 3.21635, saving model to /home/aiffel/github/aiffel_practice/EXPLORATION06/checkpoint/lyric_model2_embeding_128_hidden_512\n",
      "274/274 [==============================] - 42s 152ms/step - loss: 3.1891 - val_loss: 3.2164\n",
      "Epoch 10/10\n",
      "274/274 [==============================] - ETA: 0s - loss: 3.1484\n",
      "Epoch 00010: val_loss improved from 3.21635 to 3.17812, saving model to /home/aiffel/github/aiffel_practice/EXPLORATION06/checkpoint/lyric_model2_embeding_128_hidden_512\n",
      "274/274 [==============================] - 42s 152ms/step - loss: 3.1484 - val_loss: 3.1781\n"
     ]
    }
   ],
   "source": [
    "tf.keras.backend.clear_session()\n",
    "\n",
    "def get_model2_history(embedding_size, hidden_size):\n",
    "    model = LyricGenerator2(tokenizer.num_words+1, embedding_size, hidden_size)\n",
    "\n",
    "    weight_name = \"lyric_model2_embeding_\"+str(embedding_size)+\"_hidden_\"+str(hidden_size)\n",
    "\n",
    "    epochs = 10\n",
    "    optimizer = tf.keras.optimizers.Adam()\n",
    "    loss = tf.keras.losses.SparseCategoricalCrossentropy(\n",
    "            from_logits=True,\n",
    "            reduction=\"none\"\n",
    "        )\n",
    "\n",
    "    model.compile(loss=loss,\n",
    "                  optimizer=optimizer)\n",
    "\n",
    "\n",
    "    checkpoint_dir = os.getenv(\"HOME\")+\"/github/aiffel_practice/EXPLORATION06/checkpoint/\"+weight_name\n",
    "    cp_callback = tf.keras.callbacks.ModelCheckpoint(\n",
    "        checkpoint_dir,\n",
    "        save_weights_only=True,\n",
    "        monitor=\"val_loss\",\n",
    "        save_best_only=True,\n",
    "        mode=\"auto\",\n",
    "        verbose=1\n",
    "    )\n",
    "\n",
    "    history = model.fit(train_dataset, epochs=epochs,\n",
    "            steps_per_epoch= training_size//batch_size,\n",
    "            validation_data=val_dataset,\n",
    "            validation_steps=valiation_size//batch_size,\n",
    "            callbacks=[cp_callback])\n",
    "    return model, history\n",
    "\n",
    "\n",
    "embedding_size = 128\n",
    "hidden_size = 512\n",
    "model2_embed_128_hidden_512, history2_embed_128_hidden_512 = get_model2_history(embedding_size, hidden_size)"
   ]
  },
  {
   "cell_type": "code",
   "execution_count": 81,
   "metadata": {},
   "outputs": [
    {
     "data": {
      "image/png": "[encoded data removed]",
      "text/plain": [
       "<Figure size 432x432 with 1 Axes>"
      ]
     },
     "metadata": {
      "needs_background": "light"
     },
     "output_type": "display_data"
    }
   ],
   "source": [
    "del model2_embed_64_hidden_512, model2_embed_128_hidden_512\n",
    "visualize_loss(history2_embed_128_hidden_512)"
   ]
  },
  {
   "cell_type": "code",
   "execution_count": 18,
   "metadata": {},
   "outputs": [],
   "source": [
    "class LyricGenerator3(tf.keras.Model):\n",
    "    def __init__(self, vocab_size, embedding_size, hidden_size):\n",
    "        super(LyricGenerator3, self).__init__()\n",
    "        \n",
    "        self.embedding = tf.keras.layers.Embedding(vocab_size, embedding_size)\n",
    "        #return_sequences means return same length of seqences with input's length\n",
    "        self.rnn_1 = tf.keras.layers.LSTM(hidden_size, return_sequences=True)\n",
    "        self.rnn_2 = tf.keras.layers.LSTM(hidden_size, return_sequences=True)\n",
    "        self.drop = tf.keras.layers.Dropout(0.3)\n",
    "        self.batch = tf.keras.layers.BatchNormalization()\n",
    "        self.linear = tf.keras.layers.Dense(vocab_size)\n",
    "    \n",
    "    def call(self, x):\n",
    "        out = self.embedding(x)\n",
    "        out = self.rnn_1(out)\n",
    "        out = self.rnn_2(out)\n",
    "        out = self.drop(out)\n",
    "        out = self.batch(out)\n",
    "        out = self.linear(out)\n",
    "        return out"
   ]
  },
  {
   "cell_type": "code",
   "execution_count": 19,
   "metadata": {},
   "outputs": [],
   "source": [
    "def get_model3_history(embedding_size, hidden_size):\n",
    "    model = LyricGenerator3(tokenizer.num_words+1, embedding_size, hidden_size)\n",
    "\n",
    "    weight_name = \"lyric_model3_embeding_\"+str(embedding_size)+\"_hidden_\"+str(hidden_size)\n",
    "\n",
    "    epochs = 10\n",
    "    optimizer = tf.keras.optimizers.Adam()\n",
    "    loss = tf.keras.losses.SparseCategoricalCrossentropy(\n",
    "            from_logits=True,\n",
    "            reduction=\"none\"\n",
    "        )\n",
    "\n",
    "    model.compile(loss=loss,\n",
    "                  optimizer=optimizer)\n",
    "\n",
    "\n",
    "    checkpoint_dir = os.getenv(\"HOME\")+\"/github/aiffel_practice/EXPLORATION06/checkpoint/\"+weight_name\n",
    "    cp_callback = tf.keras.callbacks.ModelCheckpoint(\n",
    "        checkpoint_dir,\n",
    "        save_weights_only=True,\n",
    "        monitor=\"val_loss\",\n",
    "        save_best_only=True,\n",
    "        mode=\"auto\",\n",
    "        verbose=1\n",
    "    )\n",
    "\n",
    "    history = model.fit(train_dataset, epochs=epochs,\n",
    "            steps_per_epoch= training_size//batch_size,\n",
    "            validation_data=val_dataset,\n",
    "            validation_steps=valiation_size//batch_size,\n",
    "            callbacks=[cp_callback])\n",
    "    return model, history"
   ]
  },
  {
   "cell_type": "code",
   "execution_count": 20,
   "metadata": {
    "scrolled": true
   },
   "outputs": [
    {
     "name": "stdout",
     "output_type": "stream",
     "text": [
      "Epoch 1/10\n",
      "274/274 [==============================] - ETA: 0s - loss: 3.6931\n",
      "Epoch 00001: val_loss improved from inf to 4.41375, saving model to /home/aiffel/github/aiffel_practice/EXPLORATION06/checkpoint/lyric_model3_embeding_256_hidden_1024\n",
      "274/274 [==============================] - 90s 330ms/step - loss: 3.6931 - val_loss: 4.4137\n",
      "Epoch 2/10\n",
      "274/274 [==============================] - ETA: 0s - loss: 3.0603\n",
      "Epoch 00002: val_loss improved from 4.41375 to 2.99386, saving model to /home/aiffel/github/aiffel_practice/EXPLORATION06/checkpoint/lyric_model3_embeding_256_hidden_1024\n",
      "274/274 [==============================] - 92s 336ms/step - loss: 3.0603 - val_loss: 2.9939\n",
      "Epoch 3/10\n",
      "274/274 [==============================] - ETA: 0s - loss: 2.8058\n",
      "Epoch 00003: val_loss improved from 2.99386 to 2.76562, saving model to /home/aiffel/github/aiffel_practice/EXPLORATION06/checkpoint/lyric_model3_embeding_256_hidden_1024\n",
      "274/274 [==============================] - 91s 330ms/step - loss: 2.8058 - val_loss: 2.7656\n",
      "Epoch 4/10\n",
      "274/274 [==============================] - ETA: 0s - loss: 2.6111\n",
      "Epoch 00004: val_loss improved from 2.76562 to 2.65706, saving model to /home/aiffel/github/aiffel_practice/EXPLORATION06/checkpoint/lyric_model3_embeding_256_hidden_1024\n",
      "274/274 [==============================] - 93s 340ms/step - loss: 2.6111 - val_loss: 2.6571\n",
      "Epoch 5/10\n",
      "274/274 [==============================] - ETA: 0s - loss: 2.4422\n",
      "Epoch 00005: val_loss improved from 2.65706 to 2.57849, saving model to /home/aiffel/github/aiffel_practice/EXPLORATION06/checkpoint/lyric_model3_embeding_256_hidden_1024\n",
      "274/274 [==============================] - 94s 342ms/step - loss: 2.4422 - val_loss: 2.5785\n",
      "Epoch 6/10\n",
      "274/274 [==============================] - ETA: 0s - loss: 2.2887\n",
      "Epoch 00006: val_loss improved from 2.57849 to 2.50914, saving model to /home/aiffel/github/aiffel_practice/EXPLORATION06/checkpoint/lyric_model3_embeding_256_hidden_1024\n",
      "274/274 [==============================] - 89s 323ms/step - loss: 2.2887 - val_loss: 2.5091\n",
      "Epoch 7/10\n",
      "274/274 [==============================] - ETA: 0s - loss: 2.1437\n",
      "Epoch 00007: val_loss improved from 2.50914 to 2.46083, saving model to /home/aiffel/github/aiffel_practice/EXPLORATION06/checkpoint/lyric_model3_embeding_256_hidden_1024\n",
      "274/274 [==============================] - 89s 324ms/step - loss: 2.1437 - val_loss: 2.4608\n",
      "Epoch 8/10\n",
      "274/274 [==============================] - ETA: 0s - loss: 2.0037\n",
      "Epoch 00008: val_loss improved from 2.46083 to 2.42739, saving model to /home/aiffel/github/aiffel_practice/EXPLORATION06/checkpoint/lyric_model3_embeding_256_hidden_1024\n",
      "274/274 [==============================] - 92s 335ms/step - loss: 2.0037 - val_loss: 2.4274\n",
      "Epoch 9/10\n",
      "274/274 [==============================] - ETA: 0s - loss: 1.8716\n",
      "Epoch 00009: val_loss improved from 2.42739 to 2.39981, saving model to /home/aiffel/github/aiffel_practice/EXPLORATION06/checkpoint/lyric_model3_embeding_256_hidden_1024\n",
      "274/274 [==============================] - 90s 329ms/step - loss: 1.8716 - val_loss: 2.3998\n",
      "Epoch 10/10\n",
      "274/274 [==============================] - ETA: 0s - loss: 1.7479\n",
      "Epoch 00010: val_loss improved from 2.39981 to 2.38435, saving model to /home/aiffel/github/aiffel_practice/EXPLORATION06/checkpoint/lyric_model3_embeding_256_hidden_1024\n",
      "274/274 [==============================] - 90s 328ms/step - loss: 1.7479 - val_loss: 2.3844\n"
     ]
    }
   ],
   "source": [
    "tf.keras.backend.clear_session()\n",
    "\n",
    "embedding_size = 256\n",
    "hidden_size = 1024\n",
    "model3_embed_256_hidden_1024, history3_embed_256_hidden_1024 = get_model3_history(embedding_size, hidden_size)"
   ]
  },
  {
   "cell_type": "code",
   "execution_count": 22,
   "metadata": {
    "scrolled": true
   },
   "outputs": [
    {
     "data": {
      "image/png": "[encoded data removed]",
      "text/plain": [
       "<Figure size 432x432 with 1 Axes>"
      ]
     },
     "metadata": {
      "needs_background": "light"
     },
     "output_type": "display_data"
    },
    {
     "name": "stdout",
     "output_type": "stream",
     "text": [
      "predicted :  tf.Tensor([7], shape=(1,), dtype=int64)\n",
      "predicted :  tf.Tensor([169], shape=(1,), dtype=int64)\n",
      "predicted :  tf.Tensor([43], shape=(1,), dtype=int64)\n",
      "predicted :  tf.Tensor([47], shape=(1,), dtype=int64)\n",
      "predicted :  tf.Tensor([7], shape=(1,), dtype=int64)\n",
      "predicted :  tf.Tensor([169], shape=(1,), dtype=int64)\n",
      "predicted :  tf.Tensor([43], shape=(1,), dtype=int64)\n",
      "predicted :  tf.Tensor([47], shape=(1,), dtype=int64)\n",
      "predicted :  tf.Tensor([7], shape=(1,), dtype=int64)\n",
      "predicted :  tf.Tensor([169], shape=(1,), dtype=int64)\n",
      "predicted :  tf.Tensor([43], shape=(1,), dtype=int64)\n",
      "predicted :  tf.Tensor([3], shape=(1,), dtype=int64)\n",
      "reach to end token [3]\n",
      "tf.Tensor([[  2  47   7 169  43  47   7 169  43  47   7 169  43   3]], shape=(1, 14), dtype=int64)\n",
      "2 \n",
      "47 <start> \n",
      "7 <start> do \n",
      "169 <start> do you \n",
      "43 <start> do you mind \n",
      "47 <start> do you mind ? \n",
      "7 <start> do you mind ? do \n",
      "169 <start> do you mind ? do you \n",
      "43 <start> do you mind ? do you mind \n",
      "47 <start> do you mind ? do you mind ? \n",
      "7 <start> do you mind ? do you mind ? do \n",
      "169 <start> do you mind ? do you mind ? do you \n",
      "43 <start> do you mind ? do you mind ? do you mind \n",
      "3 <start> do you mind ? do you mind ? do you mind ? \n",
      "<start> do you mind ? do you mind ? do you mind ? <end> \n"
     ]
    }
   ],
   "source": [
    "visualize_loss(history3_embed_256_hidden_1024)\n",
    "gen = generate_lyrics(model3_embed_256_hidden_1024, tokenizer, init_sentence=\"<start> do\")\n",
    "print(gen)\n",
    "del model3_embed_256_hidden_1024 "
   ]
  },
  {
   "cell_type": "code",
   "execution_count": 23,
   "metadata": {
    "scrolled": true
   },
   "outputs": [
    {
     "name": "stdout",
     "output_type": "stream",
     "text": [
      "Epoch 1/10\n",
      "274/274 [==============================] - ETA: 0s - loss: 3.7530\n",
      "Epoch 00001: val_loss improved from inf to 4.42969, saving model to /home/aiffel/github/aiffel_practice/EXPLORATION06/checkpoint/lyric_model3_embeding_128_hidden_1024\n",
      "274/274 [==============================] - 85s 312ms/step - loss: 3.7530 - val_loss: 4.4297\n",
      "Epoch 2/10\n",
      "274/274 [==============================] - ETA: 0s - loss: 3.1489\n",
      "Epoch 00002: val_loss improved from 4.42969 to 3.07764, saving model to /home/aiffel/github/aiffel_practice/EXPLORATION06/checkpoint/lyric_model3_embeding_128_hidden_1024\n",
      "274/274 [==============================] - 85s 308ms/step - loss: 3.1489 - val_loss: 3.0776\n",
      "Epoch 3/10\n",
      "274/274 [==============================] - ETA: 0s - loss: 2.9029\n",
      "Epoch 00003: val_loss improved from 3.07764 to 2.85034, saving model to /home/aiffel/github/aiffel_practice/EXPLORATION06/checkpoint/lyric_model3_embeding_128_hidden_1024\n",
      "274/274 [==============================] - 86s 312ms/step - loss: 2.9029 - val_loss: 2.8503\n",
      "Epoch 4/10\n",
      "274/274 [==============================] - ETA: 0s - loss: 2.7166\n",
      "Epoch 00004: val_loss improved from 2.85034 to 2.72850, saving model to /home/aiffel/github/aiffel_practice/EXPLORATION06/checkpoint/lyric_model3_embeding_128_hidden_1024\n",
      "274/274 [==============================] - 84s 306ms/step - loss: 2.7166 - val_loss: 2.7285\n",
      "Epoch 5/10\n",
      "274/274 [==============================] - ETA: 0s - loss: 2.5526\n",
      "Epoch 00005: val_loss improved from 2.72850 to 2.63678, saving model to /home/aiffel/github/aiffel_practice/EXPLORATION06/checkpoint/lyric_model3_embeding_128_hidden_1024\n",
      "274/274 [==============================] - 84s 306ms/step - loss: 2.5526 - val_loss: 2.6368\n",
      "Epoch 6/10\n",
      "274/274 [==============================] - ETA: 0s - loss: 2.4016\n",
      "Epoch 00006: val_loss improved from 2.63678 to 2.56598, saving model to /home/aiffel/github/aiffel_practice/EXPLORATION06/checkpoint/lyric_model3_embeding_128_hidden_1024\n",
      "274/274 [==============================] - 89s 326ms/step - loss: 2.4016 - val_loss: 2.5660\n",
      "Epoch 7/10\n",
      "274/274 [==============================] - ETA: 0s - loss: 2.2585\n",
      "Epoch 00007: val_loss improved from 2.56598 to 2.51042, saving model to /home/aiffel/github/aiffel_practice/EXPLORATION06/checkpoint/lyric_model3_embeding_128_hidden_1024\n",
      "274/274 [==============================] - 90s 329ms/step - loss: 2.2585 - val_loss: 2.5104\n",
      "Epoch 8/10\n",
      "274/274 [==============================] - ETA: 0s - loss: 2.1221\n",
      "Epoch 00008: val_loss improved from 2.51042 to 2.46347, saving model to /home/aiffel/github/aiffel_practice/EXPLORATION06/checkpoint/lyric_model3_embeding_128_hidden_1024\n",
      "274/274 [==============================] - 92s 336ms/step - loss: 2.1221 - val_loss: 2.4635\n",
      "Epoch 9/10\n",
      "274/274 [==============================] - ETA: 0s - loss: 1.9940\n",
      "Epoch 00009: val_loss improved from 2.46347 to 2.43672, saving model to /home/aiffel/github/aiffel_practice/EXPLORATION06/checkpoint/lyric_model3_embeding_128_hidden_1024\n",
      "274/274 [==============================] - 92s 334ms/step - loss: 1.9940 - val_loss: 2.4367\n",
      "Epoch 10/10\n",
      "274/274 [==============================] - ETA: 0s - loss: 1.8764\n",
      "Epoch 00010: val_loss improved from 2.43672 to 2.40773, saving model to /home/aiffel/github/aiffel_practice/EXPLORATION06/checkpoint/lyric_model3_embeding_128_hidden_1024\n",
      "274/274 [==============================] - 91s 332ms/step - loss: 1.8764 - val_loss: 2.4077\n"
     ]
    }
   ],
   "source": [
    "tf.keras.backend.clear_session()\n",
    "\n",
    "embedding_size = 128\n",
    "hidden_size = 1024\n",
    "model3_embed_128_hidden_1024, history3_embed_128_hidden_1024 = get_model3_history(embedding_size, hidden_size)"
   ]
  },
  {
   "cell_type": "code",
   "execution_count": 24,
   "metadata": {},
   "outputs": [
    {
     "data": {
      "image/png": "[encoded data removed]",
      "text/plain": [
       "<Figure size 432x432 with 1 Axes>"
      ]
     },
     "metadata": {
      "needs_background": "light"
     },
     "output_type": "display_data"
    },
    {
     "name": "stdout",
     "output_type": "stream",
     "text": [
      "predicted :  tf.Tensor([7], shape=(1,), dtype=int64)\n",
      "predicted :  tf.Tensor([34], shape=(1,), dtype=int64)\n",
      "predicted :  tf.Tensor([40], shape=(1,), dtype=int64)\n",
      "predicted :  tf.Tensor([5], shape=(1,), dtype=int64)\n",
      "predicted :  tf.Tensor([22], shape=(1,), dtype=int64)\n",
      "predicted :  tf.Tensor([646], shape=(1,), dtype=int64)\n",
      "predicted :  tf.Tensor([43], shape=(1,), dtype=int64)\n",
      "predicted :  tf.Tensor([3], shape=(1,), dtype=int64)\n",
      "reach to end token [3]\n",
      "tf.Tensor([[  2  47   7  34  40   5  22 646  43   3]], shape=(1, 10), dtype=int64)\n",
      "2 \n",
      "47 <start> \n",
      "7 <start> do \n",
      "34 <start> do you \n",
      "40 <start> do you know \n",
      "5 <start> do you know what \n",
      "22 <start> do you know what i \n",
      "646 <start> do you know what i m \n",
      "43 <start> do you know what i m sayin \n",
      "3 <start> do you know what i m sayin ? \n",
      "<start> do you know what i m sayin ? <end> \n"
     ]
    }
   ],
   "source": [
    "visualize_loss(history3_embed_128_hidden_1024)\n",
    "gen = generate_lyrics(model3_embed_128_hidden_1024, tokenizer, init_sentence=\"<start> do\")\n",
    "print(gen)\n",
    "del model3_embed_128_hidden_1024 "
   ]
  },
  {
   "cell_type": "code",
   "execution_count": 25,
   "metadata": {
    "scrolled": true
   },
   "outputs": [
    {
     "name": "stdout",
     "output_type": "stream",
     "text": [
      "Epoch 1/10\n",
      "274/274 [==============================] - ETA: 0s - loss: 3.6664\n",
      "Epoch 00001: val_loss improved from inf to 5.58104, saving model to /home/aiffel/github/aiffel_practice/EXPLORATION06/checkpoint/lyric_model3_embeding_256_hidden_2048\n",
      "274/274 [==============================] - 253s 922ms/step - loss: 3.6664 - val_loss: 5.5810\n",
      "Epoch 2/10\n",
      "274/274 [==============================] - ETA: 0s - loss: 3.0051\n",
      "Epoch 00002: val_loss improved from 5.58104 to 3.21129, saving model to /home/aiffel/github/aiffel_practice/EXPLORATION06/checkpoint/lyric_model3_embeding_256_hidden_2048\n",
      "274/274 [==============================] - 256s 935ms/step - loss: 3.0051 - val_loss: 3.2113\n",
      "Epoch 3/10\n",
      "274/274 [==============================] - ETA: 0s - loss: 2.7391\n",
      "Epoch 00003: val_loss improved from 3.21129 to 2.74247, saving model to /home/aiffel/github/aiffel_practice/EXPLORATION06/checkpoint/lyric_model3_embeding_256_hidden_2048\n",
      "274/274 [==============================] - 256s 933ms/step - loss: 2.7391 - val_loss: 2.7425\n",
      "Epoch 4/10\n",
      "274/274 [==============================] - ETA: 0s - loss: 2.5323\n",
      "Epoch 00004: val_loss improved from 2.74247 to 2.63525, saving model to /home/aiffel/github/aiffel_practice/EXPLORATION06/checkpoint/lyric_model3_embeding_256_hidden_2048\n",
      "274/274 [==============================] - 255s 930ms/step - loss: 2.5323 - val_loss: 2.6352\n",
      "Epoch 5/10\n",
      "274/274 [==============================] - ETA: 0s - loss: 2.3613\n",
      "Epoch 00005: val_loss improved from 2.63525 to 2.57504, saving model to /home/aiffel/github/aiffel_practice/EXPLORATION06/checkpoint/lyric_model3_embeding_256_hidden_2048\n",
      "274/274 [==============================] - 254s 928ms/step - loss: 2.3613 - val_loss: 2.5750\n",
      "Epoch 6/10\n",
      "274/274 [==============================] - ETA: 0s - loss: 2.2072\n",
      "Epoch 00006: val_loss improved from 2.57504 to 2.53311, saving model to /home/aiffel/github/aiffel_practice/EXPLORATION06/checkpoint/lyric_model3_embeding_256_hidden_2048\n",
      "274/274 [==============================] - 255s 930ms/step - loss: 2.2072 - val_loss: 2.5331\n",
      "Epoch 7/10\n",
      "274/274 [==============================] - ETA: 0s - loss: 2.0608\n",
      "Epoch 00007: val_loss improved from 2.53311 to 2.49034, saving model to /home/aiffel/github/aiffel_practice/EXPLORATION06/checkpoint/lyric_model3_embeding_256_hidden_2048\n",
      "274/274 [==============================] - 255s 931ms/step - loss: 2.0608 - val_loss: 2.4903\n",
      "Epoch 8/10\n",
      "274/274 [==============================] - ETA: 0s - loss: 1.9161\n",
      "Epoch 00008: val_loss improved from 2.49034 to 2.44874, saving model to /home/aiffel/github/aiffel_practice/EXPLORATION06/checkpoint/lyric_model3_embeding_256_hidden_2048\n",
      "274/274 [==============================] - 256s 934ms/step - loss: 1.9161 - val_loss: 2.4487\n",
      "Epoch 9/10\n",
      "274/274 [==============================] - ETA: 0s - loss: 1.7724\n",
      "Epoch 00009: val_loss improved from 2.44874 to 2.43108, saving model to /home/aiffel/github/aiffel_practice/EXPLORATION06/checkpoint/lyric_model3_embeding_256_hidden_2048\n",
      "274/274 [==============================] - 257s 938ms/step - loss: 1.7724 - val_loss: 2.4311\n",
      "Epoch 10/10\n",
      "274/274 [==============================] - ETA: 0s - loss: 1.6323\n",
      "Epoch 00010: val_loss improved from 2.43108 to 2.41321, saving model to /home/aiffel/github/aiffel_practice/EXPLORATION06/checkpoint/lyric_model3_embeding_256_hidden_2048\n",
      "274/274 [==============================] - 255s 929ms/step - loss: 1.6323 - val_loss: 2.4132\n"
     ]
    }
   ],
   "source": [
    "tf.keras.backend.clear_session()\n",
    "\n",
    "embedding_size = 256\n",
    "hidden_size = 2048\n",
    "model3_embed_256_hidden_2048, history3_embed_256_hidden_2048 = get_model3_history(embedding_size, hidden_size)"
   ]
  },
  {
   "cell_type": "code",
   "execution_count": 27,
   "metadata": {},
   "outputs": [
    {
     "data": {
      "image/png": "[encoded data removed]",
      "text/plain": [
       "<Figure size 432x432 with 1 Axes>"
      ]
     },
     "metadata": {
      "needs_background": "light"
     },
     "output_type": "display_data"
    },
    {
     "name": "stdout",
     "output_type": "stream",
     "text": [
      "predicted :  tf.Tensor([7], shape=(1,), dtype=int64)\n",
      "predicted :  tf.Tensor([313], shape=(1,), dtype=int64)\n",
      "predicted :  tf.Tensor([6], shape=(1,), dtype=int64)\n",
      "predicted :  tf.Tensor([73], shape=(1,), dtype=int64)\n",
      "predicted :  tf.Tensor([3], shape=(1,), dtype=int64)\n",
      "reach to end token [3]\n",
      "tf.Tensor([[  2  47   7 313   6  73   3]], shape=(1, 7), dtype=int64)\n",
      "2 \n",
      "47 <start> \n",
      "7 <start> do \n",
      "313 <start> do you \n",
      "6 <start> do you remember \n",
      "73 <start> do you remember the \n",
      "3 <start> do you remember the time \n",
      "<start> do you remember the time <end> \n"
     ]
    }
   ],
   "source": [
    "visualize_loss(history3_embed_256_hidden_2048)\n",
    "gen = generate_lyrics(model3_embed_256_hidden_2048, tokenizer, init_sentence=\"<start> do\")\n",
    "print(gen)\n",
    "del model3_embed_256_hidden_2048"
   ]
  },
  {
   "cell_type": "code",
   "execution_count": 28,
   "metadata": {
    "scrolled": true
   },
   "outputs": [
    {
     "name": "stdout",
     "output_type": "stream",
     "text": [
      "Epoch 1/10\n",
      "274/274 [==============================] - ETA: 0s - loss: 3.7062\n",
      "Epoch 00001: val_loss improved from inf to 5.70362, saving model to /home/aiffel/github/aiffel_practice/EXPLORATION06/checkpoint/lyric_model3_embeding_128_hidden_2048\n",
      "274/274 [==============================] - 246s 898ms/step - loss: 3.7062 - val_loss: 5.7036\n",
      "Epoch 2/10\n",
      "274/274 [==============================] - ETA: 0s - loss: 3.0670\n",
      "Epoch 00002: val_loss improved from 5.70362 to 3.31145, saving model to /home/aiffel/github/aiffel_practice/EXPLORATION06/checkpoint/lyric_model3_embeding_128_hidden_2048\n",
      "274/274 [==============================] - 240s 876ms/step - loss: 3.0670 - val_loss: 3.3115\n",
      "Epoch 3/10\n",
      "274/274 [==============================] - ETA: 0s - loss: 2.8154\n",
      "Epoch 00003: val_loss improved from 3.31145 to 2.79693, saving model to /home/aiffel/github/aiffel_practice/EXPLORATION06/checkpoint/lyric_model3_embeding_128_hidden_2048\n",
      "274/274 [==============================] - 243s 887ms/step - loss: 2.8154 - val_loss: 2.7969\n",
      "Epoch 4/10\n",
      "274/274 [==============================] - ETA: 0s - loss: 2.6234\n",
      "Epoch 00004: val_loss improved from 2.79693 to 2.69418, saving model to /home/aiffel/github/aiffel_practice/EXPLORATION06/checkpoint/lyric_model3_embeding_128_hidden_2048\n",
      "274/274 [==============================] - 241s 880ms/step - loss: 2.6234 - val_loss: 2.6942\n",
      "Epoch 5/10\n",
      "274/274 [==============================] - ETA: 0s - loss: 2.4659\n",
      "Epoch 00005: val_loss improved from 2.69418 to 2.62677, saving model to /home/aiffel/github/aiffel_practice/EXPLORATION06/checkpoint/lyric_model3_embeding_128_hidden_2048\n",
      "274/274 [==============================] - 245s 895ms/step - loss: 2.4659 - val_loss: 2.6268\n",
      "Epoch 6/10\n",
      "274/274 [==============================] - ETA: 0s - loss: 2.3273\n",
      "Epoch 00006: val_loss improved from 2.62677 to 2.58090, saving model to /home/aiffel/github/aiffel_practice/EXPLORATION06/checkpoint/lyric_model3_embeding_128_hidden_2048\n",
      "274/274 [==============================] - 249s 908ms/step - loss: 2.3273 - val_loss: 2.5809\n",
      "Epoch 7/10\n",
      "274/274 [==============================] - ETA: 0s - loss: 2.1958\n",
      "Epoch 00007: val_loss improved from 2.58090 to 2.53307, saving model to /home/aiffel/github/aiffel_practice/EXPLORATION06/checkpoint/lyric_model3_embeding_128_hidden_2048\n",
      "274/274 [==============================] - 237s 866ms/step - loss: 2.1958 - val_loss: 2.5331\n",
      "Epoch 8/10\n",
      "274/274 [==============================] - ETA: 0s - loss: 2.0660\n",
      "Epoch 00008: val_loss improved from 2.53307 to 2.49890, saving model to /home/aiffel/github/aiffel_practice/EXPLORATION06/checkpoint/lyric_model3_embeding_128_hidden_2048\n",
      "274/274 [==============================] - 235s 856ms/step - loss: 2.0660 - val_loss: 2.4989\n",
      "Epoch 9/10\n",
      "274/274 [==============================] - ETA: 0s - loss: 1.9352\n",
      "Epoch 00009: val_loss improved from 2.49890 to 2.47729, saving model to /home/aiffel/github/aiffel_practice/EXPLORATION06/checkpoint/lyric_model3_embeding_128_hidden_2048\n",
      "274/274 [==============================] - 232s 848ms/step - loss: 1.9352 - val_loss: 2.4773\n",
      "Epoch 10/10\n",
      "274/274 [==============================] - ETA: 0s - loss: 1.8026\n",
      "Epoch 00010: val_loss improved from 2.47729 to 2.43888, saving model to /home/aiffel/github/aiffel_practice/EXPLORATION06/checkpoint/lyric_model3_embeding_128_hidden_2048\n",
      "274/274 [==============================] - 233s 850ms/step - loss: 1.8026 - val_loss: 2.4389\n"
     ]
    }
   ],
   "source": [
    "tf.keras.backend.clear_session()\n",
    "\n",
    "embedding_size = 128\n",
    "hidden_size = 2048\n",
    "model3_embed_128_hidden_2048, history3_embed_128_hidden_2048 = get_model3_history(embedding_size, hidden_size)"
   ]
  },
  {
   "cell_type": "code",
   "execution_count": 29,
   "metadata": {},
   "outputs": [
    {
     "data": {
      "image/png": "[encoded data removed]",
      "text/plain": [
       "<Figure size 432x432 with 1 Axes>"
      ]
     },
     "metadata": {
      "needs_background": "light"
     },
     "output_type": "display_data"
    },
    {
     "name": "stdout",
     "output_type": "stream",
     "text": [
      "predicted :  tf.Tensor([7], shape=(1,), dtype=int64)\n",
      "predicted :  tf.Tensor([156], shape=(1,), dtype=int64)\n",
      "predicted :  tf.Tensor([127], shape=(1,), dtype=int64)\n",
      "predicted :  tf.Tensor([19], shape=(1,), dtype=int64)\n",
      "predicted :  tf.Tensor([12], shape=(1,), dtype=int64)\n",
      "predicted :  tf.Tensor([46], shape=(1,), dtype=int64)\n",
      "predicted :  tf.Tensor([7], shape=(1,), dtype=int64)\n",
      "predicted :  tf.Tensor([335], shape=(1,), dtype=int64)\n",
      "predicted :  tf.Tensor([43], shape=(1,), dtype=int64)\n",
      "predicted :  tf.Tensor([3], shape=(1,), dtype=int64)\n",
      "reach to end token [3]\n",
      "tf.Tensor([[  2  47   7 156 127  19  12  46   7 335  43   3]], shape=(1, 12), dtype=int64)\n",
      "2 \n",
      "47 <start> \n",
      "7 <start> do \n",
      "156 <start> do you \n",
      "127 <start> do you ever \n",
      "19 <start> do you ever think \n",
      "12 <start> do you ever think of \n",
      "46 <start> do you ever think of me \n",
      "7 <start> do you ever think of me when \n",
      "335 <start> do you ever think of me when you \n",
      "43 <start> do you ever think of me when you lie \n",
      "3 <start> do you ever think of me when you lie ? \n",
      "<start> do you ever think of me when you lie ? <end> \n"
     ]
    }
   ],
   "source": [
    "visualize_loss(history3_embed_128_hidden_2048)\n",
    "gen = generate_lyrics(model3_embed_128_hidden_2048, tokenizer, init_sentence=\"<start> do\")\n",
    "print(gen)\n",
    "del model3_embed_128_hidden_2048"
   ]
  },
  {
   "cell_type": "code",
   "execution_count": 30,
   "metadata": {},
   "outputs": [],
   "source": [
    "class LyricGenerator4(tf.keras.Model):\n",
    "    def __init__(self, vocab_size, embedding_size, hidden_size):\n",
    "        super(LyricGenerator4, self).__init__()\n",
    "        \n",
    "        self.embedding = tf.keras.layers.Embedding(vocab_size, embedding_size)\n",
    "        #return_sequences means return same length of seqences with input's length\n",
    "        self.rnn_1 = tf.keras.layers.LSTM(hidden_size, return_sequences=True)\n",
    "        self.rnn_2 = tf.keras.layers.LSTM(hidden_size, return_sequences=True)\n",
    "        self.batch = tf.keras.layers.BatchNormalization()\n",
    "        self.linear = tf.keras.layers.Dense(vocab_size)\n",
    "    \n",
    "    def call(self, x):\n",
    "        out = self.embedding(x)\n",
    "        out = self.rnn_1(out)\n",
    "        out = self.rnn_2(out)\n",
    "        out = self.batch(out)\n",
    "        out = self.linear(out)\n",
    "        return out"
   ]
  },
  {
   "cell_type": "code",
   "execution_count": 41,
   "metadata": {},
   "outputs": [],
   "source": [
    "histories = [history3_embed_128_hidden_1024,\n",
    "            history3_embed_256_hidden_1024,\n",
    "            history3_embed_128_hidden_2048,\n",
    "            history3_embed_256_hidden_2048]\n",
    "\n",
    "titles = [\"model3_embed_128_hidden_1024\",\n",
    "            \"model3_embed_256_hidden_1024\",\n",
    "            \"model3_embed_128_hidden_2048\",\n",
    "            \"model3_embed_256_hidden_2048\"]"
   ]
  },
  {
   "cell_type": "code",
   "execution_count": 42,
   "metadata": {},
   "outputs": [
    {
     "data": {
      "image/png": "[encoded data removed]",
      "text/plain": [
       "<Figure size 864x864 with 4 Axes>"
      ]
     },
     "metadata": {
      "needs_background": "light"
     },
     "output_type": "display_data"
    }
   ],
   "source": [
    "idx = 1\n",
    "plt.figure(figsize=(12, 12))\n",
    "for history, title in zip(histories, titles):\n",
    "    visualize_loss_idx(history, title, idx)\n",
    "    idx +=1"
   ]
  },
  {
   "cell_type": "code",
   "execution_count": null,
   "metadata": {},
   "outputs": [],
   "source": []
  }
 ],
 "metadata": {
  "kernelspec": {
   "display_name": "aiffel",
   "language": "python",
   "name": "aiffel"
  },
  "language_info": {
   "codemirror_mode": {
    "name": "ipython",
    "version": 3
   },
   "file_extension": ".py",
   "mimetype": "text/x-python",
   "name": "python",
   "nbconvert_exporter": "python",
   "pygments_lexer": "ipython3",
   "version": "3.7.9"
  }
 },
 "nbformat": 4,
 "nbformat_minor": 4
}
