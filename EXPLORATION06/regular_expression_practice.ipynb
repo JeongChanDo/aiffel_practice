{
 "cells": [
  {
   "cell_type": "code",
   "execution_count": 6,
   "metadata": {},
   "outputs": [],
   "source": [
    "\"\"\"\n",
    " .은 \\n을 제외한 모든 문제와 매치\n",
    "a.b\n",
    "\n",
    " [.]는 a.b와 매치 \n",
    "a[.]b\n",
    "\n",
    "\n",
    "\n",
    "*은 반복을 의미(반복 회수가 0부터)\n",
    "ca*t의 경우\n",
    "-> caaaaat, cat, ct 등 찾아낸다.\n",
    "\n",
    "\n",
    "+또 반복이나 반복회수가 1부터\n",
    "ca+t 의경우\n",
    "-> cat, caaat \n",
    "\n",
    "{m,n} 반복 회수 지정\n",
    "ca{2, 4}t\n",
    "->caat, caaat, caaaat\n",
    "\n",
    "\n",
    "?는 {0,1을 의미}\n",
    "ca$t\n",
    "-> ct, cat이 매치\n",
    "\n",
    "\n",
    "\"\"\"\n",
    "import re"
   ]
  },
  {
   "cell_type": "code",
   "execution_count": 8,
   "metadata": {},
   "outputs": [
    {
     "name": "stdout",
     "output_type": "stream",
     "text": [
      "<re.Match object; span=(0, 6), match='python'>\n",
      "<re.Match object; span=(0, 6), match='python'>\n",
      "['python', 't', 'happy']\n"
     ]
    }
   ],
   "source": [
    "\"\"\"\n",
    "문자열 탐색\n",
    "- match : 문자열 처음부터 정규식 매치여부\n",
    "- search : 문자열 전체 검색 정규식 맻여부\n",
    "- findall : 매치되는 모든 문자열을 서브스트링으로\n",
    "- finditer : 이터레이터로 반환\n",
    "\n",
    "\"\"\"\n",
    "\n",
    "# a에서 z까지 단어 하나들이 1개이상 반복되는 경우\n",
    "p = re.compile(\"[a-z]+\")\n",
    "input_str = \"python 123 t 234 happy\"\n",
    "res_match = p.match(input_str)\n",
    "print(res_match)\n",
    "res_search = p.search(input_str)\n",
    "print(res_search)\n",
    "res_findall = p.findall(input_str)\n",
    "print(res_findall)"
   ]
  },
  {
   "cell_type": "code",
   "execution_count": 18,
   "metadata": {},
   "outputs": [
    {
     "name": "stdout",
     "output_type": "stream",
     "text": [
      "<re.Match object; span=(4, 8), match='home'>\n",
      "home\n",
      "4\n",
      "(4, 8)\n",
      "None\n"
     ]
    },
    {
     "ename": "AttributeError",
     "evalue": "'NoneType' object has no attribute 'group'",
     "output_type": "error",
     "traceback": [
      "\u001b[0;31m---------------------------------------------------------------------------\u001b[0m",
      "\u001b[0;31mAttributeError\u001b[0m                            Traceback (most recent call last)",
      "\u001b[0;32m<ipython-input-18-eb9983d1ef58>\u001b[0m in \u001b[0;36m<module>\u001b[0;34m\u001b[0m\n\u001b[1;32m     21\u001b[0m \u001b[0mres_match\u001b[0m \u001b[0;34m=\u001b[0m \u001b[0mp\u001b[0m\u001b[0;34m.\u001b[0m\u001b[0mmatch\u001b[0m\u001b[0;34m(\u001b[0m\u001b[0minput_str\u001b[0m\u001b[0;34m)\u001b[0m\u001b[0;34m\u001b[0m\u001b[0;34m\u001b[0m\u001b[0m\n\u001b[1;32m     22\u001b[0m \u001b[0mprint\u001b[0m\u001b[0;34m(\u001b[0m\u001b[0mres_match\u001b[0m\u001b[0;34m)\u001b[0m\u001b[0;34m\u001b[0m\u001b[0;34m\u001b[0m\u001b[0m\n\u001b[0;32m---> 23\u001b[0;31m \u001b[0mprint\u001b[0m\u001b[0;34m(\u001b[0m\u001b[0mres_match\u001b[0m\u001b[0;34m.\u001b[0m\u001b[0mgroup\u001b[0m\u001b[0;34m(\u001b[0m\u001b[0;34m)\u001b[0m\u001b[0;34m)\u001b[0m\u001b[0;34m\u001b[0m\u001b[0;34m\u001b[0m\u001b[0m\n\u001b[0m\u001b[1;32m     24\u001b[0m \u001b[0mprint\u001b[0m\u001b[0;34m(\u001b[0m\u001b[0mres_match\u001b[0m\u001b[0;34m.\u001b[0m\u001b[0mstart\u001b[0m\u001b[0;34m(\u001b[0m\u001b[0;34m)\u001b[0m\u001b[0;34m)\u001b[0m\u001b[0;34m\u001b[0m\u001b[0;34m\u001b[0m\u001b[0m\n\u001b[1;32m     25\u001b[0m \u001b[0mprint\u001b[0m\u001b[0;34m(\u001b[0m\u001b[0mres_match\u001b[0m\u001b[0;34m.\u001b[0m\u001b[0mspan\u001b[0m\u001b[0;34m(\u001b[0m\u001b[0;34m)\u001b[0m\u001b[0;34m)\u001b[0m\u001b[0;34m\u001b[0m\u001b[0;34m\u001b[0m\u001b[0m\n",
      "\u001b[0;31mAttributeError\u001b[0m: 'NoneType' object has no attribute 'group'"
     ]
    }
   ],
   "source": [
    "\"\"\"\n",
    "match의 메서드\n",
    "- group() : 매치 문자열 반환\n",
    "- start() : 매치된 문자열의시작인덱스\n",
    "- end() : 매치된 문자열의 끝인덱스\n",
    "- span() : (시작, 끝) 튜플\n",
    "\"\"\"\n",
    "\n",
    "\n",
    "\n",
    "\n",
    "input_str = \"324 home 42 abc\"\n",
    "p = re.compile(\"[a-z]+\")\n",
    "res_search = p.search(input_str)\n",
    "print(res_search)\n",
    "print(res_search.group())\n",
    "print(res_search.start())\n",
    "print(res_search.span())\n",
    "\n",
    "\n",
    "res_match = p.match(input_str)\n",
    "print(res_match)\n",
    "print(res_match.group())\n",
    "print(res_match.start())\n",
    "print(res_match.span())\n"
   ]
  },
  {
   "cell_type": "code",
   "execution_count": null,
   "metadata": {},
   "outputs": [],
   "source": []
  }
 ],
 "metadata": {
  "kernelspec": {
   "display_name": "aiffel",
   "language": "python",
   "name": "aiffel"
  },
  "language_info": {
   "codemirror_mode": {
    "name": "ipython",
    "version": 3
   },
   "file_extension": ".py",
   "mimetype": "text/x-python",
   "name": "python",
   "nbconvert_exporter": "python",
   "pygments_lexer": "ipython3",
   "version": "3.7.9"
  }
 },
 "nbformat": 4,
 "nbformat_minor": 4
}
