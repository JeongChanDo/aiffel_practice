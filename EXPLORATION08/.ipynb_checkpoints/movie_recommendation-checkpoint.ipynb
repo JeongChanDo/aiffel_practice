{
 "cells": [
  {
   "cell_type": "markdown",
   "metadata": {},
   "source": [
    "# load movie ratings data and filtering"
   ]
  },
  {
   "cell_type": "code",
   "execution_count": 1,
   "metadata": {},
   "outputs": [
    {
     "name": "stderr",
     "output_type": "stream",
     "text": [
      "/home/aiffel/anaconda3/envs/aiffel/lib/python3.7/site-packages/ipykernel_launcher.py:6: ParserWarning: Falling back to the 'python' engine because the 'c' engine does not support regex separators (separators > 1 char and different from '\\s+' are interpreted as regex); you can avoid this warning by specifying engine='python'.\n",
      "  \n"
     ]
    },
    {
     "data": {
      "text/html": [
       "<div>\n",
       "<style scoped>\n",
       "    .dataframe tbody tr th:only-of-type {\n",
       "        vertical-align: middle;\n",
       "    }\n",
       "\n",
       "    .dataframe tbody tr th {\n",
       "        vertical-align: top;\n",
       "    }\n",
       "\n",
       "    .dataframe thead th {\n",
       "        text-align: right;\n",
       "    }\n",
       "</style>\n",
       "<table border=\"1\" class=\"dataframe\">\n",
       "  <thead>\n",
       "    <tr style=\"text-align: right;\">\n",
       "      <th></th>\n",
       "      <th>user_id</th>\n",
       "      <th>movie_id</th>\n",
       "      <th>ratings</th>\n",
       "      <th>timestamp</th>\n",
       "    </tr>\n",
       "  </thead>\n",
       "  <tbody>\n",
       "    <tr>\n",
       "      <th>0</th>\n",
       "      <td>1</td>\n",
       "      <td>1193</td>\n",
       "      <td>5</td>\n",
       "      <td>978300760</td>\n",
       "    </tr>\n",
       "    <tr>\n",
       "      <th>1</th>\n",
       "      <td>1</td>\n",
       "      <td>661</td>\n",
       "      <td>3</td>\n",
       "      <td>978302109</td>\n",
       "    </tr>\n",
       "    <tr>\n",
       "      <th>2</th>\n",
       "      <td>1</td>\n",
       "      <td>914</td>\n",
       "      <td>3</td>\n",
       "      <td>978301968</td>\n",
       "    </tr>\n",
       "    <tr>\n",
       "      <th>3</th>\n",
       "      <td>1</td>\n",
       "      <td>3408</td>\n",
       "      <td>4</td>\n",
       "      <td>978300275</td>\n",
       "    </tr>\n",
       "    <tr>\n",
       "      <th>4</th>\n",
       "      <td>1</td>\n",
       "      <td>2355</td>\n",
       "      <td>5</td>\n",
       "      <td>978824291</td>\n",
       "    </tr>\n",
       "  </tbody>\n",
       "</table>\n",
       "</div>"
      ],
      "text/plain": [
       "   user_id  movie_id  ratings  timestamp\n",
       "0        1      1193        5  978300760\n",
       "1        1       661        3  978302109\n",
       "2        1       914        3  978301968\n",
       "3        1      3408        4  978300275\n",
       "4        1      2355        5  978824291"
      ]
     },
     "execution_count": 1,
     "metadata": {},
     "output_type": "execute_result"
    }
   ],
   "source": [
    "import os\n",
    "import pandas as pd\n",
    "\n",
    "rating_file_path = os.getenv(\"HOME\")+\"/github/aiffel_practice/EXPLORATION08/data/ml-1m/ratings.dat\"\n",
    "ratings_cols = [\"user_id\", \"movie_id\", \"ratings\", \"timestamp\"]\n",
    "ratings = pd.read_csv(rating_file_path,sep=\"::\", names=ratings_cols)\n",
    "original_data_size = len(ratings)\n",
    "ratings.head()"
   ]
  },
  {
   "cell_type": "code",
   "execution_count": 2,
   "metadata": {},
   "outputs": [
    {
     "name": "stdout",
     "output_type": "stream",
     "text": [
      "<class 'pandas.core.frame.DataFrame'>\n",
      "RangeIndex: 1000209 entries, 0 to 1000208\n",
      "Data columns (total 4 columns):\n",
      " #   Column     Non-Null Count    Dtype\n",
      "---  ------     --------------    -----\n",
      " 0   user_id    1000209 non-null  int64\n",
      " 1   movie_id   1000209 non-null  int64\n",
      " 2   ratings    1000209 non-null  int64\n",
      " 3   timestamp  1000209 non-null  int64\n",
      "dtypes: int64(4)\n",
      "memory usage: 30.5 MB\n"
     ]
    }
   ],
   "source": [
    "ratings.info()"
   ]
  },
  {
   "cell_type": "code",
   "execution_count": 3,
   "metadata": {},
   "outputs": [
    {
     "data": {
      "text/html": [
       "<div>\n",
       "<style scoped>\n",
       "    .dataframe tbody tr th:only-of-type {\n",
       "        vertical-align: middle;\n",
       "    }\n",
       "\n",
       "    .dataframe tbody tr th {\n",
       "        vertical-align: top;\n",
       "    }\n",
       "\n",
       "    .dataframe thead th {\n",
       "        text-align: right;\n",
       "    }\n",
       "</style>\n",
       "<table border=\"1\" class=\"dataframe\">\n",
       "  <thead>\n",
       "    <tr style=\"text-align: right;\">\n",
       "      <th></th>\n",
       "      <th>user_id</th>\n",
       "      <th>movie_id</th>\n",
       "      <th>ratings</th>\n",
       "      <th>timestamp</th>\n",
       "    </tr>\n",
       "  </thead>\n",
       "  <tbody>\n",
       "    <tr>\n",
       "      <th>0</th>\n",
       "      <td>1</td>\n",
       "      <td>1193</td>\n",
       "      <td>5</td>\n",
       "      <td>978300760</td>\n",
       "    </tr>\n",
       "    <tr>\n",
       "      <th>1</th>\n",
       "      <td>1</td>\n",
       "      <td>661</td>\n",
       "      <td>3</td>\n",
       "      <td>978302109</td>\n",
       "    </tr>\n",
       "    <tr>\n",
       "      <th>2</th>\n",
       "      <td>1</td>\n",
       "      <td>914</td>\n",
       "      <td>3</td>\n",
       "      <td>978301968</td>\n",
       "    </tr>\n",
       "    <tr>\n",
       "      <th>3</th>\n",
       "      <td>1</td>\n",
       "      <td>3408</td>\n",
       "      <td>4</td>\n",
       "      <td>978300275</td>\n",
       "    </tr>\n",
       "    <tr>\n",
       "      <th>4</th>\n",
       "      <td>1</td>\n",
       "      <td>2355</td>\n",
       "      <td>5</td>\n",
       "      <td>978824291</td>\n",
       "    </tr>\n",
       "    <tr>\n",
       "      <th>...</th>\n",
       "      <td>...</td>\n",
       "      <td>...</td>\n",
       "      <td>...</td>\n",
       "      <td>...</td>\n",
       "    </tr>\n",
       "    <tr>\n",
       "      <th>1000203</th>\n",
       "      <td>6040</td>\n",
       "      <td>1090</td>\n",
       "      <td>3</td>\n",
       "      <td>956715518</td>\n",
       "    </tr>\n",
       "    <tr>\n",
       "      <th>1000205</th>\n",
       "      <td>6040</td>\n",
       "      <td>1094</td>\n",
       "      <td>5</td>\n",
       "      <td>956704887</td>\n",
       "    </tr>\n",
       "    <tr>\n",
       "      <th>1000206</th>\n",
       "      <td>6040</td>\n",
       "      <td>562</td>\n",
       "      <td>5</td>\n",
       "      <td>956704746</td>\n",
       "    </tr>\n",
       "    <tr>\n",
       "      <th>1000207</th>\n",
       "      <td>6040</td>\n",
       "      <td>1096</td>\n",
       "      <td>4</td>\n",
       "      <td>956715648</td>\n",
       "    </tr>\n",
       "    <tr>\n",
       "      <th>1000208</th>\n",
       "      <td>6040</td>\n",
       "      <td>1097</td>\n",
       "      <td>4</td>\n",
       "      <td>956715569</td>\n",
       "    </tr>\n",
       "  </tbody>\n",
       "</table>\n",
       "<p>836478 rows × 4 columns</p>\n",
       "</div>"
      ],
      "text/plain": [
       "         user_id  movie_id  ratings  timestamp\n",
       "0              1      1193        5  978300760\n",
       "1              1       661        3  978302109\n",
       "2              1       914        3  978301968\n",
       "3              1      3408        4  978300275\n",
       "4              1      2355        5  978824291\n",
       "...          ...       ...      ...        ...\n",
       "1000203     6040      1090        3  956715518\n",
       "1000205     6040      1094        5  956704887\n",
       "1000206     6040       562        5  956704746\n",
       "1000207     6040      1096        4  956715648\n",
       "1000208     6040      1097        4  956715569\n",
       "\n",
       "[836478 rows x 4 columns]"
      ]
     },
     "execution_count": 3,
     "metadata": {},
     "output_type": "execute_result"
    }
   ],
   "source": [
    "ratings[ratings[\"ratings\"] >= 3]"
   ]
  },
  {
   "cell_type": "code",
   "execution_count": 4,
   "metadata": {},
   "outputs": [
    {
     "name": "stdout",
     "output_type": "stream",
     "text": [
      "original_data_size : 1000209, filtered_data_size : 836478\n",
      "ratio of remaining Data is 83.63%\n"
     ]
    }
   ],
   "source": [
    "ratings = ratings[ratings[\"ratings\"] >= 3]\n",
    "filtered_data_size = len(ratings)\n",
    "print(f\"original_data_size : {original_data_size}, filtered_data_size : {filtered_data_size}\")\n",
    "print(f\"ratio of remaining Data is {filtered_data_size/original_data_size:.2%}\")"
   ]
  },
  {
   "cell_type": "code",
   "execution_count": 5,
   "metadata": {},
   "outputs": [],
   "source": [
    "ratings.rename(columns={\"ratings\":\"count\"}, inplace=True)"
   ]
  },
  {
   "cell_type": "code",
   "execution_count": 6,
   "metadata": {},
   "outputs": [
    {
     "data": {
      "text/html": [
       "<div>\n",
       "<style scoped>\n",
       "    .dataframe tbody tr th:only-of-type {\n",
       "        vertical-align: middle;\n",
       "    }\n",
       "\n",
       "    .dataframe tbody tr th {\n",
       "        vertical-align: top;\n",
       "    }\n",
       "\n",
       "    .dataframe thead th {\n",
       "        text-align: right;\n",
       "    }\n",
       "</style>\n",
       "<table border=\"1\" class=\"dataframe\">\n",
       "  <thead>\n",
       "    <tr style=\"text-align: right;\">\n",
       "      <th></th>\n",
       "      <th>user_id</th>\n",
       "      <th>movie_id</th>\n",
       "      <th>count</th>\n",
       "      <th>timestamp</th>\n",
       "    </tr>\n",
       "  </thead>\n",
       "  <tbody>\n",
       "    <tr>\n",
       "      <th>0</th>\n",
       "      <td>1</td>\n",
       "      <td>1193</td>\n",
       "      <td>5</td>\n",
       "      <td>978300760</td>\n",
       "    </tr>\n",
       "    <tr>\n",
       "      <th>1</th>\n",
       "      <td>1</td>\n",
       "      <td>661</td>\n",
       "      <td>3</td>\n",
       "      <td>978302109</td>\n",
       "    </tr>\n",
       "    <tr>\n",
       "      <th>2</th>\n",
       "      <td>1</td>\n",
       "      <td>914</td>\n",
       "      <td>3</td>\n",
       "      <td>978301968</td>\n",
       "    </tr>\n",
       "    <tr>\n",
       "      <th>3</th>\n",
       "      <td>1</td>\n",
       "      <td>3408</td>\n",
       "      <td>4</td>\n",
       "      <td>978300275</td>\n",
       "    </tr>\n",
       "    <tr>\n",
       "      <th>4</th>\n",
       "      <td>1</td>\n",
       "      <td>2355</td>\n",
       "      <td>5</td>\n",
       "      <td>978824291</td>\n",
       "    </tr>\n",
       "    <tr>\n",
       "      <th>...</th>\n",
       "      <td>...</td>\n",
       "      <td>...</td>\n",
       "      <td>...</td>\n",
       "      <td>...</td>\n",
       "    </tr>\n",
       "    <tr>\n",
       "      <th>1000203</th>\n",
       "      <td>6040</td>\n",
       "      <td>1090</td>\n",
       "      <td>3</td>\n",
       "      <td>956715518</td>\n",
       "    </tr>\n",
       "    <tr>\n",
       "      <th>1000205</th>\n",
       "      <td>6040</td>\n",
       "      <td>1094</td>\n",
       "      <td>5</td>\n",
       "      <td>956704887</td>\n",
       "    </tr>\n",
       "    <tr>\n",
       "      <th>1000206</th>\n",
       "      <td>6040</td>\n",
       "      <td>562</td>\n",
       "      <td>5</td>\n",
       "      <td>956704746</td>\n",
       "    </tr>\n",
       "    <tr>\n",
       "      <th>1000207</th>\n",
       "      <td>6040</td>\n",
       "      <td>1096</td>\n",
       "      <td>4</td>\n",
       "      <td>956715648</td>\n",
       "    </tr>\n",
       "    <tr>\n",
       "      <th>1000208</th>\n",
       "      <td>6040</td>\n",
       "      <td>1097</td>\n",
       "      <td>4</td>\n",
       "      <td>956715569</td>\n",
       "    </tr>\n",
       "  </tbody>\n",
       "</table>\n",
       "<p>836478 rows × 4 columns</p>\n",
       "</div>"
      ],
      "text/plain": [
       "         user_id  movie_id  count  timestamp\n",
       "0              1      1193      5  978300760\n",
       "1              1       661      3  978302109\n",
       "2              1       914      3  978301968\n",
       "3              1      3408      4  978300275\n",
       "4              1      2355      5  978824291\n",
       "...          ...       ...    ...        ...\n",
       "1000203     6040      1090      3  956715518\n",
       "1000205     6040      1094      5  956704887\n",
       "1000206     6040       562      5  956704746\n",
       "1000207     6040      1096      4  956715648\n",
       "1000208     6040      1097      4  956715569\n",
       "\n",
       "[836478 rows x 4 columns]"
      ]
     },
     "execution_count": 6,
     "metadata": {},
     "output_type": "execute_result"
    }
   ],
   "source": [
    "ratings"
   ]
  },
  {
   "cell_type": "markdown",
   "metadata": {},
   "source": [
    "# load movie title data and find most popular movies"
   ]
  },
  {
   "cell_type": "code",
   "execution_count": 7,
   "metadata": {},
   "outputs": [
    {
     "name": "stderr",
     "output_type": "stream",
     "text": [
      "/home/aiffel/anaconda3/envs/aiffel/lib/python3.7/site-packages/ipykernel_launcher.py:3: ParserWarning: Falling back to the 'python' engine because the 'c' engine does not support regex separators (separators > 1 char and different from '\\s+' are interpreted as regex); you can avoid this warning by specifying engine='python'.\n",
      "  This is separate from the ipykernel package so we can avoid doing imports until\n"
     ]
    },
    {
     "data": {
      "text/html": [
       "<div>\n",
       "<style scoped>\n",
       "    .dataframe tbody tr th:only-of-type {\n",
       "        vertical-align: middle;\n",
       "    }\n",
       "\n",
       "    .dataframe tbody tr th {\n",
       "        vertical-align: top;\n",
       "    }\n",
       "\n",
       "    .dataframe thead th {\n",
       "        text-align: right;\n",
       "    }\n",
       "</style>\n",
       "<table border=\"1\" class=\"dataframe\">\n",
       "  <thead>\n",
       "    <tr style=\"text-align: right;\">\n",
       "      <th></th>\n",
       "      <th>movie_id</th>\n",
       "      <th>title</th>\n",
       "      <th>genre</th>\n",
       "    </tr>\n",
       "  </thead>\n",
       "  <tbody>\n",
       "    <tr>\n",
       "      <th>0</th>\n",
       "      <td>1</td>\n",
       "      <td>Toy Story (1995)</td>\n",
       "      <td>Animation|Children's|Comedy</td>\n",
       "    </tr>\n",
       "    <tr>\n",
       "      <th>1</th>\n",
       "      <td>2</td>\n",
       "      <td>Jumanji (1995)</td>\n",
       "      <td>Adventure|Children's|Fantasy</td>\n",
       "    </tr>\n",
       "    <tr>\n",
       "      <th>2</th>\n",
       "      <td>3</td>\n",
       "      <td>Grumpier Old Men (1995)</td>\n",
       "      <td>Comedy|Romance</td>\n",
       "    </tr>\n",
       "    <tr>\n",
       "      <th>3</th>\n",
       "      <td>4</td>\n",
       "      <td>Waiting to Exhale (1995)</td>\n",
       "      <td>Comedy|Drama</td>\n",
       "    </tr>\n",
       "    <tr>\n",
       "      <th>4</th>\n",
       "      <td>5</td>\n",
       "      <td>Father of the Bride Part II (1995)</td>\n",
       "      <td>Comedy</td>\n",
       "    </tr>\n",
       "  </tbody>\n",
       "</table>\n",
       "</div>"
      ],
      "text/plain": [
       "   movie_id                               title                         genre\n",
       "0         1                    Toy Story (1995)   Animation|Children's|Comedy\n",
       "1         2                      Jumanji (1995)  Adventure|Children's|Fantasy\n",
       "2         3             Grumpier Old Men (1995)                Comedy|Romance\n",
       "3         4            Waiting to Exhale (1995)                  Comedy|Drama\n",
       "4         5  Father of the Bride Part II (1995)                        Comedy"
      ]
     },
     "execution_count": 7,
     "metadata": {},
     "output_type": "execute_result"
    }
   ],
   "source": [
    "movie_file_path = rating_file_path = os.getenv(\"HOME\")+\"/github/aiffel_practice/EXPLORATION08/data/ml-1m/movies.dat\"\n",
    "cols = [\"movie_id\", \"title\", \"genre\"]\n",
    "movies = pd.read_csv(movie_file_path, sep=\"::\", names=cols)\n",
    "movies.head()"
   ]
  },
  {
   "cell_type": "code",
   "execution_count": 8,
   "metadata": {},
   "outputs": [
    {
     "name": "stdout",
     "output_type": "stream",
     "text": [
      "num of movies :  3628\n",
      "num of users :  6039\n",
      "sorted movie mean ratings\n",
      "movie_id\n",
      "1830    5.0\n",
      "3233    5.0\n",
      "3800    5.0\n",
      "1553    5.0\n",
      "787     5.0\n",
      "       ... \n",
      "827     3.0\n",
      "1548    3.0\n",
      "607     3.0\n",
      "821     3.0\n",
      "1070    3.0\n",
      "Name: count, Length: 3628, dtype: float64\n"
     ]
    }
   ],
   "source": [
    "num_movies = ratings[\"movie_id\"].nunique()\n",
    "num_users = ratings[\"user_id\"].nunique()\n",
    "print(\"num of movies : \", num_movies)\n",
    "print(\"num of users : \", num_users)\n",
    "\n",
    "movie_ratings = ratings.groupby(\"movie_id\")[\"count\"].mean()\n",
    "\n",
    "print(\"sorted movie mean ratings\")\n",
    "sorted_movie = movie_ratings.sort_values(ascending=False)\n",
    "print(sorted_movie)"
   ]
  },
  {
   "cell_type": "markdown",
   "metadata": {},
   "source": [
    "# change movie_id to movies'name in sorted_movies"
   ]
  },
  {
   "cell_type": "code",
   "execution_count": 9,
   "metadata": {},
   "outputs": [
    {
     "name": "stdout",
     "output_type": "stream",
     "text": [
      "<class 'pandas.core.frame.DataFrame'>\n",
      "RangeIndex: 3883 entries, 0 to 3882\n",
      "Data columns (total 2 columns):\n",
      " #   Column    Non-Null Count  Dtype \n",
      "---  ------    --------------  ----- \n",
      " 0   movie_id  3883 non-null   int64 \n",
      " 1   title     3883 non-null   object\n",
      "dtypes: int64(1), object(1)\n",
      "memory usage: 60.8+ KB\n"
     ]
    },
    {
     "data": {
      "text/html": [
       "<div>\n",
       "<style scoped>\n",
       "    .dataframe tbody tr th:only-of-type {\n",
       "        vertical-align: middle;\n",
       "    }\n",
       "\n",
       "    .dataframe tbody tr th {\n",
       "        vertical-align: top;\n",
       "    }\n",
       "\n",
       "    .dataframe thead th {\n",
       "        text-align: right;\n",
       "    }\n",
       "</style>\n",
       "<table border=\"1\" class=\"dataframe\">\n",
       "  <thead>\n",
       "    <tr style=\"text-align: right;\">\n",
       "      <th></th>\n",
       "      <th>movie_id</th>\n",
       "      <th>title</th>\n",
       "    </tr>\n",
       "  </thead>\n",
       "  <tbody>\n",
       "    <tr>\n",
       "      <th>0</th>\n",
       "      <td>1</td>\n",
       "      <td>Toy Story (1995)</td>\n",
       "    </tr>\n",
       "    <tr>\n",
       "      <th>1</th>\n",
       "      <td>2</td>\n",
       "      <td>Jumanji (1995)</td>\n",
       "    </tr>\n",
       "    <tr>\n",
       "      <th>2</th>\n",
       "      <td>3</td>\n",
       "      <td>Grumpier Old Men (1995)</td>\n",
       "    </tr>\n",
       "    <tr>\n",
       "      <th>3</th>\n",
       "      <td>4</td>\n",
       "      <td>Waiting to Exhale (1995)</td>\n",
       "    </tr>\n",
       "    <tr>\n",
       "      <th>4</th>\n",
       "      <td>5</td>\n",
       "      <td>Father of the Bride Part II (1995)</td>\n",
       "    </tr>\n",
       "  </tbody>\n",
       "</table>\n",
       "</div>"
      ],
      "text/plain": [
       "   movie_id                               title\n",
       "0         1                    Toy Story (1995)\n",
       "1         2                      Jumanji (1995)\n",
       "2         3             Grumpier Old Men (1995)\n",
       "3         4            Waiting to Exhale (1995)\n",
       "4         5  Father of the Bride Part II (1995)"
      ]
     },
     "execution_count": 9,
     "metadata": {},
     "output_type": "execute_result"
    }
   ],
   "source": [
    "movie_title = movies.iloc[:,0:2]\n",
    "movie_title.info()\n",
    "movie_title.head()"
   ]
  },
  {
   "cell_type": "markdown",
   "metadata": {},
   "source": [
    "# make dictionary for id2title and title2id"
   ]
  },
  {
   "cell_type": "code",
   "execution_count": 29,
   "metadata": {
    "scrolled": true
   },
   "outputs": [],
   "source": [
    "id_title = {}\n",
    "for index, row in movie_title.iterrows():\n",
    "    id_title[row[0]] = row[1].lower()\n",
    "#print(id_title)\n",
    "\n",
    "title_id = {item:key for key, item in id_title.items()}\n",
    "#title_id"
   ]
  },
  {
   "cell_type": "code",
   "execution_count": 11,
   "metadata": {
    "scrolled": true
   },
   "outputs": [
    {
     "data": {
      "text/plain": [
       "title\n",
       "follow the bitch (1998)                          5.0\n",
       "smashing time (1967)                             5.0\n",
       "criminal lovers (les amants criminels) (1999)    5.0\n",
       "late bloomers (1996)                             5.0\n",
       "gate of heavenly peace, the (1995)               5.0\n",
       "                                                ... \n",
       "convent, the (convento, o) (1995)                3.0\n",
       "war at home, the (1996)                          3.0\n",
       "century (1993)                                   3.0\n",
       "crude oasis, the (1995)                          3.0\n",
       "macao (1952)                                     3.0\n",
       "Name: count, Length: 3628, dtype: float64"
      ]
     },
     "execution_count": 11,
     "metadata": {},
     "output_type": "execute_result"
    }
   ],
   "source": [
    "title_ratings = sorted_movie.rename(index=id_title).rename_axis(\"title\")\n",
    "title_ratings"
   ]
  },
  {
   "cell_type": "markdown",
   "metadata": {},
   "source": [
    "# search my favorite movies and rating for it!"
   ]
  },
  {
   "cell_type": "code",
   "execution_count": 30,
   "metadata": {
    "scrolled": true
   },
   "outputs": [
    {
     "name": "stdout",
     "output_type": "stream",
     "text": [
      "1 toy story (1995)\n",
      "124 star maker, the (uomo delle stelle, l') (1995)\n",
      "126 neverending story iii, the (1994)\n",
      "131 frankie starlight (1995)\n",
      "165 die hard: with a vengeance (1995)\n",
      "197 stars fell on henrietta, the (1995)\n",
      "260 star wars: episode iv - a new hope (1977)\n",
      "295 pyromaniac's love story, a (1995)\n",
      "316 stargate (1994)\n",
      "329 star trek: generations (1994)\n",
      "800 lone star (1996)\n",
      "844 story of xinghua, the (1993)\n",
      "876 police story 4: project s (chao ji ji hua) (1993)\n",
      "898 philadelphia story, the (1940)\n",
      "1036 die hard (1988)\n",
      "1038 unhook the stars (1996)\n",
      "1140 entertaining angels: the dorothy day story (1996)\n",
      "1196 star wars: episode v - the empire strikes back (1980)\n",
      "1210 star wars: episode vi - return of the jedi (1983)\n",
      "1356 star trek: first contact (1996)\n",
      "1370 die hard 2 (1990)\n",
      "1371 star trek: the motion picture (1979)\n",
      "1372 star trek vi: the undiscovered country (1991)\n",
      "1373 star trek v: the final frontier (1989)\n",
      "1374 star trek: the wrath of khan (1982)\n",
      "1375 star trek iii: the search for spock (1984)\n",
      "1376 star trek iv: the voyage home (1986)\n",
      "1397 bastard out of carolina (1996)\n",
      "1410 evening star, the (1996)\n",
      "1613 star maps (1997)\n",
      "1654 fairytale: a true story (1997)\n",
      "1676 starship troopers (1997)\n",
      "1750 star kid (1997)\n",
      "1787 paralyzing fear: the story of polio in america, a (1998)\n",
      "1851 leather jacket love story (1997)\n",
      "1864 sour grapes (1998)\n",
      "1947 west side story (1961)\n",
      "2108 l.a. story (1991)\n",
      "2125 ever after: a cinderella story (1998)\n",
      "2149 house ii: the second story (1987)\n",
      "2161 neverending story, the (1984)\n",
      "2162 neverending story ii: the next chapter, the (1990)\n",
      "2246 stars and bars (1988)\n",
      "2274 lilian's story (1995)\n",
      "2290 stardust memories (1980)\n",
      "2301 history of the world: part i (1981)\n",
      "2329 american history x (1998)\n",
      "2393 star trek: insurrection (1998)\n",
      "2529 planet of the apes (1968)\n",
      "2530 beneath the planet of the apes (1970)\n",
      "2531 battle for the planet of the apes (1973)\n",
      "2532 conquest of the planet of the apes (1972)\n",
      "2533 escape from the planet of the apes (1971)\n",
      "2628 star wars: episode i - the phantom menace (1999)\n",
      "2804 christmas story, a (1983)\n",
      "2852 soldier's story, a (1984)\n",
      "2866 buddy holly story, the (1978)\n",
      "2907 superstar (1999)\n",
      "2937 palm beach story, the (1942)\n",
      "2961 story of us, the (1999)\n",
      "2966 straight story, the (1999)\n",
      "3053 messenger: the story of joan of arc, the (1999)\n",
      "3095 grapes of wrath, the (1940)\n",
      "3114 toy story 2 (1999)\n",
      "3136 james dean story, the (1957)\n",
      "3166 brenda starr (1989)\n",
      "3202 even dwarfs started small (auch zwerge haben klein angefangen) (1971)\n",
      "3217 star is born, a (1937)\n",
      "3281 brandon teena story, the (1998)\n",
      "3400 we're back! a dinosaur's story (1993)\n",
      "3670 story of g.i. joe, the (1945)\n",
      "3699 starman (1984)\n",
      "3708 firestarter (1984)\n",
      "3816 official story, the (la historia oficial) (1985)\n"
     ]
    }
   ],
   "source": [
    "search_words = [\"story\", \"star\", \"die hard\", \"apes\"]\n",
    "\n",
    "for key, item in id_title.items():\n",
    "    for word in search_words:\n",
    "        if word in item:\n",
    "            print(key, item)"
   ]
  },
  {
   "cell_type": "code",
   "execution_count": 13,
   "metadata": {},
   "outputs": [],
   "source": [
    "my_id = 6041\n",
    "favorite_title_ratings = {\n",
    "        'Toy Story (1995)' : 3, \n",
    "        'Jumanji (1995)': 3, \n",
    "        'Star Wars: Episode IV - A New Hope (1977)' : 4,\n",
    "        \"star wars: episode v - the empire strikes back (1980)\" : 5,\n",
    "        \"star wars: episode vi - return of the jedi (1983)\" : 4,\n",
    "        'apollo 13 (1995)' : 4,\n",
    "        \"die hard: with a vengeance (1995)\" : 5,\n",
    "        \"die hard (1988)\" : 4,\n",
    "        \"die hard 2 (1990)\" : 4,\n",
    "        \"planet of the apes (1968)\" : 5,\n",
    "        \"beneath the planet of the apes (1970)\" : 5,\n",
    "        \"star wars: episode i - the phantom menace (1999)\" : 4\n",
    "        }"
   ]
  },
  {
   "cell_type": "code",
   "execution_count": 14,
   "metadata": {},
   "outputs": [
    {
     "name": "stdout",
     "output_type": "stream",
     "text": [
      "{1: 3, 2: 3, 260: 4, 1196: 5, 1210: 4, 150: 4, 165: 5, 1036: 4, 1370: 4, 2529: 5, 2530: 5, 2628: 4}\n"
     ]
    }
   ],
   "source": [
    "favorite_id_ratings = {}\n",
    "\n",
    "for key, item in favorite_title_ratings.items():\n",
    "    favorite_id_ratings[title_id[key.lower()]] = item\n",
    "print(favorite_id_ratings)"
   ]
  },
  {
   "cell_type": "markdown",
   "metadata": {},
   "source": [
    "# append my favorite movies to ratings dataframe"
   ]
  },
  {
   "cell_type": "code",
   "execution_count": 15,
   "metadata": {
    "scrolled": true
   },
   "outputs": [
    {
     "name": "stdout",
     "output_type": "stream",
     "text": [
      "{'user_id': 6041, 'movie_id': 1, 'count': 3, 'timestamp': 1611817192}\n",
      "{'user_id': 6041, 'movie_id': 2, 'count': 3, 'timestamp': 1611817192}\n",
      "{'user_id': 6041, 'movie_id': 260, 'count': 4, 'timestamp': 1611817192}\n",
      "{'user_id': 6041, 'movie_id': 1196, 'count': 5, 'timestamp': 1611817192}\n",
      "{'user_id': 6041, 'movie_id': 1210, 'count': 4, 'timestamp': 1611817192}\n",
      "{'user_id': 6041, 'movie_id': 150, 'count': 4, 'timestamp': 1611817192}\n",
      "{'user_id': 6041, 'movie_id': 165, 'count': 5, 'timestamp': 1611817192}\n",
      "{'user_id': 6041, 'movie_id': 1036, 'count': 4, 'timestamp': 1611817192}\n",
      "{'user_id': 6041, 'movie_id': 1370, 'count': 4, 'timestamp': 1611817192}\n",
      "{'user_id': 6041, 'movie_id': 2529, 'count': 5, 'timestamp': 1611817192}\n",
      "{'user_id': 6041, 'movie_id': 2530, 'count': 5, 'timestamp': 1611817192}\n",
      "{'user_id': 6041, 'movie_id': 2628, 'count': 4, 'timestamp': 1611817192}\n"
     ]
    },
    {
     "data": {
      "text/html": [
       "<div>\n",
       "<style scoped>\n",
       "    .dataframe tbody tr th:only-of-type {\n",
       "        vertical-align: middle;\n",
       "    }\n",
       "\n",
       "    .dataframe tbody tr th {\n",
       "        vertical-align: top;\n",
       "    }\n",
       "\n",
       "    .dataframe thead th {\n",
       "        text-align: right;\n",
       "    }\n",
       "</style>\n",
       "<table border=\"1\" class=\"dataframe\">\n",
       "  <thead>\n",
       "    <tr style=\"text-align: right;\">\n",
       "      <th></th>\n",
       "      <th>user_id</th>\n",
       "      <th>movie_id</th>\n",
       "      <th>count</th>\n",
       "      <th>timestamp</th>\n",
       "    </tr>\n",
       "  </thead>\n",
       "  <tbody>\n",
       "    <tr>\n",
       "      <th>836470</th>\n",
       "      <td>6040</td>\n",
       "      <td>2028</td>\n",
       "      <td>5</td>\n",
       "      <td>956704519</td>\n",
       "    </tr>\n",
       "    <tr>\n",
       "      <th>836471</th>\n",
       "      <td>6040</td>\n",
       "      <td>1080</td>\n",
       "      <td>4</td>\n",
       "      <td>957717322</td>\n",
       "    </tr>\n",
       "    <tr>\n",
       "      <th>836472</th>\n",
       "      <td>6040</td>\n",
       "      <td>1089</td>\n",
       "      <td>4</td>\n",
       "      <td>956704996</td>\n",
       "    </tr>\n",
       "    <tr>\n",
       "      <th>836473</th>\n",
       "      <td>6040</td>\n",
       "      <td>1090</td>\n",
       "      <td>3</td>\n",
       "      <td>956715518</td>\n",
       "    </tr>\n",
       "    <tr>\n",
       "      <th>836474</th>\n",
       "      <td>6040</td>\n",
       "      <td>1094</td>\n",
       "      <td>5</td>\n",
       "      <td>956704887</td>\n",
       "    </tr>\n",
       "    <tr>\n",
       "      <th>836475</th>\n",
       "      <td>6040</td>\n",
       "      <td>562</td>\n",
       "      <td>5</td>\n",
       "      <td>956704746</td>\n",
       "    </tr>\n",
       "    <tr>\n",
       "      <th>836476</th>\n",
       "      <td>6040</td>\n",
       "      <td>1096</td>\n",
       "      <td>4</td>\n",
       "      <td>956715648</td>\n",
       "    </tr>\n",
       "    <tr>\n",
       "      <th>836477</th>\n",
       "      <td>6040</td>\n",
       "      <td>1097</td>\n",
       "      <td>4</td>\n",
       "      <td>956715569</td>\n",
       "    </tr>\n",
       "    <tr>\n",
       "      <th>836478</th>\n",
       "      <td>6041</td>\n",
       "      <td>1</td>\n",
       "      <td>3</td>\n",
       "      <td>1611817192</td>\n",
       "    </tr>\n",
       "    <tr>\n",
       "      <th>836479</th>\n",
       "      <td>6041</td>\n",
       "      <td>2</td>\n",
       "      <td>3</td>\n",
       "      <td>1611817192</td>\n",
       "    </tr>\n",
       "    <tr>\n",
       "      <th>836480</th>\n",
       "      <td>6041</td>\n",
       "      <td>260</td>\n",
       "      <td>4</td>\n",
       "      <td>1611817192</td>\n",
       "    </tr>\n",
       "    <tr>\n",
       "      <th>836481</th>\n",
       "      <td>6041</td>\n",
       "      <td>1196</td>\n",
       "      <td>5</td>\n",
       "      <td>1611817192</td>\n",
       "    </tr>\n",
       "    <tr>\n",
       "      <th>836482</th>\n",
       "      <td>6041</td>\n",
       "      <td>1210</td>\n",
       "      <td>4</td>\n",
       "      <td>1611817192</td>\n",
       "    </tr>\n",
       "    <tr>\n",
       "      <th>836483</th>\n",
       "      <td>6041</td>\n",
       "      <td>150</td>\n",
       "      <td>4</td>\n",
       "      <td>1611817192</td>\n",
       "    </tr>\n",
       "    <tr>\n",
       "      <th>836484</th>\n",
       "      <td>6041</td>\n",
       "      <td>165</td>\n",
       "      <td>5</td>\n",
       "      <td>1611817192</td>\n",
       "    </tr>\n",
       "    <tr>\n",
       "      <th>836485</th>\n",
       "      <td>6041</td>\n",
       "      <td>1036</td>\n",
       "      <td>4</td>\n",
       "      <td>1611817192</td>\n",
       "    </tr>\n",
       "    <tr>\n",
       "      <th>836486</th>\n",
       "      <td>6041</td>\n",
       "      <td>1370</td>\n",
       "      <td>4</td>\n",
       "      <td>1611817192</td>\n",
       "    </tr>\n",
       "    <tr>\n",
       "      <th>836487</th>\n",
       "      <td>6041</td>\n",
       "      <td>2529</td>\n",
       "      <td>5</td>\n",
       "      <td>1611817192</td>\n",
       "    </tr>\n",
       "    <tr>\n",
       "      <th>836488</th>\n",
       "      <td>6041</td>\n",
       "      <td>2530</td>\n",
       "      <td>5</td>\n",
       "      <td>1611817192</td>\n",
       "    </tr>\n",
       "    <tr>\n",
       "      <th>836489</th>\n",
       "      <td>6041</td>\n",
       "      <td>2628</td>\n",
       "      <td>4</td>\n",
       "      <td>1611817192</td>\n",
       "    </tr>\n",
       "  </tbody>\n",
       "</table>\n",
       "</div>"
      ],
      "text/plain": [
       "        user_id  movie_id  count   timestamp\n",
       "836470     6040      2028      5   956704519\n",
       "836471     6040      1080      4   957717322\n",
       "836472     6040      1089      4   956704996\n",
       "836473     6040      1090      3   956715518\n",
       "836474     6040      1094      5   956704887\n",
       "836475     6040       562      5   956704746\n",
       "836476     6040      1096      4   956715648\n",
       "836477     6040      1097      4   956715569\n",
       "836478     6041         1      3  1611817192\n",
       "836479     6041         2      3  1611817192\n",
       "836480     6041       260      4  1611817192\n",
       "836481     6041      1196      5  1611817192\n",
       "836482     6041      1210      4  1611817192\n",
       "836483     6041       150      4  1611817192\n",
       "836484     6041       165      5  1611817192\n",
       "836485     6041      1036      4  1611817192\n",
       "836486     6041      1370      4  1611817192\n",
       "836487     6041      2529      5  1611817192\n",
       "836488     6041      2530      5  1611817192\n",
       "836489     6041      2628      4  1611817192"
      ]
     },
     "execution_count": 15,
     "metadata": {},
     "output_type": "execute_result"
    }
   ],
   "source": [
    "import time\n",
    "my_id = 6041\n",
    "for key,item in favorite_id_ratings.items():\n",
    "    row = dict()\n",
    "    row[\"user_id\"] = my_id\n",
    "    row[\"movie_id\"] = key\n",
    "    row[\"count\"] = item\n",
    "    row[\"timestamp\"] = int(time.time())\n",
    "    print(row)\n",
    "    ratings = ratings.append(row, ignore_index=True)\n",
    "ratings.tail(20)"
   ]
  },
  {
   "cell_type": "markdown",
   "metadata": {},
   "source": [
    "# let's prepare compressed sparse matrix and fit it!"
   ]
  },
  {
   "cell_type": "code",
   "execution_count": 16,
   "metadata": {},
   "outputs": [
    {
     "name": "stdout",
     "output_type": "stream",
     "text": [
      "num of users :  6040\n",
      "num of movies :  3628\n",
      "0            1\n",
      "1            1\n",
      "2            1\n",
      "3            1\n",
      "4            1\n",
      "          ... \n",
      "836485    6041\n",
      "836486    6041\n",
      "836487    6041\n",
      "836488    6041\n",
      "836489    6041\n",
      "Name: user_id, Length: 836490, dtype: int64\n",
      "<class 'pandas.core.frame.DataFrame'>\n",
      "RangeIndex: 836490 entries, 0 to 836489\n",
      "Data columns (total 4 columns):\n",
      " #   Column     Non-Null Count   Dtype\n",
      "---  ------     --------------   -----\n",
      " 0   user_id    836490 non-null  int64\n",
      " 1   movie_id   836490 non-null  int64\n",
      " 2   count      836490 non-null  int64\n",
      " 3   timestamp  836490 non-null  int64\n",
      "dtypes: int64(4)\n",
      "memory usage: 25.5 MB\n"
     ]
    }
   ],
   "source": [
    "n_users = ratings[\"user_id\"].nunique()\n",
    "n_movies = ratings[\"movie_id\"].nunique()\n",
    "print(\"num of users : \", n_users)\n",
    "print(\"num of movies : \", n_movies)\n",
    "print(ratings[\"user_id\"])\n",
    "ratings.info()"
   ]
  },
  {
   "cell_type": "code",
   "execution_count": 17,
   "metadata": {
    "scrolled": true
   },
   "outputs": [
    {
     "name": "stdout",
     "output_type": "stream",
     "text": [
      "(6042, 3953)\n",
      "  (1, 1)\t5\n",
      "  (6, 1)\t4\n",
      "  (8, 1)\t4\n",
      "  (9, 1)\t5\n",
      "  (10, 1)\t5\n",
      "  (18, 1)\t4\n",
      "  (19, 1)\t5\n",
      "  (21, 1)\t3\n",
      "  (23, 1)\t4\n",
      "  (26, 1)\t3\n",
      "  (28, 1)\t3\n",
      "  (34, 1)\t5\n",
      "  (36, 1)\t5\n",
      "  (38, 1)\t5\n",
      "  (44, 1)\t5\n",
      "  (45, 1)\t4\n",
      "  (48, 1)\t4\n",
      "  (49, 1)\t5\n",
      "  (51, 1)\t5\n",
      "  (56, 1)\t5\n",
      "  (60, 1)\t4\n",
      "  (65, 1)\t5\n",
      "  (68, 1)\t3\n",
      "  (73, 1)\t3\n",
      "  (75, 1)\t5\n",
      "  :\t:\n",
      "  (4751, 3952)\t4\n",
      "  (4790, 3952)\t3\n",
      "  (4802, 3952)\t5\n",
      "  (4816, 3952)\t4\n",
      "  (4823, 3952)\t3\n",
      "  (4831, 3952)\t4\n",
      "  (4834, 3952)\t4\n",
      "  (4858, 3952)\t4\n",
      "  (4939, 3952)\t3\n",
      "  (5049, 3952)\t4\n",
      "  (5074, 3952)\t4\n",
      "  (5087, 3952)\t4\n",
      "  (5100, 3952)\t4\n",
      "  (5205, 3952)\t4\n",
      "  (5304, 3952)\t4\n",
      "  (5333, 3952)\t4\n",
      "  (5359, 3952)\t5\n",
      "  (5405, 3952)\t4\n",
      "  (5475, 3952)\t5\n",
      "  (5602, 3952)\t3\n",
      "  (5682, 3952)\t3\n",
      "  (5812, 3952)\t4\n",
      "  (5831, 3952)\t3\n",
      "  (5837, 3952)\t4\n",
      "  (5998, 3952)\t4\n"
     ]
    }
   ],
   "source": [
    "from scipy.sparse import csc_matrix\n",
    "\n",
    "csr_ratings = csc_matrix((ratings[\"count\"], \n",
    "                           (ratings[\"user_id\"], ratings[\"movie_id\"])))\n",
    "print(csr_ratings.shape)\n",
    "print(csr_ratings)\n"
   ]
  },
  {
   "cell_type": "code",
   "execution_count": 18,
   "metadata": {},
   "outputs": [],
   "source": [
    "from implicit.als import AlternatingLeastSquares\n",
    "import numpy as np\n",
    "os.environ[\"OPENBLAS_NUM_THREADS\"]=\"1\"\n",
    "os.environ[\"KMP_DUPLICATE_LIB_OK\"]=\"True\"\n",
    "os.environ[\"MKL_NUM_THREADS\"]=\"1\""
   ]
  },
  {
   "cell_type": "code",
   "execution_count": 19,
   "metadata": {},
   "outputs": [
    {
     "data": {
      "text/plain": [
       "<3953x6042 sparse matrix of type '<class 'numpy.int64'>'\n",
       "\twith 836490 stored elements in Compressed Sparse Row format>"
      ]
     },
     "execution_count": 19,
     "metadata": {},
     "output_type": "execute_result"
    }
   ],
   "source": [
    "als_model = AlternatingLeastSquares(factors=100, regularization=0.01,\n",
    "                                   use_gpu=False, iterations=15,\n",
    "                                   dtype=np.float32)\n",
    "csr_ratings_transpose = csr_ratings.T\n",
    "csr_ratings_transpose"
   ]
  },
  {
   "cell_type": "code",
   "execution_count": 20,
   "metadata": {},
   "outputs": [
    {
     "data": {
      "application/vnd.jupyter.widget-view+json": {
       "model_id": "7f3d075ec610413d86fa0e63f202ef8c",
       "version_major": 2,
       "version_minor": 0
      },
      "text/plain": [
       "  0%|          | 0/15 [00:00<?, ?it/s]"
      ]
     },
     "metadata": {},
     "output_type": "display_data"
    }
   ],
   "source": [
    "als_model.fit(csr_ratings_transpose)"
   ]
  },
  {
   "cell_type": "markdown",
   "metadata": {},
   "source": [
    "# how much model can predict my preference of the movies\n",
    "- in case of \"toy story\", i got a 0.37 points. but it doesn't seems looks good before comparing other movies.\n",
    "- when i check my preference with love story, the model gave very poor points -0.00255\n",
    "- this quite make sense because i don't like any romantic movies."
   ]
  },
  {
   "cell_type": "code",
   "execution_count": 21,
   "metadata": {},
   "outputs": [
    {
     "name": "stdout",
     "output_type": "stream",
     "text": [
      "[-1.4990188  -1.0219709  -0.02236764  0.2354831  -0.09320052 -0.9870749\n",
      " -0.14818364 -0.49465892  0.66265804 -0.87360334 -0.66472244  0.1171287\n",
      "  0.26774102  0.40803337  0.07580981 -1.2760525  -0.8689597  -0.7640748\n",
      "  1.4476918   0.8876018 ]\n",
      "[-0.05072601 -0.01986537  0.00423385  0.01853906  0.04747562 -0.02147201\n",
      "  0.00166034 -0.01409743 -0.02143396 -0.00285013  0.01907512  0.00469338\n",
      " -0.00049429 -0.00686765 -0.02648191  0.02330741 -0.00927056 -0.0067282\n",
      "  0.009334    0.03106967]\n"
     ]
    }
   ],
   "source": [
    "my_id, toy_story = 6041, title_id['Toy Story (1995)'.lower()]\n",
    "my_vector, toy_story_vector = als_model.user_factors[my_id], als_model.item_factors[toy_story]\n",
    "print(my_vector[:20])\n",
    "print(toy_story_vector[:20])"
   ]
  },
  {
   "cell_type": "code",
   "execution_count": 22,
   "metadata": {},
   "outputs": [
    {
     "data": {
      "text/plain": [
       "0.3604326"
      ]
     },
     "execution_count": 22,
     "metadata": {},
     "output_type": "execute_result"
    }
   ],
   "source": [
    "np.dot(my_vector, toy_story_vector)"
   ]
  },
  {
   "cell_type": "code",
   "execution_count": 23,
   "metadata": {},
   "outputs": [
    {
     "data": {
      "text/plain": [
       "0.26923147"
      ]
     },
     "execution_count": 23,
     "metadata": {},
     "output_type": "execute_result"
    }
   ],
   "source": [
    "planet_apes = title_id[\"escape from the planet of the apes (1971)\".lower()]\n",
    "planet_apes_vector = als_model.item_factors[planet_apes]\n",
    "np.dot(my_vector, planet_apes_vector)"
   ]
  },
  {
   "cell_type": "code",
   "execution_count": 24,
   "metadata": {},
   "outputs": [
    {
     "data": {
      "text/plain": [
       "0.0023703463"
      ]
     },
     "execution_count": 24,
     "metadata": {},
     "output_type": "execute_result"
    }
   ],
   "source": [
    "shopping = title_id['shopping (1994)'.lower()]\n",
    "shopping_vector = als_model.item_factors[shopping]\n",
    "np.dot(my_vector, shopping_vector)"
   ]
  },
  {
   "cell_type": "code",
   "execution_count": 25,
   "metadata": {},
   "outputs": [
    {
     "data": {
      "text/plain": [
       "-0.006573396"
      ]
     },
     "execution_count": 25,
     "metadata": {},
     "output_type": "execute_result"
    }
   ],
   "source": [
    "love = title_id[\"pyromaniac's love story, a (1995)\".lower()]\n",
    "love_vector = als_model.item_factors[love]\n",
    "np.dot(my_vector, love_vector)"
   ]
  },
  {
   "cell_type": "markdown",
   "metadata": {},
   "source": [
    "# Let's find simliar movies with my favorite one\n",
    "- I love Jumanji, so i wanna find some similar movies like this.\n",
    "- with my models i got a some of that, but i'm not sure these are really similar ones.\n",
    "- because i nerver watched most of these movies.\n",
    "- but when i set the movie \"die hard\", the model finds similar action movies like \"terminator\", \"indiana jones\".\n",
    "- these kind of movies i aleady wathced, so i can be sure this model is good."
   ]
  },
  {
   "cell_type": "code",
   "execution_count": 26,
   "metadata": {},
   "outputs": [
    {
     "name": "stdout",
     "output_type": "stream",
     "text": [
      "my favorit movie is  Jumanji (1995)\n",
      "-------------------------\n",
      "the most similar movie is \n",
      "\t hook (1991) , similarity : 0.820\n",
      "\n",
      "another similar movie is\n",
      "\t indian in the cupboard, the (1995) , similarity : 0.766\n",
      "\t dragonheart (1996) , similarity : 0.742\n",
      "\t flubber (1997) , similarity : 0.689\n",
      "\t santa clause, the (1994) , similarity : 0.680\n",
      "\t space jam (1996) , similarity : 0.641\n",
      "\t neverending story ii: the next chapter, the (1990) , similarity : 0.639\n",
      "\t small soldiers (1998) , similarity : 0.636\n",
      "\t borrowers, the (1997) , similarity : 0.616\n"
     ]
    }
   ],
   "source": [
    "def find_similar_with_movie(favorite_movie):\n",
    "    favorite_movie_id = title_id[favorite_movie.lower()]\n",
    "    similar_movies = als_model.similar_items(favorite_movie_id, N=10)\n",
    "\n",
    "\n",
    "    print(\"my favorit movie is \", favorite_movie)\n",
    "    print(\"-------------------------\")\n",
    "    for idx, item in enumerate(similar_movies):\n",
    "        if idx == 0:\n",
    "            continue\n",
    "        if idx == 1:\n",
    "            print(\"the most similar movie is \")\n",
    "        elif idx == 2:\n",
    "            print(\"\\nanother similar movie is\")\n",
    "        movie_title = id_title[item[0]]\n",
    "        similarity = item[1]\n",
    "        print(\"\\t\", movie_title, \", similarity : {0:.3f}\".format(similarity))\n",
    "    \n",
    "find_similar_with_movie('Jumanji (1995)')"
   ]
  },
  {
   "cell_type": "code",
   "execution_count": 27,
   "metadata": {},
   "outputs": [
    {
     "name": "stdout",
     "output_type": "stream",
     "text": [
      "my favorit movie is  die hard (1988)\n",
      "-------------------------\n",
      "the most similar movie is \n",
      "\t terminator, the (1984) , similarity : 0.695\n",
      "\n",
      "another similar movie is\n",
      "\t indiana jones and the last crusade (1989) , similarity : 0.685\n",
      "\t untouchables, the (1987) , similarity : 0.587\n",
      "\t fugitive, the (1993) , similarity : 0.578\n",
      "\t raiders of the lost ark (1981) , similarity : 0.526\n",
      "\t aliens (1986) , similarity : 0.498\n",
      "\t hunt for red october, the (1990) , similarity : 0.497\n",
      "\t rocky (1976) , similarity : 0.488\n",
      "\t lethal weapon (1987) , similarity : 0.468\n"
     ]
    }
   ],
   "source": [
    "find_similar_with_movie(\"die hard (1988)\")"
   ]
  },
  {
   "cell_type": "markdown",
   "metadata": {},
   "source": [
    "# find recommended movies for me!\n",
    "\n",
    "- the most recommended movie for me is \"back to the future\"\n",
    "- this is the one i love too!\n",
    "- another movies likes \"monty python\", \"alien\" are also i wanna watch.\n",
    "- i think this recommendatation model works pretty well!"
   ]
  },
  {
   "cell_type": "code",
   "execution_count": 28,
   "metadata": {},
   "outputs": [
    {
     "name": "stdout",
     "output_type": "stream",
     "text": [
      "recommend movies for me!\n",
      "-------------------------\n",
      "the most recommended movie is \n",
      "\t mary poppins (1964) , recommendation : 1.289\n",
      "\n",
      "another recommended movie is\n",
      "\t absent minded professor, the (1961) , recommendation : 1.283\n",
      "\t monty python and the holy grail (1974) , recommendation : 1.246\n",
      "\t groundhog day (1993) , recommendation : 1.237\n",
      "\t men in black (1997) , recommendation : 1.228\n",
      "\t lady and the tramp (1955) , recommendation : 1.227\n",
      "\t amadeus (1984) , recommendation : 1.221\n",
      "\t chicken run (2000) , recommendation : 1.219\n",
      "\t alien (1979) , recommendation : 1.205\n"
     ]
    }
   ],
   "source": [
    "def recommend_movie(my_id=my_id, csr_matrix=csr_ratings, N=10, filter_already_linked_itmes=True):\n",
    "    \n",
    "    movie_recommended = als_model.recommend(my_id, csr_matrix, N=N,\n",
    "                                filter_already_liked_items=filter_already_linked_itmes)\n",
    "\n",
    "\n",
    "    print(\"recommend movies for me!\")\n",
    "    print(\"-------------------------\")\n",
    "    for idx, item in enumerate(movie_recommended):\n",
    "        if idx == 0:\n",
    "            continue\n",
    "        if idx == 1:\n",
    "            print(\"the most recommended movie is \")\n",
    "        elif idx == 2:\n",
    "            print(\"\\nanother recommended movie is\")\n",
    "        movie_title = id_title[item[0]]\n",
    "        similarity = item[1]\n",
    "        print(\"\\t\", movie_title, \", recommendation : {0:.3f}\".format(similarity))\n",
    "    \n",
    "\n",
    "recommend_movie(my_id=10, csr_matrix=csr_ratings,N=10, filter_already_linked_itmes=True)"
   ]
  },
  {
   "cell_type": "code",
   "execution_count": null,
   "metadata": {},
   "outputs": [],
   "source": []
  }
 ],
 "metadata": {
  "kernelspec": {
   "display_name": "aiffel",
   "language": "python",
   "name": "aiffel"
  },
  "language_info": {
   "codemirror_mode": {
    "name": "ipython",
    "version": 3
   },
   "file_extension": ".py",
   "mimetype": "text/x-python",
   "name": "python",
   "nbconvert_exporter": "python",
   "pygments_lexer": "ipython3",
   "version": "3.7.9"
  }
 },
 "nbformat": 4,
 "nbformat_minor": 4
}
